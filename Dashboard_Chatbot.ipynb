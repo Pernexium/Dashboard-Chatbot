{
 "cells": [
  {
   "cell_type": "markdown",
   "metadata": {},
   "source": [
    "<font size = 8 color ='27A3D7'>Dashboard del Chatbot</font>\n",
    "\n",
    "---"
   ]
  },
  {
   "cell_type": "markdown",
   "metadata": {},
   "source": [
    "Este dashboard debe ser desarrollado usando streamlit, y debe funcionar por filtros dependiento la campaña que se ocupe, el usuario debe tener la posibilidad de modificar los filtros de acuerdo a la necesidad."
   ]
  },
  {
   "cell_type": "markdown",
   "metadata": {},
   "source": [
    "#### Reporte: https://docs.google.com/document/d/1n3Kw6Y5ToY3OntV1OtoagU3tRSi7315E/edit"
   ]
  },
  {
   "cell_type": "markdown",
   "metadata": {},
   "source": [
    "## Preguntas que quiero responder con el siguiente script:\n",
    "\n",
    "---\n",
    "\n",
    "1. ¿Qué plantillas (template_id) tienen una mayor tasa de éxito de recuperación?\n",
    "2.  ¿Los contactos con mensajes no vistos (unseen_messages) responden mejor a ciertos tipos de mensajes o plantillas? (cuidado con esa variable, se refiere a que el agente no los ha visto, no a que el cliente no los ha visto. Toma el status de cada mensaje para tener la relación del usuario.)\n",
    "3.  ¿Cuál es el mejor momento para enviar mensajes de cobro? (una gráfica de hora del día y día de la semana vs % de éxito será ideal)\n",
    "4. ¿Qué porcentaje de clientes que reciben un descuento (discount) terminan liquidando sus deudas? (No puedes saberla porque tendrías que cruzar contra los pagos, aquí solo tienes el % de descuento vs si te contestan o no.)\n",
    "5. ⁠¿Qué tipo de mensajes (messages) son más efectivos para motivar a los clientes a realizar pagos?\n",
    "6.  ⁠¿Hay alguna diferencia en la respuesta de los clientes según la empresa (enterprise_id)? (el cliente A no puede ver lo del cliente B)\n",
    "7. ¿Qué características tienen los clientes con el mayor número de mensajes no vistos (unseen_messages)? (correlacionar el éxito de respuesta con el monto, el producto y la cantidad de mensajes)\n",
    "8. ⁠¿Hacer nubes de palabras por plantilla, de lo que dicen los agentes/clientes?\n",
    "\n",
    "\n",
    "---"
   ]
  },
  {
   "cell_type": "markdown",
   "metadata": {},
   "source": [
    "### Ideas de Enrique:\n",
    "\n",
    "Objetivo principal: **identificar si una detonación fue exitosa o no.**\n",
    "\n",
    "\n",
    "Para lo cual deberíamos de tener muy claro:\n",
    "\n",
    "1. ¿Cuáles de mis productos tienen mayor éxito?\n",
    "2. ¿A qué día y hora debo de mandar más mensajes para tener mayor éxito de respuesta?\n",
    "3. ¿Cuál de todos mis templates es el mejor para cobrar? ¿hay alguno que obtuvo demasiadas respuestas y otro que debería de dejar de utilizar? [esto puede ser respondido cruzando vs el éxito, pero también vs los status, si fue próximo pago, negativa, no define, etc.]\n",
    "4. Ya he mandado como 20 mil mensajes solo este mes, ¿Cuánto dinero debo de pagarle a meta?\n",
    "5. ¿De qué parte de la república tengo más éxito? [super nice to have, porque tenemos VID y podemos sacar de qué parte de México son los números y ver un mapa interactivo, esto estaría increible]\n",
    "6. ¿Qué porcentaje de los clientes me respondieron, me dejaron en visto, ni siquiera abrieron mi mensaje y cuántos me bloquearon? \n",
    "Ahora bien, ¿cómo definimos el éxito? puede ser por 2 vías (tomar las dos):\n",
    "- % de respuestas\n",
    "- tag de la conversación (próximo pago, negativa, no define, etc)\n",
    "\n",
    "Aquí comienzas a identificar dos cosas: el qué quieres saber (el cómo ya lo irás pensando, se reponde por medio de gráficas) y las dimensiones que vas a evaluar (lo cual corresponden a los filtros que tendrá el dash: por fecha, por template, por producto)\n",
    "\n",
    "\n",
    "\n",
    "Revisar la grabación: https://drive.google.com/file/d/1TgLGSGpu-YFVtFztYxlofu4Ji0B6ynye/view?usp=sharing"
   ]
  },
  {
   "cell_type": "markdown",
   "metadata": {},
   "source": [
    "### Paleta de Colores\n",
    "\n",
    "---"
   ]
  },
  {
   "cell_type": "markdown",
   "metadata": {},
   "source": [
    "<span style=\"color:#06417C;\">Texto en #06417C</span>&nbsp;&nbsp;&nbsp;&nbsp;<span style=\"color:#145CB3;\">Texto en #145CB3</span>&nbsp;&nbsp;&nbsp;&nbsp;<span style=\"color:#27A3D7;\">Texto en #27A3D7</span>&nbsp;&nbsp;&nbsp;&nbsp;<span style=\"color:#EDF3F9;\">Texto en #EDF3F9</span>&nbsp;&nbsp;&nbsp;&nbsp;<span style=\"color:#F7A94B;\">Texto en #F7A94B</span>&nbsp;&nbsp;&nbsp;&nbsp;<span style=\"color:#56070C;\">Texto en #56070C</span>\n"
   ]
  },
  {
   "cell_type": "markdown",
   "metadata": {},
   "source": [
    "<span style=\"color:rgb(6, 65, 124);\">Texto en RGB(6, 65, 124)</span>&nbsp;&nbsp;&nbsp;&nbsp;<span style=\"color:rgb(20, 92, 179);\">Texto en RGB(20, 92, 179)</span>&nbsp;&nbsp;&nbsp;&nbsp;<span style=\"color:rgb(39, 163, 215);\">Texto en RGB(39, 163, 215)</span>&nbsp;&nbsp;&nbsp;&nbsp;<span style=\"color:rgb(237, 243, 249);\">Texto en RGB(237, 243, 249)</span>&nbsp;&nbsp;&nbsp;&nbsp;<span style=\"color:rgb(247, 169, 75);\">Texto en RGB(247, 169, 75)</span>&nbsp;&nbsp;&nbsp;&nbsp;<span style=\"color:rgb(86, 7, 12);\">Texto en RGB(86, 7, 12)</span>\n"
   ]
  },
  {
   "cell_type": "markdown",
   "metadata": {},
   "source": [
    "## Autenticación\n",
    "\n",
    "---\n",
    "\n",
    "- Ponerles login: Inicio de Streamlit, el repo publico pero la app no. "
   ]
  },
  {
   "cell_type": "markdown",
   "metadata": {},
   "source": [
    "## Base de Datos en DynamoDB\n",
    "\n",
    "---"
   ]
  },
  {
   "cell_type": "markdown",
   "metadata": {},
   "source": [
    "Amazon DynamoDB es un servicio de base de datos NoSQL ofrecido por Amazon Web Services (AWS). Está diseñado para manejar grandes cantidades de datos y solicitudes de manera rápida y eficiente. A continuación te explico cómo funciona una base de datos en DynamoDB:\n",
    "\n",
    "### 1. **Modelo de Datos**\n",
    "   - **Tablas**: DynamoDB organiza los datos en tablas. Cada tabla se compone de ítems, que son equivalentes a filas en una base de datos tradicional. No se requieren esquemas predefinidos, por lo que los ítems de una tabla pueden tener diferentes atributos.\n",
    "   - **Ítems**: Un ítem es una colección de atributos, donde cada atributo es un par clave-valor. Un ítem es similar a una fila en una tabla relacional.\n",
    "   - **Atributos**: Los atributos son similares a las columnas en una base de datos relacional. Pueden contener datos de tipo número, cadena de texto, booleano, listas, mapas, etc.\n",
    "\n",
    "### 2. **Claves Primarias**\n",
    "   DynamoDB requiere que cada tabla tenga una clave primaria para identificar de manera única cada ítem. Existen dos tipos de claves primarias:\n",
    "   - **Clave de Partición**: Es una clave primaria simple que se basa en un único atributo. DynamoDB utiliza este atributo para distribuir los ítems en diferentes particiones físicas.\n",
    "   - **Clave de Partición y Clave de Ordenación**: Es una clave primaria compuesta de dos atributos. El primer atributo es la clave de partición, y el segundo es la clave de ordenación. DynamoDB utiliza la clave de partición para distribuir los ítems y la clave de ordenación para organizar los ítems dentro de la misma partición.\n"
   ]
  },
  {
   "cell_type": "markdown",
   "metadata": {},
   "source": [
    "---"
   ]
  },
  {
   "cell_type": "markdown",
   "metadata": {},
   "source": [
    "## Documentación"
   ]
  },
  {
   "cell_type": "markdown",
   "metadata": {},
   "source": [
    "\n",
    "\n",
    "| **Attribute Name**   | **Attribute Type** | **Description**                                                                 |\n",
    "|----------------------|--------------------|---------------------------------------------------------------------------------|\n",
    "| `product`            | string             | Nombre del producto asociado al contacto, como una tarjeta de crédito.          |\n",
    "| `created_at`         | string             | Fecha en la que se creó este registro.                                          |\n",
    "| `contact_phone`      | string             | Número de teléfono del contacto.                                                |\n",
    "| `bot_id`             | string             | Identificador en RDS del bot al que pertenece el contacto.                      |\n",
    "| `status`             | string             | Estado del contacto en relación a las contactaciones: `fc` (primer contacto), `ws` (sin estado), `bs` (antes del estado), `rc` (reintento de contacto). |\n",
    "| `enterprise_id`      | string             | ID en RDS de la empresa a la que pertenece el contacto: 3. Monte 2. BanCoppel   |\n",
    "| `last_message_at`    | string             | Fecha y hora del último mensaje recibido en la conversación.                    |\n",
    "| `unseen_messages`    | boolean            | Indicador de si hay mensajes pendientes no vistos del contacto.                 |\n",
    "| `discount`           | string             | Porcentaje de descuento autorizado al contacto para liquidar.                   |\n",
    "| `last_template_at`   | string             | Fecha y hora en que se envió el último mensaje de plantilla.                    |\n",
    "| `total_balance`      | float              | Monto de dinero adeudado por el contacto.                                       |\n",
    "| `credit`             | string             | Si aplica, número de crédito del contacto.                                      |\n",
    "| `user_id`            | string             | ID de la cuenta del agente que está chateando con este contacto (obtenido de AWS Cognito). |\n",
    "| `template_id`        | string             | Plantilla seleccionada para la contactación cuando se subió el contacto.        |\n",
    "| `last_name`          | string             | Apellido del contacto.                                                          |\n",
    "| `messages`           | map                | Objeto JSON en forma de cadena que contiene el historial de mensajes entre el usuario y el bot/agente. |\n",
    "| `first_name`         | string             | Nombre del contacto.                                                            |\n",
    "| `retry_count`        | integer            | Contador para registrar los intentos de contacto.                               |\n",
    "| `session_id`         | string             | Identificador de la API Meta Cloud del número de teléfono.                      |\n",
    "| `bot_enabled`        | boolean            | Indicador que determina si el bot responderá el chat si se recibe una respuesta. |\n",
    "| `tag`                | string             | Etiqueta para definir el estado de la conversación (usado para clasificación).   |\n",
    "| `error`              | string             | Etiqueta para...                                                                 |\n",
    "\n",
    "\n",
    "\n"
   ]
  },
  {
   "cell_type": "markdown",
   "metadata": {},
   "source": [
    "Link de documentación: https://www.notion.so/pernexium/Data-Bases-Documentation-766c6f74424e45bcb10c5d290161a9f1"
   ]
  },
  {
   "cell_type": "markdown",
   "metadata": {},
   "source": [
    "## Mensajes en Meta\n",
    "\n",
    "---\n",
    "\n",
    "\n",
    "Status de los mensajes: https://developers.facebook.com/docs/whatsapp/on-premises/webhooks/outbound/?locale=es_LA\n",
    "\n",
    "| Nombre   | Descripción                                                                                                                                                                                      |\n",
    "|----------|---------------------------------------------------------------------------------------------------------------------------------------------------------------------------------------------------|\n",
    "| deleted  | El usuario eliminó un mensaje que envió. Cuando recibas esta notificación, deberás eliminar el mensaje del sistema si se descargó previamente desde el servidor.                                   |\n",
    "| delivered| El dispositivo del usuario recibió el mensaje enviado por tu empresa.                                                                                                                              |\n",
    "| failed   | No se pudo enviar el mensaje de tu empresa. Se incluirá el motivo del error en la devolución de llamada. Consulta la documentación sobre mensajes de error para obtener ayuda con la depuración:   |\n",
    "|          | - Errores de la API de instalaciones locales                                                                                                                                                       |\n",
    "|          | - Códigos de error y Solución de problemas de la API de la nube                                                                                                                                    |\n",
    "| read     | El usuario leyó un mensaje que envió tu empresa. Las notificaciones read solo están disponibles para los usuarios que tengan activadas las confirmaciones de lectura. Los usuarios que no las tengan activadas solo recibirán la notificación delivered. |\n",
    "| sent     | Un mensaje enviado por tu empresa se encuentra en tránsito dentro de nuestros sistemas.                                                                                                             |\n",
    "|          | Usuarios de la API de instalaciones locales: para recibir notificaciones de mensajes sent, es necesario definir sent_status como true en la configuración de la app. La notificación de estado sent está desactivada de manera predeterminada.          |\n",
    "| warning  | Un mensaje enviado por tu empresa contiene un artículo de un catálogo que no está disponible o no existe.                                                                                           |\n"
   ]
  },
  {
   "cell_type": "markdown",
   "metadata": {},
   "source": [
    "### Importamos librerías\n",
    "\n",
    "---"
   ]
  },
  {
   "cell_type": "code",
   "execution_count": 1,
   "metadata": {},
   "outputs": [],
   "source": [
    "import io\n",
    "import json\n",
    "import time\n",
    "import boto3\n",
    "import openai\n",
    "import fsspec \n",
    "import pymysql\n",
    "import datetime\n",
    "import numpy as np\n",
    "import pandas as pd\n",
    "from tqdm import tqdm\n",
    "from io import BytesIO\n",
    "import plotly.express as px\n",
    "from datetime import datetime\n",
    "import plotly.graph_objects as go\n",
    "from boto3.dynamodb.conditions import Attr, Key\n",
    "\n",
    "import warnings\n",
    "warnings.filterwarnings(\"ignore\")"
   ]
  },
  {
   "cell_type": "markdown",
   "metadata": {},
   "source": [
    "### Accediento a las bases de datos desde DynamoDB\n",
    "\n",
    "---"
   ]
  },
  {
   "cell_type": "code",
   "execution_count": 2,
   "metadata": {},
   "outputs": [],
   "source": []
  },
  {
   "cell_type": "markdown",
   "metadata": {},
   "source": [
    "## Preprocesamiento de Datos: Chatbot de BanCoppel\n",
    "\n",
    "---"
   ]
  },
  {
   "cell_type": "code",
   "execution_count": 3,
   "metadata": {},
   "outputs": [],
   "source": [
    "# now = datetime.now()\n",
    "# first_day_current_month = datetime(now.year, now.month, 1)\n",
    "# MES_EN_CURSO = first_day_current_month.strftime('%Y-%m')\n",
    "\n",
    "# all_items = []\n",
    "# scan_kwargs = {'FilterExpression': (Key('bot_id').eq('13c046be-c642-490a-bf8b-92206ca5a54d') &Attr('last_template_at').contains(MES_EN_CURSO))}\n",
    "# response = table.scan(**scan_kwargs)\n",
    "# all_items.extend(response.get('Items', []))"
   ]
  },
  {
   "cell_type": "code",
   "execution_count": 4,
   "metadata": {},
   "outputs": [],
   "source": [
    "# import time\n",
    "# while 'LastEvaluatedKey' in response:\n",
    "#     scan_kwargs['ExclusiveStartKey'] = response['LastEvaluatedKey']\n",
    "#     response = table.scan(**scan_kwargs)\n",
    "#     all_items.extend(response.get('Items', []))\n",
    "#     # print(f\"{len(all_items)}\")\n",
    "#     time.sleep(0.5)\n"
   ]
  },
  {
   "cell_type": "code",
   "execution_count": 5,
   "metadata": {},
   "outputs": [],
   "source": [
    "# df_bancoppel = pd.DataFrame(all_items)    \n",
    "# print(df_bancoppel.shape)"
   ]
  },
  {
   "cell_type": "markdown",
   "metadata": {},
   "source": [
    "## Importamos la base de BanCoppel desde S3\n",
    "\n",
    "---"
   ]
  },
  {
   "cell_type": "code",
   "execution_count": 6,
   "metadata": {},
   "outputs": [],
   "source": [
    "\n",
    "\n",
    "\n",
    "def create_aws_session():\n",
    "    session = boto3.Session(\n",
    "        aws_access_key_id = AWS_ACCESS_KEY_ID,\n",
    "        aws_secret_access_key = AWS_SECRET_ACCESS_KEY,\n",
    "        region_name = AWS_REGION\n",
    "    )\n",
    "    return session"
   ]
  },
  {
   "cell_type": "code",
   "execution_count": 7,
   "metadata": {},
   "outputs": [],
   "source": [
    "session = create_aws_session()\n",
    "s3_client = session.client('s3')\n",
    "\n",
    "current_date = datetime.now().strftime('%Y_%m')\n",
    "bucket_name = 's3-pernexium-report'\n",
    "prefix = f'raw/bancoppel/replica_dynamo_chatbot/{current_date}/'\n",
    "response = s3_client.list_objects_v2(Bucket = bucket_name, Prefix = prefix)\n",
    "files = response.get('Contents', [])\n",
    "files_sorted = sorted(files, key = lambda x: x['LastModified'], reverse = True)\n",
    "latest_file = files_sorted[0]['Key']\n",
    "response = s3_client.get_object(Bucket = bucket_name, Key = latest_file)\n",
    "content = response['Body'].read()\n",
    "df_bancoppel = pd.read_json(BytesIO(content), lines = True)"
   ]
  },
  {
   "cell_type": "code",
   "execution_count": 8,
   "metadata": {},
   "outputs": [],
   "source": [
    "json_data = json.loads(content)\n",
    "if isinstance(json_data, list):\n",
    "    df_bancoppel = pd.DataFrame(json_data)\n",
    "else:\n",
    "    df_bancoppel = pd.json_normalize(json_data)"
   ]
  },
  {
   "cell_type": "code",
   "execution_count": 9,
   "metadata": {},
   "outputs": [
    {
     "name": "stdout",
     "output_type": "stream",
     "text": [
      "(25075, 22)\n"
     ]
    }
   ],
   "source": [
    "print(df_bancoppel.shape)"
   ]
  },
  {
   "cell_type": "code",
   "execution_count": 10,
   "metadata": {},
   "outputs": [
    {
     "data": {
      "text/html": [
       "<div>\n",
       "<style scoped>\n",
       "    .dataframe tbody tr th:only-of-type {\n",
       "        vertical-align: middle;\n",
       "    }\n",
       "\n",
       "    .dataframe tbody tr th {\n",
       "        vertical-align: top;\n",
       "    }\n",
       "\n",
       "    .dataframe thead th {\n",
       "        text-align: right;\n",
       "    }\n",
       "</style>\n",
       "<table border=\"1\" class=\"dataframe\">\n",
       "  <thead>\n",
       "    <tr style=\"text-align: right;\">\n",
       "      <th></th>\n",
       "      <th>product</th>\n",
       "      <th>created_at</th>\n",
       "      <th>contact_phone</th>\n",
       "      <th>bot_id</th>\n",
       "      <th>status</th>\n",
       "      <th>enterprise_id</th>\n",
       "      <th>last_message_at</th>\n",
       "      <th>unseen_messages</th>\n",
       "      <th>discount</th>\n",
       "      <th>last_template_at</th>\n",
       "      <th>...</th>\n",
       "      <th>user_id</th>\n",
       "      <th>template_id</th>\n",
       "      <th>last_name</th>\n",
       "      <th>messages</th>\n",
       "      <th>first_name</th>\n",
       "      <th>retry_count</th>\n",
       "      <th>session_id</th>\n",
       "      <th>bot_enabled</th>\n",
       "      <th>tag</th>\n",
       "      <th>error</th>\n",
       "    </tr>\n",
       "  </thead>\n",
       "  <tbody>\n",
       "    <tr>\n",
       "      <th>0</th>\n",
       "      <td>TDC VISA</td>\n",
       "      <td>2024-07-26T18:41:58.692Z</td>\n",
       "      <td>5212201140267</td>\n",
       "      <td>13c046be-c642-490a-bf8b-92206ca5a54d</td>\n",
       "      <td>rc</td>\n",
       "      <td>2</td>\n",
       "      <td>1970-01-01T00:00:00.000Z</td>\n",
       "      <td>False</td>\n",
       "      <td>0</td>\n",
       "      <td>2024-08-22T15:58:31.325Z</td>\n",
       "      <td>...</td>\n",
       "      <td>015bf5b0-0021-70bd-02d0-8a3d232785c2</td>\n",
       "      <td>banco_nos_interesa_acuerdo</td>\n",
       "      <td>JOSE</td>\n",
       "      <td>[{'createdAt': '2024-07-26T18:44:10.501Z', 'ro...</td>\n",
       "      <td>MARIA</td>\n",
       "      <td>1</td>\n",
       "      <td>353257377876857</td>\n",
       "      <td>True</td>\n",
       "      <td>NaN</td>\n",
       "      <td>NaN</td>\n",
       "    </tr>\n",
       "    <tr>\n",
       "      <th>1</th>\n",
       "      <td>TDC VISA</td>\n",
       "      <td>2024-08-01T00:02:52.340Z</td>\n",
       "      <td>5212211180442</td>\n",
       "      <td>13c046be-c642-490a-bf8b-92206ca5a54d</td>\n",
       "      <td>rc</td>\n",
       "      <td>2</td>\n",
       "      <td>1970-01-01T00:00:00.000Z</td>\n",
       "      <td>False</td>\n",
       "      <td>0</td>\n",
       "      <td>2024-08-10T14:48:24.586Z</td>\n",
       "      <td>...</td>\n",
       "      <td>015bf5b0-0021-70bd-02d0-8a3d232785c2</td>\n",
       "      <td>banco_tenemos_alternativas</td>\n",
       "      <td>FABIOLA</td>\n",
       "      <td>[{'createdAt': '2024-08-01T00:07:50.281Z', 'ro...</td>\n",
       "      <td>GLENDA</td>\n",
       "      <td>1</td>\n",
       "      <td>353257377876857</td>\n",
       "      <td>True</td>\n",
       "      <td>NaN</td>\n",
       "      <td>NaN</td>\n",
       "    </tr>\n",
       "    <tr>\n",
       "      <th>2</th>\n",
       "      <td>TDC VISA</td>\n",
       "      <td>2024-08-22T15:52:01.079Z</td>\n",
       "      <td>5212211256467</td>\n",
       "      <td>13c046be-c642-490a-bf8b-92206ca5a54d</td>\n",
       "      <td>fc</td>\n",
       "      <td>2</td>\n",
       "      <td>1970-01-01T00:00:00.000Z</td>\n",
       "      <td>False</td>\n",
       "      <td>0</td>\n",
       "      <td>2024-08-22T15:55:08.891Z</td>\n",
       "      <td>...</td>\n",
       "      <td>015bf5b0-0021-70bd-02d0-8a3d232785c2</td>\n",
       "      <td>banco_nos_interesa_acuerdo</td>\n",
       "      <td>TLAHUEL</td>\n",
       "      <td>[{'createdAt': '2024-08-22T15:55:08.891Z', 'ro...</td>\n",
       "      <td>ENRIQUE</td>\n",
       "      <td>0</td>\n",
       "      <td>353257377876857</td>\n",
       "      <td>True</td>\n",
       "      <td>NaN</td>\n",
       "      <td>NaN</td>\n",
       "    </tr>\n",
       "  </tbody>\n",
       "</table>\n",
       "<p>3 rows × 22 columns</p>\n",
       "</div>"
      ],
      "text/plain": [
       "    product                created_at  contact_phone  \\\n",
       "0  TDC VISA  2024-07-26T18:41:58.692Z  5212201140267   \n",
       "1  TDC VISA  2024-08-01T00:02:52.340Z  5212211180442   \n",
       "2  TDC VISA  2024-08-22T15:52:01.079Z  5212211256467   \n",
       "\n",
       "                                 bot_id status enterprise_id  \\\n",
       "0  13c046be-c642-490a-bf8b-92206ca5a54d     rc             2   \n",
       "1  13c046be-c642-490a-bf8b-92206ca5a54d     rc             2   \n",
       "2  13c046be-c642-490a-bf8b-92206ca5a54d     fc             2   \n",
       "\n",
       "            last_message_at  unseen_messages discount  \\\n",
       "0  1970-01-01T00:00:00.000Z            False        0   \n",
       "1  1970-01-01T00:00:00.000Z            False        0   \n",
       "2  1970-01-01T00:00:00.000Z            False        0   \n",
       "\n",
       "           last_template_at  ...                               user_id  \\\n",
       "0  2024-08-22T15:58:31.325Z  ...  015bf5b0-0021-70bd-02d0-8a3d232785c2   \n",
       "1  2024-08-10T14:48:24.586Z  ...  015bf5b0-0021-70bd-02d0-8a3d232785c2   \n",
       "2  2024-08-22T15:55:08.891Z  ...  015bf5b0-0021-70bd-02d0-8a3d232785c2   \n",
       "\n",
       "                  template_id last_name  \\\n",
       "0  banco_nos_interesa_acuerdo      JOSE   \n",
       "1  banco_tenemos_alternativas   FABIOLA   \n",
       "2  banco_nos_interesa_acuerdo   TLAHUEL   \n",
       "\n",
       "                                            messages first_name retry_count  \\\n",
       "0  [{'createdAt': '2024-07-26T18:44:10.501Z', 'ro...      MARIA           1   \n",
       "1  [{'createdAt': '2024-08-01T00:07:50.281Z', 'ro...     GLENDA           1   \n",
       "2  [{'createdAt': '2024-08-22T15:55:08.891Z', 'ro...    ENRIQUE           0   \n",
       "\n",
       "        session_id bot_enabled  tag  error  \n",
       "0  353257377876857        True  NaN    NaN  \n",
       "1  353257377876857        True  NaN    NaN  \n",
       "2  353257377876857        True  NaN    NaN  \n",
       "\n",
       "[3 rows x 22 columns]"
      ]
     },
     "execution_count": 10,
     "metadata": {},
     "output_type": "execute_result"
    }
   ],
   "source": [
    "df_bancoppel.head(3)"
   ]
  },
  {
   "cell_type": "code",
   "execution_count": 11,
   "metadata": {},
   "outputs": [
    {
     "data": {
      "text/plain": [
       "0    [{'createdAt': '2024-07-26T18:44:10.501Z', 'role': 'assistant', 'content': 'Template \"banco_liquidacion_3_1\" enviado (Solo tú puedes ver este mensaje)', 'direction': 'outgoing'}, {'createdAt': '2024-07-26T18:44:10.501Z', 'role': 'assistant', 'id': 'wamid.HBgNNTIxMjIwMTE0MDI2NxUCABEYEjIwOTYxNjM5RjVGMDNFNDMxNwA=', 'content': 'Aprovecha esta oportunidad que BanCoppel tiene para ti, para que liquides tu cuenta, tenemos opciones para ti, estamos para apoyarte.', 'direction': 'outgoing', 'status': 'failed'}, {'createdAt': '2024-08-22T15:58:31.325Z', 'role': 'assistant', 'content': 'Template \"banco_nos_interesa_acuerdo\" enviado (Solo tú puedes ver este mensaje)', 'direction': 'outgoing'}, {'createdAt': '2024-08-22T15:58:31.325Z', 'role': 'assistant', 'id': 'wamid.HBgNNTIxMjIwMTE0MDI2NxUCABEYEjI5QkZDQjQ2Q0VFRUE0NkFDNgA=', 'content': 'Nos interesa llegar a un acuerdo para tu credito *BanCoppel*, estamos para ayudarte, ¿qué opinas?', 'direction': 'outgoing', 'status': 'failed'}]\n",
       "1             [{'createdAt': '2024-08-01T00:07:50.281Z', 'role': 'assistant', 'content': 'Template \"banco_como_te_ayudamos\" enviado (Solo tú puedes ver este mensaje)', 'direction': 'outgoing'}, {'createdAt': '2024-08-01T00:07:50.281Z', 'role': 'assistant', 'id': 'wamid.HBgNNTIxMjIxMTE4MDQ0MhUCABEYEjY4MDQ5NEQxRUIyOUI1M0RDMwA=', 'content': 'Estimado cliente de *BanCoppel* queremos ayudarte para que liquides tu credito, ¿cómo te podemos apoyar?', 'direction': 'outgoing', 'status': 'failed'}, {'createdAt': '2024-08-10T14:48:24.586Z', 'role': 'assistant', 'content': 'Template \"banco_tenemos_alternativas\" enviado (Solo tú puedes ver este mensaje)', 'direction': 'outgoing'}, {'createdAt': '2024-08-10T14:48:24.586Z', 'role': 'assistant', 'id': 'wamid.HBgNNTIxMjIxMTE4MDQ0MhUCABEYEkI3NkUzNzM3QUU3QzFDMkJCNQA=', 'content': '¡Excelente día! tenemos muy buenas alternativas para que liquides tu cuenta con *BanCoppel*, esperamos tu respuesta.', 'direction': 'outgoing', 'status': 'failed'}]\n",
       "2                                                                                                                                                                                                                                                                                                                                                                                                                                                                                                                                 [{'createdAt': '2024-08-22T15:55:08.891Z', 'role': 'assistant', 'content': 'Template \"banco_nos_interesa_acuerdo\" enviado (Solo tú puedes ver este mensaje)', 'direction': 'outgoing'}, {'createdAt': '2024-08-22T15:55:08.891Z', 'role': 'assistant', 'id': 'wamid.HBgNNTIxMjIxMTI1NjQ2NxUCABEYEkMyNUFCNkYzMDUxQzNERDczQQA=', 'content': 'Nos interesa llegar a un acuerdo para tu credito *BanCoppel*, estamos para ayudarte, ¿qué opinas?', 'direction': 'outgoing', 'status': 'read'}]\n",
       "Name: messages, dtype: object"
      ]
     },
     "execution_count": 11,
     "metadata": {},
     "output_type": "execute_result"
    }
   ],
   "source": [
    "pd.set_option('display.max_colwidth', None)\n",
    "df_bancoppel['messages'].head(3)"
   ]
  },
  {
   "cell_type": "markdown",
   "metadata": {},
   "source": [
    "{**'createdAt'**: '2024-08-07T16:36:10.054Z', **'role'**: 'assistant', **'id'**: 'wamid.HBgNNTIxMjIxMTM4NTI0NxUCABEYEkYzOUVGMEY1NzEzNzA4N0JDNgA=', **'content'**: 'Bancoppel te agradece la liquidación de tu saldo vencido, o bien pregunta por las alternativas que tenemos para ti, esperamos tu pronta respuesta', **'direction':** 'outgoing', **'status':** 'failed'}]\n",
    "Name: messages, dtype: object"
   ]
  },
  {
   "cell_type": "code",
   "execution_count": 12,
   "metadata": {},
   "outputs": [
    {
     "data": {
      "text/plain": [
       "Index(['product', 'created_at', 'contact_phone', 'bot_id', 'status',\n",
       "       'enterprise_id', 'last_message_at', 'unseen_messages', 'discount',\n",
       "       'last_template_at', 'total_balance', 'credit', 'user_id', 'template_id',\n",
       "       'last_name', 'messages', 'first_name', 'retry_count', 'session_id',\n",
       "       'bot_enabled', 'tag', 'error'],\n",
       "      dtype='object')"
      ]
     },
     "execution_count": 12,
     "metadata": {},
     "output_type": "execute_result"
    }
   ],
   "source": [
    "df_bancoppel.columns"
   ]
  },
  {
   "cell_type": "markdown",
   "metadata": {},
   "source": [
    "## Análisis de Datos: Respondiento preguntas para BanCoppel\n",
    "\n",
    "---"
   ]
  },
  {
   "cell_type": "code",
   "execution_count": 13,
   "metadata": {},
   "outputs": [
    {
     "name": "stdout",
     "output_type": "stream",
     "text": [
      "<class 'pandas.core.frame.DataFrame'>\n",
      "RangeIndex: 25075 entries, 0 to 25074\n",
      "Data columns (total 22 columns):\n",
      " #   Column            Non-Null Count  Dtype \n",
      "---  ------            --------------  ----- \n",
      " 0   product           25075 non-null  object\n",
      " 1   created_at        25075 non-null  object\n",
      " 2   contact_phone     25075 non-null  object\n",
      " 3   bot_id            25075 non-null  object\n",
      " 4   status            25075 non-null  object\n",
      " 5   enterprise_id     25075 non-null  object\n",
      " 6   last_message_at   25075 non-null  object\n",
      " 7   unseen_messages   25075 non-null  bool  \n",
      " 8   discount          25075 non-null  object\n",
      " 9   last_template_at  25075 non-null  object\n",
      " 10  total_balance     25075 non-null  object\n",
      " 11  credit            25075 non-null  object\n",
      " 12  user_id           25075 non-null  object\n",
      " 13  template_id       25075 non-null  object\n",
      " 14  last_name         25075 non-null  object\n",
      " 15  messages          25075 non-null  object\n",
      " 16  first_name        25075 non-null  object\n",
      " 17  retry_count       25075 non-null  object\n",
      " 18  session_id        25075 non-null  object\n",
      " 19  bot_enabled       25075 non-null  bool  \n",
      " 20  tag               1677 non-null   object\n",
      " 21  error             2 non-null      object\n",
      "dtypes: bool(2), object(20)\n",
      "memory usage: 3.9+ MB\n"
     ]
    }
   ],
   "source": [
    "df_bancoppel.info()"
   ]
  },
  {
   "cell_type": "code",
   "execution_count": 14,
   "metadata": {},
   "outputs": [
    {
     "data": {
      "text/html": [
       "<div>\n",
       "<style scoped>\n",
       "    .dataframe tbody tr th:only-of-type {\n",
       "        vertical-align: middle;\n",
       "    }\n",
       "\n",
       "    .dataframe tbody tr th {\n",
       "        vertical-align: top;\n",
       "    }\n",
       "\n",
       "    .dataframe thead th {\n",
       "        text-align: right;\n",
       "    }\n",
       "</style>\n",
       "<table border=\"1\" class=\"dataframe\">\n",
       "  <thead>\n",
       "    <tr style=\"text-align: right;\">\n",
       "      <th></th>\n",
       "      <th>product</th>\n",
       "      <th>created_at</th>\n",
       "      <th>contact_phone</th>\n",
       "      <th>bot_id</th>\n",
       "      <th>status</th>\n",
       "      <th>enterprise_id</th>\n",
       "      <th>last_message_at</th>\n",
       "      <th>unseen_messages</th>\n",
       "      <th>discount</th>\n",
       "      <th>last_template_at</th>\n",
       "      <th>...</th>\n",
       "      <th>user_id</th>\n",
       "      <th>template_id</th>\n",
       "      <th>last_name</th>\n",
       "      <th>messages</th>\n",
       "      <th>first_name</th>\n",
       "      <th>retry_count</th>\n",
       "      <th>session_id</th>\n",
       "      <th>bot_enabled</th>\n",
       "      <th>tag</th>\n",
       "      <th>error</th>\n",
       "    </tr>\n",
       "  </thead>\n",
       "  <tbody>\n",
       "    <tr>\n",
       "      <th>count</th>\n",
       "      <td>25075</td>\n",
       "      <td>25075</td>\n",
       "      <td>25075</td>\n",
       "      <td>25075</td>\n",
       "      <td>25075</td>\n",
       "      <td>25075</td>\n",
       "      <td>25075</td>\n",
       "      <td>25075</td>\n",
       "      <td>25075</td>\n",
       "      <td>25075</td>\n",
       "      <td>...</td>\n",
       "      <td>25075</td>\n",
       "      <td>25075</td>\n",
       "      <td>25075</td>\n",
       "      <td>25075</td>\n",
       "      <td>25075</td>\n",
       "      <td>25075</td>\n",
       "      <td>25075</td>\n",
       "      <td>25075</td>\n",
       "      <td>1677</td>\n",
       "      <td>2</td>\n",
       "    </tr>\n",
       "    <tr>\n",
       "      <th>unique</th>\n",
       "      <td>5</td>\n",
       "      <td>24548</td>\n",
       "      <td>25075</td>\n",
       "      <td>1</td>\n",
       "      <td>2</td>\n",
       "      <td>1</td>\n",
       "      <td>3200</td>\n",
       "      <td>2</td>\n",
       "      <td>2</td>\n",
       "      <td>25075</td>\n",
       "      <td>...</td>\n",
       "      <td>7</td>\n",
       "      <td>12</td>\n",
       "      <td>3622</td>\n",
       "      <td>25075</td>\n",
       "      <td>2855</td>\n",
       "      <td>12</td>\n",
       "      <td>1</td>\n",
       "      <td>2</td>\n",
       "      <td>8</td>\n",
       "      <td>1</td>\n",
       "    </tr>\n",
       "    <tr>\n",
       "      <th>top</th>\n",
       "      <td>TDC VISA</td>\n",
       "      <td>2024-08-02T16:28:07.048Z</td>\n",
       "      <td>5212201140267</td>\n",
       "      <td>13c046be-c642-490a-bf8b-92206ca5a54d</td>\n",
       "      <td>rc</td>\n",
       "      <td>2</td>\n",
       "      <td>1970-01-01T00:00:00.000Z</td>\n",
       "      <td>False</td>\n",
       "      <td>0</td>\n",
       "      <td>2024-08-22T15:58:31.325Z</td>\n",
       "      <td>...</td>\n",
       "      <td>311b05e0-60a1-70e9-63dc-771c224b6735</td>\n",
       "      <td>banco_liquidacion_3_1</td>\n",
       "      <td>GUADALUPE</td>\n",
       "      <td>[{'createdAt': '2024-07-26T18:44:10.501Z', 'role': 'assistant', 'content': 'Template \"banco_liquidacion_3_1\" enviado (Solo tú puedes ver este mensaje)', 'direction': 'outgoing'}, {'createdAt': '2024-07-26T18:44:10.501Z', 'role': 'assistant', 'id': 'wamid.HBgNNTIxMjIwMTE0MDI2NxUCABEYEjIwOTYxNjM5RjVGMDNFNDMxNwA=', 'content': 'Aprovecha esta oportunidad que BanCoppel tiene para ti, para que liquides tu cuenta, tenemos opciones para ti, estamos para apoyarte.', 'direction': 'outgoing', 'status': 'failed'}, {'createdAt': '2024-08-22T15:58:31.325Z', 'role': 'assistant', 'content': 'Template \"banco_nos_interesa_acuerdo\" enviado (Solo tú puedes ver este mensaje)', 'direction': 'outgoing'}, {'createdAt': '2024-08-22T15:58:31.325Z', 'role': 'assistant', 'id': 'wamid.HBgNNTIxMjIwMTE0MDI2NxUCABEYEjI5QkZDQjQ2Q0VFRUE0NkFDNgA=', 'content': 'Nos interesa llegar a un acuerdo para tu credito *BanCoppel*, estamos para ayudarte, ¿qué opinas?', 'direction': 'outgoing', 'status': 'failed'}]</td>\n",
       "      <td>MARIA</td>\n",
       "      <td>1</td>\n",
       "      <td>353257377876857</td>\n",
       "      <td>True</td>\n",
       "      <td>detener promociones</td>\n",
       "      <td>Duplicado</td>\n",
       "    </tr>\n",
       "    <tr>\n",
       "      <th>freq</th>\n",
       "      <td>17555</td>\n",
       "      <td>3</td>\n",
       "      <td>1</td>\n",
       "      <td>25075</td>\n",
       "      <td>19324</td>\n",
       "      <td>25075</td>\n",
       "      <td>21874</td>\n",
       "      <td>24996</td>\n",
       "      <td>23396</td>\n",
       "      <td>1</td>\n",
       "      <td>...</td>\n",
       "      <td>7662</td>\n",
       "      <td>3761</td>\n",
       "      <td>677</td>\n",
       "      <td>1</td>\n",
       "      <td>1539</td>\n",
       "      <td>5905</td>\n",
       "      <td>25075</td>\n",
       "      <td>23649</td>\n",
       "      <td>482</td>\n",
       "      <td>2</td>\n",
       "    </tr>\n",
       "  </tbody>\n",
       "</table>\n",
       "<p>4 rows × 22 columns</p>\n",
       "</div>"
      ],
      "text/plain": [
       "         product                created_at  contact_phone  \\\n",
       "count      25075                     25075          25075   \n",
       "unique         5                     24548          25075   \n",
       "top     TDC VISA  2024-08-02T16:28:07.048Z  5212201140267   \n",
       "freq       17555                         3              1   \n",
       "\n",
       "                                      bot_id status enterprise_id  \\\n",
       "count                                  25075  25075         25075   \n",
       "unique                                     1      2             1   \n",
       "top     13c046be-c642-490a-bf8b-92206ca5a54d     rc             2   \n",
       "freq                                   25075  19324         25075   \n",
       "\n",
       "                 last_message_at unseen_messages discount  \\\n",
       "count                      25075           25075    25075   \n",
       "unique                      3200               2        2   \n",
       "top     1970-01-01T00:00:00.000Z           False        0   \n",
       "freq                       21874           24996    23396   \n",
       "\n",
       "                last_template_at  ...                               user_id  \\\n",
       "count                      25075  ...                                 25075   \n",
       "unique                     25075  ...                                     7   \n",
       "top     2024-08-22T15:58:31.325Z  ...  311b05e0-60a1-70e9-63dc-771c224b6735   \n",
       "freq                           1  ...                                  7662   \n",
       "\n",
       "                  template_id  last_name  \\\n",
       "count                   25075      25075   \n",
       "unique                     12       3622   \n",
       "top     banco_liquidacion_3_1  GUADALUPE   \n",
       "freq                     3761        677   \n",
       "\n",
       "                                                                                                                                                                                                                                                                                                                                                                                                                                                                                                                                                                                                                                                                                                                                                                                                                                                                                                                                                                                                                       messages  \\\n",
       "count                                                                                                                                                                                                                                                                                                                                                                                                                                                                                                                                                                                                                                                                                                                                                                                                                                                                                                                                                                                                                     25075   \n",
       "unique                                                                                                                                                                                                                                                                                                                                                                                                                                                                                                                                                                                                                                                                                                                                                                                                                                                                                                                                                                                                                    25075   \n",
       "top     [{'createdAt': '2024-07-26T18:44:10.501Z', 'role': 'assistant', 'content': 'Template \"banco_liquidacion_3_1\" enviado (Solo tú puedes ver este mensaje)', 'direction': 'outgoing'}, {'createdAt': '2024-07-26T18:44:10.501Z', 'role': 'assistant', 'id': 'wamid.HBgNNTIxMjIwMTE0MDI2NxUCABEYEjIwOTYxNjM5RjVGMDNFNDMxNwA=', 'content': 'Aprovecha esta oportunidad que BanCoppel tiene para ti, para que liquides tu cuenta, tenemos opciones para ti, estamos para apoyarte.', 'direction': 'outgoing', 'status': 'failed'}, {'createdAt': '2024-08-22T15:58:31.325Z', 'role': 'assistant', 'content': 'Template \"banco_nos_interesa_acuerdo\" enviado (Solo tú puedes ver este mensaje)', 'direction': 'outgoing'}, {'createdAt': '2024-08-22T15:58:31.325Z', 'role': 'assistant', 'id': 'wamid.HBgNNTIxMjIwMTE0MDI2NxUCABEYEjI5QkZDQjQ2Q0VFRUE0NkFDNgA=', 'content': 'Nos interesa llegar a un acuerdo para tu credito *BanCoppel*, estamos para ayudarte, ¿qué opinas?', 'direction': 'outgoing', 'status': 'failed'}]   \n",
       "freq                                                                                                                                                                                                                                                                                                                                                                                                                                                                                                                                                                                                                                                                                                                                                                                                                                                                                                                                                                                                                          1   \n",
       "\n",
       "       first_name retry_count       session_id bot_enabled  \\\n",
       "count       25075       25075            25075       25075   \n",
       "unique       2855          12                1           2   \n",
       "top         MARIA           1  353257377876857        True   \n",
       "freq         1539        5905            25075       23649   \n",
       "\n",
       "                        tag      error  \n",
       "count                  1677          2  \n",
       "unique                    8          1  \n",
       "top     detener promociones  Duplicado  \n",
       "freq                    482          2  \n",
       "\n",
       "[4 rows x 22 columns]"
      ]
     },
     "execution_count": 14,
     "metadata": {},
     "output_type": "execute_result"
    }
   ],
   "source": [
    "df_bancoppel.describe()"
   ]
  },
  {
   "cell_type": "code",
   "execution_count": 15,
   "metadata": {},
   "outputs": [
    {
     "name": "stderr",
     "output_type": "stream",
     "text": [
      "100%|██████████| 25075/25075 [06:21<00:00, 65.81it/s] \n"
     ]
    }
   ],
   "source": [
    "conversations = pd.DataFrame([])\n",
    "\n",
    "# Iteramos sobre cada fila del DataFrame\n",
    "for index, item in tqdm(df_bancoppel.iterrows(), total=df_bancoppel.shape[0]):\n",
    "    \n",
    "    temp_item = []\n",
    "    for k in item['messages']:\n",
    "        if 'content' not in k.keys():\n",
    "            continue\n",
    "        if \"Template\" in k['content']:\n",
    "            k['content'] = \" \" + k['content']  # Un espacio en blanco es el primer ascii\n",
    "        temp_item.append(k)\n",
    "    \n",
    "    tag = item['tag'] if 'tag' in item.keys() else \"sin_info_para_clasificar\"\n",
    "    \n",
    "    # Por simplicidad, en este ejemplo se generará un conversationId aleatorio\n",
    "    rand_conversationid = np.random.randint(1e6, 1e8)\n",
    "    \n",
    "    for it in range(len(temp_item)):\n",
    "        temp_item[it]['conversationId'] = rand_conversationid\n",
    "        temp_item[it]['credit'] = item['credit']\n",
    "        temp_item[it]['discount'] = item['discount']\n",
    "        temp_item[it]['phone1'] = item['contact_phone']\n",
    "        temp_item[it]['last_template_at'] = item['last_template_at']\n",
    "        temp_item[it]['tag'] = tag\n",
    "        \n",
    "        temp_item[it]['send_status'] = item['status'] if 'status' in item.keys() else 'sin_estatus'\n",
    "    \n",
    "    temp_conversation = pd.DataFrame(temp_item)\n",
    "    conversations = pd.concat([conversations, temp_conversation], ignore_index=True)"
   ]
  },
  {
   "cell_type": "code",
   "execution_count": 16,
   "metadata": {},
   "outputs": [
    {
     "data": {
      "text/plain": [
       "76796"
      ]
     },
     "execution_count": 16,
     "metadata": {},
     "output_type": "execute_result"
    }
   ],
   "source": [
    "conversations.content.str.contains(\"Template\").sum()"
   ]
  },
  {
   "cell_type": "code",
   "execution_count": 17,
   "metadata": {},
   "outputs": [],
   "source": [
    "conversations.drop(\"send_status\", axis = 1, inplace=True)\n",
    "conversations.rename(columns={\"status\": \"sent_status\"}, inplace = True)\n",
    "conversations.sent_status.fillna(\"sin_estatus\", inplace=True)"
   ]
  },
  {
   "cell_type": "code",
   "execution_count": 18,
   "metadata": {},
   "outputs": [],
   "source": [
    "conversations.last_template_at = pd.to_datetime(conversations.last_template_at)\n",
    "\n",
    "conversations.last_template_at = conversations.last_template_at.dt.tz_convert('America/Mexico_City')\n",
    "\n",
    "conversations.last_template_at = conversations.last_template_at.dt.tz_localize(None)"
   ]
  },
  {
   "cell_type": "code",
   "execution_count": 19,
   "metadata": {},
   "outputs": [],
   "source": [
    "conversations.createdAt = pd.to_datetime(conversations.createdAt)\n",
    "\n",
    "conversations.createdAt = conversations.createdAt.dt.tz_convert('America/Mexico_City')\n",
    "\n",
    "conversations.createdAt = conversations.createdAt.dt.tz_localize(None)"
   ]
  },
  {
   "cell_type": "code",
   "execution_count": 20,
   "metadata": {},
   "outputs": [],
   "source": [
    "conversations.drop_duplicates(['createdAt', 'phone1', 'credit', 'content', 'role'], inplace=True)"
   ]
  },
  {
   "cell_type": "code",
   "execution_count": 21,
   "metadata": {},
   "outputs": [],
   "source": [
    "conversations.reset_index(drop=True, inplace=True)"
   ]
  },
  {
   "cell_type": "code",
   "execution_count": 22,
   "metadata": {},
   "outputs": [
    {
     "data": {
      "text/html": [
       "<div>\n",
       "<style scoped>\n",
       "    .dataframe tbody tr th:only-of-type {\n",
       "        vertical-align: middle;\n",
       "    }\n",
       "\n",
       "    .dataframe tbody tr th {\n",
       "        vertical-align: top;\n",
       "    }\n",
       "\n",
       "    .dataframe thead th {\n",
       "        text-align: right;\n",
       "    }\n",
       "</style>\n",
       "<table border=\"1\" class=\"dataframe\">\n",
       "  <thead>\n",
       "    <tr style=\"text-align: right;\">\n",
       "      <th></th>\n",
       "      <th>createdAt</th>\n",
       "      <th>role</th>\n",
       "      <th>content</th>\n",
       "      <th>direction</th>\n",
       "      <th>conversationId</th>\n",
       "      <th>credit</th>\n",
       "      <th>discount</th>\n",
       "      <th>phone1</th>\n",
       "      <th>last_template_at</th>\n",
       "      <th>tag</th>\n",
       "      <th>id</th>\n",
       "      <th>sent_status</th>\n",
       "      <th>seen</th>\n",
       "      <th>image_id</th>\n",
       "    </tr>\n",
       "  </thead>\n",
       "  <tbody>\n",
       "    <tr>\n",
       "      <th>0</th>\n",
       "      <td>2024-07-26 12:44:10.501</td>\n",
       "      <td>assistant</td>\n",
       "      <td>Template \"banco_liquidacion_3_1\" enviado (Solo tú puedes ver este mensaje)</td>\n",
       "      <td>outgoing</td>\n",
       "      <td>33510439</td>\n",
       "      <td>600748049795</td>\n",
       "      <td>0</td>\n",
       "      <td>5212201140267</td>\n",
       "      <td>2024-08-22 09:58:31.325</td>\n",
       "      <td>NaN</td>\n",
       "      <td>NaN</td>\n",
       "      <td>sin_estatus</td>\n",
       "      <td>NaN</td>\n",
       "      <td>NaN</td>\n",
       "    </tr>\n",
       "    <tr>\n",
       "      <th>1</th>\n",
       "      <td>2024-07-26 12:44:10.501</td>\n",
       "      <td>assistant</td>\n",
       "      <td>Aprovecha esta oportunidad que BanCoppel tiene para ti, para que liquides tu cuenta, tenemos opciones para ti, estamos para apoyarte.</td>\n",
       "      <td>outgoing</td>\n",
       "      <td>33510439</td>\n",
       "      <td>600748049795</td>\n",
       "      <td>0</td>\n",
       "      <td>5212201140267</td>\n",
       "      <td>2024-08-22 09:58:31.325</td>\n",
       "      <td>NaN</td>\n",
       "      <td>wamid.HBgNNTIxMjIwMTE0MDI2NxUCABEYEjIwOTYxNjM5RjVGMDNFNDMxNwA=</td>\n",
       "      <td>failed</td>\n",
       "      <td>NaN</td>\n",
       "      <td>NaN</td>\n",
       "    </tr>\n",
       "    <tr>\n",
       "      <th>2</th>\n",
       "      <td>2024-08-22 09:58:31.325</td>\n",
       "      <td>assistant</td>\n",
       "      <td>Template \"banco_nos_interesa_acuerdo\" enviado (Solo tú puedes ver este mensaje)</td>\n",
       "      <td>outgoing</td>\n",
       "      <td>33510439</td>\n",
       "      <td>600748049795</td>\n",
       "      <td>0</td>\n",
       "      <td>5212201140267</td>\n",
       "      <td>2024-08-22 09:58:31.325</td>\n",
       "      <td>NaN</td>\n",
       "      <td>NaN</td>\n",
       "      <td>sin_estatus</td>\n",
       "      <td>NaN</td>\n",
       "      <td>NaN</td>\n",
       "    </tr>\n",
       "    <tr>\n",
       "      <th>3</th>\n",
       "      <td>2024-08-22 09:58:31.325</td>\n",
       "      <td>assistant</td>\n",
       "      <td>Nos interesa llegar a un acuerdo para tu credito *BanCoppel*, estamos para ayudarte, ¿qué opinas?</td>\n",
       "      <td>outgoing</td>\n",
       "      <td>33510439</td>\n",
       "      <td>600748049795</td>\n",
       "      <td>0</td>\n",
       "      <td>5212201140267</td>\n",
       "      <td>2024-08-22 09:58:31.325</td>\n",
       "      <td>NaN</td>\n",
       "      <td>wamid.HBgNNTIxMjIwMTE0MDI2NxUCABEYEjI5QkZDQjQ2Q0VFRUE0NkFDNgA=</td>\n",
       "      <td>failed</td>\n",
       "      <td>NaN</td>\n",
       "      <td>NaN</td>\n",
       "    </tr>\n",
       "    <tr>\n",
       "      <th>4</th>\n",
       "      <td>2024-07-31 18:07:50.281</td>\n",
       "      <td>assistant</td>\n",
       "      <td>Template \"banco_como_te_ayudamos\" enviado (Solo tú puedes ver este mensaje)</td>\n",
       "      <td>outgoing</td>\n",
       "      <td>94856890</td>\n",
       "      <td>600443166431</td>\n",
       "      <td>0</td>\n",
       "      <td>5212211180442</td>\n",
       "      <td>2024-08-10 08:48:24.586</td>\n",
       "      <td>NaN</td>\n",
       "      <td>NaN</td>\n",
       "      <td>sin_estatus</td>\n",
       "      <td>NaN</td>\n",
       "      <td>NaN</td>\n",
       "    </tr>\n",
       "    <tr>\n",
       "      <th>...</th>\n",
       "      <td>...</td>\n",
       "      <td>...</td>\n",
       "      <td>...</td>\n",
       "      <td>...</td>\n",
       "      <td>...</td>\n",
       "      <td>...</td>\n",
       "      <td>...</td>\n",
       "      <td>...</td>\n",
       "      <td>...</td>\n",
       "      <td>...</td>\n",
       "      <td>...</td>\n",
       "      <td>...</td>\n",
       "      <td>...</td>\n",
       "      <td>...</td>\n",
       "    </tr>\n",
       "    <tr>\n",
       "      <th>178990</th>\n",
       "      <td>2024-07-03 12:10:10.101</td>\n",
       "      <td>assistant</td>\n",
       "      <td>Liquida tu deuda con BANCOPPEL pagando solo la *MITAD* de lo que debes, evita que tu saldo siga incrementando y obtén tu carta de *NO ADEUDO.*</td>\n",
       "      <td>outgoing</td>\n",
       "      <td>80873924</td>\n",
       "      <td>600460474981</td>\n",
       "      <td>0</td>\n",
       "      <td>5219999951130</td>\n",
       "      <td>2024-08-22 10:39:04.125</td>\n",
       "      <td>NaN</td>\n",
       "      <td>NaN</td>\n",
       "      <td>sin_estatus</td>\n",
       "      <td>NaN</td>\n",
       "      <td>NaN</td>\n",
       "    </tr>\n",
       "    <tr>\n",
       "      <th>178991</th>\n",
       "      <td>2024-08-07 08:57:36.460</td>\n",
       "      <td>assistant</td>\n",
       "      <td>Template \"banco_alternativas_por_terminar\" enviado (Solo tú puedes ver este mensaje)</td>\n",
       "      <td>outgoing</td>\n",
       "      <td>80873924</td>\n",
       "      <td>600460474981</td>\n",
       "      <td>0</td>\n",
       "      <td>5219999951130</td>\n",
       "      <td>2024-08-22 10:39:04.125</td>\n",
       "      <td>NaN</td>\n",
       "      <td>NaN</td>\n",
       "      <td>sin_estatus</td>\n",
       "      <td>NaN</td>\n",
       "      <td>NaN</td>\n",
       "    </tr>\n",
       "    <tr>\n",
       "      <th>178992</th>\n",
       "      <td>2024-08-07 08:57:36.460</td>\n",
       "      <td>assistant</td>\n",
       "      <td>Cliente de *BanCoppel*, las alternativas para liquidar están por terminar ¿en qué te podemos apoyar?</td>\n",
       "      <td>outgoing</td>\n",
       "      <td>80873924</td>\n",
       "      <td>600460474981</td>\n",
       "      <td>0</td>\n",
       "      <td>5219999951130</td>\n",
       "      <td>2024-08-22 10:39:04.125</td>\n",
       "      <td>NaN</td>\n",
       "      <td>wamid.HBgNNTIxOTk5OTk1MTEzMBUCABEYEkQ5REFFMDEwQjhFMzYzOERBRAA=</td>\n",
       "      <td>failed</td>\n",
       "      <td>NaN</td>\n",
       "      <td>NaN</td>\n",
       "    </tr>\n",
       "    <tr>\n",
       "      <th>178993</th>\n",
       "      <td>2024-08-22 10:39:04.125</td>\n",
       "      <td>assistant</td>\n",
       "      <td>Template \"banco_te_respetamos_beneficios\" enviado (Solo tú puedes ver este mensaje)</td>\n",
       "      <td>outgoing</td>\n",
       "      <td>80873924</td>\n",
       "      <td>600460474981</td>\n",
       "      <td>0</td>\n",
       "      <td>5219999951130</td>\n",
       "      <td>2024-08-22 10:39:04.125</td>\n",
       "      <td>NaN</td>\n",
       "      <td>NaN</td>\n",
       "      <td>sin_estatus</td>\n",
       "      <td>NaN</td>\n",
       "      <td>NaN</td>\n",
       "    </tr>\n",
       "    <tr>\n",
       "      <th>178994</th>\n",
       "      <td>2024-08-22 10:39:04.125</td>\n",
       "      <td>assistant</td>\n",
       "      <td>Entendemos que aún no puedes realizar tu pago de tu credito *BanCoppel*, te respetamos todos los beneficios ¿te interesa?</td>\n",
       "      <td>outgoing</td>\n",
       "      <td>80873924</td>\n",
       "      <td>600460474981</td>\n",
       "      <td>0</td>\n",
       "      <td>5219999951130</td>\n",
       "      <td>2024-08-22 10:39:04.125</td>\n",
       "      <td>NaN</td>\n",
       "      <td>wamid.HBgNNTIxOTk5OTk1MTEzMBUCABEYEjM1RTM0RkMzOUIwMDA5NzhGNwA=</td>\n",
       "      <td>failed</td>\n",
       "      <td>NaN</td>\n",
       "      <td>NaN</td>\n",
       "    </tr>\n",
       "  </tbody>\n",
       "</table>\n",
       "<p>178995 rows × 14 columns</p>\n",
       "</div>"
      ],
      "text/plain": [
       "                     createdAt       role  \\\n",
       "0      2024-07-26 12:44:10.501  assistant   \n",
       "1      2024-07-26 12:44:10.501  assistant   \n",
       "2      2024-08-22 09:58:31.325  assistant   \n",
       "3      2024-08-22 09:58:31.325  assistant   \n",
       "4      2024-07-31 18:07:50.281  assistant   \n",
       "...                        ...        ...   \n",
       "178990 2024-07-03 12:10:10.101  assistant   \n",
       "178991 2024-08-07 08:57:36.460  assistant   \n",
       "178992 2024-08-07 08:57:36.460  assistant   \n",
       "178993 2024-08-22 10:39:04.125  assistant   \n",
       "178994 2024-08-22 10:39:04.125  assistant   \n",
       "\n",
       "                                                                                                                                               content  \\\n",
       "0                                                                           Template \"banco_liquidacion_3_1\" enviado (Solo tú puedes ver este mensaje)   \n",
       "1                Aprovecha esta oportunidad que BanCoppel tiene para ti, para que liquides tu cuenta, tenemos opciones para ti, estamos para apoyarte.   \n",
       "2                                                                      Template \"banco_nos_interesa_acuerdo\" enviado (Solo tú puedes ver este mensaje)   \n",
       "3                                                    Nos interesa llegar a un acuerdo para tu credito *BanCoppel*, estamos para ayudarte, ¿qué opinas?   \n",
       "4                                                                          Template \"banco_como_te_ayudamos\" enviado (Solo tú puedes ver este mensaje)   \n",
       "...                                                                                                                                                ...   \n",
       "178990  Liquida tu deuda con BANCOPPEL pagando solo la *MITAD* de lo que debes, evita que tu saldo siga incrementando y obtén tu carta de *NO ADEUDO.*   \n",
       "178991                                                            Template \"banco_alternativas_por_terminar\" enviado (Solo tú puedes ver este mensaje)   \n",
       "178992                                            Cliente de *BanCoppel*, las alternativas para liquidar están por terminar ¿en qué te podemos apoyar?   \n",
       "178993                                                             Template \"banco_te_respetamos_beneficios\" enviado (Solo tú puedes ver este mensaje)   \n",
       "178994                       Entendemos que aún no puedes realizar tu pago de tu credito *BanCoppel*, te respetamos todos los beneficios ¿te interesa?   \n",
       "\n",
       "       direction  conversationId        credit discount         phone1  \\\n",
       "0       outgoing        33510439  600748049795        0  5212201140267   \n",
       "1       outgoing        33510439  600748049795        0  5212201140267   \n",
       "2       outgoing        33510439  600748049795        0  5212201140267   \n",
       "3       outgoing        33510439  600748049795        0  5212201140267   \n",
       "4       outgoing        94856890  600443166431        0  5212211180442   \n",
       "...          ...             ...           ...      ...            ...   \n",
       "178990  outgoing        80873924  600460474981        0  5219999951130   \n",
       "178991  outgoing        80873924  600460474981        0  5219999951130   \n",
       "178992  outgoing        80873924  600460474981        0  5219999951130   \n",
       "178993  outgoing        80873924  600460474981        0  5219999951130   \n",
       "178994  outgoing        80873924  600460474981        0  5219999951130   \n",
       "\n",
       "              last_template_at  tag  \\\n",
       "0      2024-08-22 09:58:31.325  NaN   \n",
       "1      2024-08-22 09:58:31.325  NaN   \n",
       "2      2024-08-22 09:58:31.325  NaN   \n",
       "3      2024-08-22 09:58:31.325  NaN   \n",
       "4      2024-08-10 08:48:24.586  NaN   \n",
       "...                        ...  ...   \n",
       "178990 2024-08-22 10:39:04.125  NaN   \n",
       "178991 2024-08-22 10:39:04.125  NaN   \n",
       "178992 2024-08-22 10:39:04.125  NaN   \n",
       "178993 2024-08-22 10:39:04.125  NaN   \n",
       "178994 2024-08-22 10:39:04.125  NaN   \n",
       "\n",
       "                                                                    id  \\\n",
       "0                                                                  NaN   \n",
       "1       wamid.HBgNNTIxMjIwMTE0MDI2NxUCABEYEjIwOTYxNjM5RjVGMDNFNDMxNwA=   \n",
       "2                                                                  NaN   \n",
       "3       wamid.HBgNNTIxMjIwMTE0MDI2NxUCABEYEjI5QkZDQjQ2Q0VFRUE0NkFDNgA=   \n",
       "4                                                                  NaN   \n",
       "...                                                                ...   \n",
       "178990                                                             NaN   \n",
       "178991                                                             NaN   \n",
       "178992  wamid.HBgNNTIxOTk5OTk1MTEzMBUCABEYEkQ5REFFMDEwQjhFMzYzOERBRAA=   \n",
       "178993                                                             NaN   \n",
       "178994  wamid.HBgNNTIxOTk5OTk1MTEzMBUCABEYEjM1RTM0RkMzOUIwMDA5NzhGNwA=   \n",
       "\n",
       "        sent_status seen image_id  \n",
       "0       sin_estatus  NaN      NaN  \n",
       "1            failed  NaN      NaN  \n",
       "2       sin_estatus  NaN      NaN  \n",
       "3            failed  NaN      NaN  \n",
       "4       sin_estatus  NaN      NaN  \n",
       "...             ...  ...      ...  \n",
       "178990  sin_estatus  NaN      NaN  \n",
       "178991  sin_estatus  NaN      NaN  \n",
       "178992       failed  NaN      NaN  \n",
       "178993  sin_estatus  NaN      NaN  \n",
       "178994       failed  NaN      NaN  \n",
       "\n",
       "[178995 rows x 14 columns]"
      ]
     },
     "execution_count": 22,
     "metadata": {},
     "output_type": "execute_result"
    }
   ],
   "source": [
    "conversations"
   ]
  },
  {
   "cell_type": "code",
   "execution_count": 23,
   "metadata": {},
   "outputs": [
    {
     "data": {
      "text/plain": [
       "tag\n",
       "carta convenio         7020\n",
       "detener promociones    4688\n",
       "no define              3983\n",
       "contacto humano        3790\n",
       "próximo pago           2069\n",
       "no reconoce            1155\n",
       "intención de pago       615\n",
       "negativa de pago        139\n",
       "Name: count, dtype: int64"
      ]
     },
     "execution_count": 23,
     "metadata": {},
     "output_type": "execute_result"
    }
   ],
   "source": [
    "conversations.tag.value_counts()"
   ]
  },
  {
   "cell_type": "code",
   "execution_count": 24,
   "metadata": {},
   "outputs": [
    {
     "data": {
      "application/vnd.plotly.v1+json": {
       "config": {
        "plotlyServerURL": "https://plot.ly"
       },
       "data": [
        {
         "domain": {
          "x": [
           0,
           1
          ],
          "y": [
           0,
           1
          ]
         },
         "hovertemplate": "label=%{label}<br>value=%{value}<extra></extra>",
         "labels": [
          "carta convenio",
          "detener promociones",
          "no define",
          "contacto humano",
          "próximo pago",
          "no reconoce",
          "intención de pago",
          "negativa de pago"
         ],
         "legendgroup": "",
         "name": "",
         "showlegend": true,
         "type": "pie",
         "values": [
          7020,
          4688,
          3983,
          3790,
          2069,
          1155,
          615,
          139
         ]
        }
       ],
       "layout": {
        "height": 400,
        "legend": {
         "tracegroupgap": 0
        },
        "template": {
         "data": {
          "bar": [
           {
            "error_x": {
             "color": "#2a3f5f"
            },
            "error_y": {
             "color": "#2a3f5f"
            },
            "marker": {
             "line": {
              "color": "#E5ECF6",
              "width": 0.5
             },
             "pattern": {
              "fillmode": "overlay",
              "size": 10,
              "solidity": 0.2
             }
            },
            "type": "bar"
           }
          ],
          "barpolar": [
           {
            "marker": {
             "line": {
              "color": "#E5ECF6",
              "width": 0.5
             },
             "pattern": {
              "fillmode": "overlay",
              "size": 10,
              "solidity": 0.2
             }
            },
            "type": "barpolar"
           }
          ],
          "carpet": [
           {
            "aaxis": {
             "endlinecolor": "#2a3f5f",
             "gridcolor": "white",
             "linecolor": "white",
             "minorgridcolor": "white",
             "startlinecolor": "#2a3f5f"
            },
            "baxis": {
             "endlinecolor": "#2a3f5f",
             "gridcolor": "white",
             "linecolor": "white",
             "minorgridcolor": "white",
             "startlinecolor": "#2a3f5f"
            },
            "type": "carpet"
           }
          ],
          "choropleth": [
           {
            "colorbar": {
             "outlinewidth": 0,
             "ticks": ""
            },
            "type": "choropleth"
           }
          ],
          "contour": [
           {
            "colorbar": {
             "outlinewidth": 0,
             "ticks": ""
            },
            "colorscale": [
             [
              0,
              "#0d0887"
             ],
             [
              0.1111111111111111,
              "#46039f"
             ],
             [
              0.2222222222222222,
              "#7201a8"
             ],
             [
              0.3333333333333333,
              "#9c179e"
             ],
             [
              0.4444444444444444,
              "#bd3786"
             ],
             [
              0.5555555555555556,
              "#d8576b"
             ],
             [
              0.6666666666666666,
              "#ed7953"
             ],
             [
              0.7777777777777778,
              "#fb9f3a"
             ],
             [
              0.8888888888888888,
              "#fdca26"
             ],
             [
              1,
              "#f0f921"
             ]
            ],
            "type": "contour"
           }
          ],
          "contourcarpet": [
           {
            "colorbar": {
             "outlinewidth": 0,
             "ticks": ""
            },
            "type": "contourcarpet"
           }
          ],
          "heatmap": [
           {
            "colorbar": {
             "outlinewidth": 0,
             "ticks": ""
            },
            "colorscale": [
             [
              0,
              "#0d0887"
             ],
             [
              0.1111111111111111,
              "#46039f"
             ],
             [
              0.2222222222222222,
              "#7201a8"
             ],
             [
              0.3333333333333333,
              "#9c179e"
             ],
             [
              0.4444444444444444,
              "#bd3786"
             ],
             [
              0.5555555555555556,
              "#d8576b"
             ],
             [
              0.6666666666666666,
              "#ed7953"
             ],
             [
              0.7777777777777778,
              "#fb9f3a"
             ],
             [
              0.8888888888888888,
              "#fdca26"
             ],
             [
              1,
              "#f0f921"
             ]
            ],
            "type": "heatmap"
           }
          ],
          "heatmapgl": [
           {
            "colorbar": {
             "outlinewidth": 0,
             "ticks": ""
            },
            "colorscale": [
             [
              0,
              "#0d0887"
             ],
             [
              0.1111111111111111,
              "#46039f"
             ],
             [
              0.2222222222222222,
              "#7201a8"
             ],
             [
              0.3333333333333333,
              "#9c179e"
             ],
             [
              0.4444444444444444,
              "#bd3786"
             ],
             [
              0.5555555555555556,
              "#d8576b"
             ],
             [
              0.6666666666666666,
              "#ed7953"
             ],
             [
              0.7777777777777778,
              "#fb9f3a"
             ],
             [
              0.8888888888888888,
              "#fdca26"
             ],
             [
              1,
              "#f0f921"
             ]
            ],
            "type": "heatmapgl"
           }
          ],
          "histogram": [
           {
            "marker": {
             "pattern": {
              "fillmode": "overlay",
              "size": 10,
              "solidity": 0.2
             }
            },
            "type": "histogram"
           }
          ],
          "histogram2d": [
           {
            "colorbar": {
             "outlinewidth": 0,
             "ticks": ""
            },
            "colorscale": [
             [
              0,
              "#0d0887"
             ],
             [
              0.1111111111111111,
              "#46039f"
             ],
             [
              0.2222222222222222,
              "#7201a8"
             ],
             [
              0.3333333333333333,
              "#9c179e"
             ],
             [
              0.4444444444444444,
              "#bd3786"
             ],
             [
              0.5555555555555556,
              "#d8576b"
             ],
             [
              0.6666666666666666,
              "#ed7953"
             ],
             [
              0.7777777777777778,
              "#fb9f3a"
             ],
             [
              0.8888888888888888,
              "#fdca26"
             ],
             [
              1,
              "#f0f921"
             ]
            ],
            "type": "histogram2d"
           }
          ],
          "histogram2dcontour": [
           {
            "colorbar": {
             "outlinewidth": 0,
             "ticks": ""
            },
            "colorscale": [
             [
              0,
              "#0d0887"
             ],
             [
              0.1111111111111111,
              "#46039f"
             ],
             [
              0.2222222222222222,
              "#7201a8"
             ],
             [
              0.3333333333333333,
              "#9c179e"
             ],
             [
              0.4444444444444444,
              "#bd3786"
             ],
             [
              0.5555555555555556,
              "#d8576b"
             ],
             [
              0.6666666666666666,
              "#ed7953"
             ],
             [
              0.7777777777777778,
              "#fb9f3a"
             ],
             [
              0.8888888888888888,
              "#fdca26"
             ],
             [
              1,
              "#f0f921"
             ]
            ],
            "type": "histogram2dcontour"
           }
          ],
          "mesh3d": [
           {
            "colorbar": {
             "outlinewidth": 0,
             "ticks": ""
            },
            "type": "mesh3d"
           }
          ],
          "parcoords": [
           {
            "line": {
             "colorbar": {
              "outlinewidth": 0,
              "ticks": ""
             }
            },
            "type": "parcoords"
           }
          ],
          "pie": [
           {
            "automargin": true,
            "type": "pie"
           }
          ],
          "scatter": [
           {
            "fillpattern": {
             "fillmode": "overlay",
             "size": 10,
             "solidity": 0.2
            },
            "type": "scatter"
           }
          ],
          "scatter3d": [
           {
            "line": {
             "colorbar": {
              "outlinewidth": 0,
              "ticks": ""
             }
            },
            "marker": {
             "colorbar": {
              "outlinewidth": 0,
              "ticks": ""
             }
            },
            "type": "scatter3d"
           }
          ],
          "scattercarpet": [
           {
            "marker": {
             "colorbar": {
              "outlinewidth": 0,
              "ticks": ""
             }
            },
            "type": "scattercarpet"
           }
          ],
          "scattergeo": [
           {
            "marker": {
             "colorbar": {
              "outlinewidth": 0,
              "ticks": ""
             }
            },
            "type": "scattergeo"
           }
          ],
          "scattergl": [
           {
            "marker": {
             "colorbar": {
              "outlinewidth": 0,
              "ticks": ""
             }
            },
            "type": "scattergl"
           }
          ],
          "scattermapbox": [
           {
            "marker": {
             "colorbar": {
              "outlinewidth": 0,
              "ticks": ""
             }
            },
            "type": "scattermapbox"
           }
          ],
          "scatterpolar": [
           {
            "marker": {
             "colorbar": {
              "outlinewidth": 0,
              "ticks": ""
             }
            },
            "type": "scatterpolar"
           }
          ],
          "scatterpolargl": [
           {
            "marker": {
             "colorbar": {
              "outlinewidth": 0,
              "ticks": ""
             }
            },
            "type": "scatterpolargl"
           }
          ],
          "scatterternary": [
           {
            "marker": {
             "colorbar": {
              "outlinewidth": 0,
              "ticks": ""
             }
            },
            "type": "scatterternary"
           }
          ],
          "surface": [
           {
            "colorbar": {
             "outlinewidth": 0,
             "ticks": ""
            },
            "colorscale": [
             [
              0,
              "#0d0887"
             ],
             [
              0.1111111111111111,
              "#46039f"
             ],
             [
              0.2222222222222222,
              "#7201a8"
             ],
             [
              0.3333333333333333,
              "#9c179e"
             ],
             [
              0.4444444444444444,
              "#bd3786"
             ],
             [
              0.5555555555555556,
              "#d8576b"
             ],
             [
              0.6666666666666666,
              "#ed7953"
             ],
             [
              0.7777777777777778,
              "#fb9f3a"
             ],
             [
              0.8888888888888888,
              "#fdca26"
             ],
             [
              1,
              "#f0f921"
             ]
            ],
            "type": "surface"
           }
          ],
          "table": [
           {
            "cells": {
             "fill": {
              "color": "#EBF0F8"
             },
             "line": {
              "color": "white"
             }
            },
            "header": {
             "fill": {
              "color": "#C8D4E3"
             },
             "line": {
              "color": "white"
             }
            },
            "type": "table"
           }
          ]
         },
         "layout": {
          "annotationdefaults": {
           "arrowcolor": "#2a3f5f",
           "arrowhead": 0,
           "arrowwidth": 1
          },
          "autotypenumbers": "strict",
          "coloraxis": {
           "colorbar": {
            "outlinewidth": 0,
            "ticks": ""
           }
          },
          "colorscale": {
           "diverging": [
            [
             0,
             "#8e0152"
            ],
            [
             0.1,
             "#c51b7d"
            ],
            [
             0.2,
             "#de77ae"
            ],
            [
             0.3,
             "#f1b6da"
            ],
            [
             0.4,
             "#fde0ef"
            ],
            [
             0.5,
             "#f7f7f7"
            ],
            [
             0.6,
             "#e6f5d0"
            ],
            [
             0.7,
             "#b8e186"
            ],
            [
             0.8,
             "#7fbc41"
            ],
            [
             0.9,
             "#4d9221"
            ],
            [
             1,
             "#276419"
            ]
           ],
           "sequential": [
            [
             0,
             "#0d0887"
            ],
            [
             0.1111111111111111,
             "#46039f"
            ],
            [
             0.2222222222222222,
             "#7201a8"
            ],
            [
             0.3333333333333333,
             "#9c179e"
            ],
            [
             0.4444444444444444,
             "#bd3786"
            ],
            [
             0.5555555555555556,
             "#d8576b"
            ],
            [
             0.6666666666666666,
             "#ed7953"
            ],
            [
             0.7777777777777778,
             "#fb9f3a"
            ],
            [
             0.8888888888888888,
             "#fdca26"
            ],
            [
             1,
             "#f0f921"
            ]
           ],
           "sequentialminus": [
            [
             0,
             "#0d0887"
            ],
            [
             0.1111111111111111,
             "#46039f"
            ],
            [
             0.2222222222222222,
             "#7201a8"
            ],
            [
             0.3333333333333333,
             "#9c179e"
            ],
            [
             0.4444444444444444,
             "#bd3786"
            ],
            [
             0.5555555555555556,
             "#d8576b"
            ],
            [
             0.6666666666666666,
             "#ed7953"
            ],
            [
             0.7777777777777778,
             "#fb9f3a"
            ],
            [
             0.8888888888888888,
             "#fdca26"
            ],
            [
             1,
             "#f0f921"
            ]
           ]
          },
          "colorway": [
           "#636efa",
           "#EF553B",
           "#00cc96",
           "#ab63fa",
           "#FFA15A",
           "#19d3f3",
           "#FF6692",
           "#B6E880",
           "#FF97FF",
           "#FECB52"
          ],
          "font": {
           "color": "#2a3f5f"
          },
          "geo": {
           "bgcolor": "white",
           "lakecolor": "white",
           "landcolor": "#E5ECF6",
           "showlakes": true,
           "showland": true,
           "subunitcolor": "white"
          },
          "hoverlabel": {
           "align": "left"
          },
          "hovermode": "closest",
          "mapbox": {
           "style": "light"
          },
          "paper_bgcolor": "white",
          "plot_bgcolor": "#E5ECF6",
          "polar": {
           "angularaxis": {
            "gridcolor": "white",
            "linecolor": "white",
            "ticks": ""
           },
           "bgcolor": "#E5ECF6",
           "radialaxis": {
            "gridcolor": "white",
            "linecolor": "white",
            "ticks": ""
           }
          },
          "scene": {
           "xaxis": {
            "backgroundcolor": "#E5ECF6",
            "gridcolor": "white",
            "gridwidth": 2,
            "linecolor": "white",
            "showbackground": true,
            "ticks": "",
            "zerolinecolor": "white"
           },
           "yaxis": {
            "backgroundcolor": "#E5ECF6",
            "gridcolor": "white",
            "gridwidth": 2,
            "linecolor": "white",
            "showbackground": true,
            "ticks": "",
            "zerolinecolor": "white"
           },
           "zaxis": {
            "backgroundcolor": "#E5ECF6",
            "gridcolor": "white",
            "gridwidth": 2,
            "linecolor": "white",
            "showbackground": true,
            "ticks": "",
            "zerolinecolor": "white"
           }
          },
          "shapedefaults": {
           "line": {
            "color": "#2a3f5f"
           }
          },
          "ternary": {
           "aaxis": {
            "gridcolor": "white",
            "linecolor": "white",
            "ticks": ""
           },
           "baxis": {
            "gridcolor": "white",
            "linecolor": "white",
            "ticks": ""
           },
           "bgcolor": "#E5ECF6",
           "caxis": {
            "gridcolor": "white",
            "linecolor": "white",
            "ticks": ""
           }
          },
          "title": {
           "x": 0.05
          },
          "xaxis": {
           "automargin": true,
           "gridcolor": "white",
           "linecolor": "white",
           "ticks": "",
           "title": {
            "standoff": 15
           },
           "zerolinecolor": "white",
           "zerolinewidth": 2
          },
          "yaxis": {
           "automargin": true,
           "gridcolor": "white",
           "linecolor": "white",
           "ticks": "",
           "title": {
            "standoff": 15
           },
           "zerolinecolor": "white",
           "zerolinewidth": 2
          }
         }
        },
        "title": {
         "text": "Distribución de tags en conversaciones"
        },
        "width": 600
       }
      }
     },
     "metadata": {},
     "output_type": "display_data"
    }
   ],
   "source": [
    "tag_counts = conversations.tag.value_counts()\n",
    "fig = px.pie(values=tag_counts.values, names = tag_counts.index, title = 'Distribución de tags en conversaciones', width=600, height=400)\n",
    "fig.show()"
   ]
  },
  {
   "cell_type": "code",
   "execution_count": 25,
   "metadata": {},
   "outputs": [
    {
     "data": {
      "text/plain": [
       "Index(['createdAt', 'role', 'content', 'direction', 'conversationId', 'credit',\n",
       "       'discount', 'phone1', 'last_template_at', 'tag', 'id', 'sent_status',\n",
       "       'seen', 'image_id'],\n",
       "      dtype='object')"
      ]
     },
     "execution_count": 25,
     "metadata": {},
     "output_type": "execute_result"
    }
   ],
   "source": [
    "conversations.columns"
   ]
  },
  {
   "cell_type": "code",
   "execution_count": 26,
   "metadata": {},
   "outputs": [],
   "source": [
    "data = conversations.copy()"
   ]
  },
  {
   "cell_type": "code",
   "execution_count": 27,
   "metadata": {},
   "outputs": [],
   "source": [
    "serie_count_celphones = pd.DataFrame(data.groupby(\"conversationId\").phone1.nunique().sort_values()).reset_index()"
   ]
  },
  {
   "cell_type": "code",
   "execution_count": 28,
   "metadata": {},
   "outputs": [],
   "source": [
    "data = data.loc[data.conversationId.isin(serie_count_celphones.query(\"phone1 == 1\").conversationId)]"
   ]
  },
  {
   "cell_type": "code",
   "execution_count": 29,
   "metadata": {},
   "outputs": [
    {
     "data": {
      "text/plain": [
       "True"
      ]
     },
     "execution_count": 29,
     "metadata": {},
     "output_type": "execute_result"
    }
   ],
   "source": [
    "data.groupby(\"conversationId\").phone1.nunique().sort_values().min() == data.groupby(\"conversationId\").phone1.nunique().sort_values().max()"
   ]
  },
  {
   "cell_type": "code",
   "execution_count": 30,
   "metadata": {},
   "outputs": [
    {
     "data": {
      "text/plain": [
       "True"
      ]
     },
     "execution_count": 30,
     "metadata": {},
     "output_type": "execute_result"
    }
   ],
   "source": [
    "data.groupby(\"conversationId\").credit.nunique().sort_values().min() == data.groupby(\"conversationId\").credit.nunique().sort_values().max()"
   ]
  },
  {
   "cell_type": "code",
   "execution_count": 31,
   "metadata": {},
   "outputs": [],
   "source": [
    "data.dropna(subset=[\"phone1\", 'credit'], inplace=True)"
   ]
  },
  {
   "cell_type": "code",
   "execution_count": 32,
   "metadata": {},
   "outputs": [],
   "source": [
    "data['id'] = data.apply(lambda row: f\"{row['credit']} - {row['phone1']}\", axis = 1)"
   ]
  },
  {
   "cell_type": "code",
   "execution_count": 33,
   "metadata": {},
   "outputs": [],
   "source": [
    "## Filtrando solo las fechas solicitadas\n",
    "data.credit = data.credit.astype(str)\n",
    "data.conversationId = data.conversationId.astype(str)"
   ]
  },
  {
   "cell_type": "code",
   "execution_count": 34,
   "metadata": {},
   "outputs": [],
   "source": [
    "data.reset_index(drop=True, inplace=True)"
   ]
  },
  {
   "cell_type": "code",
   "execution_count": 35,
   "metadata": {},
   "outputs": [],
   "source": [
    "data = data.sort_values(by = ['createdAt', 'content'])\n",
    "data = data.reset_index()"
   ]
  },
  {
   "cell_type": "code",
   "execution_count": 36,
   "metadata": {},
   "outputs": [],
   "source": [
    "for i, row in data.iterrows():\n",
    "    if \"Template\" in row['content']:\n",
    "        data.at[i, \"sent_status\"] = data.at[i+1, \"sent_status\"]"
   ]
  },
  {
   "cell_type": "code",
   "execution_count": 37,
   "metadata": {},
   "outputs": [],
   "source": [
    "dummies = pd.get_dummies(data['sent_status'], prefix='sent_status')\n",
    "\n",
    "# Concatenar dummies con el DataFrame original excluyendo la columna original\n",
    "data = pd.concat([data.drop('sent_status', axis=1), dummies], axis=1)"
   ]
  },
  {
   "cell_type": "code",
   "execution_count": 38,
   "metadata": {},
   "outputs": [
    {
     "data": {
      "text/html": [
       "<div>\n",
       "<style scoped>\n",
       "    .dataframe tbody tr th:only-of-type {\n",
       "        vertical-align: middle;\n",
       "    }\n",
       "\n",
       "    .dataframe tbody tr th {\n",
       "        vertical-align: top;\n",
       "    }\n",
       "\n",
       "    .dataframe thead th {\n",
       "        text-align: right;\n",
       "    }\n",
       "</style>\n",
       "<table border=\"1\" class=\"dataframe\">\n",
       "  <thead>\n",
       "    <tr style=\"text-align: right;\">\n",
       "      <th></th>\n",
       "      <th>index</th>\n",
       "      <th>createdAt</th>\n",
       "      <th>role</th>\n",
       "      <th>content</th>\n",
       "      <th>direction</th>\n",
       "      <th>conversationId</th>\n",
       "      <th>credit</th>\n",
       "      <th>discount</th>\n",
       "      <th>phone1</th>\n",
       "      <th>last_template_at</th>\n",
       "      <th>tag</th>\n",
       "      <th>id</th>\n",
       "      <th>seen</th>\n",
       "      <th>image_id</th>\n",
       "      <th>sent_status_delivered</th>\n",
       "      <th>sent_status_failed</th>\n",
       "      <th>sent_status_read</th>\n",
       "      <th>sent_status_sent</th>\n",
       "      <th>sent_status_sin_estatus</th>\n",
       "    </tr>\n",
       "  </thead>\n",
       "  <tbody>\n",
       "    <tr>\n",
       "      <th>0</th>\n",
       "      <td>24069</td>\n",
       "      <td>2024-06-12 10:59:56.767</td>\n",
       "      <td>assistant</td>\n",
       "      <td>Template \"descuento_banco_60\" enviado</td>\n",
       "      <td>outgoing</td>\n",
       "      <td>61788492</td>\n",
       "      <td>600411910950</td>\n",
       "      <td>0</td>\n",
       "      <td>5212411776482</td>\n",
       "      <td>2024-08-22 17:13:41.796</td>\n",
       "      <td>NaN</td>\n",
       "      <td>600411910950 - 5212411776482</td>\n",
       "      <td>NaN</td>\n",
       "      <td>NaN</td>\n",
       "      <td>False</td>\n",
       "      <td>False</td>\n",
       "      <td>False</td>\n",
       "      <td>False</td>\n",
       "      <td>True</td>\n",
       "    </tr>\n",
       "    <tr>\n",
       "      <th>1</th>\n",
       "      <td>24070</td>\n",
       "      <td>2024-06-12 10:59:56.767</td>\n",
       "      <td>assistant</td>\n",
       "      <td>El dia de HOY tiene un magnifico descuento del 60% para liquidar su credito Bancoppel, ESPERAMOS SU RESPUESTA.</td>\n",
       "      <td>outgoing</td>\n",
       "      <td>61788492</td>\n",
       "      <td>600411910950</td>\n",
       "      <td>0</td>\n",
       "      <td>5212411776482</td>\n",
       "      <td>2024-08-22 17:13:41.796</td>\n",
       "      <td>NaN</td>\n",
       "      <td>600411910950 - 5212411776482</td>\n",
       "      <td>NaN</td>\n",
       "      <td>NaN</td>\n",
       "      <td>False</td>\n",
       "      <td>False</td>\n",
       "      <td>False</td>\n",
       "      <td>False</td>\n",
       "      <td>True</td>\n",
       "    </tr>\n",
       "    <tr>\n",
       "      <th>2</th>\n",
       "      <td>130468</td>\n",
       "      <td>2024-06-12 11:22:36.582</td>\n",
       "      <td>assistant</td>\n",
       "      <td>Template \"descuento_banco_60\" enviado</td>\n",
       "      <td>outgoing</td>\n",
       "      <td>40710379</td>\n",
       "      <td>600718450494</td>\n",
       "      <td>0</td>\n",
       "      <td>5218445318517</td>\n",
       "      <td>2024-08-21 11:54:51.699</td>\n",
       "      <td>NaN</td>\n",
       "      <td>600718450494 - 5218445318517</td>\n",
       "      <td>NaN</td>\n",
       "      <td>NaN</td>\n",
       "      <td>False</td>\n",
       "      <td>False</td>\n",
       "      <td>False</td>\n",
       "      <td>False</td>\n",
       "      <td>True</td>\n",
       "    </tr>\n",
       "    <tr>\n",
       "      <th>3</th>\n",
       "      <td>130469</td>\n",
       "      <td>2024-06-12 11:22:36.582</td>\n",
       "      <td>assistant</td>\n",
       "      <td>El dia de HOY tiene un magnifico descuento del 60% para liquidar su credito Bancoppel, ESPERAMOS SU RESPUESTA.</td>\n",
       "      <td>outgoing</td>\n",
       "      <td>40710379</td>\n",
       "      <td>600718450494</td>\n",
       "      <td>0</td>\n",
       "      <td>5218445318517</td>\n",
       "      <td>2024-08-21 11:54:51.699</td>\n",
       "      <td>NaN</td>\n",
       "      <td>600718450494 - 5218445318517</td>\n",
       "      <td>NaN</td>\n",
       "      <td>NaN</td>\n",
       "      <td>False</td>\n",
       "      <td>False</td>\n",
       "      <td>False</td>\n",
       "      <td>False</td>\n",
       "      <td>True</td>\n",
       "    </tr>\n",
       "    <tr>\n",
       "      <th>4</th>\n",
       "      <td>27405</td>\n",
       "      <td>2024-06-12 11:22:37.150</td>\n",
       "      <td>assistant</td>\n",
       "      <td>Template \"descuento_banco_60\" enviado</td>\n",
       "      <td>outgoing</td>\n",
       "      <td>20657697</td>\n",
       "      <td>680087146097</td>\n",
       "      <td>0</td>\n",
       "      <td>5213315714166</td>\n",
       "      <td>2024-08-17 09:11:06.908</td>\n",
       "      <td>NaN</td>\n",
       "      <td>680087146097 - 5213315714166</td>\n",
       "      <td>NaN</td>\n",
       "      <td>NaN</td>\n",
       "      <td>False</td>\n",
       "      <td>False</td>\n",
       "      <td>False</td>\n",
       "      <td>False</td>\n",
       "      <td>True</td>\n",
       "    </tr>\n",
       "    <tr>\n",
       "      <th>...</th>\n",
       "      <td>...</td>\n",
       "      <td>...</td>\n",
       "      <td>...</td>\n",
       "      <td>...</td>\n",
       "      <td>...</td>\n",
       "      <td>...</td>\n",
       "      <td>...</td>\n",
       "      <td>...</td>\n",
       "      <td>...</td>\n",
       "      <td>...</td>\n",
       "      <td>...</td>\n",
       "      <td>...</td>\n",
       "      <td>...</td>\n",
       "      <td>...</td>\n",
       "      <td>...</td>\n",
       "      <td>...</td>\n",
       "      <td>...</td>\n",
       "      <td>...</td>\n",
       "      <td>...</td>\n",
       "    </tr>\n",
       "    <tr>\n",
       "      <th>178930</th>\n",
       "      <td>146842</td>\n",
       "      <td>2024-08-23 00:39:31.752</td>\n",
       "      <td>assistant</td>\n",
       "      <td>Gracias por tu mensaje. Estamos conectándote con un asesor.</td>\n",
       "      <td>outgoing</td>\n",
       "      <td>29531264</td>\n",
       "      <td>600672168843</td>\n",
       "      <td>0</td>\n",
       "      <td>5213211051244</td>\n",
       "      <td>2024-08-22 10:34:52.677</td>\n",
       "      <td>no define</td>\n",
       "      <td>600672168843 - 5213211051244</td>\n",
       "      <td>False</td>\n",
       "      <td>NaN</td>\n",
       "      <td>False</td>\n",
       "      <td>False</td>\n",
       "      <td>True</td>\n",
       "      <td>False</td>\n",
       "      <td>False</td>\n",
       "    </tr>\n",
       "    <tr>\n",
       "      <th>178931</th>\n",
       "      <td>33372</td>\n",
       "      <td>2024-08-23 01:03:37.454</td>\n",
       "      <td>user</td>\n",
       "      <td>Más información</td>\n",
       "      <td>incoming</td>\n",
       "      <td>77858090</td>\n",
       "      <td>600152007636</td>\n",
       "      <td>0</td>\n",
       "      <td>5214777291181</td>\n",
       "      <td>2024-08-22 17:15:44.772</td>\n",
       "      <td>no define</td>\n",
       "      <td>600152007636 - 5214777291181</td>\n",
       "      <td>NaN</td>\n",
       "      <td>NaN</td>\n",
       "      <td>False</td>\n",
       "      <td>False</td>\n",
       "      <td>False</td>\n",
       "      <td>False</td>\n",
       "      <td>True</td>\n",
       "    </tr>\n",
       "    <tr>\n",
       "      <th>178932</th>\n",
       "      <td>33373</td>\n",
       "      <td>2024-08-23 01:03:41.376</td>\n",
       "      <td>assistant</td>\n",
       "      <td>Gracias por tu mensaje. Estamos conectándote con un asesor.</td>\n",
       "      <td>outgoing</td>\n",
       "      <td>77858090</td>\n",
       "      <td>600152007636</td>\n",
       "      <td>0</td>\n",
       "      <td>5214777291181</td>\n",
       "      <td>2024-08-22 17:15:44.772</td>\n",
       "      <td>no define</td>\n",
       "      <td>600152007636 - 5214777291181</td>\n",
       "      <td>False</td>\n",
       "      <td>NaN</td>\n",
       "      <td>False</td>\n",
       "      <td>False</td>\n",
       "      <td>True</td>\n",
       "      <td>False</td>\n",
       "      <td>False</td>\n",
       "    </tr>\n",
       "    <tr>\n",
       "      <th>178933</th>\n",
       "      <td>155113</td>\n",
       "      <td>2024-08-23 01:53:09.084</td>\n",
       "      <td>user</td>\n",
       "      <td>Me interesa</td>\n",
       "      <td>incoming</td>\n",
       "      <td>73108557</td>\n",
       "      <td>600655195359</td>\n",
       "      <td>0</td>\n",
       "      <td>5215531464820</td>\n",
       "      <td>2024-08-22 17:33:43.998</td>\n",
       "      <td>contacto humano</td>\n",
       "      <td>600655195359 - 5215531464820</td>\n",
       "      <td>NaN</td>\n",
       "      <td>NaN</td>\n",
       "      <td>False</td>\n",
       "      <td>False</td>\n",
       "      <td>False</td>\n",
       "      <td>False</td>\n",
       "      <td>True</td>\n",
       "    </tr>\n",
       "    <tr>\n",
       "      <th>178934</th>\n",
       "      <td>155114</td>\n",
       "      <td>2024-08-23 01:53:12.993</td>\n",
       "      <td>assistant</td>\n",
       "      <td>Gracias por tu mensaje. Estamos conectándote con un asesor.</td>\n",
       "      <td>outgoing</td>\n",
       "      <td>73108557</td>\n",
       "      <td>600655195359</td>\n",
       "      <td>0</td>\n",
       "      <td>5215531464820</td>\n",
       "      <td>2024-08-22 17:33:43.998</td>\n",
       "      <td>contacto humano</td>\n",
       "      <td>600655195359 - 5215531464820</td>\n",
       "      <td>False</td>\n",
       "      <td>NaN</td>\n",
       "      <td>False</td>\n",
       "      <td>False</td>\n",
       "      <td>True</td>\n",
       "      <td>False</td>\n",
       "      <td>False</td>\n",
       "    </tr>\n",
       "  </tbody>\n",
       "</table>\n",
       "<p>178935 rows × 19 columns</p>\n",
       "</div>"
      ],
      "text/plain": [
       "         index               createdAt       role  \\\n",
       "0        24069 2024-06-12 10:59:56.767  assistant   \n",
       "1        24070 2024-06-12 10:59:56.767  assistant   \n",
       "2       130468 2024-06-12 11:22:36.582  assistant   \n",
       "3       130469 2024-06-12 11:22:36.582  assistant   \n",
       "4        27405 2024-06-12 11:22:37.150  assistant   \n",
       "...        ...                     ...        ...   \n",
       "178930  146842 2024-08-23 00:39:31.752  assistant   \n",
       "178931   33372 2024-08-23 01:03:37.454       user   \n",
       "178932   33373 2024-08-23 01:03:41.376  assistant   \n",
       "178933  155113 2024-08-23 01:53:09.084       user   \n",
       "178934  155114 2024-08-23 01:53:12.993  assistant   \n",
       "\n",
       "                                                                                                               content  \\\n",
       "0                                                                                Template \"descuento_banco_60\" enviado   \n",
       "1       El dia de HOY tiene un magnifico descuento del 60% para liquidar su credito Bancoppel, ESPERAMOS SU RESPUESTA.   \n",
       "2                                                                                Template \"descuento_banco_60\" enviado   \n",
       "3       El dia de HOY tiene un magnifico descuento del 60% para liquidar su credito Bancoppel, ESPERAMOS SU RESPUESTA.   \n",
       "4                                                                                Template \"descuento_banco_60\" enviado   \n",
       "...                                                                                                                ...   \n",
       "178930                                                     Gracias por tu mensaje. Estamos conectándote con un asesor.   \n",
       "178931                                                                                                 Más información   \n",
       "178932                                                     Gracias por tu mensaje. Estamos conectándote con un asesor.   \n",
       "178933                                                                                                     Me interesa   \n",
       "178934                                                     Gracias por tu mensaje. Estamos conectándote con un asesor.   \n",
       "\n",
       "       direction conversationId        credit discount         phone1  \\\n",
       "0       outgoing       61788492  600411910950        0  5212411776482   \n",
       "1       outgoing       61788492  600411910950        0  5212411776482   \n",
       "2       outgoing       40710379  600718450494        0  5218445318517   \n",
       "3       outgoing       40710379  600718450494        0  5218445318517   \n",
       "4       outgoing       20657697  680087146097        0  5213315714166   \n",
       "...          ...            ...           ...      ...            ...   \n",
       "178930  outgoing       29531264  600672168843        0  5213211051244   \n",
       "178931  incoming       77858090  600152007636        0  5214777291181   \n",
       "178932  outgoing       77858090  600152007636        0  5214777291181   \n",
       "178933  incoming       73108557  600655195359        0  5215531464820   \n",
       "178934  outgoing       73108557  600655195359        0  5215531464820   \n",
       "\n",
       "              last_template_at              tag                            id  \\\n",
       "0      2024-08-22 17:13:41.796              NaN  600411910950 - 5212411776482   \n",
       "1      2024-08-22 17:13:41.796              NaN  600411910950 - 5212411776482   \n",
       "2      2024-08-21 11:54:51.699              NaN  600718450494 - 5218445318517   \n",
       "3      2024-08-21 11:54:51.699              NaN  600718450494 - 5218445318517   \n",
       "4      2024-08-17 09:11:06.908              NaN  680087146097 - 5213315714166   \n",
       "...                        ...              ...                           ...   \n",
       "178930 2024-08-22 10:34:52.677        no define  600672168843 - 5213211051244   \n",
       "178931 2024-08-22 17:15:44.772        no define  600152007636 - 5214777291181   \n",
       "178932 2024-08-22 17:15:44.772        no define  600152007636 - 5214777291181   \n",
       "178933 2024-08-22 17:33:43.998  contacto humano  600655195359 - 5215531464820   \n",
       "178934 2024-08-22 17:33:43.998  contacto humano  600655195359 - 5215531464820   \n",
       "\n",
       "         seen image_id  sent_status_delivered  sent_status_failed  \\\n",
       "0         NaN      NaN                  False               False   \n",
       "1         NaN      NaN                  False               False   \n",
       "2         NaN      NaN                  False               False   \n",
       "3         NaN      NaN                  False               False   \n",
       "4         NaN      NaN                  False               False   \n",
       "...       ...      ...                    ...                 ...   \n",
       "178930  False      NaN                  False               False   \n",
       "178931    NaN      NaN                  False               False   \n",
       "178932  False      NaN                  False               False   \n",
       "178933    NaN      NaN                  False               False   \n",
       "178934  False      NaN                  False               False   \n",
       "\n",
       "        sent_status_read  sent_status_sent  sent_status_sin_estatus  \n",
       "0                  False             False                     True  \n",
       "1                  False             False                     True  \n",
       "2                  False             False                     True  \n",
       "3                  False             False                     True  \n",
       "4                  False             False                     True  \n",
       "...                  ...               ...                      ...  \n",
       "178930              True             False                    False  \n",
       "178931             False             False                     True  \n",
       "178932              True             False                    False  \n",
       "178933             False             False                     True  \n",
       "178934              True             False                    False  \n",
       "\n",
       "[178935 rows x 19 columns]"
      ]
     },
     "execution_count": 38,
     "metadata": {},
     "output_type": "execute_result"
    }
   ],
   "source": [
    "data"
   ]
  },
  {
   "cell_type": "code",
   "execution_count": 39,
   "metadata": {},
   "outputs": [],
   "source": [
    "respuestas = 0\n",
    "indexes_templates = np.where(data.content.str.contains(\"Template\"))[0]\n",
    "for index in range(len(indexes_templates) - 1):\n",
    "    if (indexes_templates[index + 1] - indexes_templates[index]) > 2:\n",
    "        respuestas += 1"
   ]
  },
  {
   "cell_type": "code",
   "execution_count": 40,
   "metadata": {},
   "outputs": [
    {
     "data": {
      "text/plain": [
       "3625"
      ]
     },
     "execution_count": 40,
     "metadata": {},
     "output_type": "execute_result"
    }
   ],
   "source": [
    "respuestas"
   ]
  },
  {
   "cell_type": "code",
   "execution_count": 41,
   "metadata": {},
   "outputs": [
    {
     "data": {
      "text/plain": [
       "sent_status_sent\n",
       "False    166647\n",
       "True      12288\n",
       "Name: count, dtype: int64"
      ]
     },
     "execution_count": 41,
     "metadata": {},
     "output_type": "execute_result"
    }
   ],
   "source": [
    "# cuenta la cantidad de trues y false en la columna sent_status_sent\n",
    "\n",
    "data['sent_status_sent'].value_counts()"
   ]
  },
  {
   "cell_type": "markdown",
   "metadata": {},
   "source": [
    "<font size = 8 color ='27A3D7'>Insights</font>\n",
    "\n",
    "---"
   ]
  },
  {
   "cell_type": "markdown",
   "metadata": {},
   "source": [
    "## 1. Envíos Totales\n",
    "\n"
   ]
  },
  {
   "cell_type": "code",
   "execution_count": 42,
   "metadata": {},
   "outputs": [],
   "source": [
    "# conversations.role.value_counts()"
   ]
  },
  {
   "cell_type": "code",
   "execution_count": 43,
   "metadata": {},
   "outputs": [
    {
     "data": {
      "text/plain": [
       "role\n",
       "assistant    76770\n",
       "Name: count, dtype: int64"
      ]
     },
     "execution_count": 43,
     "metadata": {},
     "output_type": "execute_result"
    }
   ],
   "source": [
    "data.query(\"content.str.contains('Template')\").role.value_counts()"
   ]
  },
  {
   "cell_type": "markdown",
   "metadata": {},
   "source": [
    "## 2. Porcentaje de Respuestas\n",
    "\n"
   ]
  },
  {
   "cell_type": "code",
   "execution_count": 44,
   "metadata": {},
   "outputs": [
    {
     "data": {
      "text/plain": [
       "(76770, 10664)"
      ]
     },
     "execution_count": 44,
     "metadata": {},
     "output_type": "execute_result"
    }
   ],
   "source": [
    "total_envios = data.query(\"content.str.contains('Template')\").shape[0]\n",
    "total_respuestas = data.query(\"direction == 'incoming'\").shape[0]\n",
    "\n",
    "total_envios, total_respuestas"
   ]
  },
  {
   "cell_type": "code",
   "execution_count": 45,
   "metadata": {},
   "outputs": [
    {
     "name": "stdout",
     "output_type": "stream",
     "text": [
      "Porcentaje de respuestas recibidas: 13.89%\n"
     ]
    }
   ],
   "source": [
    "if total_envios > 0: \n",
    "    porcentaje_respuestas = (total_respuestas / total_envios) * 100\n",
    "else:\n",
    "    porcentaje_respuestas = 0\n",
    "\n",
    "print(f\"Porcentaje de respuestas recibidas: {porcentaje_respuestas:.2f}%\")"
   ]
  },
  {
   "cell_type": "markdown",
   "metadata": {},
   "source": [
    "## 3. Gastos en Meta"
   ]
  },
  {
   "cell_type": "markdown",
   "metadata": {},
   "source": [
    "Mexico\t$US\t0.0436\t0.01\t0.0239\tn/a\t0.0105"
   ]
  },
  {
   "cell_type": "markdown",
   "metadata": {},
   "source": [
    "https://developers.facebook.com/docs/whatsapp/pricing?locale=es_LA"
   ]
  },
  {
   "cell_type": "code",
   "execution_count": 46,
   "metadata": {},
   "outputs": [],
   "source": [
    "import requests\n",
    "\n",
    "def obtener_tipo_cambio():\n",
    "    try:\n",
    "        response = requests.get(\"https://api.exchangerate-api.com/v4/latest/USD\")\n",
    "        data = response.json()\n",
    "        tipo_cambio_usd_mxn = data[\"rates\"][\"MXN\"]\n",
    "        return tipo_cambio_usd_mxn\n",
    "    except Exception as e:\n",
    "        print(f\"Error al obtener el tipo de cambio: {e}\")\n",
    "        return 19.33  # Valor por defecto en caso de error\n",
    "\n",
    "def calcular_costo_por_mes(data, mes, año):\n",
    "    data['createdAt'] = pd.to_datetime(data['createdAt'])\n",
    "    \n",
    "    mensajes_template = data[data['content'].str.contains('Template', na = False) & (data['sent_status_failed'] != True)]\n",
    "\n",
    "    mensajes_template_mes = mensajes_template[(mensajes_template['createdAt'].dt.month == mes) &\n",
    "                                              (mensajes_template['createdAt'].dt.year == año)]\n",
    "\n",
    "    total_envios = mensajes_template_mes.shape[0]\n",
    "    tipo_cambio_usd_mxn = obtener_tipo_cambio()\n",
    "    costo_usd_por_mensaje = 0.0436\n",
    "    costo_mxn_por_mensaje = costo_usd_por_mensaje * tipo_cambio_usd_mxn\n",
    "    total_a_pagar_mxn = total_envios * costo_mxn_por_mensaje\n",
    "\n",
    "    print(f\"Tipo de cambio USD a MXN: {tipo_cambio_usd_mxn:.2f}\")\n",
    "    print(f\"Costo por mensaje en MXN: ${costo_mxn_por_mensaje:.4f}\")\n",
    "    print(f\"Mes/Año: {mes}/{año}\")\n",
    "    print(f\"Total de envíos realizados por el chatbot (sin fallos): {total_envios}\")\n",
    "    print(f\"Total a pagar por los mensajes enviados: ${total_a_pagar_mxn:.2f} MXN\")\n"
   ]
  },
  {
   "cell_type": "code",
   "execution_count": 47,
   "metadata": {},
   "outputs": [
    {
     "name": "stdout",
     "output_type": "stream",
     "text": [
      "Tipo de cambio USD a MXN: 19.26\n",
      "Costo por mensaje en MXN: $0.8397\n",
      "Mes/Año: 8/2024\n",
      "Total de envíos realizados por el chatbot (sin fallos): 37987\n",
      "Total a pagar por los mensajes enviados: $31899.05 MXN\n"
     ]
    }
   ],
   "source": [
    "calcular_costo_por_mes(data, 8, 2024)"
   ]
  },
  {
   "cell_type": "code",
   "execution_count": 48,
   "metadata": {},
   "outputs": [
    {
     "name": "stdout",
     "output_type": "stream",
     "text": [
      "Tipo de cambio USD a MXN: 19.26\n",
      "Costo por mensaje en MXN: $0.8397\n",
      "Total de envíos realizados por el chatbot (sin fallos): 53071\n",
      "Total a pagar por los mensajes enviados: $44565.63 MXN\n"
     ]
    }
   ],
   "source": [
    "total_envios = data.query(\"content.str.contains('Template') and sent_status_failed == False\").shape[0]\n",
    "\n",
    "tipo_cambio_usd_mxn = obtener_tipo_cambio()\n",
    "costo_usd_por_mensaje = 0.0436\n",
    "costo_mxn_por_mensaje = costo_usd_por_mensaje * tipo_cambio_usd_mxn\n",
    "total_a_pagar_mxn = total_envios * costo_mxn_por_mensaje\n",
    "\n",
    "print(f\"Tipo de cambio USD a MXN: {tipo_cambio_usd_mxn:.2f}\")\n",
    "print(f\"Costo por mensaje en MXN: ${costo_mxn_por_mensaje:.4f}\")\n",
    "print(f\"Total de envíos realizados por el chatbot (sin fallos): {total_envios}\")\n",
    "print(f\"Total a pagar por los mensajes enviados: ${total_a_pagar_mxn:.2f} MXN\")"
   ]
  },
  {
   "cell_type": "markdown",
   "metadata": {},
   "source": [
    "<font size = 7 color ='27A3D7'>Dictaminaciones General</font>\n",
    "\n",
    "---"
   ]
  },
  {
   "cell_type": "markdown",
   "metadata": {},
   "source": [
    "de las respuestas: extraigo el tag y saco el el count, lo grafico\n",
    "\n",
    "pie chart o donut?"
   ]
  },
  {
   "cell_type": "code",
   "execution_count": 49,
   "metadata": {},
   "outputs": [
    {
     "data": {
      "application/vnd.plotly.v1+json": {
       "config": {
        "plotlyServerURL": "https://plot.ly"
       },
       "data": [
        {
         "domain": {
          "x": [
           0,
           1
          ],
          "y": [
           0,
           1
          ]
         },
         "hole": 0.4,
         "hovertemplate": "label=%{label}<br>value=%{value}<extra></extra>",
         "labels": [
          "carta convenio",
          "detener promociones",
          "no define",
          "contacto humano",
          "próximo pago",
          "no reconoce",
          "intención de pago",
          "negativa de pago"
         ],
         "legendgroup": "",
         "name": "",
         "showlegend": true,
         "type": "pie",
         "values": [
          1095,
          1091,
          835,
          635,
          261,
          168,
          115,
          35
         ]
        }
       ],
       "layout": {
        "height": 400,
        "legend": {
         "tracegroupgap": 0
        },
        "template": {
         "data": {
          "bar": [
           {
            "error_x": {
             "color": "#2a3f5f"
            },
            "error_y": {
             "color": "#2a3f5f"
            },
            "marker": {
             "line": {
              "color": "#E5ECF6",
              "width": 0.5
             },
             "pattern": {
              "fillmode": "overlay",
              "size": 10,
              "solidity": 0.2
             }
            },
            "type": "bar"
           }
          ],
          "barpolar": [
           {
            "marker": {
             "line": {
              "color": "#E5ECF6",
              "width": 0.5
             },
             "pattern": {
              "fillmode": "overlay",
              "size": 10,
              "solidity": 0.2
             }
            },
            "type": "barpolar"
           }
          ],
          "carpet": [
           {
            "aaxis": {
             "endlinecolor": "#2a3f5f",
             "gridcolor": "white",
             "linecolor": "white",
             "minorgridcolor": "white",
             "startlinecolor": "#2a3f5f"
            },
            "baxis": {
             "endlinecolor": "#2a3f5f",
             "gridcolor": "white",
             "linecolor": "white",
             "minorgridcolor": "white",
             "startlinecolor": "#2a3f5f"
            },
            "type": "carpet"
           }
          ],
          "choropleth": [
           {
            "colorbar": {
             "outlinewidth": 0,
             "ticks": ""
            },
            "type": "choropleth"
           }
          ],
          "contour": [
           {
            "colorbar": {
             "outlinewidth": 0,
             "ticks": ""
            },
            "colorscale": [
             [
              0,
              "#0d0887"
             ],
             [
              0.1111111111111111,
              "#46039f"
             ],
             [
              0.2222222222222222,
              "#7201a8"
             ],
             [
              0.3333333333333333,
              "#9c179e"
             ],
             [
              0.4444444444444444,
              "#bd3786"
             ],
             [
              0.5555555555555556,
              "#d8576b"
             ],
             [
              0.6666666666666666,
              "#ed7953"
             ],
             [
              0.7777777777777778,
              "#fb9f3a"
             ],
             [
              0.8888888888888888,
              "#fdca26"
             ],
             [
              1,
              "#f0f921"
             ]
            ],
            "type": "contour"
           }
          ],
          "contourcarpet": [
           {
            "colorbar": {
             "outlinewidth": 0,
             "ticks": ""
            },
            "type": "contourcarpet"
           }
          ],
          "heatmap": [
           {
            "colorbar": {
             "outlinewidth": 0,
             "ticks": ""
            },
            "colorscale": [
             [
              0,
              "#0d0887"
             ],
             [
              0.1111111111111111,
              "#46039f"
             ],
             [
              0.2222222222222222,
              "#7201a8"
             ],
             [
              0.3333333333333333,
              "#9c179e"
             ],
             [
              0.4444444444444444,
              "#bd3786"
             ],
             [
              0.5555555555555556,
              "#d8576b"
             ],
             [
              0.6666666666666666,
              "#ed7953"
             ],
             [
              0.7777777777777778,
              "#fb9f3a"
             ],
             [
              0.8888888888888888,
              "#fdca26"
             ],
             [
              1,
              "#f0f921"
             ]
            ],
            "type": "heatmap"
           }
          ],
          "heatmapgl": [
           {
            "colorbar": {
             "outlinewidth": 0,
             "ticks": ""
            },
            "colorscale": [
             [
              0,
              "#0d0887"
             ],
             [
              0.1111111111111111,
              "#46039f"
             ],
             [
              0.2222222222222222,
              "#7201a8"
             ],
             [
              0.3333333333333333,
              "#9c179e"
             ],
             [
              0.4444444444444444,
              "#bd3786"
             ],
             [
              0.5555555555555556,
              "#d8576b"
             ],
             [
              0.6666666666666666,
              "#ed7953"
             ],
             [
              0.7777777777777778,
              "#fb9f3a"
             ],
             [
              0.8888888888888888,
              "#fdca26"
             ],
             [
              1,
              "#f0f921"
             ]
            ],
            "type": "heatmapgl"
           }
          ],
          "histogram": [
           {
            "marker": {
             "pattern": {
              "fillmode": "overlay",
              "size": 10,
              "solidity": 0.2
             }
            },
            "type": "histogram"
           }
          ],
          "histogram2d": [
           {
            "colorbar": {
             "outlinewidth": 0,
             "ticks": ""
            },
            "colorscale": [
             [
              0,
              "#0d0887"
             ],
             [
              0.1111111111111111,
              "#46039f"
             ],
             [
              0.2222222222222222,
              "#7201a8"
             ],
             [
              0.3333333333333333,
              "#9c179e"
             ],
             [
              0.4444444444444444,
              "#bd3786"
             ],
             [
              0.5555555555555556,
              "#d8576b"
             ],
             [
              0.6666666666666666,
              "#ed7953"
             ],
             [
              0.7777777777777778,
              "#fb9f3a"
             ],
             [
              0.8888888888888888,
              "#fdca26"
             ],
             [
              1,
              "#f0f921"
             ]
            ],
            "type": "histogram2d"
           }
          ],
          "histogram2dcontour": [
           {
            "colorbar": {
             "outlinewidth": 0,
             "ticks": ""
            },
            "colorscale": [
             [
              0,
              "#0d0887"
             ],
             [
              0.1111111111111111,
              "#46039f"
             ],
             [
              0.2222222222222222,
              "#7201a8"
             ],
             [
              0.3333333333333333,
              "#9c179e"
             ],
             [
              0.4444444444444444,
              "#bd3786"
             ],
             [
              0.5555555555555556,
              "#d8576b"
             ],
             [
              0.6666666666666666,
              "#ed7953"
             ],
             [
              0.7777777777777778,
              "#fb9f3a"
             ],
             [
              0.8888888888888888,
              "#fdca26"
             ],
             [
              1,
              "#f0f921"
             ]
            ],
            "type": "histogram2dcontour"
           }
          ],
          "mesh3d": [
           {
            "colorbar": {
             "outlinewidth": 0,
             "ticks": ""
            },
            "type": "mesh3d"
           }
          ],
          "parcoords": [
           {
            "line": {
             "colorbar": {
              "outlinewidth": 0,
              "ticks": ""
             }
            },
            "type": "parcoords"
           }
          ],
          "pie": [
           {
            "automargin": true,
            "type": "pie"
           }
          ],
          "scatter": [
           {
            "fillpattern": {
             "fillmode": "overlay",
             "size": 10,
             "solidity": 0.2
            },
            "type": "scatter"
           }
          ],
          "scatter3d": [
           {
            "line": {
             "colorbar": {
              "outlinewidth": 0,
              "ticks": ""
             }
            },
            "marker": {
             "colorbar": {
              "outlinewidth": 0,
              "ticks": ""
             }
            },
            "type": "scatter3d"
           }
          ],
          "scattercarpet": [
           {
            "marker": {
             "colorbar": {
              "outlinewidth": 0,
              "ticks": ""
             }
            },
            "type": "scattercarpet"
           }
          ],
          "scattergeo": [
           {
            "marker": {
             "colorbar": {
              "outlinewidth": 0,
              "ticks": ""
             }
            },
            "type": "scattergeo"
           }
          ],
          "scattergl": [
           {
            "marker": {
             "colorbar": {
              "outlinewidth": 0,
              "ticks": ""
             }
            },
            "type": "scattergl"
           }
          ],
          "scattermapbox": [
           {
            "marker": {
             "colorbar": {
              "outlinewidth": 0,
              "ticks": ""
             }
            },
            "type": "scattermapbox"
           }
          ],
          "scatterpolar": [
           {
            "marker": {
             "colorbar": {
              "outlinewidth": 0,
              "ticks": ""
             }
            },
            "type": "scatterpolar"
           }
          ],
          "scatterpolargl": [
           {
            "marker": {
             "colorbar": {
              "outlinewidth": 0,
              "ticks": ""
             }
            },
            "type": "scatterpolargl"
           }
          ],
          "scatterternary": [
           {
            "marker": {
             "colorbar": {
              "outlinewidth": 0,
              "ticks": ""
             }
            },
            "type": "scatterternary"
           }
          ],
          "surface": [
           {
            "colorbar": {
             "outlinewidth": 0,
             "ticks": ""
            },
            "colorscale": [
             [
              0,
              "#0d0887"
             ],
             [
              0.1111111111111111,
              "#46039f"
             ],
             [
              0.2222222222222222,
              "#7201a8"
             ],
             [
              0.3333333333333333,
              "#9c179e"
             ],
             [
              0.4444444444444444,
              "#bd3786"
             ],
             [
              0.5555555555555556,
              "#d8576b"
             ],
             [
              0.6666666666666666,
              "#ed7953"
             ],
             [
              0.7777777777777778,
              "#fb9f3a"
             ],
             [
              0.8888888888888888,
              "#fdca26"
             ],
             [
              1,
              "#f0f921"
             ]
            ],
            "type": "surface"
           }
          ],
          "table": [
           {
            "cells": {
             "fill": {
              "color": "#EBF0F8"
             },
             "line": {
              "color": "white"
             }
            },
            "header": {
             "fill": {
              "color": "#C8D4E3"
             },
             "line": {
              "color": "white"
             }
            },
            "type": "table"
           }
          ]
         },
         "layout": {
          "annotationdefaults": {
           "arrowcolor": "#2a3f5f",
           "arrowhead": 0,
           "arrowwidth": 1
          },
          "autotypenumbers": "strict",
          "coloraxis": {
           "colorbar": {
            "outlinewidth": 0,
            "ticks": ""
           }
          },
          "colorscale": {
           "diverging": [
            [
             0,
             "#8e0152"
            ],
            [
             0.1,
             "#c51b7d"
            ],
            [
             0.2,
             "#de77ae"
            ],
            [
             0.3,
             "#f1b6da"
            ],
            [
             0.4,
             "#fde0ef"
            ],
            [
             0.5,
             "#f7f7f7"
            ],
            [
             0.6,
             "#e6f5d0"
            ],
            [
             0.7,
             "#b8e186"
            ],
            [
             0.8,
             "#7fbc41"
            ],
            [
             0.9,
             "#4d9221"
            ],
            [
             1,
             "#276419"
            ]
           ],
           "sequential": [
            [
             0,
             "#0d0887"
            ],
            [
             0.1111111111111111,
             "#46039f"
            ],
            [
             0.2222222222222222,
             "#7201a8"
            ],
            [
             0.3333333333333333,
             "#9c179e"
            ],
            [
             0.4444444444444444,
             "#bd3786"
            ],
            [
             0.5555555555555556,
             "#d8576b"
            ],
            [
             0.6666666666666666,
             "#ed7953"
            ],
            [
             0.7777777777777778,
             "#fb9f3a"
            ],
            [
             0.8888888888888888,
             "#fdca26"
            ],
            [
             1,
             "#f0f921"
            ]
           ],
           "sequentialminus": [
            [
             0,
             "#0d0887"
            ],
            [
             0.1111111111111111,
             "#46039f"
            ],
            [
             0.2222222222222222,
             "#7201a8"
            ],
            [
             0.3333333333333333,
             "#9c179e"
            ],
            [
             0.4444444444444444,
             "#bd3786"
            ],
            [
             0.5555555555555556,
             "#d8576b"
            ],
            [
             0.6666666666666666,
             "#ed7953"
            ],
            [
             0.7777777777777778,
             "#fb9f3a"
            ],
            [
             0.8888888888888888,
             "#fdca26"
            ],
            [
             1,
             "#f0f921"
            ]
           ]
          },
          "colorway": [
           "#636efa",
           "#EF553B",
           "#00cc96",
           "#ab63fa",
           "#FFA15A",
           "#19d3f3",
           "#FF6692",
           "#B6E880",
           "#FF97FF",
           "#FECB52"
          ],
          "font": {
           "color": "#2a3f5f"
          },
          "geo": {
           "bgcolor": "white",
           "lakecolor": "white",
           "landcolor": "#E5ECF6",
           "showlakes": true,
           "showland": true,
           "subunitcolor": "white"
          },
          "hoverlabel": {
           "align": "left"
          },
          "hovermode": "closest",
          "mapbox": {
           "style": "light"
          },
          "paper_bgcolor": "white",
          "plot_bgcolor": "#E5ECF6",
          "polar": {
           "angularaxis": {
            "gridcolor": "white",
            "linecolor": "white",
            "ticks": ""
           },
           "bgcolor": "#E5ECF6",
           "radialaxis": {
            "gridcolor": "white",
            "linecolor": "white",
            "ticks": ""
           }
          },
          "scene": {
           "xaxis": {
            "backgroundcolor": "#E5ECF6",
            "gridcolor": "white",
            "gridwidth": 2,
            "linecolor": "white",
            "showbackground": true,
            "ticks": "",
            "zerolinecolor": "white"
           },
           "yaxis": {
            "backgroundcolor": "#E5ECF6",
            "gridcolor": "white",
            "gridwidth": 2,
            "linecolor": "white",
            "showbackground": true,
            "ticks": "",
            "zerolinecolor": "white"
           },
           "zaxis": {
            "backgroundcolor": "#E5ECF6",
            "gridcolor": "white",
            "gridwidth": 2,
            "linecolor": "white",
            "showbackground": true,
            "ticks": "",
            "zerolinecolor": "white"
           }
          },
          "shapedefaults": {
           "line": {
            "color": "#2a3f5f"
           }
          },
          "ternary": {
           "aaxis": {
            "gridcolor": "white",
            "linecolor": "white",
            "ticks": ""
           },
           "baxis": {
            "gridcolor": "white",
            "linecolor": "white",
            "ticks": ""
           },
           "bgcolor": "#E5ECF6",
           "caxis": {
            "gridcolor": "white",
            "linecolor": "white",
            "ticks": ""
           }
          },
          "title": {
           "x": 0.05
          },
          "xaxis": {
           "automargin": true,
           "gridcolor": "white",
           "linecolor": "white",
           "ticks": "",
           "title": {
            "standoff": 15
           },
           "zerolinecolor": "white",
           "zerolinewidth": 2
          },
          "yaxis": {
           "automargin": true,
           "gridcolor": "white",
           "linecolor": "white",
           "ticks": "",
           "title": {
            "standoff": 15
           },
           "zerolinecolor": "white",
           "zerolinewidth": 2
          }
         }
        },
        "title": {
         "text": "Distribución de Tags"
        },
        "width": 600
       }
      }
     },
     "metadata": {},
     "output_type": "display_data"
    }
   ],
   "source": [
    "tag_counts = data.query(\"content.str.contains('Template')\").tag.value_counts()\n",
    "\n",
    "fig = px.pie(\n",
    "    values=tag_counts.values,\n",
    "    names=tag_counts.index,\n",
    "    title='Distribución de Tags',\n",
    "    width=600,\n",
    "    height=400,\n",
    "    hole=0.4  \n",
    ")\n",
    "\n",
    "fig.show()"
   ]
  },
  {
   "cell_type": "code",
   "execution_count": 50,
   "metadata": {},
   "outputs": [
    {
     "data": {
      "application/vnd.plotly.v1+json": {
       "config": {
        "plotlyServerURL": "https://plot.ly"
       },
       "data": [
        {
         "domain": {
          "x": [
           0,
           1
          ],
          "y": [
           0,
           1
          ]
         },
         "hovertemplate": "label=%{label}<br>value=%{value}<extra></extra>",
         "labels": [
          "carta convenio",
          "detener promociones",
          "no define",
          "contacto humano",
          "próximo pago",
          "no reconoce",
          "intención de pago",
          "negativa de pago"
         ],
         "legendgroup": "",
         "name": "",
         "showlegend": true,
         "type": "pie",
         "values": [
          1095,
          1091,
          835,
          635,
          261,
          168,
          115,
          35
         ]
        }
       ],
       "layout": {
        "height": 400,
        "legend": {
         "tracegroupgap": 0
        },
        "template": {
         "data": {
          "bar": [
           {
            "error_x": {
             "color": "#2a3f5f"
            },
            "error_y": {
             "color": "#2a3f5f"
            },
            "marker": {
             "line": {
              "color": "#E5ECF6",
              "width": 0.5
             },
             "pattern": {
              "fillmode": "overlay",
              "size": 10,
              "solidity": 0.2
             }
            },
            "type": "bar"
           }
          ],
          "barpolar": [
           {
            "marker": {
             "line": {
              "color": "#E5ECF6",
              "width": 0.5
             },
             "pattern": {
              "fillmode": "overlay",
              "size": 10,
              "solidity": 0.2
             }
            },
            "type": "barpolar"
           }
          ],
          "carpet": [
           {
            "aaxis": {
             "endlinecolor": "#2a3f5f",
             "gridcolor": "white",
             "linecolor": "white",
             "minorgridcolor": "white",
             "startlinecolor": "#2a3f5f"
            },
            "baxis": {
             "endlinecolor": "#2a3f5f",
             "gridcolor": "white",
             "linecolor": "white",
             "minorgridcolor": "white",
             "startlinecolor": "#2a3f5f"
            },
            "type": "carpet"
           }
          ],
          "choropleth": [
           {
            "colorbar": {
             "outlinewidth": 0,
             "ticks": ""
            },
            "type": "choropleth"
           }
          ],
          "contour": [
           {
            "colorbar": {
             "outlinewidth": 0,
             "ticks": ""
            },
            "colorscale": [
             [
              0,
              "#0d0887"
             ],
             [
              0.1111111111111111,
              "#46039f"
             ],
             [
              0.2222222222222222,
              "#7201a8"
             ],
             [
              0.3333333333333333,
              "#9c179e"
             ],
             [
              0.4444444444444444,
              "#bd3786"
             ],
             [
              0.5555555555555556,
              "#d8576b"
             ],
             [
              0.6666666666666666,
              "#ed7953"
             ],
             [
              0.7777777777777778,
              "#fb9f3a"
             ],
             [
              0.8888888888888888,
              "#fdca26"
             ],
             [
              1,
              "#f0f921"
             ]
            ],
            "type": "contour"
           }
          ],
          "contourcarpet": [
           {
            "colorbar": {
             "outlinewidth": 0,
             "ticks": ""
            },
            "type": "contourcarpet"
           }
          ],
          "heatmap": [
           {
            "colorbar": {
             "outlinewidth": 0,
             "ticks": ""
            },
            "colorscale": [
             [
              0,
              "#0d0887"
             ],
             [
              0.1111111111111111,
              "#46039f"
             ],
             [
              0.2222222222222222,
              "#7201a8"
             ],
             [
              0.3333333333333333,
              "#9c179e"
             ],
             [
              0.4444444444444444,
              "#bd3786"
             ],
             [
              0.5555555555555556,
              "#d8576b"
             ],
             [
              0.6666666666666666,
              "#ed7953"
             ],
             [
              0.7777777777777778,
              "#fb9f3a"
             ],
             [
              0.8888888888888888,
              "#fdca26"
             ],
             [
              1,
              "#f0f921"
             ]
            ],
            "type": "heatmap"
           }
          ],
          "heatmapgl": [
           {
            "colorbar": {
             "outlinewidth": 0,
             "ticks": ""
            },
            "colorscale": [
             [
              0,
              "#0d0887"
             ],
             [
              0.1111111111111111,
              "#46039f"
             ],
             [
              0.2222222222222222,
              "#7201a8"
             ],
             [
              0.3333333333333333,
              "#9c179e"
             ],
             [
              0.4444444444444444,
              "#bd3786"
             ],
             [
              0.5555555555555556,
              "#d8576b"
             ],
             [
              0.6666666666666666,
              "#ed7953"
             ],
             [
              0.7777777777777778,
              "#fb9f3a"
             ],
             [
              0.8888888888888888,
              "#fdca26"
             ],
             [
              1,
              "#f0f921"
             ]
            ],
            "type": "heatmapgl"
           }
          ],
          "histogram": [
           {
            "marker": {
             "pattern": {
              "fillmode": "overlay",
              "size": 10,
              "solidity": 0.2
             }
            },
            "type": "histogram"
           }
          ],
          "histogram2d": [
           {
            "colorbar": {
             "outlinewidth": 0,
             "ticks": ""
            },
            "colorscale": [
             [
              0,
              "#0d0887"
             ],
             [
              0.1111111111111111,
              "#46039f"
             ],
             [
              0.2222222222222222,
              "#7201a8"
             ],
             [
              0.3333333333333333,
              "#9c179e"
             ],
             [
              0.4444444444444444,
              "#bd3786"
             ],
             [
              0.5555555555555556,
              "#d8576b"
             ],
             [
              0.6666666666666666,
              "#ed7953"
             ],
             [
              0.7777777777777778,
              "#fb9f3a"
             ],
             [
              0.8888888888888888,
              "#fdca26"
             ],
             [
              1,
              "#f0f921"
             ]
            ],
            "type": "histogram2d"
           }
          ],
          "histogram2dcontour": [
           {
            "colorbar": {
             "outlinewidth": 0,
             "ticks": ""
            },
            "colorscale": [
             [
              0,
              "#0d0887"
             ],
             [
              0.1111111111111111,
              "#46039f"
             ],
             [
              0.2222222222222222,
              "#7201a8"
             ],
             [
              0.3333333333333333,
              "#9c179e"
             ],
             [
              0.4444444444444444,
              "#bd3786"
             ],
             [
              0.5555555555555556,
              "#d8576b"
             ],
             [
              0.6666666666666666,
              "#ed7953"
             ],
             [
              0.7777777777777778,
              "#fb9f3a"
             ],
             [
              0.8888888888888888,
              "#fdca26"
             ],
             [
              1,
              "#f0f921"
             ]
            ],
            "type": "histogram2dcontour"
           }
          ],
          "mesh3d": [
           {
            "colorbar": {
             "outlinewidth": 0,
             "ticks": ""
            },
            "type": "mesh3d"
           }
          ],
          "parcoords": [
           {
            "line": {
             "colorbar": {
              "outlinewidth": 0,
              "ticks": ""
             }
            },
            "type": "parcoords"
           }
          ],
          "pie": [
           {
            "automargin": true,
            "type": "pie"
           }
          ],
          "scatter": [
           {
            "fillpattern": {
             "fillmode": "overlay",
             "size": 10,
             "solidity": 0.2
            },
            "type": "scatter"
           }
          ],
          "scatter3d": [
           {
            "line": {
             "colorbar": {
              "outlinewidth": 0,
              "ticks": ""
             }
            },
            "marker": {
             "colorbar": {
              "outlinewidth": 0,
              "ticks": ""
             }
            },
            "type": "scatter3d"
           }
          ],
          "scattercarpet": [
           {
            "marker": {
             "colorbar": {
              "outlinewidth": 0,
              "ticks": ""
             }
            },
            "type": "scattercarpet"
           }
          ],
          "scattergeo": [
           {
            "marker": {
             "colorbar": {
              "outlinewidth": 0,
              "ticks": ""
             }
            },
            "type": "scattergeo"
           }
          ],
          "scattergl": [
           {
            "marker": {
             "colorbar": {
              "outlinewidth": 0,
              "ticks": ""
             }
            },
            "type": "scattergl"
           }
          ],
          "scattermapbox": [
           {
            "marker": {
             "colorbar": {
              "outlinewidth": 0,
              "ticks": ""
             }
            },
            "type": "scattermapbox"
           }
          ],
          "scatterpolar": [
           {
            "marker": {
             "colorbar": {
              "outlinewidth": 0,
              "ticks": ""
             }
            },
            "type": "scatterpolar"
           }
          ],
          "scatterpolargl": [
           {
            "marker": {
             "colorbar": {
              "outlinewidth": 0,
              "ticks": ""
             }
            },
            "type": "scatterpolargl"
           }
          ],
          "scatterternary": [
           {
            "marker": {
             "colorbar": {
              "outlinewidth": 0,
              "ticks": ""
             }
            },
            "type": "scatterternary"
           }
          ],
          "surface": [
           {
            "colorbar": {
             "outlinewidth": 0,
             "ticks": ""
            },
            "colorscale": [
             [
              0,
              "#0d0887"
             ],
             [
              0.1111111111111111,
              "#46039f"
             ],
             [
              0.2222222222222222,
              "#7201a8"
             ],
             [
              0.3333333333333333,
              "#9c179e"
             ],
             [
              0.4444444444444444,
              "#bd3786"
             ],
             [
              0.5555555555555556,
              "#d8576b"
             ],
             [
              0.6666666666666666,
              "#ed7953"
             ],
             [
              0.7777777777777778,
              "#fb9f3a"
             ],
             [
              0.8888888888888888,
              "#fdca26"
             ],
             [
              1,
              "#f0f921"
             ]
            ],
            "type": "surface"
           }
          ],
          "table": [
           {
            "cells": {
             "fill": {
              "color": "#EBF0F8"
             },
             "line": {
              "color": "white"
             }
            },
            "header": {
             "fill": {
              "color": "#C8D4E3"
             },
             "line": {
              "color": "white"
             }
            },
            "type": "table"
           }
          ]
         },
         "layout": {
          "annotationdefaults": {
           "arrowcolor": "#2a3f5f",
           "arrowhead": 0,
           "arrowwidth": 1
          },
          "autotypenumbers": "strict",
          "coloraxis": {
           "colorbar": {
            "outlinewidth": 0,
            "ticks": ""
           }
          },
          "colorscale": {
           "diverging": [
            [
             0,
             "#8e0152"
            ],
            [
             0.1,
             "#c51b7d"
            ],
            [
             0.2,
             "#de77ae"
            ],
            [
             0.3,
             "#f1b6da"
            ],
            [
             0.4,
             "#fde0ef"
            ],
            [
             0.5,
             "#f7f7f7"
            ],
            [
             0.6,
             "#e6f5d0"
            ],
            [
             0.7,
             "#b8e186"
            ],
            [
             0.8,
             "#7fbc41"
            ],
            [
             0.9,
             "#4d9221"
            ],
            [
             1,
             "#276419"
            ]
           ],
           "sequential": [
            [
             0,
             "#0d0887"
            ],
            [
             0.1111111111111111,
             "#46039f"
            ],
            [
             0.2222222222222222,
             "#7201a8"
            ],
            [
             0.3333333333333333,
             "#9c179e"
            ],
            [
             0.4444444444444444,
             "#bd3786"
            ],
            [
             0.5555555555555556,
             "#d8576b"
            ],
            [
             0.6666666666666666,
             "#ed7953"
            ],
            [
             0.7777777777777778,
             "#fb9f3a"
            ],
            [
             0.8888888888888888,
             "#fdca26"
            ],
            [
             1,
             "#f0f921"
            ]
           ],
           "sequentialminus": [
            [
             0,
             "#0d0887"
            ],
            [
             0.1111111111111111,
             "#46039f"
            ],
            [
             0.2222222222222222,
             "#7201a8"
            ],
            [
             0.3333333333333333,
             "#9c179e"
            ],
            [
             0.4444444444444444,
             "#bd3786"
            ],
            [
             0.5555555555555556,
             "#d8576b"
            ],
            [
             0.6666666666666666,
             "#ed7953"
            ],
            [
             0.7777777777777778,
             "#fb9f3a"
            ],
            [
             0.8888888888888888,
             "#fdca26"
            ],
            [
             1,
             "#f0f921"
            ]
           ]
          },
          "colorway": [
           "#636efa",
           "#EF553B",
           "#00cc96",
           "#ab63fa",
           "#FFA15A",
           "#19d3f3",
           "#FF6692",
           "#B6E880",
           "#FF97FF",
           "#FECB52"
          ],
          "font": {
           "color": "#2a3f5f"
          },
          "geo": {
           "bgcolor": "white",
           "lakecolor": "white",
           "landcolor": "#E5ECF6",
           "showlakes": true,
           "showland": true,
           "subunitcolor": "white"
          },
          "hoverlabel": {
           "align": "left"
          },
          "hovermode": "closest",
          "mapbox": {
           "style": "light"
          },
          "paper_bgcolor": "white",
          "plot_bgcolor": "#E5ECF6",
          "polar": {
           "angularaxis": {
            "gridcolor": "white",
            "linecolor": "white",
            "ticks": ""
           },
           "bgcolor": "#E5ECF6",
           "radialaxis": {
            "gridcolor": "white",
            "linecolor": "white",
            "ticks": ""
           }
          },
          "scene": {
           "xaxis": {
            "backgroundcolor": "#E5ECF6",
            "gridcolor": "white",
            "gridwidth": 2,
            "linecolor": "white",
            "showbackground": true,
            "ticks": "",
            "zerolinecolor": "white"
           },
           "yaxis": {
            "backgroundcolor": "#E5ECF6",
            "gridcolor": "white",
            "gridwidth": 2,
            "linecolor": "white",
            "showbackground": true,
            "ticks": "",
            "zerolinecolor": "white"
           },
           "zaxis": {
            "backgroundcolor": "#E5ECF6",
            "gridcolor": "white",
            "gridwidth": 2,
            "linecolor": "white",
            "showbackground": true,
            "ticks": "",
            "zerolinecolor": "white"
           }
          },
          "shapedefaults": {
           "line": {
            "color": "#2a3f5f"
           }
          },
          "ternary": {
           "aaxis": {
            "gridcolor": "white",
            "linecolor": "white",
            "ticks": ""
           },
           "baxis": {
            "gridcolor": "white",
            "linecolor": "white",
            "ticks": ""
           },
           "bgcolor": "#E5ECF6",
           "caxis": {
            "gridcolor": "white",
            "linecolor": "white",
            "ticks": ""
           }
          },
          "title": {
           "x": 0.05
          },
          "xaxis": {
           "automargin": true,
           "gridcolor": "white",
           "linecolor": "white",
           "ticks": "",
           "title": {
            "standoff": 15
           },
           "zerolinecolor": "white",
           "zerolinewidth": 2
          },
          "yaxis": {
           "automargin": true,
           "gridcolor": "white",
           "linecolor": "white",
           "ticks": "",
           "title": {
            "standoff": 15
           },
           "zerolinecolor": "white",
           "zerolinewidth": 2
          }
         }
        },
        "title": {
         "text": "Distribución de Tags"
        },
        "width": 600
       }
      }
     },
     "metadata": {},
     "output_type": "display_data"
    }
   ],
   "source": [
    "tag_counts = data.query(\"content.str.contains('Template')\").tag.value_counts()\n",
    "fig = px.pie(values = tag_counts.values, names = tag_counts.index, title = 'Distribución de Tags', width = 600, height = 400)\n",
    "fig.show()"
   ]
  },
  {
   "cell_type": "markdown",
   "metadata": {},
   "source": [
    "<font size = 7 color ='27A3D7'>Funnel de Envíos</font>\n",
    "\n",
    "---"
   ]
  },
  {
   "cell_type": "code",
   "execution_count": 51,
   "metadata": {},
   "outputs": [
    {
     "data": {
      "application/vnd.plotly.v1+json": {
       "config": {
        "plotlyServerURL": "https://plot.ly"
       },
       "data": [
        {
         "domain": {
          "x": [
           0,
           1
          ],
          "y": [
           0,
           1
          ]
         },
         "hovertemplate": "label=%{label}<br>value=%{value}<extra></extra>",
         "labels": [
          "sent_status_delivered",
          "sent_status_failed",
          "sent_status_read",
          "sent_status_sent",
          "sent_status_sin_estatus"
         ],
         "legendgroup": "",
         "name": "",
         "showlegend": true,
         "type": "pie",
         "values": [
          16897,
          23699,
          25954,
          5825,
          4395
         ]
        }
       ],
       "layout": {
        "height": 400,
        "legend": {
         "tracegroupgap": 0
        },
        "template": {
         "data": {
          "bar": [
           {
            "error_x": {
             "color": "#2a3f5f"
            },
            "error_y": {
             "color": "#2a3f5f"
            },
            "marker": {
             "line": {
              "color": "#E5ECF6",
              "width": 0.5
             },
             "pattern": {
              "fillmode": "overlay",
              "size": 10,
              "solidity": 0.2
             }
            },
            "type": "bar"
           }
          ],
          "barpolar": [
           {
            "marker": {
             "line": {
              "color": "#E5ECF6",
              "width": 0.5
             },
             "pattern": {
              "fillmode": "overlay",
              "size": 10,
              "solidity": 0.2
             }
            },
            "type": "barpolar"
           }
          ],
          "carpet": [
           {
            "aaxis": {
             "endlinecolor": "#2a3f5f",
             "gridcolor": "white",
             "linecolor": "white",
             "minorgridcolor": "white",
             "startlinecolor": "#2a3f5f"
            },
            "baxis": {
             "endlinecolor": "#2a3f5f",
             "gridcolor": "white",
             "linecolor": "white",
             "minorgridcolor": "white",
             "startlinecolor": "#2a3f5f"
            },
            "type": "carpet"
           }
          ],
          "choropleth": [
           {
            "colorbar": {
             "outlinewidth": 0,
             "ticks": ""
            },
            "type": "choropleth"
           }
          ],
          "contour": [
           {
            "colorbar": {
             "outlinewidth": 0,
             "ticks": ""
            },
            "colorscale": [
             [
              0,
              "#0d0887"
             ],
             [
              0.1111111111111111,
              "#46039f"
             ],
             [
              0.2222222222222222,
              "#7201a8"
             ],
             [
              0.3333333333333333,
              "#9c179e"
             ],
             [
              0.4444444444444444,
              "#bd3786"
             ],
             [
              0.5555555555555556,
              "#d8576b"
             ],
             [
              0.6666666666666666,
              "#ed7953"
             ],
             [
              0.7777777777777778,
              "#fb9f3a"
             ],
             [
              0.8888888888888888,
              "#fdca26"
             ],
             [
              1,
              "#f0f921"
             ]
            ],
            "type": "contour"
           }
          ],
          "contourcarpet": [
           {
            "colorbar": {
             "outlinewidth": 0,
             "ticks": ""
            },
            "type": "contourcarpet"
           }
          ],
          "heatmap": [
           {
            "colorbar": {
             "outlinewidth": 0,
             "ticks": ""
            },
            "colorscale": [
             [
              0,
              "#0d0887"
             ],
             [
              0.1111111111111111,
              "#46039f"
             ],
             [
              0.2222222222222222,
              "#7201a8"
             ],
             [
              0.3333333333333333,
              "#9c179e"
             ],
             [
              0.4444444444444444,
              "#bd3786"
             ],
             [
              0.5555555555555556,
              "#d8576b"
             ],
             [
              0.6666666666666666,
              "#ed7953"
             ],
             [
              0.7777777777777778,
              "#fb9f3a"
             ],
             [
              0.8888888888888888,
              "#fdca26"
             ],
             [
              1,
              "#f0f921"
             ]
            ],
            "type": "heatmap"
           }
          ],
          "heatmapgl": [
           {
            "colorbar": {
             "outlinewidth": 0,
             "ticks": ""
            },
            "colorscale": [
             [
              0,
              "#0d0887"
             ],
             [
              0.1111111111111111,
              "#46039f"
             ],
             [
              0.2222222222222222,
              "#7201a8"
             ],
             [
              0.3333333333333333,
              "#9c179e"
             ],
             [
              0.4444444444444444,
              "#bd3786"
             ],
             [
              0.5555555555555556,
              "#d8576b"
             ],
             [
              0.6666666666666666,
              "#ed7953"
             ],
             [
              0.7777777777777778,
              "#fb9f3a"
             ],
             [
              0.8888888888888888,
              "#fdca26"
             ],
             [
              1,
              "#f0f921"
             ]
            ],
            "type": "heatmapgl"
           }
          ],
          "histogram": [
           {
            "marker": {
             "pattern": {
              "fillmode": "overlay",
              "size": 10,
              "solidity": 0.2
             }
            },
            "type": "histogram"
           }
          ],
          "histogram2d": [
           {
            "colorbar": {
             "outlinewidth": 0,
             "ticks": ""
            },
            "colorscale": [
             [
              0,
              "#0d0887"
             ],
             [
              0.1111111111111111,
              "#46039f"
             ],
             [
              0.2222222222222222,
              "#7201a8"
             ],
             [
              0.3333333333333333,
              "#9c179e"
             ],
             [
              0.4444444444444444,
              "#bd3786"
             ],
             [
              0.5555555555555556,
              "#d8576b"
             ],
             [
              0.6666666666666666,
              "#ed7953"
             ],
             [
              0.7777777777777778,
              "#fb9f3a"
             ],
             [
              0.8888888888888888,
              "#fdca26"
             ],
             [
              1,
              "#f0f921"
             ]
            ],
            "type": "histogram2d"
           }
          ],
          "histogram2dcontour": [
           {
            "colorbar": {
             "outlinewidth": 0,
             "ticks": ""
            },
            "colorscale": [
             [
              0,
              "#0d0887"
             ],
             [
              0.1111111111111111,
              "#46039f"
             ],
             [
              0.2222222222222222,
              "#7201a8"
             ],
             [
              0.3333333333333333,
              "#9c179e"
             ],
             [
              0.4444444444444444,
              "#bd3786"
             ],
             [
              0.5555555555555556,
              "#d8576b"
             ],
             [
              0.6666666666666666,
              "#ed7953"
             ],
             [
              0.7777777777777778,
              "#fb9f3a"
             ],
             [
              0.8888888888888888,
              "#fdca26"
             ],
             [
              1,
              "#f0f921"
             ]
            ],
            "type": "histogram2dcontour"
           }
          ],
          "mesh3d": [
           {
            "colorbar": {
             "outlinewidth": 0,
             "ticks": ""
            },
            "type": "mesh3d"
           }
          ],
          "parcoords": [
           {
            "line": {
             "colorbar": {
              "outlinewidth": 0,
              "ticks": ""
             }
            },
            "type": "parcoords"
           }
          ],
          "pie": [
           {
            "automargin": true,
            "type": "pie"
           }
          ],
          "scatter": [
           {
            "fillpattern": {
             "fillmode": "overlay",
             "size": 10,
             "solidity": 0.2
            },
            "type": "scatter"
           }
          ],
          "scatter3d": [
           {
            "line": {
             "colorbar": {
              "outlinewidth": 0,
              "ticks": ""
             }
            },
            "marker": {
             "colorbar": {
              "outlinewidth": 0,
              "ticks": ""
             }
            },
            "type": "scatter3d"
           }
          ],
          "scattercarpet": [
           {
            "marker": {
             "colorbar": {
              "outlinewidth": 0,
              "ticks": ""
             }
            },
            "type": "scattercarpet"
           }
          ],
          "scattergeo": [
           {
            "marker": {
             "colorbar": {
              "outlinewidth": 0,
              "ticks": ""
             }
            },
            "type": "scattergeo"
           }
          ],
          "scattergl": [
           {
            "marker": {
             "colorbar": {
              "outlinewidth": 0,
              "ticks": ""
             }
            },
            "type": "scattergl"
           }
          ],
          "scattermapbox": [
           {
            "marker": {
             "colorbar": {
              "outlinewidth": 0,
              "ticks": ""
             }
            },
            "type": "scattermapbox"
           }
          ],
          "scatterpolar": [
           {
            "marker": {
             "colorbar": {
              "outlinewidth": 0,
              "ticks": ""
             }
            },
            "type": "scatterpolar"
           }
          ],
          "scatterpolargl": [
           {
            "marker": {
             "colorbar": {
              "outlinewidth": 0,
              "ticks": ""
             }
            },
            "type": "scatterpolargl"
           }
          ],
          "scatterternary": [
           {
            "marker": {
             "colorbar": {
              "outlinewidth": 0,
              "ticks": ""
             }
            },
            "type": "scatterternary"
           }
          ],
          "surface": [
           {
            "colorbar": {
             "outlinewidth": 0,
             "ticks": ""
            },
            "colorscale": [
             [
              0,
              "#0d0887"
             ],
             [
              0.1111111111111111,
              "#46039f"
             ],
             [
              0.2222222222222222,
              "#7201a8"
             ],
             [
              0.3333333333333333,
              "#9c179e"
             ],
             [
              0.4444444444444444,
              "#bd3786"
             ],
             [
              0.5555555555555556,
              "#d8576b"
             ],
             [
              0.6666666666666666,
              "#ed7953"
             ],
             [
              0.7777777777777778,
              "#fb9f3a"
             ],
             [
              0.8888888888888888,
              "#fdca26"
             ],
             [
              1,
              "#f0f921"
             ]
            ],
            "type": "surface"
           }
          ],
          "table": [
           {
            "cells": {
             "fill": {
              "color": "#EBF0F8"
             },
             "line": {
              "color": "white"
             }
            },
            "header": {
             "fill": {
              "color": "#C8D4E3"
             },
             "line": {
              "color": "white"
             }
            },
            "type": "table"
           }
          ]
         },
         "layout": {
          "annotationdefaults": {
           "arrowcolor": "#2a3f5f",
           "arrowhead": 0,
           "arrowwidth": 1
          },
          "autotypenumbers": "strict",
          "coloraxis": {
           "colorbar": {
            "outlinewidth": 0,
            "ticks": ""
           }
          },
          "colorscale": {
           "diverging": [
            [
             0,
             "#8e0152"
            ],
            [
             0.1,
             "#c51b7d"
            ],
            [
             0.2,
             "#de77ae"
            ],
            [
             0.3,
             "#f1b6da"
            ],
            [
             0.4,
             "#fde0ef"
            ],
            [
             0.5,
             "#f7f7f7"
            ],
            [
             0.6,
             "#e6f5d0"
            ],
            [
             0.7,
             "#b8e186"
            ],
            [
             0.8,
             "#7fbc41"
            ],
            [
             0.9,
             "#4d9221"
            ],
            [
             1,
             "#276419"
            ]
           ],
           "sequential": [
            [
             0,
             "#0d0887"
            ],
            [
             0.1111111111111111,
             "#46039f"
            ],
            [
             0.2222222222222222,
             "#7201a8"
            ],
            [
             0.3333333333333333,
             "#9c179e"
            ],
            [
             0.4444444444444444,
             "#bd3786"
            ],
            [
             0.5555555555555556,
             "#d8576b"
            ],
            [
             0.6666666666666666,
             "#ed7953"
            ],
            [
             0.7777777777777778,
             "#fb9f3a"
            ],
            [
             0.8888888888888888,
             "#fdca26"
            ],
            [
             1,
             "#f0f921"
            ]
           ],
           "sequentialminus": [
            [
             0,
             "#0d0887"
            ],
            [
             0.1111111111111111,
             "#46039f"
            ],
            [
             0.2222222222222222,
             "#7201a8"
            ],
            [
             0.3333333333333333,
             "#9c179e"
            ],
            [
             0.4444444444444444,
             "#bd3786"
            ],
            [
             0.5555555555555556,
             "#d8576b"
            ],
            [
             0.6666666666666666,
             "#ed7953"
            ],
            [
             0.7777777777777778,
             "#fb9f3a"
            ],
            [
             0.8888888888888888,
             "#fdca26"
            ],
            [
             1,
             "#f0f921"
            ]
           ]
          },
          "colorway": [
           "#636efa",
           "#EF553B",
           "#00cc96",
           "#ab63fa",
           "#FFA15A",
           "#19d3f3",
           "#FF6692",
           "#B6E880",
           "#FF97FF",
           "#FECB52"
          ],
          "font": {
           "color": "#2a3f5f"
          },
          "geo": {
           "bgcolor": "white",
           "lakecolor": "white",
           "landcolor": "#E5ECF6",
           "showlakes": true,
           "showland": true,
           "subunitcolor": "white"
          },
          "hoverlabel": {
           "align": "left"
          },
          "hovermode": "closest",
          "mapbox": {
           "style": "light"
          },
          "paper_bgcolor": "white",
          "plot_bgcolor": "#E5ECF6",
          "polar": {
           "angularaxis": {
            "gridcolor": "white",
            "linecolor": "white",
            "ticks": ""
           },
           "bgcolor": "#E5ECF6",
           "radialaxis": {
            "gridcolor": "white",
            "linecolor": "white",
            "ticks": ""
           }
          },
          "scene": {
           "xaxis": {
            "backgroundcolor": "#E5ECF6",
            "gridcolor": "white",
            "gridwidth": 2,
            "linecolor": "white",
            "showbackground": true,
            "ticks": "",
            "zerolinecolor": "white"
           },
           "yaxis": {
            "backgroundcolor": "#E5ECF6",
            "gridcolor": "white",
            "gridwidth": 2,
            "linecolor": "white",
            "showbackground": true,
            "ticks": "",
            "zerolinecolor": "white"
           },
           "zaxis": {
            "backgroundcolor": "#E5ECF6",
            "gridcolor": "white",
            "gridwidth": 2,
            "linecolor": "white",
            "showbackground": true,
            "ticks": "",
            "zerolinecolor": "white"
           }
          },
          "shapedefaults": {
           "line": {
            "color": "#2a3f5f"
           }
          },
          "ternary": {
           "aaxis": {
            "gridcolor": "white",
            "linecolor": "white",
            "ticks": ""
           },
           "baxis": {
            "gridcolor": "white",
            "linecolor": "white",
            "ticks": ""
           },
           "bgcolor": "#E5ECF6",
           "caxis": {
            "gridcolor": "white",
            "linecolor": "white",
            "ticks": ""
           }
          },
          "title": {
           "x": 0.05
          },
          "xaxis": {
           "automargin": true,
           "gridcolor": "white",
           "linecolor": "white",
           "ticks": "",
           "title": {
            "standoff": 15
           },
           "zerolinecolor": "white",
           "zerolinewidth": 2
          },
          "yaxis": {
           "automargin": true,
           "gridcolor": "white",
           "linecolor": "white",
           "ticks": "",
           "title": {
            "standoff": 15
           },
           "zerolinecolor": "white",
           "zerolinewidth": 2
          }
         }
        },
        "title": {
         "text": "Distribución de \"True\""
        },
        "width": 600
       }
      }
     },
     "metadata": {},
     "output_type": "display_data"
    }
   ],
   "source": [
    "filtered_data = data.query(\"content.str.contains('Template')\")\n",
    "true_counts = filtered_data[['sent_status_delivered', 'sent_status_failed', 'sent_status_read', 'sent_status_sent', 'sent_status_sin_estatus']].apply(pd.value_counts).loc[True]\n",
    "fig = px.pie(values=true_counts, names=true_counts.index, title='Distribución de \"True\"', width = 600, height = 400)\n",
    "fig.show()\n"
   ]
  },
  {
   "cell_type": "code",
   "execution_count": 52,
   "metadata": {},
   "outputs": [
    {
     "data": {
      "text/plain": [
       "3625"
      ]
     },
     "execution_count": 52,
     "metadata": {},
     "output_type": "execute_result"
    }
   ],
   "source": [
    "respuestas"
   ]
  },
  {
   "cell_type": "code",
   "execution_count": 53,
   "metadata": {},
   "outputs": [
    {
     "data": {
      "application/vnd.plotly.v1+json": {
       "config": {
        "plotlyServerURL": "https://plot.ly"
       },
       "data": [
        {
         "textinfo": "value+percent initial",
         "type": "funnel",
         "x": [
          74630,
          42851,
          25954,
          10664
         ],
         "y": [
          "Envíados",
          "Recibidos",
          "Leídos",
          "Respondidos"
         ]
        }
       ],
       "layout": {
        "template": {
         "data": {
          "bar": [
           {
            "error_x": {
             "color": "#2a3f5f"
            },
            "error_y": {
             "color": "#2a3f5f"
            },
            "marker": {
             "line": {
              "color": "#E5ECF6",
              "width": 0.5
             },
             "pattern": {
              "fillmode": "overlay",
              "size": 10,
              "solidity": 0.2
             }
            },
            "type": "bar"
           }
          ],
          "barpolar": [
           {
            "marker": {
             "line": {
              "color": "#E5ECF6",
              "width": 0.5
             },
             "pattern": {
              "fillmode": "overlay",
              "size": 10,
              "solidity": 0.2
             }
            },
            "type": "barpolar"
           }
          ],
          "carpet": [
           {
            "aaxis": {
             "endlinecolor": "#2a3f5f",
             "gridcolor": "white",
             "linecolor": "white",
             "minorgridcolor": "white",
             "startlinecolor": "#2a3f5f"
            },
            "baxis": {
             "endlinecolor": "#2a3f5f",
             "gridcolor": "white",
             "linecolor": "white",
             "minorgridcolor": "white",
             "startlinecolor": "#2a3f5f"
            },
            "type": "carpet"
           }
          ],
          "choropleth": [
           {
            "colorbar": {
             "outlinewidth": 0,
             "ticks": ""
            },
            "type": "choropleth"
           }
          ],
          "contour": [
           {
            "colorbar": {
             "outlinewidth": 0,
             "ticks": ""
            },
            "colorscale": [
             [
              0,
              "#0d0887"
             ],
             [
              0.1111111111111111,
              "#46039f"
             ],
             [
              0.2222222222222222,
              "#7201a8"
             ],
             [
              0.3333333333333333,
              "#9c179e"
             ],
             [
              0.4444444444444444,
              "#bd3786"
             ],
             [
              0.5555555555555556,
              "#d8576b"
             ],
             [
              0.6666666666666666,
              "#ed7953"
             ],
             [
              0.7777777777777778,
              "#fb9f3a"
             ],
             [
              0.8888888888888888,
              "#fdca26"
             ],
             [
              1,
              "#f0f921"
             ]
            ],
            "type": "contour"
           }
          ],
          "contourcarpet": [
           {
            "colorbar": {
             "outlinewidth": 0,
             "ticks": ""
            },
            "type": "contourcarpet"
           }
          ],
          "heatmap": [
           {
            "colorbar": {
             "outlinewidth": 0,
             "ticks": ""
            },
            "colorscale": [
             [
              0,
              "#0d0887"
             ],
             [
              0.1111111111111111,
              "#46039f"
             ],
             [
              0.2222222222222222,
              "#7201a8"
             ],
             [
              0.3333333333333333,
              "#9c179e"
             ],
             [
              0.4444444444444444,
              "#bd3786"
             ],
             [
              0.5555555555555556,
              "#d8576b"
             ],
             [
              0.6666666666666666,
              "#ed7953"
             ],
             [
              0.7777777777777778,
              "#fb9f3a"
             ],
             [
              0.8888888888888888,
              "#fdca26"
             ],
             [
              1,
              "#f0f921"
             ]
            ],
            "type": "heatmap"
           }
          ],
          "heatmapgl": [
           {
            "colorbar": {
             "outlinewidth": 0,
             "ticks": ""
            },
            "colorscale": [
             [
              0,
              "#0d0887"
             ],
             [
              0.1111111111111111,
              "#46039f"
             ],
             [
              0.2222222222222222,
              "#7201a8"
             ],
             [
              0.3333333333333333,
              "#9c179e"
             ],
             [
              0.4444444444444444,
              "#bd3786"
             ],
             [
              0.5555555555555556,
              "#d8576b"
             ],
             [
              0.6666666666666666,
              "#ed7953"
             ],
             [
              0.7777777777777778,
              "#fb9f3a"
             ],
             [
              0.8888888888888888,
              "#fdca26"
             ],
             [
              1,
              "#f0f921"
             ]
            ],
            "type": "heatmapgl"
           }
          ],
          "histogram": [
           {
            "marker": {
             "pattern": {
              "fillmode": "overlay",
              "size": 10,
              "solidity": 0.2
             }
            },
            "type": "histogram"
           }
          ],
          "histogram2d": [
           {
            "colorbar": {
             "outlinewidth": 0,
             "ticks": ""
            },
            "colorscale": [
             [
              0,
              "#0d0887"
             ],
             [
              0.1111111111111111,
              "#46039f"
             ],
             [
              0.2222222222222222,
              "#7201a8"
             ],
             [
              0.3333333333333333,
              "#9c179e"
             ],
             [
              0.4444444444444444,
              "#bd3786"
             ],
             [
              0.5555555555555556,
              "#d8576b"
             ],
             [
              0.6666666666666666,
              "#ed7953"
             ],
             [
              0.7777777777777778,
              "#fb9f3a"
             ],
             [
              0.8888888888888888,
              "#fdca26"
             ],
             [
              1,
              "#f0f921"
             ]
            ],
            "type": "histogram2d"
           }
          ],
          "histogram2dcontour": [
           {
            "colorbar": {
             "outlinewidth": 0,
             "ticks": ""
            },
            "colorscale": [
             [
              0,
              "#0d0887"
             ],
             [
              0.1111111111111111,
              "#46039f"
             ],
             [
              0.2222222222222222,
              "#7201a8"
             ],
             [
              0.3333333333333333,
              "#9c179e"
             ],
             [
              0.4444444444444444,
              "#bd3786"
             ],
             [
              0.5555555555555556,
              "#d8576b"
             ],
             [
              0.6666666666666666,
              "#ed7953"
             ],
             [
              0.7777777777777778,
              "#fb9f3a"
             ],
             [
              0.8888888888888888,
              "#fdca26"
             ],
             [
              1,
              "#f0f921"
             ]
            ],
            "type": "histogram2dcontour"
           }
          ],
          "mesh3d": [
           {
            "colorbar": {
             "outlinewidth": 0,
             "ticks": ""
            },
            "type": "mesh3d"
           }
          ],
          "parcoords": [
           {
            "line": {
             "colorbar": {
              "outlinewidth": 0,
              "ticks": ""
             }
            },
            "type": "parcoords"
           }
          ],
          "pie": [
           {
            "automargin": true,
            "type": "pie"
           }
          ],
          "scatter": [
           {
            "fillpattern": {
             "fillmode": "overlay",
             "size": 10,
             "solidity": 0.2
            },
            "type": "scatter"
           }
          ],
          "scatter3d": [
           {
            "line": {
             "colorbar": {
              "outlinewidth": 0,
              "ticks": ""
             }
            },
            "marker": {
             "colorbar": {
              "outlinewidth": 0,
              "ticks": ""
             }
            },
            "type": "scatter3d"
           }
          ],
          "scattercarpet": [
           {
            "marker": {
             "colorbar": {
              "outlinewidth": 0,
              "ticks": ""
             }
            },
            "type": "scattercarpet"
           }
          ],
          "scattergeo": [
           {
            "marker": {
             "colorbar": {
              "outlinewidth": 0,
              "ticks": ""
             }
            },
            "type": "scattergeo"
           }
          ],
          "scattergl": [
           {
            "marker": {
             "colorbar": {
              "outlinewidth": 0,
              "ticks": ""
             }
            },
            "type": "scattergl"
           }
          ],
          "scattermapbox": [
           {
            "marker": {
             "colorbar": {
              "outlinewidth": 0,
              "ticks": ""
             }
            },
            "type": "scattermapbox"
           }
          ],
          "scatterpolar": [
           {
            "marker": {
             "colorbar": {
              "outlinewidth": 0,
              "ticks": ""
             }
            },
            "type": "scatterpolar"
           }
          ],
          "scatterpolargl": [
           {
            "marker": {
             "colorbar": {
              "outlinewidth": 0,
              "ticks": ""
             }
            },
            "type": "scatterpolargl"
           }
          ],
          "scatterternary": [
           {
            "marker": {
             "colorbar": {
              "outlinewidth": 0,
              "ticks": ""
             }
            },
            "type": "scatterternary"
           }
          ],
          "surface": [
           {
            "colorbar": {
             "outlinewidth": 0,
             "ticks": ""
            },
            "colorscale": [
             [
              0,
              "#0d0887"
             ],
             [
              0.1111111111111111,
              "#46039f"
             ],
             [
              0.2222222222222222,
              "#7201a8"
             ],
             [
              0.3333333333333333,
              "#9c179e"
             ],
             [
              0.4444444444444444,
              "#bd3786"
             ],
             [
              0.5555555555555556,
              "#d8576b"
             ],
             [
              0.6666666666666666,
              "#ed7953"
             ],
             [
              0.7777777777777778,
              "#fb9f3a"
             ],
             [
              0.8888888888888888,
              "#fdca26"
             ],
             [
              1,
              "#f0f921"
             ]
            ],
            "type": "surface"
           }
          ],
          "table": [
           {
            "cells": {
             "fill": {
              "color": "#EBF0F8"
             },
             "line": {
              "color": "white"
             }
            },
            "header": {
             "fill": {
              "color": "#C8D4E3"
             },
             "line": {
              "color": "white"
             }
            },
            "type": "table"
           }
          ]
         },
         "layout": {
          "annotationdefaults": {
           "arrowcolor": "#2a3f5f",
           "arrowhead": 0,
           "arrowwidth": 1
          },
          "autotypenumbers": "strict",
          "coloraxis": {
           "colorbar": {
            "outlinewidth": 0,
            "ticks": ""
           }
          },
          "colorscale": {
           "diverging": [
            [
             0,
             "#8e0152"
            ],
            [
             0.1,
             "#c51b7d"
            ],
            [
             0.2,
             "#de77ae"
            ],
            [
             0.3,
             "#f1b6da"
            ],
            [
             0.4,
             "#fde0ef"
            ],
            [
             0.5,
             "#f7f7f7"
            ],
            [
             0.6,
             "#e6f5d0"
            ],
            [
             0.7,
             "#b8e186"
            ],
            [
             0.8,
             "#7fbc41"
            ],
            [
             0.9,
             "#4d9221"
            ],
            [
             1,
             "#276419"
            ]
           ],
           "sequential": [
            [
             0,
             "#0d0887"
            ],
            [
             0.1111111111111111,
             "#46039f"
            ],
            [
             0.2222222222222222,
             "#7201a8"
            ],
            [
             0.3333333333333333,
             "#9c179e"
            ],
            [
             0.4444444444444444,
             "#bd3786"
            ],
            [
             0.5555555555555556,
             "#d8576b"
            ],
            [
             0.6666666666666666,
             "#ed7953"
            ],
            [
             0.7777777777777778,
             "#fb9f3a"
            ],
            [
             0.8888888888888888,
             "#fdca26"
            ],
            [
             1,
             "#f0f921"
            ]
           ],
           "sequentialminus": [
            [
             0,
             "#0d0887"
            ],
            [
             0.1111111111111111,
             "#46039f"
            ],
            [
             0.2222222222222222,
             "#7201a8"
            ],
            [
             0.3333333333333333,
             "#9c179e"
            ],
            [
             0.4444444444444444,
             "#bd3786"
            ],
            [
             0.5555555555555556,
             "#d8576b"
            ],
            [
             0.6666666666666666,
             "#ed7953"
            ],
            [
             0.7777777777777778,
             "#fb9f3a"
            ],
            [
             0.8888888888888888,
             "#fdca26"
            ],
            [
             1,
             "#f0f921"
            ]
           ]
          },
          "colorway": [
           "#636efa",
           "#EF553B",
           "#00cc96",
           "#ab63fa",
           "#FFA15A",
           "#19d3f3",
           "#FF6692",
           "#B6E880",
           "#FF97FF",
           "#FECB52"
          ],
          "font": {
           "color": "#2a3f5f"
          },
          "geo": {
           "bgcolor": "white",
           "lakecolor": "white",
           "landcolor": "#E5ECF6",
           "showlakes": true,
           "showland": true,
           "subunitcolor": "white"
          },
          "hoverlabel": {
           "align": "left"
          },
          "hovermode": "closest",
          "mapbox": {
           "style": "light"
          },
          "paper_bgcolor": "white",
          "plot_bgcolor": "#E5ECF6",
          "polar": {
           "angularaxis": {
            "gridcolor": "white",
            "linecolor": "white",
            "ticks": ""
           },
           "bgcolor": "#E5ECF6",
           "radialaxis": {
            "gridcolor": "white",
            "linecolor": "white",
            "ticks": ""
           }
          },
          "scene": {
           "xaxis": {
            "backgroundcolor": "#E5ECF6",
            "gridcolor": "white",
            "gridwidth": 2,
            "linecolor": "white",
            "showbackground": true,
            "ticks": "",
            "zerolinecolor": "white"
           },
           "yaxis": {
            "backgroundcolor": "#E5ECF6",
            "gridcolor": "white",
            "gridwidth": 2,
            "linecolor": "white",
            "showbackground": true,
            "ticks": "",
            "zerolinecolor": "white"
           },
           "zaxis": {
            "backgroundcolor": "#E5ECF6",
            "gridcolor": "white",
            "gridwidth": 2,
            "linecolor": "white",
            "showbackground": true,
            "ticks": "",
            "zerolinecolor": "white"
           }
          },
          "shapedefaults": {
           "line": {
            "color": "#2a3f5f"
           }
          },
          "ternary": {
           "aaxis": {
            "gridcolor": "white",
            "linecolor": "white",
            "ticks": ""
           },
           "baxis": {
            "gridcolor": "white",
            "linecolor": "white",
            "ticks": ""
           },
           "bgcolor": "#E5ECF6",
           "caxis": {
            "gridcolor": "white",
            "linecolor": "white",
            "ticks": ""
           }
          },
          "title": {
           "x": 0.05
          },
          "xaxis": {
           "automargin": true,
           "gridcolor": "white",
           "linecolor": "white",
           "ticks": "",
           "title": {
            "standoff": 15
           },
           "zerolinecolor": "white",
           "zerolinewidth": 2
          },
          "yaxis": {
           "automargin": true,
           "gridcolor": "white",
           "linecolor": "white",
           "ticks": "",
           "title": {
            "standoff": 15
           },
           "zerolinecolor": "white",
           "zerolinewidth": 2
          }
         }
        },
        "title": {
         "text": "Funnel de Envíos"
        }
       }
      }
     },
     "metadata": {},
     "output_type": "display_data"
    }
   ],
   "source": [
    "filtered_data = data.query(\"content.str.contains('Template')\")\n",
    "\n",
    "response_count = total_respuestas # o respuestas\n",
    "read_count = filtered_data['sent_status_read'].sum() \n",
    "delivered_count = filtered_data['sent_status_delivered'].sum() + read_count\n",
    "sent_count = filtered_data['sent_status_sent'].sum() + read_count + delivered_count\n",
    "\n",
    "values = [sent_count, delivered_count, read_count, response_count]\n",
    "stages = ['Envíados', 'Recibidos', 'Leídos', 'Respondidos']\n",
    "\n",
    "fig = go.Figure(go.Funnel(\n",
    "    y=stages,\n",
    "    x=values,\n",
    "    textinfo=\"value+percent initial\"\n",
    "))\n",
    "\n",
    "fig.update_layout(title='Funnel de Envíos')\n",
    "fig.show()\n"
   ]
  },
  {
   "cell_type": "markdown",
   "metadata": {},
   "source": [
    "<font size = 7 color ='27A3D7'>Tabla de Filtros</font>\n",
    "\n",
    "---"
   ]
  },
  {
   "cell_type": "markdown",
   "metadata": {},
   "source": [
    "Descargar cuales reintentar, persona (ID) para identificar, tag, cantidad de envios. Fecha de último envío, status del último envío. Binaria, bloquado o no.\n",
    "\n",
    "Filtros en ST: Tag, (pe. intención de pago, no definen) Fecha, (que fechas es bueno descargar), Cantidad de Envios (Menor a X envíos), Cantidad de Respuestas, Eficiencia de Respuestas (res/envios)"
   ]
  },
  {
   "cell_type": "code",
   "execution_count": null,
   "metadata": {},
   "outputs": [],
   "source": [
    "# Jalar el ultimo, de los reportes, y quitarle las columnas que no se ocupan.\n"
   ]
  },
  {
   "cell_type": "markdown",
   "metadata": {},
   "source": [
    "<font size = 7 color ='27A3D7'>Cantidad de Respuestas</font>\n",
    "\n",
    "---"
   ]
  },
  {
   "cell_type": "code",
   "execution_count": 54,
   "metadata": {},
   "outputs": [
    {
     "data": {
      "application/vnd.plotly.v1+json": {
       "config": {
        "plotlyServerURL": "https://plot.ly"
       },
       "data": [
        {
         "alignmentgroup": "True",
         "hovertemplate": "Día de la semana=%{x}<br>Cantidad de respuestas=%{y}<extra></extra>",
         "legendgroup": "",
         "marker": {
          "color": "#636efa",
          "pattern": {
           "shape": ""
          }
         },
         "name": "",
         "offsetgroup": "",
         "orientation": "v",
         "showlegend": false,
         "textposition": "auto",
         "type": "bar",
         "x": [
          "Monday",
          "Tuesday",
          "Wednesday",
          "Thursday",
          "Friday",
          "Saturday",
          "Sunday"
         ],
         "xaxis": "x",
         "y": [
          1034,
          1744,
          2250,
          2896,
          1382,
          1151,
          210
         ],
         "yaxis": "y"
        }
       ],
       "layout": {
        "barmode": "relative",
        "legend": {
         "tracegroupgap": 0
        },
        "template": {
         "data": {
          "bar": [
           {
            "error_x": {
             "color": "#2a3f5f"
            },
            "error_y": {
             "color": "#2a3f5f"
            },
            "marker": {
             "line": {
              "color": "#E5ECF6",
              "width": 0.5
             },
             "pattern": {
              "fillmode": "overlay",
              "size": 10,
              "solidity": 0.2
             }
            },
            "type": "bar"
           }
          ],
          "barpolar": [
           {
            "marker": {
             "line": {
              "color": "#E5ECF6",
              "width": 0.5
             },
             "pattern": {
              "fillmode": "overlay",
              "size": 10,
              "solidity": 0.2
             }
            },
            "type": "barpolar"
           }
          ],
          "carpet": [
           {
            "aaxis": {
             "endlinecolor": "#2a3f5f",
             "gridcolor": "white",
             "linecolor": "white",
             "minorgridcolor": "white",
             "startlinecolor": "#2a3f5f"
            },
            "baxis": {
             "endlinecolor": "#2a3f5f",
             "gridcolor": "white",
             "linecolor": "white",
             "minorgridcolor": "white",
             "startlinecolor": "#2a3f5f"
            },
            "type": "carpet"
           }
          ],
          "choropleth": [
           {
            "colorbar": {
             "outlinewidth": 0,
             "ticks": ""
            },
            "type": "choropleth"
           }
          ],
          "contour": [
           {
            "colorbar": {
             "outlinewidth": 0,
             "ticks": ""
            },
            "colorscale": [
             [
              0,
              "#0d0887"
             ],
             [
              0.1111111111111111,
              "#46039f"
             ],
             [
              0.2222222222222222,
              "#7201a8"
             ],
             [
              0.3333333333333333,
              "#9c179e"
             ],
             [
              0.4444444444444444,
              "#bd3786"
             ],
             [
              0.5555555555555556,
              "#d8576b"
             ],
             [
              0.6666666666666666,
              "#ed7953"
             ],
             [
              0.7777777777777778,
              "#fb9f3a"
             ],
             [
              0.8888888888888888,
              "#fdca26"
             ],
             [
              1,
              "#f0f921"
             ]
            ],
            "type": "contour"
           }
          ],
          "contourcarpet": [
           {
            "colorbar": {
             "outlinewidth": 0,
             "ticks": ""
            },
            "type": "contourcarpet"
           }
          ],
          "heatmap": [
           {
            "colorbar": {
             "outlinewidth": 0,
             "ticks": ""
            },
            "colorscale": [
             [
              0,
              "#0d0887"
             ],
             [
              0.1111111111111111,
              "#46039f"
             ],
             [
              0.2222222222222222,
              "#7201a8"
             ],
             [
              0.3333333333333333,
              "#9c179e"
             ],
             [
              0.4444444444444444,
              "#bd3786"
             ],
             [
              0.5555555555555556,
              "#d8576b"
             ],
             [
              0.6666666666666666,
              "#ed7953"
             ],
             [
              0.7777777777777778,
              "#fb9f3a"
             ],
             [
              0.8888888888888888,
              "#fdca26"
             ],
             [
              1,
              "#f0f921"
             ]
            ],
            "type": "heatmap"
           }
          ],
          "heatmapgl": [
           {
            "colorbar": {
             "outlinewidth": 0,
             "ticks": ""
            },
            "colorscale": [
             [
              0,
              "#0d0887"
             ],
             [
              0.1111111111111111,
              "#46039f"
             ],
             [
              0.2222222222222222,
              "#7201a8"
             ],
             [
              0.3333333333333333,
              "#9c179e"
             ],
             [
              0.4444444444444444,
              "#bd3786"
             ],
             [
              0.5555555555555556,
              "#d8576b"
             ],
             [
              0.6666666666666666,
              "#ed7953"
             ],
             [
              0.7777777777777778,
              "#fb9f3a"
             ],
             [
              0.8888888888888888,
              "#fdca26"
             ],
             [
              1,
              "#f0f921"
             ]
            ],
            "type": "heatmapgl"
           }
          ],
          "histogram": [
           {
            "marker": {
             "pattern": {
              "fillmode": "overlay",
              "size": 10,
              "solidity": 0.2
             }
            },
            "type": "histogram"
           }
          ],
          "histogram2d": [
           {
            "colorbar": {
             "outlinewidth": 0,
             "ticks": ""
            },
            "colorscale": [
             [
              0,
              "#0d0887"
             ],
             [
              0.1111111111111111,
              "#46039f"
             ],
             [
              0.2222222222222222,
              "#7201a8"
             ],
             [
              0.3333333333333333,
              "#9c179e"
             ],
             [
              0.4444444444444444,
              "#bd3786"
             ],
             [
              0.5555555555555556,
              "#d8576b"
             ],
             [
              0.6666666666666666,
              "#ed7953"
             ],
             [
              0.7777777777777778,
              "#fb9f3a"
             ],
             [
              0.8888888888888888,
              "#fdca26"
             ],
             [
              1,
              "#f0f921"
             ]
            ],
            "type": "histogram2d"
           }
          ],
          "histogram2dcontour": [
           {
            "colorbar": {
             "outlinewidth": 0,
             "ticks": ""
            },
            "colorscale": [
             [
              0,
              "#0d0887"
             ],
             [
              0.1111111111111111,
              "#46039f"
             ],
             [
              0.2222222222222222,
              "#7201a8"
             ],
             [
              0.3333333333333333,
              "#9c179e"
             ],
             [
              0.4444444444444444,
              "#bd3786"
             ],
             [
              0.5555555555555556,
              "#d8576b"
             ],
             [
              0.6666666666666666,
              "#ed7953"
             ],
             [
              0.7777777777777778,
              "#fb9f3a"
             ],
             [
              0.8888888888888888,
              "#fdca26"
             ],
             [
              1,
              "#f0f921"
             ]
            ],
            "type": "histogram2dcontour"
           }
          ],
          "mesh3d": [
           {
            "colorbar": {
             "outlinewidth": 0,
             "ticks": ""
            },
            "type": "mesh3d"
           }
          ],
          "parcoords": [
           {
            "line": {
             "colorbar": {
              "outlinewidth": 0,
              "ticks": ""
             }
            },
            "type": "parcoords"
           }
          ],
          "pie": [
           {
            "automargin": true,
            "type": "pie"
           }
          ],
          "scatter": [
           {
            "fillpattern": {
             "fillmode": "overlay",
             "size": 10,
             "solidity": 0.2
            },
            "type": "scatter"
           }
          ],
          "scatter3d": [
           {
            "line": {
             "colorbar": {
              "outlinewidth": 0,
              "ticks": ""
             }
            },
            "marker": {
             "colorbar": {
              "outlinewidth": 0,
              "ticks": ""
             }
            },
            "type": "scatter3d"
           }
          ],
          "scattercarpet": [
           {
            "marker": {
             "colorbar": {
              "outlinewidth": 0,
              "ticks": ""
             }
            },
            "type": "scattercarpet"
           }
          ],
          "scattergeo": [
           {
            "marker": {
             "colorbar": {
              "outlinewidth": 0,
              "ticks": ""
             }
            },
            "type": "scattergeo"
           }
          ],
          "scattergl": [
           {
            "marker": {
             "colorbar": {
              "outlinewidth": 0,
              "ticks": ""
             }
            },
            "type": "scattergl"
           }
          ],
          "scattermapbox": [
           {
            "marker": {
             "colorbar": {
              "outlinewidth": 0,
              "ticks": ""
             }
            },
            "type": "scattermapbox"
           }
          ],
          "scatterpolar": [
           {
            "marker": {
             "colorbar": {
              "outlinewidth": 0,
              "ticks": ""
             }
            },
            "type": "scatterpolar"
           }
          ],
          "scatterpolargl": [
           {
            "marker": {
             "colorbar": {
              "outlinewidth": 0,
              "ticks": ""
             }
            },
            "type": "scatterpolargl"
           }
          ],
          "scatterternary": [
           {
            "marker": {
             "colorbar": {
              "outlinewidth": 0,
              "ticks": ""
             }
            },
            "type": "scatterternary"
           }
          ],
          "surface": [
           {
            "colorbar": {
             "outlinewidth": 0,
             "ticks": ""
            },
            "colorscale": [
             [
              0,
              "#0d0887"
             ],
             [
              0.1111111111111111,
              "#46039f"
             ],
             [
              0.2222222222222222,
              "#7201a8"
             ],
             [
              0.3333333333333333,
              "#9c179e"
             ],
             [
              0.4444444444444444,
              "#bd3786"
             ],
             [
              0.5555555555555556,
              "#d8576b"
             ],
             [
              0.6666666666666666,
              "#ed7953"
             ],
             [
              0.7777777777777778,
              "#fb9f3a"
             ],
             [
              0.8888888888888888,
              "#fdca26"
             ],
             [
              1,
              "#f0f921"
             ]
            ],
            "type": "surface"
           }
          ],
          "table": [
           {
            "cells": {
             "fill": {
              "color": "#EBF0F8"
             },
             "line": {
              "color": "white"
             }
            },
            "header": {
             "fill": {
              "color": "#C8D4E3"
             },
             "line": {
              "color": "white"
             }
            },
            "type": "table"
           }
          ]
         },
         "layout": {
          "annotationdefaults": {
           "arrowcolor": "#2a3f5f",
           "arrowhead": 0,
           "arrowwidth": 1
          },
          "autotypenumbers": "strict",
          "coloraxis": {
           "colorbar": {
            "outlinewidth": 0,
            "ticks": ""
           }
          },
          "colorscale": {
           "diverging": [
            [
             0,
             "#8e0152"
            ],
            [
             0.1,
             "#c51b7d"
            ],
            [
             0.2,
             "#de77ae"
            ],
            [
             0.3,
             "#f1b6da"
            ],
            [
             0.4,
             "#fde0ef"
            ],
            [
             0.5,
             "#f7f7f7"
            ],
            [
             0.6,
             "#e6f5d0"
            ],
            [
             0.7,
             "#b8e186"
            ],
            [
             0.8,
             "#7fbc41"
            ],
            [
             0.9,
             "#4d9221"
            ],
            [
             1,
             "#276419"
            ]
           ],
           "sequential": [
            [
             0,
             "#0d0887"
            ],
            [
             0.1111111111111111,
             "#46039f"
            ],
            [
             0.2222222222222222,
             "#7201a8"
            ],
            [
             0.3333333333333333,
             "#9c179e"
            ],
            [
             0.4444444444444444,
             "#bd3786"
            ],
            [
             0.5555555555555556,
             "#d8576b"
            ],
            [
             0.6666666666666666,
             "#ed7953"
            ],
            [
             0.7777777777777778,
             "#fb9f3a"
            ],
            [
             0.8888888888888888,
             "#fdca26"
            ],
            [
             1,
             "#f0f921"
            ]
           ],
           "sequentialminus": [
            [
             0,
             "#0d0887"
            ],
            [
             0.1111111111111111,
             "#46039f"
            ],
            [
             0.2222222222222222,
             "#7201a8"
            ],
            [
             0.3333333333333333,
             "#9c179e"
            ],
            [
             0.4444444444444444,
             "#bd3786"
            ],
            [
             0.5555555555555556,
             "#d8576b"
            ],
            [
             0.6666666666666666,
             "#ed7953"
            ],
            [
             0.7777777777777778,
             "#fb9f3a"
            ],
            [
             0.8888888888888888,
             "#fdca26"
            ],
            [
             1,
             "#f0f921"
            ]
           ]
          },
          "colorway": [
           "#636efa",
           "#EF553B",
           "#00cc96",
           "#ab63fa",
           "#FFA15A",
           "#19d3f3",
           "#FF6692",
           "#B6E880",
           "#FF97FF",
           "#FECB52"
          ],
          "font": {
           "color": "#2a3f5f"
          },
          "geo": {
           "bgcolor": "white",
           "lakecolor": "white",
           "landcolor": "#E5ECF6",
           "showlakes": true,
           "showland": true,
           "subunitcolor": "white"
          },
          "hoverlabel": {
           "align": "left"
          },
          "hovermode": "closest",
          "mapbox": {
           "style": "light"
          },
          "paper_bgcolor": "white",
          "plot_bgcolor": "#E5ECF6",
          "polar": {
           "angularaxis": {
            "gridcolor": "white",
            "linecolor": "white",
            "ticks": ""
           },
           "bgcolor": "#E5ECF6",
           "radialaxis": {
            "gridcolor": "white",
            "linecolor": "white",
            "ticks": ""
           }
          },
          "scene": {
           "xaxis": {
            "backgroundcolor": "#E5ECF6",
            "gridcolor": "white",
            "gridwidth": 2,
            "linecolor": "white",
            "showbackground": true,
            "ticks": "",
            "zerolinecolor": "white"
           },
           "yaxis": {
            "backgroundcolor": "#E5ECF6",
            "gridcolor": "white",
            "gridwidth": 2,
            "linecolor": "white",
            "showbackground": true,
            "ticks": "",
            "zerolinecolor": "white"
           },
           "zaxis": {
            "backgroundcolor": "#E5ECF6",
            "gridcolor": "white",
            "gridwidth": 2,
            "linecolor": "white",
            "showbackground": true,
            "ticks": "",
            "zerolinecolor": "white"
           }
          },
          "shapedefaults": {
           "line": {
            "color": "#2a3f5f"
           }
          },
          "ternary": {
           "aaxis": {
            "gridcolor": "white",
            "linecolor": "white",
            "ticks": ""
           },
           "baxis": {
            "gridcolor": "white",
            "linecolor": "white",
            "ticks": ""
           },
           "bgcolor": "#E5ECF6",
           "caxis": {
            "gridcolor": "white",
            "linecolor": "white",
            "ticks": ""
           }
          },
          "title": {
           "x": 0.05
          },
          "xaxis": {
           "automargin": true,
           "gridcolor": "white",
           "linecolor": "white",
           "ticks": "",
           "title": {
            "standoff": 15
           },
           "zerolinecolor": "white",
           "zerolinewidth": 2
          },
          "yaxis": {
           "automargin": true,
           "gridcolor": "white",
           "linecolor": "white",
           "ticks": "",
           "title": {
            "standoff": 15
           },
           "zerolinecolor": "white",
           "zerolinewidth": 2
          }
         }
        },
        "title": {
         "text": "Cantidad de Respuestas por Día de la Semana"
        },
        "xaxis": {
         "anchor": "y",
         "domain": [
          0,
          1
         ],
         "title": {
          "text": "Día de la semana"
         }
        },
        "yaxis": {
         "anchor": "x",
         "domain": [
          0,
          1
         ],
         "title": {
          "text": "Cantidad de respuestas"
         }
        }
       }
      }
     },
     "metadata": {},
     "output_type": "display_data"
    }
   ],
   "source": [
    "dias_respuestas = []\n",
    "\n",
    "for _, row in df_bancoppel.iterrows():\n",
    "    try:\n",
    "        if isinstance(row['messages'], str):\n",
    "            messages = json.loads(row['messages'])\n",
    "        elif isinstance(row['messages'], list):\n",
    "            messages = row['messages']\n",
    "        else:\n",
    "            continue \n",
    "        \n",
    "        for message in messages:\n",
    "            if message.get('role') != 'assistant' and message.get('direction') == 'incoming':\n",
    "                created_at = message.get('createdAt')\n",
    "                if created_at:\n",
    "                    # Convertimos a datetime y restamos 6 horas\n",
    "                    adjusted_time = pd.to_datetime(created_at) - pd.Timedelta(hours=6)\n",
    "                    day_of_week = adjusted_time.day_name()\n",
    "                    dias_respuestas.append(day_of_week)\n",
    "\n",
    "    except (json.JSONDecodeError, TypeError) as e:\n",
    "        print(f\"Error al procesar la fila: {e}\")\n",
    "\n",
    "df_dias_respuestas = pd.DataFrame(dias_respuestas, columns=['Día de la semana'])\n",
    "\n",
    "conteo_respuestas = df_dias_respuestas['Día de la semana'].value_counts().reindex(\n",
    "    [\"Monday\", \"Tuesday\", \"Wednesday\", \"Thursday\", \"Friday\", \"Saturday\", \"Sunday\"], fill_value=0)\n",
    "\n",
    "\n",
    "fig = px.bar(conteo_respuestas, x=conteo_respuestas.index, y=conteo_respuestas.values,\n",
    "             labels={'x': 'Día de la semana', 'y': 'Cantidad de respuestas'},\n",
    "             title='Cantidad de Respuestas por Día de la Semana')\n",
    "\n",
    "fig.show()\n"
   ]
  },
  {
   "cell_type": "code",
   "execution_count": 55,
   "metadata": {},
   "outputs": [
    {
     "data": {
      "application/vnd.plotly.v1+json": {
       "config": {
        "plotlyServerURL": "https://plot.ly"
       },
       "data": [
        {
         "coloraxis": "coloraxis",
         "hovertemplate": "Hora del día: %{x}<br>Día de la semana: %{y}<br>Cantidad de respuestas: %{z}<extra></extra>",
         "name": "0",
         "type": "heatmap",
         "x": [
          0,
          1,
          2,
          3,
          4,
          5,
          6,
          7,
          8,
          9,
          10,
          11,
          12,
          13,
          14,
          15,
          16,
          17,
          18,
          19,
          20,
          21,
          22,
          23
         ],
         "xaxis": "x",
         "y": [
          "lunes",
          "martes",
          "miércoles",
          "jueves",
          "viernes",
          "sábado",
          "domingo"
         ],
         "yaxis": "y",
         "z": [
          [
           2,
           2,
           4,
           3,
           7,
           2,
           9,
           3,
           43,
           70,
           65,
           90,
           66,
           80,
           114,
           93,
           114,
           130,
           61,
           31,
           20,
           12,
           9,
           4
          ],
          [
           1,
           1,
           0,
           0,
           0,
           1,
           1,
           1,
           15,
           124,
           199,
           93,
           155,
           252,
           163,
           112,
           192,
           161,
           119,
           66,
           42,
           21,
           18,
           7
          ],
          [
           5,
           0,
           1,
           0,
           5,
           1,
           0,
           9,
           33,
           112,
           71,
           98,
           334,
           300,
           258,
           178,
           175,
           177,
           210,
           132,
           75,
           32,
           33,
           11
          ],
          [
           3,
           8,
           5,
           0,
           4,
           4,
           8,
           12,
           25,
           141,
           330,
           367,
           233,
           340,
           187,
           198,
           270,
           286,
           186,
           117,
           73,
           49,
           34,
           16
          ],
          [
           5,
           4,
           3,
           0,
           0,
           0,
           0,
           10,
           35,
           50,
           113,
           193,
           158,
           150,
           222,
           165,
           96,
           60,
           48,
           24,
           19,
           12,
           9,
           6
          ],
          [
           2,
           6,
           2,
           1,
           3,
           0,
           2,
           3,
           32,
           132,
           223,
           263,
           133,
           58,
           48,
           47,
           44,
           41,
           23,
           20,
           26,
           26,
           5,
           11
          ],
          [
           5,
           8,
           7,
           3,
           3,
           3,
           2,
           7,
           9,
           24,
           11,
           14,
           10,
           9,
           20,
           4,
           20,
           4,
           10,
           9,
           10,
           6,
           3,
           9
          ]
         ]
        }
       ],
       "layout": {
        "coloraxis": {
         "colorbar": {
          "title": {
           "text": "Cantidad de respuestas"
          }
         },
         "colorscale": [
          [
           0,
           "#0d0887"
          ],
          [
           0.1111111111111111,
           "#46039f"
          ],
          [
           0.2222222222222222,
           "#7201a8"
          ],
          [
           0.3333333333333333,
           "#9c179e"
          ],
          [
           0.4444444444444444,
           "#bd3786"
          ],
          [
           0.5555555555555556,
           "#d8576b"
          ],
          [
           0.6666666666666666,
           "#ed7953"
          ],
          [
           0.7777777777777778,
           "#fb9f3a"
          ],
          [
           0.8888888888888888,
           "#fdca26"
          ],
          [
           1,
           "#f0f921"
          ]
         ]
        },
        "template": {
         "data": {
          "bar": [
           {
            "error_x": {
             "color": "#2a3f5f"
            },
            "error_y": {
             "color": "#2a3f5f"
            },
            "marker": {
             "line": {
              "color": "#E5ECF6",
              "width": 0.5
             },
             "pattern": {
              "fillmode": "overlay",
              "size": 10,
              "solidity": 0.2
             }
            },
            "type": "bar"
           }
          ],
          "barpolar": [
           {
            "marker": {
             "line": {
              "color": "#E5ECF6",
              "width": 0.5
             },
             "pattern": {
              "fillmode": "overlay",
              "size": 10,
              "solidity": 0.2
             }
            },
            "type": "barpolar"
           }
          ],
          "carpet": [
           {
            "aaxis": {
             "endlinecolor": "#2a3f5f",
             "gridcolor": "white",
             "linecolor": "white",
             "minorgridcolor": "white",
             "startlinecolor": "#2a3f5f"
            },
            "baxis": {
             "endlinecolor": "#2a3f5f",
             "gridcolor": "white",
             "linecolor": "white",
             "minorgridcolor": "white",
             "startlinecolor": "#2a3f5f"
            },
            "type": "carpet"
           }
          ],
          "choropleth": [
           {
            "colorbar": {
             "outlinewidth": 0,
             "ticks": ""
            },
            "type": "choropleth"
           }
          ],
          "contour": [
           {
            "colorbar": {
             "outlinewidth": 0,
             "ticks": ""
            },
            "colorscale": [
             [
              0,
              "#0d0887"
             ],
             [
              0.1111111111111111,
              "#46039f"
             ],
             [
              0.2222222222222222,
              "#7201a8"
             ],
             [
              0.3333333333333333,
              "#9c179e"
             ],
             [
              0.4444444444444444,
              "#bd3786"
             ],
             [
              0.5555555555555556,
              "#d8576b"
             ],
             [
              0.6666666666666666,
              "#ed7953"
             ],
             [
              0.7777777777777778,
              "#fb9f3a"
             ],
             [
              0.8888888888888888,
              "#fdca26"
             ],
             [
              1,
              "#f0f921"
             ]
            ],
            "type": "contour"
           }
          ],
          "contourcarpet": [
           {
            "colorbar": {
             "outlinewidth": 0,
             "ticks": ""
            },
            "type": "contourcarpet"
           }
          ],
          "heatmap": [
           {
            "colorbar": {
             "outlinewidth": 0,
             "ticks": ""
            },
            "colorscale": [
             [
              0,
              "#0d0887"
             ],
             [
              0.1111111111111111,
              "#46039f"
             ],
             [
              0.2222222222222222,
              "#7201a8"
             ],
             [
              0.3333333333333333,
              "#9c179e"
             ],
             [
              0.4444444444444444,
              "#bd3786"
             ],
             [
              0.5555555555555556,
              "#d8576b"
             ],
             [
              0.6666666666666666,
              "#ed7953"
             ],
             [
              0.7777777777777778,
              "#fb9f3a"
             ],
             [
              0.8888888888888888,
              "#fdca26"
             ],
             [
              1,
              "#f0f921"
             ]
            ],
            "type": "heatmap"
           }
          ],
          "heatmapgl": [
           {
            "colorbar": {
             "outlinewidth": 0,
             "ticks": ""
            },
            "colorscale": [
             [
              0,
              "#0d0887"
             ],
             [
              0.1111111111111111,
              "#46039f"
             ],
             [
              0.2222222222222222,
              "#7201a8"
             ],
             [
              0.3333333333333333,
              "#9c179e"
             ],
             [
              0.4444444444444444,
              "#bd3786"
             ],
             [
              0.5555555555555556,
              "#d8576b"
             ],
             [
              0.6666666666666666,
              "#ed7953"
             ],
             [
              0.7777777777777778,
              "#fb9f3a"
             ],
             [
              0.8888888888888888,
              "#fdca26"
             ],
             [
              1,
              "#f0f921"
             ]
            ],
            "type": "heatmapgl"
           }
          ],
          "histogram": [
           {
            "marker": {
             "pattern": {
              "fillmode": "overlay",
              "size": 10,
              "solidity": 0.2
             }
            },
            "type": "histogram"
           }
          ],
          "histogram2d": [
           {
            "colorbar": {
             "outlinewidth": 0,
             "ticks": ""
            },
            "colorscale": [
             [
              0,
              "#0d0887"
             ],
             [
              0.1111111111111111,
              "#46039f"
             ],
             [
              0.2222222222222222,
              "#7201a8"
             ],
             [
              0.3333333333333333,
              "#9c179e"
             ],
             [
              0.4444444444444444,
              "#bd3786"
             ],
             [
              0.5555555555555556,
              "#d8576b"
             ],
             [
              0.6666666666666666,
              "#ed7953"
             ],
             [
              0.7777777777777778,
              "#fb9f3a"
             ],
             [
              0.8888888888888888,
              "#fdca26"
             ],
             [
              1,
              "#f0f921"
             ]
            ],
            "type": "histogram2d"
           }
          ],
          "histogram2dcontour": [
           {
            "colorbar": {
             "outlinewidth": 0,
             "ticks": ""
            },
            "colorscale": [
             [
              0,
              "#0d0887"
             ],
             [
              0.1111111111111111,
              "#46039f"
             ],
             [
              0.2222222222222222,
              "#7201a8"
             ],
             [
              0.3333333333333333,
              "#9c179e"
             ],
             [
              0.4444444444444444,
              "#bd3786"
             ],
             [
              0.5555555555555556,
              "#d8576b"
             ],
             [
              0.6666666666666666,
              "#ed7953"
             ],
             [
              0.7777777777777778,
              "#fb9f3a"
             ],
             [
              0.8888888888888888,
              "#fdca26"
             ],
             [
              1,
              "#f0f921"
             ]
            ],
            "type": "histogram2dcontour"
           }
          ],
          "mesh3d": [
           {
            "colorbar": {
             "outlinewidth": 0,
             "ticks": ""
            },
            "type": "mesh3d"
           }
          ],
          "parcoords": [
           {
            "line": {
             "colorbar": {
              "outlinewidth": 0,
              "ticks": ""
             }
            },
            "type": "parcoords"
           }
          ],
          "pie": [
           {
            "automargin": true,
            "type": "pie"
           }
          ],
          "scatter": [
           {
            "fillpattern": {
             "fillmode": "overlay",
             "size": 10,
             "solidity": 0.2
            },
            "type": "scatter"
           }
          ],
          "scatter3d": [
           {
            "line": {
             "colorbar": {
              "outlinewidth": 0,
              "ticks": ""
             }
            },
            "marker": {
             "colorbar": {
              "outlinewidth": 0,
              "ticks": ""
             }
            },
            "type": "scatter3d"
           }
          ],
          "scattercarpet": [
           {
            "marker": {
             "colorbar": {
              "outlinewidth": 0,
              "ticks": ""
             }
            },
            "type": "scattercarpet"
           }
          ],
          "scattergeo": [
           {
            "marker": {
             "colorbar": {
              "outlinewidth": 0,
              "ticks": ""
             }
            },
            "type": "scattergeo"
           }
          ],
          "scattergl": [
           {
            "marker": {
             "colorbar": {
              "outlinewidth": 0,
              "ticks": ""
             }
            },
            "type": "scattergl"
           }
          ],
          "scattermapbox": [
           {
            "marker": {
             "colorbar": {
              "outlinewidth": 0,
              "ticks": ""
             }
            },
            "type": "scattermapbox"
           }
          ],
          "scatterpolar": [
           {
            "marker": {
             "colorbar": {
              "outlinewidth": 0,
              "ticks": ""
             }
            },
            "type": "scatterpolar"
           }
          ],
          "scatterpolargl": [
           {
            "marker": {
             "colorbar": {
              "outlinewidth": 0,
              "ticks": ""
             }
            },
            "type": "scatterpolargl"
           }
          ],
          "scatterternary": [
           {
            "marker": {
             "colorbar": {
              "outlinewidth": 0,
              "ticks": ""
             }
            },
            "type": "scatterternary"
           }
          ],
          "surface": [
           {
            "colorbar": {
             "outlinewidth": 0,
             "ticks": ""
            },
            "colorscale": [
             [
              0,
              "#0d0887"
             ],
             [
              0.1111111111111111,
              "#46039f"
             ],
             [
              0.2222222222222222,
              "#7201a8"
             ],
             [
              0.3333333333333333,
              "#9c179e"
             ],
             [
              0.4444444444444444,
              "#bd3786"
             ],
             [
              0.5555555555555556,
              "#d8576b"
             ],
             [
              0.6666666666666666,
              "#ed7953"
             ],
             [
              0.7777777777777778,
              "#fb9f3a"
             ],
             [
              0.8888888888888888,
              "#fdca26"
             ],
             [
              1,
              "#f0f921"
             ]
            ],
            "type": "surface"
           }
          ],
          "table": [
           {
            "cells": {
             "fill": {
              "color": "#EBF0F8"
             },
             "line": {
              "color": "white"
             }
            },
            "header": {
             "fill": {
              "color": "#C8D4E3"
             },
             "line": {
              "color": "white"
             }
            },
            "type": "table"
           }
          ]
         },
         "layout": {
          "annotationdefaults": {
           "arrowcolor": "#2a3f5f",
           "arrowhead": 0,
           "arrowwidth": 1
          },
          "autotypenumbers": "strict",
          "coloraxis": {
           "colorbar": {
            "outlinewidth": 0,
            "ticks": ""
           }
          },
          "colorscale": {
           "diverging": [
            [
             0,
             "#8e0152"
            ],
            [
             0.1,
             "#c51b7d"
            ],
            [
             0.2,
             "#de77ae"
            ],
            [
             0.3,
             "#f1b6da"
            ],
            [
             0.4,
             "#fde0ef"
            ],
            [
             0.5,
             "#f7f7f7"
            ],
            [
             0.6,
             "#e6f5d0"
            ],
            [
             0.7,
             "#b8e186"
            ],
            [
             0.8,
             "#7fbc41"
            ],
            [
             0.9,
             "#4d9221"
            ],
            [
             1,
             "#276419"
            ]
           ],
           "sequential": [
            [
             0,
             "#0d0887"
            ],
            [
             0.1111111111111111,
             "#46039f"
            ],
            [
             0.2222222222222222,
             "#7201a8"
            ],
            [
             0.3333333333333333,
             "#9c179e"
            ],
            [
             0.4444444444444444,
             "#bd3786"
            ],
            [
             0.5555555555555556,
             "#d8576b"
            ],
            [
             0.6666666666666666,
             "#ed7953"
            ],
            [
             0.7777777777777778,
             "#fb9f3a"
            ],
            [
             0.8888888888888888,
             "#fdca26"
            ],
            [
             1,
             "#f0f921"
            ]
           ],
           "sequentialminus": [
            [
             0,
             "#0d0887"
            ],
            [
             0.1111111111111111,
             "#46039f"
            ],
            [
             0.2222222222222222,
             "#7201a8"
            ],
            [
             0.3333333333333333,
             "#9c179e"
            ],
            [
             0.4444444444444444,
             "#bd3786"
            ],
            [
             0.5555555555555556,
             "#d8576b"
            ],
            [
             0.6666666666666666,
             "#ed7953"
            ],
            [
             0.7777777777777778,
             "#fb9f3a"
            ],
            [
             0.8888888888888888,
             "#fdca26"
            ],
            [
             1,
             "#f0f921"
            ]
           ]
          },
          "colorway": [
           "#636efa",
           "#EF553B",
           "#00cc96",
           "#ab63fa",
           "#FFA15A",
           "#19d3f3",
           "#FF6692",
           "#B6E880",
           "#FF97FF",
           "#FECB52"
          ],
          "font": {
           "color": "#2a3f5f"
          },
          "geo": {
           "bgcolor": "white",
           "lakecolor": "white",
           "landcolor": "#E5ECF6",
           "showlakes": true,
           "showland": true,
           "subunitcolor": "white"
          },
          "hoverlabel": {
           "align": "left"
          },
          "hovermode": "closest",
          "mapbox": {
           "style": "light"
          },
          "paper_bgcolor": "white",
          "plot_bgcolor": "#E5ECF6",
          "polar": {
           "angularaxis": {
            "gridcolor": "white",
            "linecolor": "white",
            "ticks": ""
           },
           "bgcolor": "#E5ECF6",
           "radialaxis": {
            "gridcolor": "white",
            "linecolor": "white",
            "ticks": ""
           }
          },
          "scene": {
           "xaxis": {
            "backgroundcolor": "#E5ECF6",
            "gridcolor": "white",
            "gridwidth": 2,
            "linecolor": "white",
            "showbackground": true,
            "ticks": "",
            "zerolinecolor": "white"
           },
           "yaxis": {
            "backgroundcolor": "#E5ECF6",
            "gridcolor": "white",
            "gridwidth": 2,
            "linecolor": "white",
            "showbackground": true,
            "ticks": "",
            "zerolinecolor": "white"
           },
           "zaxis": {
            "backgroundcolor": "#E5ECF6",
            "gridcolor": "white",
            "gridwidth": 2,
            "linecolor": "white",
            "showbackground": true,
            "ticks": "",
            "zerolinecolor": "white"
           }
          },
          "shapedefaults": {
           "line": {
            "color": "#2a3f5f"
           }
          },
          "ternary": {
           "aaxis": {
            "gridcolor": "white",
            "linecolor": "white",
            "ticks": ""
           },
           "baxis": {
            "gridcolor": "white",
            "linecolor": "white",
            "ticks": ""
           },
           "bgcolor": "#E5ECF6",
           "caxis": {
            "gridcolor": "white",
            "linecolor": "white",
            "ticks": ""
           }
          },
          "title": {
           "x": 0.05
          },
          "xaxis": {
           "automargin": true,
           "gridcolor": "white",
           "linecolor": "white",
           "ticks": "",
           "title": {
            "standoff": 15
           },
           "zerolinecolor": "white",
           "zerolinewidth": 2
          },
          "yaxis": {
           "automargin": true,
           "gridcolor": "white",
           "linecolor": "white",
           "ticks": "",
           "title": {
            "standoff": 15
           },
           "zerolinecolor": "white",
           "zerolinewidth": 2
          }
         }
        },
        "title": {
         "text": "Mapa de Calor de Respuestas por Hora del Día y Día de la Semana"
        },
        "xaxis": {
         "anchor": "y",
         "constrain": "domain",
         "domain": [
          0,
          1
         ],
         "scaleanchor": "y",
         "title": {
          "text": "Hora del día"
         }
        },
        "yaxis": {
         "anchor": "x",
         "autorange": "reversed",
         "constrain": "domain",
         "domain": [
          0,
          1
         ],
         "title": {
          "text": "Día de la semana"
         }
        }
       }
      }
     },
     "metadata": {},
     "output_type": "display_data"
    }
   ],
   "source": [
    "import pytz\n",
    "\n",
    "horas_dias_respuestas = []\n",
    "timezone_cdmx = pytz.timezone('America/Mexico_City')\n",
    "\n",
    "for _, row in df_bancoppel.iterrows():\n",
    "    try:\n",
    "        if isinstance(row['messages'], str):\n",
    "            messages = json.loads(row['messages'])\n",
    "        elif isinstance(row['messages'], list):\n",
    "            messages = row['messages']\n",
    "        else:\n",
    "            continue \n",
    "        \n",
    "        for message in messages:\n",
    "            if message.get('role') != 'assistant' and message.get('direction') == 'incoming':\n",
    "                created_at = message.get('createdAt')\n",
    "                if created_at:\n",
    "                    dt = pd.to_datetime(created_at).tz_convert('UTC')  # Convertimos a UTC\n",
    "                    dt_cdmx = dt.tz_convert(timezone_cdmx)  # Convertimos de UTC a la zona horaria de CDMX\n",
    "                    day_of_week = dt_cdmx.strftime('%A')\n",
    "                    hour_of_day = dt_cdmx.hour\n",
    "                    horas_dias_respuestas.append((day_of_week, hour_of_day))\n",
    "\n",
    "    except (json.JSONDecodeError, TypeError) as e:\n",
    "        print(f\"Error al procesar la fila: {e}\")\n",
    "\n",
    "df_horas_dias_respuestas = pd.DataFrame(horas_dias_respuestas, columns=['Día de la semana', 'Hora del día'])\n",
    "\n",
    "df_horas_dias_respuestas['Día de la semana'] = df_horas_dias_respuestas['Día de la semana'].replace({\n",
    "    'Monday': 'lunes',\n",
    "    'Tuesday': 'martes',\n",
    "    'Wednesday': 'miércoles',\n",
    "    'Thursday': 'jueves',\n",
    "    'Friday': 'viernes',\n",
    "    'Saturday': 'sábado',\n",
    "    'Sunday': 'domingo'\n",
    "})\n",
    "\n",
    "heatmap_data = df_horas_dias_respuestas.pivot_table(index='Día de la semana', columns='Hora del día', aggfunc='size', fill_value=0)\n",
    "\n",
    "heatmap_data = heatmap_data.reindex([\"lunes\", \"martes\", \"miércoles\", \"jueves\", \"viernes\", \"sábado\", \"domingo\"])\n",
    "\n",
    "fig = px.imshow(heatmap_data, labels=dict(x=\"Hora del día\", y=\"Día de la semana\", color=\"Cantidad de respuestas\"),\n",
    "                x=heatmap_data.columns, y=heatmap_data.index,\n",
    "                title=\"Mapa de Calor de Respuestas por Hora del Día y Día de la Semana\")\n",
    "\n",
    "fig.show()\n"
   ]
  },
  {
   "cell_type": "markdown",
   "metadata": {},
   "source": [
    "<font size = 7 color ='27A3D7'>Mapa</font>\n",
    "\n",
    "---"
   ]
  },
  {
   "cell_type": "code",
   "execution_count": null,
   "metadata": {},
   "outputs": [],
   "source": []
  }
 ],
 "metadata": {
  "kernelspec": {
   "display_name": "Python 3",
   "language": "python",
   "name": "python3"
  },
  "language_info": {
   "codemirror_mode": {
    "name": "ipython",
    "version": 3
   },
   "file_extension": ".py",
   "mimetype": "text/x-python",
   "name": "python",
   "nbconvert_exporter": "python",
   "pygments_lexer": "ipython3",
   "version": "3.9.7"
  }
 },
 "nbformat": 4,
 "nbformat_minor": 2
}
