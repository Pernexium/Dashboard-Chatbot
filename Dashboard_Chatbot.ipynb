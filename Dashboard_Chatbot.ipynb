{
 "cells": [
  {
   "cell_type": "markdown",
   "metadata": {},
   "source": [
    "<font size = 8 color ='27A3D7'>Dashboard del Chatbot</font>\n",
    "\n",
    "---"
   ]
  },
  {
   "cell_type": "markdown",
   "metadata": {},
   "source": [
    "Este dashboard debe ser desarrollado usando streamlit, y debe funcionar por filtros dependiento la campaña que se ocupe, el usuario debe tener la posibilidad de modificar los filtros de acuerdo a la necesidad."
   ]
  },
  {
   "cell_type": "markdown",
   "metadata": {},
   "source": [
    "#### Reporte: https://docs.google.com/document/d/1n3Kw6Y5ToY3OntV1OtoagU3tRSi7315E/edit"
   ]
  },
  {
   "cell_type": "markdown",
   "metadata": {},
   "source": [
    "### Paleta de Colores\n",
    "\n",
    "---"
   ]
  },
  {
   "cell_type": "markdown",
   "metadata": {},
   "source": [
    "<span style=\"color:#06417C;\">Texto en #06417C</span>&nbsp;&nbsp;&nbsp;&nbsp;<span style=\"color:#145CB3;\">Texto en #145CB3</span>&nbsp;&nbsp;&nbsp;&nbsp;<span style=\"color:#27A3D7;\">Texto en #27A3D7</span>&nbsp;&nbsp;&nbsp;&nbsp;<span style=\"color:#EDF3F9;\">Texto en #EDF3F9</span>&nbsp;&nbsp;&nbsp;&nbsp;<span style=\"color:#F7A94B;\">Texto en #F7A94B</span>&nbsp;&nbsp;&nbsp;&nbsp;<span style=\"color:#56070C;\">Texto en #56070C</span>\n"
   ]
  },
  {
   "cell_type": "markdown",
   "metadata": {},
   "source": [
    "<span style=\"color:rgb(6, 65, 124);\">Texto en RGB(6, 65, 124)</span>&nbsp;&nbsp;&nbsp;&nbsp;<span style=\"color:rgb(20, 92, 179);\">Texto en RGB(20, 92, 179)</span>&nbsp;&nbsp;&nbsp;&nbsp;<span style=\"color:rgb(39, 163, 215);\">Texto en RGB(39, 163, 215)</span>&nbsp;&nbsp;&nbsp;&nbsp;<span style=\"color:rgb(237, 243, 249);\">Texto en RGB(237, 243, 249)</span>&nbsp;&nbsp;&nbsp;&nbsp;<span style=\"color:rgb(247, 169, 75);\">Texto en RGB(247, 169, 75)</span>&nbsp;&nbsp;&nbsp;&nbsp;<span style=\"color:rgb(86, 7, 12);\">Texto en RGB(86, 7, 12)</span>\n"
   ]
  },
  {
   "cell_type": "markdown",
   "metadata": {},
   "source": [
    "## Autenticación\n",
    "\n",
    "---\n",
    "\n",
    "- Ponerles login: Inicio de Streamlit, el repo publico pero la app no. "
   ]
  },
  {
   "cell_type": "markdown",
   "metadata": {},
   "source": [
    "---"
   ]
  },
  {
   "cell_type": "markdown",
   "metadata": {},
   "source": [
    "## Documentación"
   ]
  },
  {
   "cell_type": "markdown",
   "metadata": {},
   "source": [
    "\n",
    "\n",
    "| **Attribute Name**   | **Attribute Type** | **Description**                                                                 |\n",
    "|----------------------|--------------------|---------------------------------------------------------------------------------|\n",
    "| `product`            | string             | Nombre del producto asociado al contacto, como una tarjeta de crédito.          |\n",
    "| `created_at`         | string             | Fecha en la que se creó este registro.                                          |\n",
    "| `contact_phone`      | string             | Número de teléfono del contacto.                                                |\n",
    "| `bot_id`             | string             | Identificador en RDS del bot al que pertenece el contacto.                      |\n",
    "| `status`             | string             | Estado del contacto en relación a las contactaciones: `fc` (primer contacto), `ws` (sin estado), `bs` (antes del estado), `rc` (reintento de contacto). |\n",
    "| `enterprise_id`      | string             | ID en RDS de la empresa a la que pertenece el contacto: 3. Monte 2. BanCoppel   |\n",
    "| `last_message_at`    | string             | Fecha y hora del último mensaje recibido en la conversación.                    |\n",
    "| `unseen_messages`    | boolean            | Indicador de si hay mensajes pendientes no vistos del contacto.                 |\n",
    "| `discount`           | string             | Porcentaje de descuento autorizado al contacto para liquidar.                   |\n",
    "| `last_template_at`   | string             | Fecha y hora en que se envió el último mensaje de plantilla.                    |\n",
    "| `total_balance`      | float              | Monto de dinero adeudado por el contacto.                                       |\n",
    "| `credit`             | string             | Si aplica, número de crédito del contacto.                                      |\n",
    "| `user_id`            | string             | ID de la cuenta del agente que está chateando con este contacto (obtenido de AWS Cognito). |\n",
    "| `template_id`        | string             | Plantilla seleccionada para la contactación cuando se subió el contacto.        |\n",
    "| `last_name`          | string             | Apellido del contacto.                                                          |\n",
    "| `messages`           | map                | Objeto JSON en forma de cadena que contiene el historial de mensajes entre el usuario y el bot/agente. |\n",
    "| `first_name`         | string             | Nombre del contacto.                                                            |\n",
    "| `retry_count`        | integer            | Contador para registrar los intentos de contacto.                               |\n",
    "| `session_id`         | string             | Identificador de la API Meta Cloud del número de teléfono.                      |\n",
    "| `bot_enabled`        | boolean            | Indicador que determina si el bot responderá el chat si se recibe una respuesta. |\n",
    "| `tag`                | string             | Etiqueta para definir el estado de la conversación (usado para clasificación).   |\n",
    "| `error`              | string             | Etiqueta para...                                                                 |\n",
    "\n",
    "\n",
    "\n"
   ]
  },
  {
   "cell_type": "markdown",
   "metadata": {},
   "source": [
    "Link de documentación: https://www.notion.so/pernexium/Data-Bases-Documentation-766c6f74424e45bcb10c5d290161a9f1"
   ]
  },
  {
   "cell_type": "markdown",
   "metadata": {},
   "source": [
    "## Mensajes en Meta\n",
    "\n",
    "---\n",
    "\n",
    "\n",
    "Status de los mensajes: https://developers.facebook.com/docs/whatsapp/on-premises/webhooks/outbound/?locale=es_LA\n",
    "\n",
    "| Nombre   | Descripción                                                                                                                                                                                      |\n",
    "|----------|---------------------------------------------------------------------------------------------------------------------------------------------------------------------------------------------------|\n",
    "| deleted  | El usuario eliminó un mensaje que envió. Cuando recibas esta notificación, deberás eliminar el mensaje del sistema si se descargó previamente desde el servidor.                                   |\n",
    "| delivered| El dispositivo del usuario recibió el mensaje enviado por tu empresa.                                                                                                                              |\n",
    "| failed   | No se pudo enviar el mensaje de tu empresa. Se incluirá el motivo del error en la devolución de llamada. Consulta la documentación sobre mensajes de error para obtener ayuda con la depuración:   |\n",
    "|          | - Errores de la API de instalaciones locales                                                                                                                                                       |\n",
    "|          | - Códigos de error y Solución de problemas de la API de la nube                                                                                                                                    |\n",
    "| read     | El usuario leyó un mensaje que envió tu empresa. Las notificaciones read solo están disponibles para los usuarios que tengan activadas las confirmaciones de lectura. Los usuarios que no las tengan activadas solo recibirán la notificación delivered. |\n",
    "| sent     | Un mensaje enviado por tu empresa se encuentra en tránsito dentro de nuestros sistemas.                                                                                                             |\n",
    "|          | Usuarios de la API de instalaciones locales: para recibir notificaciones de mensajes sent, es necesario definir sent_status como true en la configuración de la app. La notificación de estado sent está desactivada de manera predeterminada.          |\n",
    "| warning  | Un mensaje enviado por tu empresa contiene un artículo de un catálogo que no está disponible o no existe.                                                                                           |\n"
   ]
  },
  {
   "cell_type": "markdown",
   "metadata": {},
   "source": [
    "### Importamos librerías\n",
    "\n",
    "---"
   ]
  },
  {
   "cell_type": "code",
   "execution_count": 562,
   "metadata": {},
   "outputs": [],
   "source": [
    "import json\n",
    "import boto3\n",
    "import random\n",
    "import datetime\n",
    "import numpy as np\n",
    "import pandas as pd\n",
    "from tqdm import tqdm\n",
    "from io import BytesIO\n",
    "import plotly.express as px\n",
    "from datetime import datetime\n",
    "import plotly.graph_objects as go\n",
    "\n",
    "import warnings\n",
    "warnings.filterwarnings(\"ignore\")"
   ]
  },
  {
   "cell_type": "markdown",
   "metadata": {},
   "source": [
    "## Importamos la base de BanCoppel desde S3\n",
    "\n",
    "---"
   ]
  },
  {
   "cell_type": "code",
   "execution_count": 563,
   "metadata": {},
   "outputs": [],
   "source": [
    "\n",
    "\n",
    "\n",
    "def create_aws_session():\n",
    "    session = boto3.Session(\n",
    "        aws_access_key_id = AWS_ACCESS_KEY_ID,\n",
    "        aws_secret_access_key = AWS_SECRET_ACCESS_KEY,\n",
    "        region_name = AWS_REGION\n",
    "    )\n",
    "    return session"
   ]
  },
  {
   "cell_type": "code",
   "execution_count": 564,
   "metadata": {},
   "outputs": [],
   "source": [
    "session = create_aws_session()\n",
    "s3_client = session.client('s3')\n",
    "\n",
    "current_date = datetime.now().strftime('%Y_%m')\n",
    "bucket_name = 's3-pernexium-report'\n",
    "prefix = f'raw/bancoppel/replica_dynamo_chatbot/{current_date}/'\n",
    "response = s3_client.list_objects_v2(Bucket = bucket_name, Prefix = prefix)\n",
    "files = response.get('Contents', [])\n",
    "files_sorted = sorted(files, key = lambda x: x['LastModified'], reverse = True)\n",
    "latest_file = files_sorted[0]['Key']\n",
    "response = s3_client.get_object(Bucket = bucket_name, Key = latest_file)\n",
    "content = response['Body'].read()\n",
    "df_bancoppel = pd.read_json(BytesIO(content), lines = True)"
   ]
  },
  {
   "cell_type": "code",
   "execution_count": 565,
   "metadata": {},
   "outputs": [],
   "source": [
    "json_data = json.loads(content)\n",
    "if isinstance(json_data, list):\n",
    "    df_bancoppel = pd.DataFrame(json_data)\n",
    "else:\n",
    "    df_bancoppel = pd.json_normalize(json_data)"
   ]
  },
  {
   "cell_type": "code",
   "execution_count": 566,
   "metadata": {},
   "outputs": [
    {
     "name": "stdout",
     "output_type": "stream",
     "text": [
      "(27494, 22)\n"
     ]
    }
   ],
   "source": [
    "print(df_bancoppel.shape)"
   ]
  },
  {
   "cell_type": "code",
   "execution_count": 567,
   "metadata": {},
   "outputs": [
    {
     "data": {
      "text/html": [
       "<div>\n",
       "<style scoped>\n",
       "    .dataframe tbody tr th:only-of-type {\n",
       "        vertical-align: middle;\n",
       "    }\n",
       "\n",
       "    .dataframe tbody tr th {\n",
       "        vertical-align: top;\n",
       "    }\n",
       "\n",
       "    .dataframe thead th {\n",
       "        text-align: right;\n",
       "    }\n",
       "</style>\n",
       "<table border=\"1\" class=\"dataframe\">\n",
       "  <thead>\n",
       "    <tr style=\"text-align: right;\">\n",
       "      <th></th>\n",
       "      <th>product</th>\n",
       "      <th>created_at</th>\n",
       "      <th>contact_phone</th>\n",
       "      <th>bot_id</th>\n",
       "      <th>status</th>\n",
       "      <th>enterprise_id</th>\n",
       "      <th>last_message_at</th>\n",
       "      <th>unseen_messages</th>\n",
       "      <th>discount</th>\n",
       "      <th>last_template_at</th>\n",
       "      <th>...</th>\n",
       "      <th>user_id</th>\n",
       "      <th>template_id</th>\n",
       "      <th>last_name</th>\n",
       "      <th>messages</th>\n",
       "      <th>first_name</th>\n",
       "      <th>retry_count</th>\n",
       "      <th>session_id</th>\n",
       "      <th>bot_enabled</th>\n",
       "      <th>tag</th>\n",
       "      <th>error</th>\n",
       "    </tr>\n",
       "  </thead>\n",
       "  <tbody>\n",
       "    <tr>\n",
       "      <th>0</th>\n",
       "      <td>TDC VISA</td>\n",
       "      <td>2024-07-26T18:41:58.692Z</td>\n",
       "      <td>5212201140267</td>\n",
       "      <td>13c046be-c642-490a-bf8b-92206ca5a54d</td>\n",
       "      <td>rc</td>\n",
       "      <td>2</td>\n",
       "      <td>1970-01-01T00:00:00.000Z</td>\n",
       "      <td>False</td>\n",
       "      <td>0</td>\n",
       "      <td>2024-08-22T15:58:31.325Z</td>\n",
       "      <td>...</td>\n",
       "      <td>015bf5b0-0021-70bd-02d0-8a3d232785c2</td>\n",
       "      <td>banco_nos_interesa_acuerdo</td>\n",
       "      <td>JOSE</td>\n",
       "      <td>[{'createdAt': '2024-07-26T18:44:10.501Z', 'role': 'assistant', 'content': 'Template \"banco_liquidacion_3_1\" enviado (Solo tú puedes ver este mensaje)', 'direction': 'outgoing'}, {'createdAt': '2024-07-26T18:44:10.501Z', 'role': 'assistant', 'id': 'wamid.HBgNNTIxMjIwMTE0MDI2NxUCABEYEjIwOTYxNjM5RjVGMDNFNDMxNwA=', 'content': 'Aprovecha esta oportunidad que BanCoppel tiene para ti, para que liquides tu cuenta, tenemos opciones para ti, estamos para apoyarte.', 'direction': 'outgoing', 'status': 'failed'}, {'createdAt': '2024-08-22T15:58:31.325Z', 'role': 'assistant', 'content': 'Template \"banco_nos_interesa_acuerdo\" enviado (Solo tú puedes ver este mensaje)', 'direction': 'outgoing'}, {'createdAt': '2024-08-22T15:58:31.325Z', 'role': 'assistant', 'id': 'wamid.HBgNNTIxMjIwMTE0MDI2NxUCABEYEjI5QkZDQjQ2Q0VFRUE0NkFDNgA=', 'content': 'Nos interesa llegar a un acuerdo para tu credito *BanCoppel*, estamos para ayudarte, ¿qué opinas?', 'direction': 'outgoing', 'status': 'failed'}]</td>\n",
       "      <td>MARIA</td>\n",
       "      <td>1</td>\n",
       "      <td>353257377876857</td>\n",
       "      <td>True</td>\n",
       "      <td>NaN</td>\n",
       "      <td>NaN</td>\n",
       "    </tr>\n",
       "    <tr>\n",
       "      <th>1</th>\n",
       "      <td>TDC VISA</td>\n",
       "      <td>2024-08-01T00:02:52.340Z</td>\n",
       "      <td>5212211180442</td>\n",
       "      <td>13c046be-c642-490a-bf8b-92206ca5a54d</td>\n",
       "      <td>rc</td>\n",
       "      <td>2</td>\n",
       "      <td>1970-01-01T00:00:00.000Z</td>\n",
       "      <td>False</td>\n",
       "      <td>0</td>\n",
       "      <td>2024-08-10T14:48:24.586Z</td>\n",
       "      <td>...</td>\n",
       "      <td>015bf5b0-0021-70bd-02d0-8a3d232785c2</td>\n",
       "      <td>banco_tenemos_alternativas</td>\n",
       "      <td>FABIOLA</td>\n",
       "      <td>[{'createdAt': '2024-08-01T00:07:50.281Z', 'role': 'assistant', 'content': 'Template \"banco_como_te_ayudamos\" enviado (Solo tú puedes ver este mensaje)', 'direction': 'outgoing'}, {'createdAt': '2024-08-01T00:07:50.281Z', 'role': 'assistant', 'id': 'wamid.HBgNNTIxMjIxMTE4MDQ0MhUCABEYEjY4MDQ5NEQxRUIyOUI1M0RDMwA=', 'content': 'Estimado cliente de *BanCoppel* queremos ayudarte para que liquides tu credito, ¿cómo te podemos apoyar?', 'direction': 'outgoing', 'status': 'failed'}, {'createdAt': '2024-08-10T14:48:24.586Z', 'role': 'assistant', 'content': 'Template \"banco_tenemos_alternativas\" enviado (Solo tú puedes ver este mensaje)', 'direction': 'outgoing'}, {'createdAt': '2024-08-10T14:48:24.586Z', 'role': 'assistant', 'id': 'wamid.HBgNNTIxMjIxMTE4MDQ0MhUCABEYEkI3NkUzNzM3QUU3QzFDMkJCNQA=', 'content': '¡Excelente día! tenemos muy buenas alternativas para que liquides tu cuenta con *BanCoppel*, esperamos tu respuesta.', 'direction': 'outgoing', 'status': 'failed'}]</td>\n",
       "      <td>GLENDA</td>\n",
       "      <td>1</td>\n",
       "      <td>353257377876857</td>\n",
       "      <td>True</td>\n",
       "      <td>NaN</td>\n",
       "      <td>NaN</td>\n",
       "    </tr>\n",
       "    <tr>\n",
       "      <th>2</th>\n",
       "      <td>TDC VISA</td>\n",
       "      <td>2024-08-22T15:52:01.079Z</td>\n",
       "      <td>5212211256467</td>\n",
       "      <td>13c046be-c642-490a-bf8b-92206ca5a54d</td>\n",
       "      <td>fc</td>\n",
       "      <td>2</td>\n",
       "      <td>1970-01-01T00:00:00.000Z</td>\n",
       "      <td>False</td>\n",
       "      <td>0</td>\n",
       "      <td>2024-08-22T15:55:08.891Z</td>\n",
       "      <td>...</td>\n",
       "      <td>015bf5b0-0021-70bd-02d0-8a3d232785c2</td>\n",
       "      <td>banco_nos_interesa_acuerdo</td>\n",
       "      <td>TLAHUEL</td>\n",
       "      <td>[{'createdAt': '2024-08-22T15:55:08.891Z', 'role': 'assistant', 'content': 'Template \"banco_nos_interesa_acuerdo\" enviado (Solo tú puedes ver este mensaje)', 'direction': 'outgoing'}, {'createdAt': '2024-08-22T15:55:08.891Z', 'role': 'assistant', 'id': 'wamid.HBgNNTIxMjIxMTI1NjQ2NxUCABEYEkMyNUFCNkYzMDUxQzNERDczQQA=', 'content': 'Nos interesa llegar a un acuerdo para tu credito *BanCoppel*, estamos para ayudarte, ¿qué opinas?', 'direction': 'outgoing', 'status': 'read'}]</td>\n",
       "      <td>ENRIQUE</td>\n",
       "      <td>0</td>\n",
       "      <td>353257377876857</td>\n",
       "      <td>True</td>\n",
       "      <td>NaN</td>\n",
       "      <td>NaN</td>\n",
       "    </tr>\n",
       "  </tbody>\n",
       "</table>\n",
       "<p>3 rows × 22 columns</p>\n",
       "</div>"
      ],
      "text/plain": [
       "    product                created_at  contact_phone  \\\n",
       "0  TDC VISA  2024-07-26T18:41:58.692Z  5212201140267   \n",
       "1  TDC VISA  2024-08-01T00:02:52.340Z  5212211180442   \n",
       "2  TDC VISA  2024-08-22T15:52:01.079Z  5212211256467   \n",
       "\n",
       "                                 bot_id status enterprise_id  \\\n",
       "0  13c046be-c642-490a-bf8b-92206ca5a54d     rc             2   \n",
       "1  13c046be-c642-490a-bf8b-92206ca5a54d     rc             2   \n",
       "2  13c046be-c642-490a-bf8b-92206ca5a54d     fc             2   \n",
       "\n",
       "            last_message_at  unseen_messages discount  \\\n",
       "0  1970-01-01T00:00:00.000Z            False        0   \n",
       "1  1970-01-01T00:00:00.000Z            False        0   \n",
       "2  1970-01-01T00:00:00.000Z            False        0   \n",
       "\n",
       "           last_template_at  ...                               user_id  \\\n",
       "0  2024-08-22T15:58:31.325Z  ...  015bf5b0-0021-70bd-02d0-8a3d232785c2   \n",
       "1  2024-08-10T14:48:24.586Z  ...  015bf5b0-0021-70bd-02d0-8a3d232785c2   \n",
       "2  2024-08-22T15:55:08.891Z  ...  015bf5b0-0021-70bd-02d0-8a3d232785c2   \n",
       "\n",
       "                  template_id last_name  \\\n",
       "0  banco_nos_interesa_acuerdo      JOSE   \n",
       "1  banco_tenemos_alternativas   FABIOLA   \n",
       "2  banco_nos_interesa_acuerdo   TLAHUEL   \n",
       "\n",
       "                                                                                                                                                                                                                                                                                                                                                                                                                                                                                                                                                                                                                                                                                                                                                                                                                                                                                                                                                                                                                  messages  \\\n",
       "0  [{'createdAt': '2024-07-26T18:44:10.501Z', 'role': 'assistant', 'content': 'Template \"banco_liquidacion_3_1\" enviado (Solo tú puedes ver este mensaje)', 'direction': 'outgoing'}, {'createdAt': '2024-07-26T18:44:10.501Z', 'role': 'assistant', 'id': 'wamid.HBgNNTIxMjIwMTE0MDI2NxUCABEYEjIwOTYxNjM5RjVGMDNFNDMxNwA=', 'content': 'Aprovecha esta oportunidad que BanCoppel tiene para ti, para que liquides tu cuenta, tenemos opciones para ti, estamos para apoyarte.', 'direction': 'outgoing', 'status': 'failed'}, {'createdAt': '2024-08-22T15:58:31.325Z', 'role': 'assistant', 'content': 'Template \"banco_nos_interesa_acuerdo\" enviado (Solo tú puedes ver este mensaje)', 'direction': 'outgoing'}, {'createdAt': '2024-08-22T15:58:31.325Z', 'role': 'assistant', 'id': 'wamid.HBgNNTIxMjIwMTE0MDI2NxUCABEYEjI5QkZDQjQ2Q0VFRUE0NkFDNgA=', 'content': 'Nos interesa llegar a un acuerdo para tu credito *BanCoppel*, estamos para ayudarte, ¿qué opinas?', 'direction': 'outgoing', 'status': 'failed'}]   \n",
       "1           [{'createdAt': '2024-08-01T00:07:50.281Z', 'role': 'assistant', 'content': 'Template \"banco_como_te_ayudamos\" enviado (Solo tú puedes ver este mensaje)', 'direction': 'outgoing'}, {'createdAt': '2024-08-01T00:07:50.281Z', 'role': 'assistant', 'id': 'wamid.HBgNNTIxMjIxMTE4MDQ0MhUCABEYEjY4MDQ5NEQxRUIyOUI1M0RDMwA=', 'content': 'Estimado cliente de *BanCoppel* queremos ayudarte para que liquides tu credito, ¿cómo te podemos apoyar?', 'direction': 'outgoing', 'status': 'failed'}, {'createdAt': '2024-08-10T14:48:24.586Z', 'role': 'assistant', 'content': 'Template \"banco_tenemos_alternativas\" enviado (Solo tú puedes ver este mensaje)', 'direction': 'outgoing'}, {'createdAt': '2024-08-10T14:48:24.586Z', 'role': 'assistant', 'id': 'wamid.HBgNNTIxMjIxMTE4MDQ0MhUCABEYEkI3NkUzNzM3QUU3QzFDMkJCNQA=', 'content': '¡Excelente día! tenemos muy buenas alternativas para que liquides tu cuenta con *BanCoppel*, esperamos tu respuesta.', 'direction': 'outgoing', 'status': 'failed'}]   \n",
       "2                                                                                                                                                                                                                                                                                                                                                                                                                                                                                                                               [{'createdAt': '2024-08-22T15:55:08.891Z', 'role': 'assistant', 'content': 'Template \"banco_nos_interesa_acuerdo\" enviado (Solo tú puedes ver este mensaje)', 'direction': 'outgoing'}, {'createdAt': '2024-08-22T15:55:08.891Z', 'role': 'assistant', 'id': 'wamid.HBgNNTIxMjIxMTI1NjQ2NxUCABEYEkMyNUFCNkYzMDUxQzNERDczQQA=', 'content': 'Nos interesa llegar a un acuerdo para tu credito *BanCoppel*, estamos para ayudarte, ¿qué opinas?', 'direction': 'outgoing', 'status': 'read'}]   \n",
       "\n",
       "  first_name retry_count       session_id bot_enabled  tag  error  \n",
       "0      MARIA           1  353257377876857        True  NaN    NaN  \n",
       "1     GLENDA           1  353257377876857        True  NaN    NaN  \n",
       "2    ENRIQUE           0  353257377876857        True  NaN    NaN  \n",
       "\n",
       "[3 rows x 22 columns]"
      ]
     },
     "execution_count": 567,
     "metadata": {},
     "output_type": "execute_result"
    }
   ],
   "source": [
    "df_bancoppel.head(3)"
   ]
  },
  {
   "cell_type": "markdown",
   "metadata": {},
   "source": [
    "{**'createdAt'**: '2024-08-07T16:36:10.054Z', **'role'**: 'assistant', **'id'**: 'wamid.HBgNNTIxMjIxMTM4NTI0NxUCABEYEkYzOUVGMEY1NzEzNzA4N0JDNgA=', **'content'**: 'Bancoppel te agradece la liquidación de tu saldo vencido, o bien pregunta por las alternativas que tenemos para ti, esperamos tu pronta respuesta', **'direction':** 'outgoing', **'status':** 'failed'}]\n",
    "Name: messages, dtype: object"
   ]
  },
  {
   "cell_type": "code",
   "execution_count": 568,
   "metadata": {},
   "outputs": [
    {
     "data": {
      "text/plain": [
       "Index(['product', 'created_at', 'contact_phone', 'bot_id', 'status',\n",
       "       'enterprise_id', 'last_message_at', 'unseen_messages', 'discount',\n",
       "       'last_template_at', 'total_balance', 'credit', 'user_id', 'template_id',\n",
       "       'last_name', 'messages', 'first_name', 'retry_count', 'session_id',\n",
       "       'bot_enabled', 'tag', 'error'],\n",
       "      dtype='object')"
      ]
     },
     "execution_count": 568,
     "metadata": {},
     "output_type": "execute_result"
    }
   ],
   "source": [
    "df_bancoppel.columns"
   ]
  },
  {
   "cell_type": "markdown",
   "metadata": {},
   "source": [
    "## Análisis de Datos: Respondiento preguntas para BanCoppel\n",
    "\n",
    "---"
   ]
  },
  {
   "cell_type": "code",
   "execution_count": 569,
   "metadata": {},
   "outputs": [
    {
     "name": "stdout",
     "output_type": "stream",
     "text": [
      "<class 'pandas.core.frame.DataFrame'>\n",
      "RangeIndex: 27494 entries, 0 to 27493\n",
      "Data columns (total 22 columns):\n",
      " #   Column            Non-Null Count  Dtype \n",
      "---  ------            --------------  ----- \n",
      " 0   product           27493 non-null  object\n",
      " 1   created_at        27494 non-null  object\n",
      " 2   contact_phone     27494 non-null  object\n",
      " 3   bot_id            27494 non-null  object\n",
      " 4   status            27494 non-null  object\n",
      " 5   enterprise_id     27494 non-null  object\n",
      " 6   last_message_at   27494 non-null  object\n",
      " 7   unseen_messages   27494 non-null  bool  \n",
      " 8   discount          27494 non-null  object\n",
      " 9   last_template_at  27494 non-null  object\n",
      " 10  total_balance     27494 non-null  object\n",
      " 11  credit            27494 non-null  object\n",
      " 12  user_id           27494 non-null  object\n",
      " 13  template_id       27494 non-null  object\n",
      " 14  last_name         27494 non-null  object\n",
      " 15  messages          27494 non-null  object\n",
      " 16  first_name        27494 non-null  object\n",
      " 17  retry_count       27494 non-null  object\n",
      " 18  session_id        27494 non-null  object\n",
      " 19  bot_enabled       27494 non-null  bool  \n",
      " 20  tag               1758 non-null   object\n",
      " 21  error             2 non-null      object\n",
      "dtypes: bool(2), object(20)\n",
      "memory usage: 4.2+ MB\n"
     ]
    }
   ],
   "source": [
    "df_bancoppel.info()"
   ]
  },
  {
   "cell_type": "code",
   "execution_count": 570,
   "metadata": {},
   "outputs": [
    {
     "data": {
      "text/html": [
       "<div>\n",
       "<style scoped>\n",
       "    .dataframe tbody tr th:only-of-type {\n",
       "        vertical-align: middle;\n",
       "    }\n",
       "\n",
       "    .dataframe tbody tr th {\n",
       "        vertical-align: top;\n",
       "    }\n",
       "\n",
       "    .dataframe thead th {\n",
       "        text-align: right;\n",
       "    }\n",
       "</style>\n",
       "<table border=\"1\" class=\"dataframe\">\n",
       "  <thead>\n",
       "    <tr style=\"text-align: right;\">\n",
       "      <th></th>\n",
       "      <th>product</th>\n",
       "      <th>created_at</th>\n",
       "      <th>contact_phone</th>\n",
       "      <th>bot_id</th>\n",
       "      <th>status</th>\n",
       "      <th>enterprise_id</th>\n",
       "      <th>last_message_at</th>\n",
       "      <th>unseen_messages</th>\n",
       "      <th>discount</th>\n",
       "      <th>last_template_at</th>\n",
       "      <th>...</th>\n",
       "      <th>user_id</th>\n",
       "      <th>template_id</th>\n",
       "      <th>last_name</th>\n",
       "      <th>messages</th>\n",
       "      <th>first_name</th>\n",
       "      <th>retry_count</th>\n",
       "      <th>session_id</th>\n",
       "      <th>bot_enabled</th>\n",
       "      <th>tag</th>\n",
       "      <th>error</th>\n",
       "    </tr>\n",
       "  </thead>\n",
       "  <tbody>\n",
       "    <tr>\n",
       "      <th>count</th>\n",
       "      <td>27493</td>\n",
       "      <td>27494</td>\n",
       "      <td>27494</td>\n",
       "      <td>27494</td>\n",
       "      <td>27494</td>\n",
       "      <td>27494</td>\n",
       "      <td>27494</td>\n",
       "      <td>27494</td>\n",
       "      <td>27494</td>\n",
       "      <td>27494</td>\n",
       "      <td>...</td>\n",
       "      <td>27494</td>\n",
       "      <td>27494</td>\n",
       "      <td>27494</td>\n",
       "      <td>27494</td>\n",
       "      <td>27494</td>\n",
       "      <td>27494</td>\n",
       "      <td>27494</td>\n",
       "      <td>27494</td>\n",
       "      <td>1758</td>\n",
       "      <td>2</td>\n",
       "    </tr>\n",
       "    <tr>\n",
       "      <th>unique</th>\n",
       "      <td>5</td>\n",
       "      <td>26888</td>\n",
       "      <td>25766</td>\n",
       "      <td>2</td>\n",
       "      <td>3</td>\n",
       "      <td>1</td>\n",
       "      <td>3407</td>\n",
       "      <td>2</td>\n",
       "      <td>2</td>\n",
       "      <td>27494</td>\n",
       "      <td>...</td>\n",
       "      <td>8</td>\n",
       "      <td>14</td>\n",
       "      <td>3678</td>\n",
       "      <td>27494</td>\n",
       "      <td>2889</td>\n",
       "      <td>12</td>\n",
       "      <td>1</td>\n",
       "      <td>2</td>\n",
       "      <td>9</td>\n",
       "      <td>1</td>\n",
       "    </tr>\n",
       "    <tr>\n",
       "      <th>top</th>\n",
       "      <td>TDC VISA</td>\n",
       "      <td>2024-08-07T15:20:19.591Z</td>\n",
       "      <td>5216648057935</td>\n",
       "      <td>13c046be-c642-490a-bf8b-92206ca5a54d</td>\n",
       "      <td>rc</td>\n",
       "      <td>2</td>\n",
       "      <td>1970-01-01T00:00:00.000Z</td>\n",
       "      <td>False</td>\n",
       "      <td>0</td>\n",
       "      <td>2024-08-22T15:58:31.325Z</td>\n",
       "      <td>...</td>\n",
       "      <td>311b05e0-60a1-70e9-63dc-771c224b6735</td>\n",
       "      <td>banco_como_te_ayudamos</td>\n",
       "      <td>GUADALUPE</td>\n",
       "      <td>[{'createdAt': '2024-07-26T18:44:10.501Z', 'role': 'assistant', 'content': 'Template \"banco_liquidacion_3_1\" enviado (Solo tú puedes ver este mensaje)', 'direction': 'outgoing'}, {'createdAt': '2024-07-26T18:44:10.501Z', 'role': 'assistant', 'id': 'wamid.HBgNNTIxMjIwMTE0MDI2NxUCABEYEjIwOTYxNjM5RjVGMDNFNDMxNwA=', 'content': 'Aprovecha esta oportunidad que BanCoppel tiene para ti, para que liquides tu cuenta, tenemos opciones para ti, estamos para apoyarte.', 'direction': 'outgoing', 'status': 'failed'}, {'createdAt': '2024-08-22T15:58:31.325Z', 'role': 'assistant', 'content': 'Template \"banco_nos_interesa_acuerdo\" enviado (Solo tú puedes ver este mensaje)', 'direction': 'outgoing'}, {'createdAt': '2024-08-22T15:58:31.325Z', 'role': 'assistant', 'id': 'wamid.HBgNNTIxMjIwMTE0MDI2NxUCABEYEjI5QkZDQjQ2Q0VFRUE0NkFDNgA=', 'content': 'Nos interesa llegar a un acuerdo para tu credito *BanCoppel*, estamos para ayudarte, ¿qué opinas?', 'direction': 'outgoing', 'status': 'failed'}]</td>\n",
       "      <td>MARIA</td>\n",
       "      <td>0</td>\n",
       "      <td>353257377876857</td>\n",
       "      <td>True</td>\n",
       "      <td>detener promociones</td>\n",
       "      <td>Duplicado</td>\n",
       "    </tr>\n",
       "    <tr>\n",
       "      <th>freq</th>\n",
       "      <td>19184</td>\n",
       "      <td>3</td>\n",
       "      <td>2</td>\n",
       "      <td>25171</td>\n",
       "      <td>19406</td>\n",
       "      <td>27494</td>\n",
       "      <td>24087</td>\n",
       "      <td>27439</td>\n",
       "      <td>25817</td>\n",
       "      <td>1</td>\n",
       "      <td>...</td>\n",
       "      <td>6189</td>\n",
       "      <td>3769</td>\n",
       "      <td>730</td>\n",
       "      <td>1</td>\n",
       "      <td>1684</td>\n",
       "      <td>7918</td>\n",
       "      <td>27494</td>\n",
       "      <td>26005</td>\n",
       "      <td>517</td>\n",
       "      <td>2</td>\n",
       "    </tr>\n",
       "  </tbody>\n",
       "</table>\n",
       "<p>4 rows × 22 columns</p>\n",
       "</div>"
      ],
      "text/plain": [
       "         product                created_at  contact_phone  \\\n",
       "count      27493                     27494          27494   \n",
       "unique         5                     26888          25766   \n",
       "top     TDC VISA  2024-08-07T15:20:19.591Z  5216648057935   \n",
       "freq       19184                         3              2   \n",
       "\n",
       "                                      bot_id status enterprise_id  \\\n",
       "count                                  27494  27494         27494   \n",
       "unique                                     2      3             1   \n",
       "top     13c046be-c642-490a-bf8b-92206ca5a54d     rc             2   \n",
       "freq                                   25171  19406         27494   \n",
       "\n",
       "                 last_message_at unseen_messages discount  \\\n",
       "count                      27494           27494    27494   \n",
       "unique                      3407               2        2   \n",
       "top     1970-01-01T00:00:00.000Z           False        0   \n",
       "freq                       24087           27439    25817   \n",
       "\n",
       "                last_template_at  ...                               user_id  \\\n",
       "count                      27494  ...                                 27494   \n",
       "unique                     27494  ...                                     8   \n",
       "top     2024-08-22T15:58:31.325Z  ...  311b05e0-60a1-70e9-63dc-771c224b6735   \n",
       "freq                           1  ...                                  6189   \n",
       "\n",
       "                   template_id  last_name  \\\n",
       "count                    27494      27494   \n",
       "unique                      14       3678   \n",
       "top     banco_como_te_ayudamos  GUADALUPE   \n",
       "freq                      3769        730   \n",
       "\n",
       "                                                                                                                                                                                                                                                                                                                                                                                                                                                                                                                                                                                                                                                                                                                                                                                                                                                                                                                                                                                                                       messages  \\\n",
       "count                                                                                                                                                                                                                                                                                                                                                                                                                                                                                                                                                                                                                                                                                                                                                                                                                                                                                                                                                                                                                     27494   \n",
       "unique                                                                                                                                                                                                                                                                                                                                                                                                                                                                                                                                                                                                                                                                                                                                                                                                                                                                                                                                                                                                                    27494   \n",
       "top     [{'createdAt': '2024-07-26T18:44:10.501Z', 'role': 'assistant', 'content': 'Template \"banco_liquidacion_3_1\" enviado (Solo tú puedes ver este mensaje)', 'direction': 'outgoing'}, {'createdAt': '2024-07-26T18:44:10.501Z', 'role': 'assistant', 'id': 'wamid.HBgNNTIxMjIwMTE0MDI2NxUCABEYEjIwOTYxNjM5RjVGMDNFNDMxNwA=', 'content': 'Aprovecha esta oportunidad que BanCoppel tiene para ti, para que liquides tu cuenta, tenemos opciones para ti, estamos para apoyarte.', 'direction': 'outgoing', 'status': 'failed'}, {'createdAt': '2024-08-22T15:58:31.325Z', 'role': 'assistant', 'content': 'Template \"banco_nos_interesa_acuerdo\" enviado (Solo tú puedes ver este mensaje)', 'direction': 'outgoing'}, {'createdAt': '2024-08-22T15:58:31.325Z', 'role': 'assistant', 'id': 'wamid.HBgNNTIxMjIwMTE0MDI2NxUCABEYEjI5QkZDQjQ2Q0VFRUE0NkFDNgA=', 'content': 'Nos interesa llegar a un acuerdo para tu credito *BanCoppel*, estamos para ayudarte, ¿qué opinas?', 'direction': 'outgoing', 'status': 'failed'}]   \n",
       "freq                                                                                                                                                                                                                                                                                                                                                                                                                                                                                                                                                                                                                                                                                                                                                                                                                                                                                                                                                                                                                          1   \n",
       "\n",
       "       first_name retry_count       session_id bot_enabled  \\\n",
       "count       27494       27494            27494       27494   \n",
       "unique       2889          12                1           2   \n",
       "top         MARIA           0  353257377876857        True   \n",
       "freq         1684        7918            27494       26005   \n",
       "\n",
       "                        tag      error  \n",
       "count                  1758          2  \n",
       "unique                    9          1  \n",
       "top     detener promociones  Duplicado  \n",
       "freq                    517          2  \n",
       "\n",
       "[4 rows x 22 columns]"
      ]
     },
     "execution_count": 570,
     "metadata": {},
     "output_type": "execute_result"
    }
   ],
   "source": [
    "df_bancoppel.describe()"
   ]
  },
  {
   "cell_type": "code",
   "execution_count": 571,
   "metadata": {},
   "outputs": [
    {
     "name": "stderr",
     "output_type": "stream",
     "text": [
      "100%|██████████| 27494/27494 [00:02<00:00, 13745.19it/s]\n"
     ]
    }
   ],
   "source": [
    "conversations = []\n",
    "\n",
    "for index, item in tqdm(df_bancoppel.iterrows(), total=df_bancoppel.shape[0]):\n",
    "    \n",
    "    temp_item = []\n",
    "    for k in item['messages']:\n",
    "        if 'content' not in k.keys():\n",
    "            continue\n",
    "        if \"Template\" in k['content']:\n",
    "            k['content'] = \" \" + k['content']  # Un espacio en blanco es el primer ascii\n",
    "        temp_item.append(k)\n",
    "    \n",
    "    tag = item['tag'] if 'tag' in item.keys() else \"sin_info_para_clasificar\"\n",
    "    \n",
    "    rand_conversationid = random.randint(1e6, 1e8)\n",
    "    \n",
    "    for it in range(len(temp_item)):\n",
    "        temp_item[it]['conversationId'] = rand_conversationid\n",
    "        temp_item[it]['credit'] = item['credit']\n",
    "        temp_item[it]['discount'] = item['discount']\n",
    "        temp_item[it]['phone1'] = item['contact_phone']\n",
    "        temp_item[it]['last_template_at'] = item['last_template_at']\n",
    "        temp_item[it]['tag'] = tag\n",
    "        \n",
    "        temp_item[it]['send_status'] = item['status'] if 'status' in item.keys() else 'sin_estatus'\n",
    "    \n",
    "    # Añadimos los elementos procesados a la lista conversations\n",
    "    conversations.extend(temp_item)\n",
    "\n",
    "# Convertimos la lista de diccionarios a un DataFrame de pandas\n",
    "conversations = pd.DataFrame(conversations)"
   ]
  },
  {
   "cell_type": "code",
   "execution_count": 572,
   "metadata": {},
   "outputs": [
    {
     "data": {
      "text/html": [
       "<div>\n",
       "<style scoped>\n",
       "    .dataframe tbody tr th:only-of-type {\n",
       "        vertical-align: middle;\n",
       "    }\n",
       "\n",
       "    .dataframe tbody tr th {\n",
       "        vertical-align: top;\n",
       "    }\n",
       "\n",
       "    .dataframe thead th {\n",
       "        text-align: right;\n",
       "    }\n",
       "</style>\n",
       "<table border=\"1\" class=\"dataframe\">\n",
       "  <thead>\n",
       "    <tr style=\"text-align: right;\">\n",
       "      <th></th>\n",
       "      <th>createdAt</th>\n",
       "      <th>role</th>\n",
       "      <th>content</th>\n",
       "      <th>direction</th>\n",
       "      <th>conversationId</th>\n",
       "      <th>credit</th>\n",
       "      <th>discount</th>\n",
       "      <th>phone1</th>\n",
       "      <th>last_template_at</th>\n",
       "      <th>tag</th>\n",
       "      <th>send_status</th>\n",
       "      <th>id</th>\n",
       "      <th>status</th>\n",
       "      <th>seen</th>\n",
       "      <th>image_id</th>\n",
       "    </tr>\n",
       "  </thead>\n",
       "  <tbody>\n",
       "    <tr>\n",
       "      <th>0</th>\n",
       "      <td>2024-07-26T18:44:10.501Z</td>\n",
       "      <td>assistant</td>\n",
       "      <td>Template \"banco_liquidacion_3_1\" enviado (Solo tú puedes ver este mensaje)</td>\n",
       "      <td>outgoing</td>\n",
       "      <td>11098050</td>\n",
       "      <td>600748049795</td>\n",
       "      <td>0</td>\n",
       "      <td>5212201140267</td>\n",
       "      <td>2024-08-22T15:58:31.325Z</td>\n",
       "      <td>NaN</td>\n",
       "      <td>rc</td>\n",
       "      <td>NaN</td>\n",
       "      <td>NaN</td>\n",
       "      <td>NaN</td>\n",
       "      <td>NaN</td>\n",
       "    </tr>\n",
       "    <tr>\n",
       "      <th>1</th>\n",
       "      <td>2024-07-26T18:44:10.501Z</td>\n",
       "      <td>assistant</td>\n",
       "      <td>Aprovecha esta oportunidad que BanCoppel tiene para ti, para que liquides tu cuenta, tenemos opciones para ti, estamos para apoyarte.</td>\n",
       "      <td>outgoing</td>\n",
       "      <td>11098050</td>\n",
       "      <td>600748049795</td>\n",
       "      <td>0</td>\n",
       "      <td>5212201140267</td>\n",
       "      <td>2024-08-22T15:58:31.325Z</td>\n",
       "      <td>NaN</td>\n",
       "      <td>rc</td>\n",
       "      <td>wamid.HBgNNTIxMjIwMTE0MDI2NxUCABEYEjIwOTYxNjM5RjVGMDNFNDMxNwA=</td>\n",
       "      <td>failed</td>\n",
       "      <td>NaN</td>\n",
       "      <td>NaN</td>\n",
       "    </tr>\n",
       "    <tr>\n",
       "      <th>2</th>\n",
       "      <td>2024-08-22T15:58:31.325Z</td>\n",
       "      <td>assistant</td>\n",
       "      <td>Template \"banco_nos_interesa_acuerdo\" enviado (Solo tú puedes ver este mensaje)</td>\n",
       "      <td>outgoing</td>\n",
       "      <td>11098050</td>\n",
       "      <td>600748049795</td>\n",
       "      <td>0</td>\n",
       "      <td>5212201140267</td>\n",
       "      <td>2024-08-22T15:58:31.325Z</td>\n",
       "      <td>NaN</td>\n",
       "      <td>rc</td>\n",
       "      <td>NaN</td>\n",
       "      <td>NaN</td>\n",
       "      <td>NaN</td>\n",
       "      <td>NaN</td>\n",
       "    </tr>\n",
       "    <tr>\n",
       "      <th>3</th>\n",
       "      <td>2024-08-22T15:58:31.325Z</td>\n",
       "      <td>assistant</td>\n",
       "      <td>Nos interesa llegar a un acuerdo para tu credito *BanCoppel*, estamos para ayudarte, ¿qué opinas?</td>\n",
       "      <td>outgoing</td>\n",
       "      <td>11098050</td>\n",
       "      <td>600748049795</td>\n",
       "      <td>0</td>\n",
       "      <td>5212201140267</td>\n",
       "      <td>2024-08-22T15:58:31.325Z</td>\n",
       "      <td>NaN</td>\n",
       "      <td>rc</td>\n",
       "      <td>wamid.HBgNNTIxMjIwMTE0MDI2NxUCABEYEjI5QkZDQjQ2Q0VFRUE0NkFDNgA=</td>\n",
       "      <td>failed</td>\n",
       "      <td>NaN</td>\n",
       "      <td>NaN</td>\n",
       "    </tr>\n",
       "    <tr>\n",
       "      <th>4</th>\n",
       "      <td>2024-08-01T00:07:50.281Z</td>\n",
       "      <td>assistant</td>\n",
       "      <td>Template \"banco_como_te_ayudamos\" enviado (Solo tú puedes ver este mensaje)</td>\n",
       "      <td>outgoing</td>\n",
       "      <td>27995135</td>\n",
       "      <td>600443166431</td>\n",
       "      <td>0</td>\n",
       "      <td>5212211180442</td>\n",
       "      <td>2024-08-10T14:48:24.586Z</td>\n",
       "      <td>NaN</td>\n",
       "      <td>rc</td>\n",
       "      <td>NaN</td>\n",
       "      <td>NaN</td>\n",
       "      <td>NaN</td>\n",
       "      <td>NaN</td>\n",
       "    </tr>\n",
       "  </tbody>\n",
       "</table>\n",
       "</div>"
      ],
      "text/plain": [
       "                  createdAt       role  \\\n",
       "0  2024-07-26T18:44:10.501Z  assistant   \n",
       "1  2024-07-26T18:44:10.501Z  assistant   \n",
       "2  2024-08-22T15:58:31.325Z  assistant   \n",
       "3  2024-08-22T15:58:31.325Z  assistant   \n",
       "4  2024-08-01T00:07:50.281Z  assistant   \n",
       "\n",
       "                                                                                                                                 content  \\\n",
       "0                                                             Template \"banco_liquidacion_3_1\" enviado (Solo tú puedes ver este mensaje)   \n",
       "1  Aprovecha esta oportunidad que BanCoppel tiene para ti, para que liquides tu cuenta, tenemos opciones para ti, estamos para apoyarte.   \n",
       "2                                                        Template \"banco_nos_interesa_acuerdo\" enviado (Solo tú puedes ver este mensaje)   \n",
       "3                                      Nos interesa llegar a un acuerdo para tu credito *BanCoppel*, estamos para ayudarte, ¿qué opinas?   \n",
       "4                                                            Template \"banco_como_te_ayudamos\" enviado (Solo tú puedes ver este mensaje)   \n",
       "\n",
       "  direction  conversationId        credit discount         phone1  \\\n",
       "0  outgoing        11098050  600748049795        0  5212201140267   \n",
       "1  outgoing        11098050  600748049795        0  5212201140267   \n",
       "2  outgoing        11098050  600748049795        0  5212201140267   \n",
       "3  outgoing        11098050  600748049795        0  5212201140267   \n",
       "4  outgoing        27995135  600443166431        0  5212211180442   \n",
       "\n",
       "           last_template_at  tag send_status  \\\n",
       "0  2024-08-22T15:58:31.325Z  NaN          rc   \n",
       "1  2024-08-22T15:58:31.325Z  NaN          rc   \n",
       "2  2024-08-22T15:58:31.325Z  NaN          rc   \n",
       "3  2024-08-22T15:58:31.325Z  NaN          rc   \n",
       "4  2024-08-10T14:48:24.586Z  NaN          rc   \n",
       "\n",
       "                                                               id  status  \\\n",
       "0                                                             NaN     NaN   \n",
       "1  wamid.HBgNNTIxMjIwMTE0MDI2NxUCABEYEjIwOTYxNjM5RjVGMDNFNDMxNwA=  failed   \n",
       "2                                                             NaN     NaN   \n",
       "3  wamid.HBgNNTIxMjIwMTE0MDI2NxUCABEYEjI5QkZDQjQ2Q0VFRUE0NkFDNgA=  failed   \n",
       "4                                                             NaN     NaN   \n",
       "\n",
       "  seen image_id  \n",
       "0  NaN      NaN  \n",
       "1  NaN      NaN  \n",
       "2  NaN      NaN  \n",
       "3  NaN      NaN  \n",
       "4  NaN      NaN  "
      ]
     },
     "execution_count": 572,
     "metadata": {},
     "output_type": "execute_result"
    }
   ],
   "source": [
    "conversations.head()"
   ]
  },
  {
   "cell_type": "code",
   "execution_count": 573,
   "metadata": {},
   "outputs": [
    {
     "data": {
      "text/plain": [
       "83662"
      ]
     },
     "execution_count": 573,
     "metadata": {},
     "output_type": "execute_result"
    }
   ],
   "source": [
    "conversations.content.str.contains(\"Template\").sum()"
   ]
  },
  {
   "cell_type": "code",
   "execution_count": 574,
   "metadata": {},
   "outputs": [],
   "source": [
    "conversations.drop(\"send_status\", axis = 1, inplace=True)\n",
    "conversations.rename(columns={\"status\": \"sent_status\"}, inplace = True)\n",
    "conversations.sent_status.fillna(\"sin_estatus\", inplace=True)"
   ]
  },
  {
   "cell_type": "code",
   "execution_count": 575,
   "metadata": {},
   "outputs": [],
   "source": [
    "conversations.last_template_at = pd.to_datetime(conversations.last_template_at)\n",
    "\n",
    "conversations.last_template_at = conversations.last_template_at.dt.tz_convert('America/Mexico_City')\n",
    "\n",
    "conversations.last_template_at = conversations.last_template_at.dt.tz_localize(None)"
   ]
  },
  {
   "cell_type": "code",
   "execution_count": 576,
   "metadata": {},
   "outputs": [],
   "source": [
    "conversations.createdAt = pd.to_datetime(conversations.createdAt)\n",
    "\n",
    "conversations.createdAt = conversations.createdAt.dt.tz_convert('America/Mexico_City')\n",
    "\n",
    "conversations.createdAt = conversations.createdAt.dt.tz_localize(None)"
   ]
  },
  {
   "cell_type": "code",
   "execution_count": 577,
   "metadata": {},
   "outputs": [],
   "source": [
    "conversations.drop_duplicates(['createdAt', 'phone1', 'credit', 'content', 'role'], inplace=True)"
   ]
  },
  {
   "cell_type": "code",
   "execution_count": 578,
   "metadata": {},
   "outputs": [],
   "source": [
    "conversations.reset_index(drop=True, inplace=True)"
   ]
  },
  {
   "cell_type": "code",
   "execution_count": 579,
   "metadata": {},
   "outputs": [
    {
     "data": {
      "text/html": [
       "<div>\n",
       "<style scoped>\n",
       "    .dataframe tbody tr th:only-of-type {\n",
       "        vertical-align: middle;\n",
       "    }\n",
       "\n",
       "    .dataframe tbody tr th {\n",
       "        vertical-align: top;\n",
       "    }\n",
       "\n",
       "    .dataframe thead th {\n",
       "        text-align: right;\n",
       "    }\n",
       "</style>\n",
       "<table border=\"1\" class=\"dataframe\">\n",
       "  <thead>\n",
       "    <tr style=\"text-align: right;\">\n",
       "      <th></th>\n",
       "      <th>createdAt</th>\n",
       "      <th>role</th>\n",
       "      <th>content</th>\n",
       "      <th>direction</th>\n",
       "      <th>conversationId</th>\n",
       "      <th>credit</th>\n",
       "      <th>discount</th>\n",
       "      <th>phone1</th>\n",
       "      <th>last_template_at</th>\n",
       "      <th>tag</th>\n",
       "      <th>id</th>\n",
       "      <th>sent_status</th>\n",
       "      <th>seen</th>\n",
       "      <th>image_id</th>\n",
       "    </tr>\n",
       "  </thead>\n",
       "  <tbody>\n",
       "    <tr>\n",
       "      <th>0</th>\n",
       "      <td>2024-07-26 12:44:10.501</td>\n",
       "      <td>assistant</td>\n",
       "      <td>Template \"banco_liquidacion_3_1\" enviado (Solo tú puedes ver este mensaje)</td>\n",
       "      <td>outgoing</td>\n",
       "      <td>11098050</td>\n",
       "      <td>600748049795</td>\n",
       "      <td>0</td>\n",
       "      <td>5212201140267</td>\n",
       "      <td>2024-08-22 09:58:31.325</td>\n",
       "      <td>NaN</td>\n",
       "      <td>NaN</td>\n",
       "      <td>sin_estatus</td>\n",
       "      <td>NaN</td>\n",
       "      <td>NaN</td>\n",
       "    </tr>\n",
       "    <tr>\n",
       "      <th>1</th>\n",
       "      <td>2024-07-26 12:44:10.501</td>\n",
       "      <td>assistant</td>\n",
       "      <td>Aprovecha esta oportunidad que BanCoppel tiene para ti, para que liquides tu cuenta, tenemos opciones para ti, estamos para apoyarte.</td>\n",
       "      <td>outgoing</td>\n",
       "      <td>11098050</td>\n",
       "      <td>600748049795</td>\n",
       "      <td>0</td>\n",
       "      <td>5212201140267</td>\n",
       "      <td>2024-08-22 09:58:31.325</td>\n",
       "      <td>NaN</td>\n",
       "      <td>wamid.HBgNNTIxMjIwMTE0MDI2NxUCABEYEjIwOTYxNjM5RjVGMDNFNDMxNwA=</td>\n",
       "      <td>failed</td>\n",
       "      <td>NaN</td>\n",
       "      <td>NaN</td>\n",
       "    </tr>\n",
       "    <tr>\n",
       "      <th>2</th>\n",
       "      <td>2024-08-22 09:58:31.325</td>\n",
       "      <td>assistant</td>\n",
       "      <td>Template \"banco_nos_interesa_acuerdo\" enviado (Solo tú puedes ver este mensaje)</td>\n",
       "      <td>outgoing</td>\n",
       "      <td>11098050</td>\n",
       "      <td>600748049795</td>\n",
       "      <td>0</td>\n",
       "      <td>5212201140267</td>\n",
       "      <td>2024-08-22 09:58:31.325</td>\n",
       "      <td>NaN</td>\n",
       "      <td>NaN</td>\n",
       "      <td>sin_estatus</td>\n",
       "      <td>NaN</td>\n",
       "      <td>NaN</td>\n",
       "    </tr>\n",
       "    <tr>\n",
       "      <th>3</th>\n",
       "      <td>2024-08-22 09:58:31.325</td>\n",
       "      <td>assistant</td>\n",
       "      <td>Nos interesa llegar a un acuerdo para tu credito *BanCoppel*, estamos para ayudarte, ¿qué opinas?</td>\n",
       "      <td>outgoing</td>\n",
       "      <td>11098050</td>\n",
       "      <td>600748049795</td>\n",
       "      <td>0</td>\n",
       "      <td>5212201140267</td>\n",
       "      <td>2024-08-22 09:58:31.325</td>\n",
       "      <td>NaN</td>\n",
       "      <td>wamid.HBgNNTIxMjIwMTE0MDI2NxUCABEYEjI5QkZDQjQ2Q0VFRUE0NkFDNgA=</td>\n",
       "      <td>failed</td>\n",
       "      <td>NaN</td>\n",
       "      <td>NaN</td>\n",
       "    </tr>\n",
       "    <tr>\n",
       "      <th>4</th>\n",
       "      <td>2024-07-31 18:07:50.281</td>\n",
       "      <td>assistant</td>\n",
       "      <td>Template \"banco_como_te_ayudamos\" enviado (Solo tú puedes ver este mensaje)</td>\n",
       "      <td>outgoing</td>\n",
       "      <td>27995135</td>\n",
       "      <td>600443166431</td>\n",
       "      <td>0</td>\n",
       "      <td>5212211180442</td>\n",
       "      <td>2024-08-10 08:48:24.586</td>\n",
       "      <td>NaN</td>\n",
       "      <td>NaN</td>\n",
       "      <td>sin_estatus</td>\n",
       "      <td>NaN</td>\n",
       "      <td>NaN</td>\n",
       "    </tr>\n",
       "    <tr>\n",
       "      <th>...</th>\n",
       "      <td>...</td>\n",
       "      <td>...</td>\n",
       "      <td>...</td>\n",
       "      <td>...</td>\n",
       "      <td>...</td>\n",
       "      <td>...</td>\n",
       "      <td>...</td>\n",
       "      <td>...</td>\n",
       "      <td>...</td>\n",
       "      <td>...</td>\n",
       "      <td>...</td>\n",
       "      <td>...</td>\n",
       "      <td>...</td>\n",
       "      <td>...</td>\n",
       "    </tr>\n",
       "    <tr>\n",
       "      <th>194695</th>\n",
       "      <td>2024-08-21 12:28:38.859</td>\n",
       "      <td>assistant</td>\n",
       "      <td>¡Excelente día! tenemos muy buenas alternativas para que liquides tu cuenta con *BanCoppel*, esperamos tu respuesta.</td>\n",
       "      <td>outgoing</td>\n",
       "      <td>94101357</td>\n",
       "      <td>600684070276</td>\n",
       "      <td>0</td>\n",
       "      <td>5219993630543</td>\n",
       "      <td>2024-08-21 12:28:38.859</td>\n",
       "      <td>NaN</td>\n",
       "      <td>wamid.HBgNNTIxOTk5MzYzMDU0MxUCABEYEjRBQzFDNTc3MDY1NENDNkEyOQA=</td>\n",
       "      <td>sin_estatus</td>\n",
       "      <td>NaN</td>\n",
       "      <td>NaN</td>\n",
       "    </tr>\n",
       "    <tr>\n",
       "      <th>194696</th>\n",
       "      <td>2024-08-21 12:23:44.487</td>\n",
       "      <td>assistant</td>\n",
       "      <td>Template \"banco_tenemos_alternativas\" enviado (Solo tú puedes ver este mensaje)</td>\n",
       "      <td>outgoing</td>\n",
       "      <td>54625028</td>\n",
       "      <td>600657315930</td>\n",
       "      <td>0</td>\n",
       "      <td>5219994188914</td>\n",
       "      <td>2024-08-21 12:23:44.487</td>\n",
       "      <td>NaN</td>\n",
       "      <td>NaN</td>\n",
       "      <td>sin_estatus</td>\n",
       "      <td>NaN</td>\n",
       "      <td>NaN</td>\n",
       "    </tr>\n",
       "    <tr>\n",
       "      <th>194697</th>\n",
       "      <td>2024-08-21 12:23:44.487</td>\n",
       "      <td>assistant</td>\n",
       "      <td>¡Excelente día! tenemos muy buenas alternativas para que liquides tu cuenta con *BanCoppel*, esperamos tu respuesta.</td>\n",
       "      <td>outgoing</td>\n",
       "      <td>54625028</td>\n",
       "      <td>600657315930</td>\n",
       "      <td>0</td>\n",
       "      <td>5219994188914</td>\n",
       "      <td>2024-08-21 12:23:44.487</td>\n",
       "      <td>NaN</td>\n",
       "      <td>wamid.HBgNNTIxOTk5NDE4ODkxNBUCABEYEjQ1NzQwNUVDNzU4RUY5NzlBRgA=</td>\n",
       "      <td>sin_estatus</td>\n",
       "      <td>NaN</td>\n",
       "      <td>NaN</td>\n",
       "    </tr>\n",
       "    <tr>\n",
       "      <th>194698</th>\n",
       "      <td>2024-08-21 12:26:16.227</td>\n",
       "      <td>assistant</td>\n",
       "      <td>Template \"banco_tenemos_alternativas\" enviado (Solo tú puedes ver este mensaje)</td>\n",
       "      <td>outgoing</td>\n",
       "      <td>84375901</td>\n",
       "      <td>600747547997</td>\n",
       "      <td>0</td>\n",
       "      <td>5219996487237</td>\n",
       "      <td>2024-08-21 12:26:16.227</td>\n",
       "      <td>NaN</td>\n",
       "      <td>NaN</td>\n",
       "      <td>sin_estatus</td>\n",
       "      <td>NaN</td>\n",
       "      <td>NaN</td>\n",
       "    </tr>\n",
       "    <tr>\n",
       "      <th>194699</th>\n",
       "      <td>2024-08-21 12:26:16.227</td>\n",
       "      <td>assistant</td>\n",
       "      <td>¡Excelente día! tenemos muy buenas alternativas para que liquides tu cuenta con *BanCoppel*, esperamos tu respuesta.</td>\n",
       "      <td>outgoing</td>\n",
       "      <td>84375901</td>\n",
       "      <td>600747547997</td>\n",
       "      <td>0</td>\n",
       "      <td>5219996487237</td>\n",
       "      <td>2024-08-21 12:26:16.227</td>\n",
       "      <td>NaN</td>\n",
       "      <td>wamid.HBgNNTIxOTk5NjQ4NzIzNxUCABEYEkE2MDY0MjM1MkRENUY5M0UyQQA=</td>\n",
       "      <td>sin_estatus</td>\n",
       "      <td>NaN</td>\n",
       "      <td>NaN</td>\n",
       "    </tr>\n",
       "  </tbody>\n",
       "</table>\n",
       "<p>194700 rows × 14 columns</p>\n",
       "</div>"
      ],
      "text/plain": [
       "                     createdAt       role  \\\n",
       "0      2024-07-26 12:44:10.501  assistant   \n",
       "1      2024-07-26 12:44:10.501  assistant   \n",
       "2      2024-08-22 09:58:31.325  assistant   \n",
       "3      2024-08-22 09:58:31.325  assistant   \n",
       "4      2024-07-31 18:07:50.281  assistant   \n",
       "...                        ...        ...   \n",
       "194695 2024-08-21 12:28:38.859  assistant   \n",
       "194696 2024-08-21 12:23:44.487  assistant   \n",
       "194697 2024-08-21 12:23:44.487  assistant   \n",
       "194698 2024-08-21 12:26:16.227  assistant   \n",
       "194699 2024-08-21 12:26:16.227  assistant   \n",
       "\n",
       "                                                                                                                                      content  \\\n",
       "0                                                                  Template \"banco_liquidacion_3_1\" enviado (Solo tú puedes ver este mensaje)   \n",
       "1       Aprovecha esta oportunidad que BanCoppel tiene para ti, para que liquides tu cuenta, tenemos opciones para ti, estamos para apoyarte.   \n",
       "2                                                             Template \"banco_nos_interesa_acuerdo\" enviado (Solo tú puedes ver este mensaje)   \n",
       "3                                           Nos interesa llegar a un acuerdo para tu credito *BanCoppel*, estamos para ayudarte, ¿qué opinas?   \n",
       "4                                                                 Template \"banco_como_te_ayudamos\" enviado (Solo tú puedes ver este mensaje)   \n",
       "...                                                                                                                                       ...   \n",
       "194695                   ¡Excelente día! tenemos muy buenas alternativas para que liquides tu cuenta con *BanCoppel*, esperamos tu respuesta.   \n",
       "194696                                                        Template \"banco_tenemos_alternativas\" enviado (Solo tú puedes ver este mensaje)   \n",
       "194697                   ¡Excelente día! tenemos muy buenas alternativas para que liquides tu cuenta con *BanCoppel*, esperamos tu respuesta.   \n",
       "194698                                                        Template \"banco_tenemos_alternativas\" enviado (Solo tú puedes ver este mensaje)   \n",
       "194699                   ¡Excelente día! tenemos muy buenas alternativas para que liquides tu cuenta con *BanCoppel*, esperamos tu respuesta.   \n",
       "\n",
       "       direction  conversationId        credit discount         phone1  \\\n",
       "0       outgoing        11098050  600748049795        0  5212201140267   \n",
       "1       outgoing        11098050  600748049795        0  5212201140267   \n",
       "2       outgoing        11098050  600748049795        0  5212201140267   \n",
       "3       outgoing        11098050  600748049795        0  5212201140267   \n",
       "4       outgoing        27995135  600443166431        0  5212211180442   \n",
       "...          ...             ...           ...      ...            ...   \n",
       "194695  outgoing        94101357  600684070276        0  5219993630543   \n",
       "194696  outgoing        54625028  600657315930        0  5219994188914   \n",
       "194697  outgoing        54625028  600657315930        0  5219994188914   \n",
       "194698  outgoing        84375901  600747547997        0  5219996487237   \n",
       "194699  outgoing        84375901  600747547997        0  5219996487237   \n",
       "\n",
       "              last_template_at  tag  \\\n",
       "0      2024-08-22 09:58:31.325  NaN   \n",
       "1      2024-08-22 09:58:31.325  NaN   \n",
       "2      2024-08-22 09:58:31.325  NaN   \n",
       "3      2024-08-22 09:58:31.325  NaN   \n",
       "4      2024-08-10 08:48:24.586  NaN   \n",
       "...                        ...  ...   \n",
       "194695 2024-08-21 12:28:38.859  NaN   \n",
       "194696 2024-08-21 12:23:44.487  NaN   \n",
       "194697 2024-08-21 12:23:44.487  NaN   \n",
       "194698 2024-08-21 12:26:16.227  NaN   \n",
       "194699 2024-08-21 12:26:16.227  NaN   \n",
       "\n",
       "                                                                    id  \\\n",
       "0                                                                  NaN   \n",
       "1       wamid.HBgNNTIxMjIwMTE0MDI2NxUCABEYEjIwOTYxNjM5RjVGMDNFNDMxNwA=   \n",
       "2                                                                  NaN   \n",
       "3       wamid.HBgNNTIxMjIwMTE0MDI2NxUCABEYEjI5QkZDQjQ2Q0VFRUE0NkFDNgA=   \n",
       "4                                                                  NaN   \n",
       "...                                                                ...   \n",
       "194695  wamid.HBgNNTIxOTk5MzYzMDU0MxUCABEYEjRBQzFDNTc3MDY1NENDNkEyOQA=   \n",
       "194696                                                             NaN   \n",
       "194697  wamid.HBgNNTIxOTk5NDE4ODkxNBUCABEYEjQ1NzQwNUVDNzU4RUY5NzlBRgA=   \n",
       "194698                                                             NaN   \n",
       "194699  wamid.HBgNNTIxOTk5NjQ4NzIzNxUCABEYEkE2MDY0MjM1MkRENUY5M0UyQQA=   \n",
       "\n",
       "        sent_status seen image_id  \n",
       "0       sin_estatus  NaN      NaN  \n",
       "1            failed  NaN      NaN  \n",
       "2       sin_estatus  NaN      NaN  \n",
       "3            failed  NaN      NaN  \n",
       "4       sin_estatus  NaN      NaN  \n",
       "...             ...  ...      ...  \n",
       "194695  sin_estatus  NaN      NaN  \n",
       "194696  sin_estatus  NaN      NaN  \n",
       "194697  sin_estatus  NaN      NaN  \n",
       "194698  sin_estatus  NaN      NaN  \n",
       "194699  sin_estatus  NaN      NaN  \n",
       "\n",
       "[194700 rows x 14 columns]"
      ]
     },
     "execution_count": 579,
     "metadata": {},
     "output_type": "execute_result"
    }
   ],
   "source": [
    "conversations"
   ]
  },
  {
   "cell_type": "code",
   "execution_count": 580,
   "metadata": {},
   "outputs": [
    {
     "name": "stdout",
     "output_type": "stream",
     "text": [
      "[nan 'intención de pago' 'no define' 'carta convenio'\n",
      " 'detener promociones' 'contacto humano' 'no reconoce' 'próximo pago'\n",
      " 'negativa de pago']\n"
     ]
    }
   ],
   "source": [
    "conversations['tag'] = conversations['tag'].replace('no defineno defineno defineno defineno defineno defineno defineno defineno defineno define', 'no define')\n",
    "print(conversations['tag'].unique())"
   ]
  },
  {
   "cell_type": "code",
   "execution_count": 581,
   "metadata": {},
   "outputs": [
    {
     "data": {
      "text/plain": [
       "tag\n",
       "carta convenio         7113\n",
       "detener promociones    5230\n",
       "no define              4610\n",
       "contacto humano        3900\n",
       "próximo pago           1982\n",
       "no reconoce            1249\n",
       "intención de pago       744\n",
       "negativa de pago        142\n",
       "Name: count, dtype: int64"
      ]
     },
     "execution_count": 581,
     "metadata": {},
     "output_type": "execute_result"
    }
   ],
   "source": [
    "conversations.tag.value_counts()"
   ]
  },
  {
   "cell_type": "code",
   "execution_count": 582,
   "metadata": {},
   "outputs": [
    {
     "data": {
      "application/vnd.plotly.v1+json": {
       "config": {
        "plotlyServerURL": "https://plot.ly"
       },
       "data": [
        {
         "domain": {
          "x": [
           0,
           1
          ],
          "y": [
           0,
           1
          ]
         },
         "hovertemplate": "label=%{label}<br>value=%{value}<extra></extra>",
         "labels": [
          "carta convenio",
          "detener promociones",
          "no define",
          "contacto humano",
          "próximo pago",
          "no reconoce",
          "intención de pago",
          "negativa de pago"
         ],
         "legendgroup": "",
         "name": "",
         "showlegend": true,
         "type": "pie",
         "values": [
          7113,
          5230,
          4610,
          3900,
          1982,
          1249,
          744,
          142
         ]
        }
       ],
       "layout": {
        "height": 400,
        "legend": {
         "tracegroupgap": 0
        },
        "template": {
         "data": {
          "bar": [
           {
            "error_x": {
             "color": "#2a3f5f"
            },
            "error_y": {
             "color": "#2a3f5f"
            },
            "marker": {
             "line": {
              "color": "#E5ECF6",
              "width": 0.5
             },
             "pattern": {
              "fillmode": "overlay",
              "size": 10,
              "solidity": 0.2
             }
            },
            "type": "bar"
           }
          ],
          "barpolar": [
           {
            "marker": {
             "line": {
              "color": "#E5ECF6",
              "width": 0.5
             },
             "pattern": {
              "fillmode": "overlay",
              "size": 10,
              "solidity": 0.2
             }
            },
            "type": "barpolar"
           }
          ],
          "carpet": [
           {
            "aaxis": {
             "endlinecolor": "#2a3f5f",
             "gridcolor": "white",
             "linecolor": "white",
             "minorgridcolor": "white",
             "startlinecolor": "#2a3f5f"
            },
            "baxis": {
             "endlinecolor": "#2a3f5f",
             "gridcolor": "white",
             "linecolor": "white",
             "minorgridcolor": "white",
             "startlinecolor": "#2a3f5f"
            },
            "type": "carpet"
           }
          ],
          "choropleth": [
           {
            "colorbar": {
             "outlinewidth": 0,
             "ticks": ""
            },
            "type": "choropleth"
           }
          ],
          "contour": [
           {
            "colorbar": {
             "outlinewidth": 0,
             "ticks": ""
            },
            "colorscale": [
             [
              0,
              "#0d0887"
             ],
             [
              0.1111111111111111,
              "#46039f"
             ],
             [
              0.2222222222222222,
              "#7201a8"
             ],
             [
              0.3333333333333333,
              "#9c179e"
             ],
             [
              0.4444444444444444,
              "#bd3786"
             ],
             [
              0.5555555555555556,
              "#d8576b"
             ],
             [
              0.6666666666666666,
              "#ed7953"
             ],
             [
              0.7777777777777778,
              "#fb9f3a"
             ],
             [
              0.8888888888888888,
              "#fdca26"
             ],
             [
              1,
              "#f0f921"
             ]
            ],
            "type": "contour"
           }
          ],
          "contourcarpet": [
           {
            "colorbar": {
             "outlinewidth": 0,
             "ticks": ""
            },
            "type": "contourcarpet"
           }
          ],
          "heatmap": [
           {
            "colorbar": {
             "outlinewidth": 0,
             "ticks": ""
            },
            "colorscale": [
             [
              0,
              "#0d0887"
             ],
             [
              0.1111111111111111,
              "#46039f"
             ],
             [
              0.2222222222222222,
              "#7201a8"
             ],
             [
              0.3333333333333333,
              "#9c179e"
             ],
             [
              0.4444444444444444,
              "#bd3786"
             ],
             [
              0.5555555555555556,
              "#d8576b"
             ],
             [
              0.6666666666666666,
              "#ed7953"
             ],
             [
              0.7777777777777778,
              "#fb9f3a"
             ],
             [
              0.8888888888888888,
              "#fdca26"
             ],
             [
              1,
              "#f0f921"
             ]
            ],
            "type": "heatmap"
           }
          ],
          "heatmapgl": [
           {
            "colorbar": {
             "outlinewidth": 0,
             "ticks": ""
            },
            "colorscale": [
             [
              0,
              "#0d0887"
             ],
             [
              0.1111111111111111,
              "#46039f"
             ],
             [
              0.2222222222222222,
              "#7201a8"
             ],
             [
              0.3333333333333333,
              "#9c179e"
             ],
             [
              0.4444444444444444,
              "#bd3786"
             ],
             [
              0.5555555555555556,
              "#d8576b"
             ],
             [
              0.6666666666666666,
              "#ed7953"
             ],
             [
              0.7777777777777778,
              "#fb9f3a"
             ],
             [
              0.8888888888888888,
              "#fdca26"
             ],
             [
              1,
              "#f0f921"
             ]
            ],
            "type": "heatmapgl"
           }
          ],
          "histogram": [
           {
            "marker": {
             "pattern": {
              "fillmode": "overlay",
              "size": 10,
              "solidity": 0.2
             }
            },
            "type": "histogram"
           }
          ],
          "histogram2d": [
           {
            "colorbar": {
             "outlinewidth": 0,
             "ticks": ""
            },
            "colorscale": [
             [
              0,
              "#0d0887"
             ],
             [
              0.1111111111111111,
              "#46039f"
             ],
             [
              0.2222222222222222,
              "#7201a8"
             ],
             [
              0.3333333333333333,
              "#9c179e"
             ],
             [
              0.4444444444444444,
              "#bd3786"
             ],
             [
              0.5555555555555556,
              "#d8576b"
             ],
             [
              0.6666666666666666,
              "#ed7953"
             ],
             [
              0.7777777777777778,
              "#fb9f3a"
             ],
             [
              0.8888888888888888,
              "#fdca26"
             ],
             [
              1,
              "#f0f921"
             ]
            ],
            "type": "histogram2d"
           }
          ],
          "histogram2dcontour": [
           {
            "colorbar": {
             "outlinewidth": 0,
             "ticks": ""
            },
            "colorscale": [
             [
              0,
              "#0d0887"
             ],
             [
              0.1111111111111111,
              "#46039f"
             ],
             [
              0.2222222222222222,
              "#7201a8"
             ],
             [
              0.3333333333333333,
              "#9c179e"
             ],
             [
              0.4444444444444444,
              "#bd3786"
             ],
             [
              0.5555555555555556,
              "#d8576b"
             ],
             [
              0.6666666666666666,
              "#ed7953"
             ],
             [
              0.7777777777777778,
              "#fb9f3a"
             ],
             [
              0.8888888888888888,
              "#fdca26"
             ],
             [
              1,
              "#f0f921"
             ]
            ],
            "type": "histogram2dcontour"
           }
          ],
          "mesh3d": [
           {
            "colorbar": {
             "outlinewidth": 0,
             "ticks": ""
            },
            "type": "mesh3d"
           }
          ],
          "parcoords": [
           {
            "line": {
             "colorbar": {
              "outlinewidth": 0,
              "ticks": ""
             }
            },
            "type": "parcoords"
           }
          ],
          "pie": [
           {
            "automargin": true,
            "type": "pie"
           }
          ],
          "scatter": [
           {
            "fillpattern": {
             "fillmode": "overlay",
             "size": 10,
             "solidity": 0.2
            },
            "type": "scatter"
           }
          ],
          "scatter3d": [
           {
            "line": {
             "colorbar": {
              "outlinewidth": 0,
              "ticks": ""
             }
            },
            "marker": {
             "colorbar": {
              "outlinewidth": 0,
              "ticks": ""
             }
            },
            "type": "scatter3d"
           }
          ],
          "scattercarpet": [
           {
            "marker": {
             "colorbar": {
              "outlinewidth": 0,
              "ticks": ""
             }
            },
            "type": "scattercarpet"
           }
          ],
          "scattergeo": [
           {
            "marker": {
             "colorbar": {
              "outlinewidth": 0,
              "ticks": ""
             }
            },
            "type": "scattergeo"
           }
          ],
          "scattergl": [
           {
            "marker": {
             "colorbar": {
              "outlinewidth": 0,
              "ticks": ""
             }
            },
            "type": "scattergl"
           }
          ],
          "scattermapbox": [
           {
            "marker": {
             "colorbar": {
              "outlinewidth": 0,
              "ticks": ""
             }
            },
            "type": "scattermapbox"
           }
          ],
          "scatterpolar": [
           {
            "marker": {
             "colorbar": {
              "outlinewidth": 0,
              "ticks": ""
             }
            },
            "type": "scatterpolar"
           }
          ],
          "scatterpolargl": [
           {
            "marker": {
             "colorbar": {
              "outlinewidth": 0,
              "ticks": ""
             }
            },
            "type": "scatterpolargl"
           }
          ],
          "scatterternary": [
           {
            "marker": {
             "colorbar": {
              "outlinewidth": 0,
              "ticks": ""
             }
            },
            "type": "scatterternary"
           }
          ],
          "surface": [
           {
            "colorbar": {
             "outlinewidth": 0,
             "ticks": ""
            },
            "colorscale": [
             [
              0,
              "#0d0887"
             ],
             [
              0.1111111111111111,
              "#46039f"
             ],
             [
              0.2222222222222222,
              "#7201a8"
             ],
             [
              0.3333333333333333,
              "#9c179e"
             ],
             [
              0.4444444444444444,
              "#bd3786"
             ],
             [
              0.5555555555555556,
              "#d8576b"
             ],
             [
              0.6666666666666666,
              "#ed7953"
             ],
             [
              0.7777777777777778,
              "#fb9f3a"
             ],
             [
              0.8888888888888888,
              "#fdca26"
             ],
             [
              1,
              "#f0f921"
             ]
            ],
            "type": "surface"
           }
          ],
          "table": [
           {
            "cells": {
             "fill": {
              "color": "#EBF0F8"
             },
             "line": {
              "color": "white"
             }
            },
            "header": {
             "fill": {
              "color": "#C8D4E3"
             },
             "line": {
              "color": "white"
             }
            },
            "type": "table"
           }
          ]
         },
         "layout": {
          "annotationdefaults": {
           "arrowcolor": "#2a3f5f",
           "arrowhead": 0,
           "arrowwidth": 1
          },
          "autotypenumbers": "strict",
          "coloraxis": {
           "colorbar": {
            "outlinewidth": 0,
            "ticks": ""
           }
          },
          "colorscale": {
           "diverging": [
            [
             0,
             "#8e0152"
            ],
            [
             0.1,
             "#c51b7d"
            ],
            [
             0.2,
             "#de77ae"
            ],
            [
             0.3,
             "#f1b6da"
            ],
            [
             0.4,
             "#fde0ef"
            ],
            [
             0.5,
             "#f7f7f7"
            ],
            [
             0.6,
             "#e6f5d0"
            ],
            [
             0.7,
             "#b8e186"
            ],
            [
             0.8,
             "#7fbc41"
            ],
            [
             0.9,
             "#4d9221"
            ],
            [
             1,
             "#276419"
            ]
           ],
           "sequential": [
            [
             0,
             "#0d0887"
            ],
            [
             0.1111111111111111,
             "#46039f"
            ],
            [
             0.2222222222222222,
             "#7201a8"
            ],
            [
             0.3333333333333333,
             "#9c179e"
            ],
            [
             0.4444444444444444,
             "#bd3786"
            ],
            [
             0.5555555555555556,
             "#d8576b"
            ],
            [
             0.6666666666666666,
             "#ed7953"
            ],
            [
             0.7777777777777778,
             "#fb9f3a"
            ],
            [
             0.8888888888888888,
             "#fdca26"
            ],
            [
             1,
             "#f0f921"
            ]
           ],
           "sequentialminus": [
            [
             0,
             "#0d0887"
            ],
            [
             0.1111111111111111,
             "#46039f"
            ],
            [
             0.2222222222222222,
             "#7201a8"
            ],
            [
             0.3333333333333333,
             "#9c179e"
            ],
            [
             0.4444444444444444,
             "#bd3786"
            ],
            [
             0.5555555555555556,
             "#d8576b"
            ],
            [
             0.6666666666666666,
             "#ed7953"
            ],
            [
             0.7777777777777778,
             "#fb9f3a"
            ],
            [
             0.8888888888888888,
             "#fdca26"
            ],
            [
             1,
             "#f0f921"
            ]
           ]
          },
          "colorway": [
           "#636efa",
           "#EF553B",
           "#00cc96",
           "#ab63fa",
           "#FFA15A",
           "#19d3f3",
           "#FF6692",
           "#B6E880",
           "#FF97FF",
           "#FECB52"
          ],
          "font": {
           "color": "#2a3f5f"
          },
          "geo": {
           "bgcolor": "white",
           "lakecolor": "white",
           "landcolor": "#E5ECF6",
           "showlakes": true,
           "showland": true,
           "subunitcolor": "white"
          },
          "hoverlabel": {
           "align": "left"
          },
          "hovermode": "closest",
          "mapbox": {
           "style": "light"
          },
          "paper_bgcolor": "white",
          "plot_bgcolor": "#E5ECF6",
          "polar": {
           "angularaxis": {
            "gridcolor": "white",
            "linecolor": "white",
            "ticks": ""
           },
           "bgcolor": "#E5ECF6",
           "radialaxis": {
            "gridcolor": "white",
            "linecolor": "white",
            "ticks": ""
           }
          },
          "scene": {
           "xaxis": {
            "backgroundcolor": "#E5ECF6",
            "gridcolor": "white",
            "gridwidth": 2,
            "linecolor": "white",
            "showbackground": true,
            "ticks": "",
            "zerolinecolor": "white"
           },
           "yaxis": {
            "backgroundcolor": "#E5ECF6",
            "gridcolor": "white",
            "gridwidth": 2,
            "linecolor": "white",
            "showbackground": true,
            "ticks": "",
            "zerolinecolor": "white"
           },
           "zaxis": {
            "backgroundcolor": "#E5ECF6",
            "gridcolor": "white",
            "gridwidth": 2,
            "linecolor": "white",
            "showbackground": true,
            "ticks": "",
            "zerolinecolor": "white"
           }
          },
          "shapedefaults": {
           "line": {
            "color": "#2a3f5f"
           }
          },
          "ternary": {
           "aaxis": {
            "gridcolor": "white",
            "linecolor": "white",
            "ticks": ""
           },
           "baxis": {
            "gridcolor": "white",
            "linecolor": "white",
            "ticks": ""
           },
           "bgcolor": "#E5ECF6",
           "caxis": {
            "gridcolor": "white",
            "linecolor": "white",
            "ticks": ""
           }
          },
          "title": {
           "x": 0.05
          },
          "xaxis": {
           "automargin": true,
           "gridcolor": "white",
           "linecolor": "white",
           "ticks": "",
           "title": {
            "standoff": 15
           },
           "zerolinecolor": "white",
           "zerolinewidth": 2
          },
          "yaxis": {
           "automargin": true,
           "gridcolor": "white",
           "linecolor": "white",
           "ticks": "",
           "title": {
            "standoff": 15
           },
           "zerolinecolor": "white",
           "zerolinewidth": 2
          }
         }
        },
        "title": {
         "text": "Distribución de tags en conversaciones"
        },
        "width": 600
       }
      }
     },
     "metadata": {},
     "output_type": "display_data"
    }
   ],
   "source": [
    "tag_counts = conversations.tag.value_counts()\n",
    "fig = px.pie(values=tag_counts.values, names = tag_counts.index, title = 'Distribución de tags en conversaciones', width=600, height=400)\n",
    "fig.show()"
   ]
  },
  {
   "cell_type": "code",
   "execution_count": 583,
   "metadata": {},
   "outputs": [
    {
     "data": {
      "text/plain": [
       "Index(['createdAt', 'role', 'content', 'direction', 'conversationId', 'credit',\n",
       "       'discount', 'phone1', 'last_template_at', 'tag', 'id', 'sent_status',\n",
       "       'seen', 'image_id'],\n",
       "      dtype='object')"
      ]
     },
     "execution_count": 583,
     "metadata": {},
     "output_type": "execute_result"
    }
   ],
   "source": [
    "conversations.columns"
   ]
  },
  {
   "cell_type": "code",
   "execution_count": 584,
   "metadata": {},
   "outputs": [],
   "source": [
    "data = conversations.copy()"
   ]
  },
  {
   "cell_type": "code",
   "execution_count": 585,
   "metadata": {},
   "outputs": [],
   "source": [
    "serie_count_celphones = pd.DataFrame(data.groupby(\"conversationId\").phone1.nunique().sort_values()).reset_index()"
   ]
  },
  {
   "cell_type": "code",
   "execution_count": 586,
   "metadata": {},
   "outputs": [],
   "source": [
    "data = data.loc[data.conversationId.isin(serie_count_celphones.query(\"phone1 == 1\").conversationId)]"
   ]
  },
  {
   "cell_type": "code",
   "execution_count": 587,
   "metadata": {},
   "outputs": [
    {
     "data": {
      "text/plain": [
       "True"
      ]
     },
     "execution_count": 587,
     "metadata": {},
     "output_type": "execute_result"
    }
   ],
   "source": [
    "data.groupby(\"conversationId\").phone1.nunique().sort_values().min() == data.groupby(\"conversationId\").phone1.nunique().sort_values().max()"
   ]
  },
  {
   "cell_type": "code",
   "execution_count": 588,
   "metadata": {},
   "outputs": [
    {
     "data": {
      "text/plain": [
       "True"
      ]
     },
     "execution_count": 588,
     "metadata": {},
     "output_type": "execute_result"
    }
   ],
   "source": [
    "data.groupby(\"conversationId\").credit.nunique().sort_values().min() == data.groupby(\"conversationId\").credit.nunique().sort_values().max()"
   ]
  },
  {
   "cell_type": "code",
   "execution_count": 589,
   "metadata": {},
   "outputs": [],
   "source": [
    "data.dropna(subset=[\"phone1\", 'credit'], inplace=True)"
   ]
  },
  {
   "cell_type": "code",
   "execution_count": 590,
   "metadata": {},
   "outputs": [],
   "source": [
    "data['id'] = data.apply(lambda row: f\"{row['credit']} - {row['phone1']}\", axis = 1)"
   ]
  },
  {
   "cell_type": "code",
   "execution_count": 591,
   "metadata": {},
   "outputs": [],
   "source": [
    "## Filtrando solo las fechas solicitadas\n",
    "data.credit = data.credit.astype(str)\n",
    "data.conversationId = data.conversationId.astype(str)"
   ]
  },
  {
   "cell_type": "code",
   "execution_count": 592,
   "metadata": {},
   "outputs": [],
   "source": [
    "data.reset_index(drop=True, inplace=True)"
   ]
  },
  {
   "cell_type": "code",
   "execution_count": 593,
   "metadata": {},
   "outputs": [],
   "source": [
    "data = data.sort_values(by = ['createdAt', 'content'])\n",
    "data = data.reset_index()"
   ]
  },
  {
   "cell_type": "code",
   "execution_count": 594,
   "metadata": {},
   "outputs": [],
   "source": [
    "for i, row in data.iterrows():\n",
    "    if \"Template\" in row['content']:\n",
    "        data.at[i, \"sent_status\"] = data.at[i+1, \"sent_status\"]"
   ]
  },
  {
   "cell_type": "code",
   "execution_count": 595,
   "metadata": {},
   "outputs": [],
   "source": [
    "dummies = pd.get_dummies(data['sent_status'], prefix='sent_status')\n",
    "\n",
    "# Concatenar dummies con el DataFrame original excluyendo la columna original\n",
    "data = pd.concat([data.drop('sent_status', axis=1), dummies], axis=1)"
   ]
  },
  {
   "cell_type": "code",
   "execution_count": 596,
   "metadata": {},
   "outputs": [
    {
     "data": {
      "text/html": [
       "<div>\n",
       "<style scoped>\n",
       "    .dataframe tbody tr th:only-of-type {\n",
       "        vertical-align: middle;\n",
       "    }\n",
       "\n",
       "    .dataframe tbody tr th {\n",
       "        vertical-align: top;\n",
       "    }\n",
       "\n",
       "    .dataframe thead th {\n",
       "        text-align: right;\n",
       "    }\n",
       "</style>\n",
       "<table border=\"1\" class=\"dataframe\">\n",
       "  <thead>\n",
       "    <tr style=\"text-align: right;\">\n",
       "      <th></th>\n",
       "      <th>index</th>\n",
       "      <th>createdAt</th>\n",
       "      <th>role</th>\n",
       "      <th>content</th>\n",
       "      <th>direction</th>\n",
       "      <th>conversationId</th>\n",
       "      <th>credit</th>\n",
       "      <th>discount</th>\n",
       "      <th>phone1</th>\n",
       "      <th>last_template_at</th>\n",
       "      <th>tag</th>\n",
       "      <th>id</th>\n",
       "      <th>seen</th>\n",
       "      <th>image_id</th>\n",
       "      <th>sent_status_delivered</th>\n",
       "      <th>sent_status_failed</th>\n",
       "      <th>sent_status_read</th>\n",
       "      <th>sent_status_sent</th>\n",
       "      <th>sent_status_sin_estatus</th>\n",
       "    </tr>\n",
       "  </thead>\n",
       "  <tbody>\n",
       "    <tr>\n",
       "      <th>0</th>\n",
       "      <td>17970</td>\n",
       "      <td>2024-06-12 10:59:56.767</td>\n",
       "      <td>assistant</td>\n",
       "      <td>Template \"descuento_banco_60\" enviado</td>\n",
       "      <td>outgoing</td>\n",
       "      <td>1284442</td>\n",
       "      <td>600411910950</td>\n",
       "      <td>0</td>\n",
       "      <td>5212411776482</td>\n",
       "      <td>2024-08-22 17:13:41.796</td>\n",
       "      <td>NaN</td>\n",
       "      <td>600411910950 - 5212411776482</td>\n",
       "      <td>NaN</td>\n",
       "      <td>NaN</td>\n",
       "      <td>False</td>\n",
       "      <td>False</td>\n",
       "      <td>False</td>\n",
       "      <td>False</td>\n",
       "      <td>True</td>\n",
       "    </tr>\n",
       "    <tr>\n",
       "      <th>1</th>\n",
       "      <td>17971</td>\n",
       "      <td>2024-06-12 10:59:56.767</td>\n",
       "      <td>assistant</td>\n",
       "      <td>El dia de HOY tiene un magnifico descuento del 60% para liquidar su credito Bancoppel, ESPERAMOS SU RESPUESTA.</td>\n",
       "      <td>outgoing</td>\n",
       "      <td>1284442</td>\n",
       "      <td>600411910950</td>\n",
       "      <td>0</td>\n",
       "      <td>5212411776482</td>\n",
       "      <td>2024-08-22 17:13:41.796</td>\n",
       "      <td>NaN</td>\n",
       "      <td>600411910950 - 5212411776482</td>\n",
       "      <td>NaN</td>\n",
       "      <td>NaN</td>\n",
       "      <td>False</td>\n",
       "      <td>False</td>\n",
       "      <td>False</td>\n",
       "      <td>False</td>\n",
       "      <td>True</td>\n",
       "    </tr>\n",
       "    <tr>\n",
       "      <th>2</th>\n",
       "      <td>129557</td>\n",
       "      <td>2024-06-12 11:22:36.582</td>\n",
       "      <td>assistant</td>\n",
       "      <td>Template \"descuento_banco_60\" enviado</td>\n",
       "      <td>outgoing</td>\n",
       "      <td>93421851</td>\n",
       "      <td>600718450494</td>\n",
       "      <td>0</td>\n",
       "      <td>5218445318517</td>\n",
       "      <td>2024-08-21 11:54:51.699</td>\n",
       "      <td>NaN</td>\n",
       "      <td>600718450494 - 5218445318517</td>\n",
       "      <td>NaN</td>\n",
       "      <td>NaN</td>\n",
       "      <td>False</td>\n",
       "      <td>False</td>\n",
       "      <td>False</td>\n",
       "      <td>False</td>\n",
       "      <td>True</td>\n",
       "    </tr>\n",
       "    <tr>\n",
       "      <th>3</th>\n",
       "      <td>129558</td>\n",
       "      <td>2024-06-12 11:22:36.582</td>\n",
       "      <td>assistant</td>\n",
       "      <td>El dia de HOY tiene un magnifico descuento del 60% para liquidar su credito Bancoppel, ESPERAMOS SU RESPUESTA.</td>\n",
       "      <td>outgoing</td>\n",
       "      <td>93421851</td>\n",
       "      <td>600718450494</td>\n",
       "      <td>0</td>\n",
       "      <td>5218445318517</td>\n",
       "      <td>2024-08-21 11:54:51.699</td>\n",
       "      <td>NaN</td>\n",
       "      <td>600718450494 - 5218445318517</td>\n",
       "      <td>NaN</td>\n",
       "      <td>NaN</td>\n",
       "      <td>False</td>\n",
       "      <td>False</td>\n",
       "      <td>False</td>\n",
       "      <td>False</td>\n",
       "      <td>True</td>\n",
       "    </tr>\n",
       "    <tr>\n",
       "      <th>4</th>\n",
       "      <td>21282</td>\n",
       "      <td>2024-06-12 11:22:37.150</td>\n",
       "      <td>assistant</td>\n",
       "      <td>Template \"descuento_banco_60\" enviado</td>\n",
       "      <td>outgoing</td>\n",
       "      <td>51774339</td>\n",
       "      <td>680087146097</td>\n",
       "      <td>0</td>\n",
       "      <td>5213315714166</td>\n",
       "      <td>2024-08-17 09:11:06.908</td>\n",
       "      <td>NaN</td>\n",
       "      <td>680087146097 - 5213315714166</td>\n",
       "      <td>NaN</td>\n",
       "      <td>NaN</td>\n",
       "      <td>False</td>\n",
       "      <td>False</td>\n",
       "      <td>False</td>\n",
       "      <td>False</td>\n",
       "      <td>True</td>\n",
       "    </tr>\n",
       "    <tr>\n",
       "      <th>...</th>\n",
       "      <td>...</td>\n",
       "      <td>...</td>\n",
       "      <td>...</td>\n",
       "      <td>...</td>\n",
       "      <td>...</td>\n",
       "      <td>...</td>\n",
       "      <td>...</td>\n",
       "      <td>...</td>\n",
       "      <td>...</td>\n",
       "      <td>...</td>\n",
       "      <td>...</td>\n",
       "      <td>...</td>\n",
       "      <td>...</td>\n",
       "      <td>...</td>\n",
       "      <td>...</td>\n",
       "      <td>...</td>\n",
       "      <td>...</td>\n",
       "      <td>...</td>\n",
       "      <td>...</td>\n",
       "    </tr>\n",
       "    <tr>\n",
       "      <th>194655</th>\n",
       "      <td>166346</td>\n",
       "      <td>2024-08-26 18:37:59.690</td>\n",
       "      <td>assistant</td>\n",
       "      <td>Gracias por tu mensaje. Estamos conectándote con un asesor.</td>\n",
       "      <td>outgoing</td>\n",
       "      <td>8951569</td>\n",
       "      <td>600569368480</td>\n",
       "      <td>0</td>\n",
       "      <td>5215564764806</td>\n",
       "      <td>2024-08-22 10:36:51.183</td>\n",
       "      <td>no define</td>\n",
       "      <td>600569368480 - 5215564764806</td>\n",
       "      <td>False</td>\n",
       "      <td>NaN</td>\n",
       "      <td>False</td>\n",
       "      <td>False</td>\n",
       "      <td>True</td>\n",
       "      <td>False</td>\n",
       "      <td>False</td>\n",
       "    </tr>\n",
       "    <tr>\n",
       "      <th>194656</th>\n",
       "      <td>81768</td>\n",
       "      <td>2024-08-26 18:51:23.417</td>\n",
       "      <td>user</td>\n",
       "      <td>Hola! Tengo adeudo, quiero abonar o ver que opciones tengo</td>\n",
       "      <td>incoming</td>\n",
       "      <td>93145663</td>\n",
       "      <td>600741435819</td>\n",
       "      <td>0</td>\n",
       "      <td>5216863208995</td>\n",
       "      <td>2024-08-21 14:53:50.148</td>\n",
       "      <td>no define</td>\n",
       "      <td>600741435819 - 5216863208995</td>\n",
       "      <td>NaN</td>\n",
       "      <td>NaN</td>\n",
       "      <td>False</td>\n",
       "      <td>False</td>\n",
       "      <td>False</td>\n",
       "      <td>False</td>\n",
       "      <td>True</td>\n",
       "    </tr>\n",
       "    <tr>\n",
       "      <th>194657</th>\n",
       "      <td>103887</td>\n",
       "      <td>2024-08-26 19:09:17.187</td>\n",
       "      <td>user</td>\n",
       "      <td>Ok 👍 si lo voy intentar</td>\n",
       "      <td>incoming</td>\n",
       "      <td>91209407</td>\n",
       "      <td>600628048214</td>\n",
       "      <td>0</td>\n",
       "      <td>5213334624563</td>\n",
       "      <td>2024-08-26 12:51:12.707</td>\n",
       "      <td>no define</td>\n",
       "      <td>600628048214 - 5213334624563</td>\n",
       "      <td>NaN</td>\n",
       "      <td>NaN</td>\n",
       "      <td>False</td>\n",
       "      <td>False</td>\n",
       "      <td>False</td>\n",
       "      <td>False</td>\n",
       "      <td>True</td>\n",
       "    </tr>\n",
       "    <tr>\n",
       "      <th>194658</th>\n",
       "      <td>81769</td>\n",
       "      <td>2024-08-26 19:11:37.763</td>\n",
       "      <td>assistant</td>\n",
       "      <td>En sistema me aparece una TDC VISA Bancoppel con un saldo pendiente de 24,321.08 Puede liquidar con un pago único de $9,800 Este pago se realiza en una sola exhibición directamente en ventanilla de Bancoppel ¿Contaría con esta cantidad para el día miércoles 28 de agosto?</td>\n",
       "      <td>outgoing</td>\n",
       "      <td>93145663</td>\n",
       "      <td>600741435819</td>\n",
       "      <td>0</td>\n",
       "      <td>5216863208995</td>\n",
       "      <td>2024-08-21 14:53:50.148</td>\n",
       "      <td>no define</td>\n",
       "      <td>600741435819 - 5216863208995</td>\n",
       "      <td>NaN</td>\n",
       "      <td>NaN</td>\n",
       "      <td>False</td>\n",
       "      <td>False</td>\n",
       "      <td>True</td>\n",
       "      <td>False</td>\n",
       "      <td>False</td>\n",
       "    </tr>\n",
       "    <tr>\n",
       "      <th>194659</th>\n",
       "      <td>81770</td>\n",
       "      <td>2024-08-26 19:29:59.464</td>\n",
       "      <td>user</td>\n",
       "      <td>No Tengo esa cantidad 😔</td>\n",
       "      <td>incoming</td>\n",
       "      <td>93145663</td>\n",
       "      <td>600741435819</td>\n",
       "      <td>0</td>\n",
       "      <td>5216863208995</td>\n",
       "      <td>2024-08-21 14:53:50.148</td>\n",
       "      <td>no define</td>\n",
       "      <td>600741435819 - 5216863208995</td>\n",
       "      <td>NaN</td>\n",
       "      <td>NaN</td>\n",
       "      <td>False</td>\n",
       "      <td>False</td>\n",
       "      <td>False</td>\n",
       "      <td>False</td>\n",
       "      <td>True</td>\n",
       "    </tr>\n",
       "  </tbody>\n",
       "</table>\n",
       "<p>194660 rows × 19 columns</p>\n",
       "</div>"
      ],
      "text/plain": [
       "         index               createdAt       role  \\\n",
       "0        17970 2024-06-12 10:59:56.767  assistant   \n",
       "1        17971 2024-06-12 10:59:56.767  assistant   \n",
       "2       129557 2024-06-12 11:22:36.582  assistant   \n",
       "3       129558 2024-06-12 11:22:36.582  assistant   \n",
       "4        21282 2024-06-12 11:22:37.150  assistant   \n",
       "...        ...                     ...        ...   \n",
       "194655  166346 2024-08-26 18:37:59.690  assistant   \n",
       "194656   81768 2024-08-26 18:51:23.417       user   \n",
       "194657  103887 2024-08-26 19:09:17.187       user   \n",
       "194658   81769 2024-08-26 19:11:37.763  assistant   \n",
       "194659   81770 2024-08-26 19:29:59.464       user   \n",
       "\n",
       "                                                                                                                                                                                                                                                                                content  \\\n",
       "0                                                                                                                                                                                                                                                 Template \"descuento_banco_60\" enviado   \n",
       "1                                                                                                                                                                        El dia de HOY tiene un magnifico descuento del 60% para liquidar su credito Bancoppel, ESPERAMOS SU RESPUESTA.   \n",
       "2                                                                                                                                                                                                                                                 Template \"descuento_banco_60\" enviado   \n",
       "3                                                                                                                                                                        El dia de HOY tiene un magnifico descuento del 60% para liquidar su credito Bancoppel, ESPERAMOS SU RESPUESTA.   \n",
       "4                                                                                                                                                                                                                                                 Template \"descuento_banco_60\" enviado   \n",
       "...                                                                                                                                                                                                                                                                                 ...   \n",
       "194655                                                                                                                                                                                                                      Gracias por tu mensaje. Estamos conectándote con un asesor.   \n",
       "194656                                                                                                                                                                                                                       Hola! Tengo adeudo, quiero abonar o ver que opciones tengo   \n",
       "194657                                                                                                                                                                                                                                                          Ok 👍 si lo voy intentar   \n",
       "194658  En sistema me aparece una TDC VISA Bancoppel con un saldo pendiente de 24,321.08 Puede liquidar con un pago único de $9,800 Este pago se realiza en una sola exhibición directamente en ventanilla de Bancoppel ¿Contaría con esta cantidad para el día miércoles 28 de agosto?   \n",
       "194659                                                                                                                                                                                                                                                          No Tengo esa cantidad 😔   \n",
       "\n",
       "       direction conversationId        credit discount         phone1  \\\n",
       "0       outgoing        1284442  600411910950        0  5212411776482   \n",
       "1       outgoing        1284442  600411910950        0  5212411776482   \n",
       "2       outgoing       93421851  600718450494        0  5218445318517   \n",
       "3       outgoing       93421851  600718450494        0  5218445318517   \n",
       "4       outgoing       51774339  680087146097        0  5213315714166   \n",
       "...          ...            ...           ...      ...            ...   \n",
       "194655  outgoing        8951569  600569368480        0  5215564764806   \n",
       "194656  incoming       93145663  600741435819        0  5216863208995   \n",
       "194657  incoming       91209407  600628048214        0  5213334624563   \n",
       "194658  outgoing       93145663  600741435819        0  5216863208995   \n",
       "194659  incoming       93145663  600741435819        0  5216863208995   \n",
       "\n",
       "              last_template_at        tag                            id  \\\n",
       "0      2024-08-22 17:13:41.796        NaN  600411910950 - 5212411776482   \n",
       "1      2024-08-22 17:13:41.796        NaN  600411910950 - 5212411776482   \n",
       "2      2024-08-21 11:54:51.699        NaN  600718450494 - 5218445318517   \n",
       "3      2024-08-21 11:54:51.699        NaN  600718450494 - 5218445318517   \n",
       "4      2024-08-17 09:11:06.908        NaN  680087146097 - 5213315714166   \n",
       "...                        ...        ...                           ...   \n",
       "194655 2024-08-22 10:36:51.183  no define  600569368480 - 5215564764806   \n",
       "194656 2024-08-21 14:53:50.148  no define  600741435819 - 5216863208995   \n",
       "194657 2024-08-26 12:51:12.707  no define  600628048214 - 5213334624563   \n",
       "194658 2024-08-21 14:53:50.148  no define  600741435819 - 5216863208995   \n",
       "194659 2024-08-21 14:53:50.148  no define  600741435819 - 5216863208995   \n",
       "\n",
       "         seen image_id  sent_status_delivered  sent_status_failed  \\\n",
       "0         NaN      NaN                  False               False   \n",
       "1         NaN      NaN                  False               False   \n",
       "2         NaN      NaN                  False               False   \n",
       "3         NaN      NaN                  False               False   \n",
       "4         NaN      NaN                  False               False   \n",
       "...       ...      ...                    ...                 ...   \n",
       "194655  False      NaN                  False               False   \n",
       "194656    NaN      NaN                  False               False   \n",
       "194657    NaN      NaN                  False               False   \n",
       "194658    NaN      NaN                  False               False   \n",
       "194659    NaN      NaN                  False               False   \n",
       "\n",
       "        sent_status_read  sent_status_sent  sent_status_sin_estatus  \n",
       "0                  False             False                     True  \n",
       "1                  False             False                     True  \n",
       "2                  False             False                     True  \n",
       "3                  False             False                     True  \n",
       "4                  False             False                     True  \n",
       "...                  ...               ...                      ...  \n",
       "194655              True             False                    False  \n",
       "194656             False             False                     True  \n",
       "194657             False             False                     True  \n",
       "194658              True             False                    False  \n",
       "194659             False             False                     True  \n",
       "\n",
       "[194660 rows x 19 columns]"
      ]
     },
     "execution_count": 596,
     "metadata": {},
     "output_type": "execute_result"
    }
   ],
   "source": [
    "data"
   ]
  },
  {
   "cell_type": "code",
   "execution_count": 597,
   "metadata": {},
   "outputs": [],
   "source": [
    "respuestas = 0\n",
    "indexes_templates = np.where(data.content.str.contains(\"Template\"))[0]\n",
    "for index in range(len(indexes_templates) - 1):\n",
    "    if (indexes_templates[index + 1] - indexes_templates[index]) > 2:\n",
    "        respuestas += 1"
   ]
  },
  {
   "cell_type": "code",
   "execution_count": 598,
   "metadata": {},
   "outputs": [
    {
     "data": {
      "text/plain": [
       "3829"
      ]
     },
     "execution_count": 598,
     "metadata": {},
     "output_type": "execute_result"
    }
   ],
   "source": [
    "respuestas"
   ]
  },
  {
   "cell_type": "code",
   "execution_count": 599,
   "metadata": {},
   "outputs": [
    {
     "data": {
      "text/plain": [
       "sent_status_sent\n",
       "False    181664\n",
       "True      12996\n",
       "Name: count, dtype: int64"
      ]
     },
     "execution_count": 599,
     "metadata": {},
     "output_type": "execute_result"
    }
   ],
   "source": [
    "# cuenta la cantidad de trues y false en la columna sent_status_sent\n",
    "\n",
    "data['sent_status_sent'].value_counts()"
   ]
  },
  {
   "cell_type": "markdown",
   "metadata": {},
   "source": [
    "<font size = 8 color ='27A3D7'>Insights</font>\n",
    "\n",
    "---"
   ]
  },
  {
   "cell_type": "markdown",
   "metadata": {},
   "source": [
    "## 1. Envíos Totales\n",
    "\n"
   ]
  },
  {
   "cell_type": "code",
   "execution_count": 600,
   "metadata": {},
   "outputs": [],
   "source": [
    "# conversations.role.value_counts()"
   ]
  },
  {
   "cell_type": "code",
   "execution_count": 601,
   "metadata": {},
   "outputs": [
    {
     "data": {
      "text/plain": [
       "role\n",
       "assistant    83647\n",
       "Name: count, dtype: int64"
      ]
     },
     "execution_count": 601,
     "metadata": {},
     "output_type": "execute_result"
    }
   ],
   "source": [
    "data.query(\"content.str.contains('Template')\").role.value_counts()"
   ]
  },
  {
   "cell_type": "markdown",
   "metadata": {},
   "source": [
    "## 2. Porcentaje de Respuestas\n",
    "\n"
   ]
  },
  {
   "cell_type": "code",
   "execution_count": 602,
   "metadata": {},
   "outputs": [
    {
     "data": {
      "text/plain": [
       "(83647, 11574)"
      ]
     },
     "execution_count": 602,
     "metadata": {},
     "output_type": "execute_result"
    }
   ],
   "source": [
    "total_envios = data.query(\"content.str.contains('Template')\").shape[0]\n",
    "total_respuestas = data.query(\"direction == 'incoming'\").shape[0]\n",
    "\n",
    "total_envios, total_respuestas"
   ]
  },
  {
   "cell_type": "code",
   "execution_count": 603,
   "metadata": {},
   "outputs": [
    {
     "name": "stdout",
     "output_type": "stream",
     "text": [
      "Porcentaje de respuestas recibidas: 13.84%\n"
     ]
    }
   ],
   "source": [
    "if total_envios > 0: \n",
    "    porcentaje_respuestas = (total_respuestas / total_envios) * 100\n",
    "else:\n",
    "    porcentaje_respuestas = 0\n",
    "\n",
    "print(f\"Porcentaje de respuestas recibidas: {porcentaje_respuestas:.2f}%\")"
   ]
  },
  {
   "cell_type": "markdown",
   "metadata": {},
   "source": [
    "## 3. Gastos en Meta"
   ]
  },
  {
   "cell_type": "markdown",
   "metadata": {},
   "source": [
    "Mexico\t$US\t0.0436\t0.01\t0.0239\tn/a\t0.0105"
   ]
  },
  {
   "cell_type": "markdown",
   "metadata": {},
   "source": [
    "https://developers.facebook.com/docs/whatsapp/pricing?locale=es_LA"
   ]
  },
  {
   "cell_type": "code",
   "execution_count": 604,
   "metadata": {},
   "outputs": [],
   "source": [
    "import requests\n",
    "\n",
    "def obtener_tipo_cambio():\n",
    "    try:\n",
    "        response = requests.get(\"https://api.exchangerate-api.com/v4/latest/USD\")\n",
    "        data = response.json()\n",
    "        tipo_cambio_usd_mxn = data[\"rates\"][\"MXN\"]\n",
    "        return tipo_cambio_usd_mxn\n",
    "    except Exception as e:\n",
    "        print(f\"Error al obtener el tipo de cambio: {e}\")\n",
    "        return 19.33  # Valor por defecto en caso de error\n",
    "\n",
    "def calcular_costo_por_mes(data, mes, año):\n",
    "    data['createdAt'] = pd.to_datetime(data['createdAt'])\n",
    "    \n",
    "    mensajes_template = data[data['content'].str.contains('Template', na = False) & (data['sent_status_failed'] != True)]\n",
    "\n",
    "    mensajes_template_mes = mensajes_template[(mensajes_template['createdAt'].dt.month == mes) &\n",
    "                                              (mensajes_template['createdAt'].dt.year == año)]\n",
    "\n",
    "    total_envios = mensajes_template_mes.shape[0]\n",
    "    tipo_cambio_usd_mxn = obtener_tipo_cambio()\n",
    "    costo_usd_por_mensaje = 0.0436\n",
    "    costo_mxn_por_mensaje = costo_usd_por_mensaje * tipo_cambio_usd_mxn\n",
    "    total_a_pagar_mxn = total_envios * costo_mxn_por_mensaje\n",
    "\n",
    "    print(f\"Tipo de cambio USD a MXN: {tipo_cambio_usd_mxn:.2f}\")\n",
    "    print(f\"Costo por mensaje en MXN: ${costo_mxn_por_mensaje:.4f}\")\n",
    "    print(f\"Mes/Año: {mes}/{año}\")\n",
    "    print(f\"Total de envíos realizados por el chatbot (sin fallos): {total_envios}\")\n",
    "    print(f\"Total a pagar por los mensajes enviados: ${total_a_pagar_mxn:.2f} MXN\")\n"
   ]
  },
  {
   "cell_type": "code",
   "execution_count": 605,
   "metadata": {},
   "outputs": [
    {
     "name": "stdout",
     "output_type": "stream",
     "text": [
      "Tipo de cambio USD a MXN: 19.38\n",
      "Costo por mensaje en MXN: $0.8450\n",
      "Mes/Año: 8/2024\n",
      "Total de envíos realizados por el chatbot (sin fallos): 42402\n",
      "Total a pagar por los mensajes enviados: $35828.33 MXN\n"
     ]
    }
   ],
   "source": [
    "calcular_costo_por_mes(data, 8, 2024)"
   ]
  },
  {
   "cell_type": "code",
   "execution_count": 606,
   "metadata": {},
   "outputs": [
    {
     "name": "stdout",
     "output_type": "stream",
     "text": [
      "Tipo de cambio USD a MXN: 19.38\n",
      "Costo por mensaje en MXN: $0.8450\n",
      "Total de envíos realizados por el chatbot (sin fallos): 57531\n",
      "Total a pagar por los mensajes enviados: $48611.85 MXN\n"
     ]
    }
   ],
   "source": [
    "total_envios = data.query(\"content.str.contains('Template') and sent_status_failed == False\").shape[0]\n",
    "\n",
    "tipo_cambio_usd_mxn = obtener_tipo_cambio()\n",
    "costo_usd_por_mensaje = 0.0436\n",
    "costo_mxn_por_mensaje = costo_usd_por_mensaje * tipo_cambio_usd_mxn\n",
    "total_a_pagar_mxn = total_envios * costo_mxn_por_mensaje\n",
    "\n",
    "print(f\"Tipo de cambio USD a MXN: {tipo_cambio_usd_mxn:.2f}\")\n",
    "print(f\"Costo por mensaje en MXN: ${costo_mxn_por_mensaje:.4f}\")\n",
    "print(f\"Total de envíos realizados por el chatbot (sin fallos): {total_envios}\")\n",
    "print(f\"Total a pagar por los mensajes enviados: ${total_a_pagar_mxn:.2f} MXN\")"
   ]
  },
  {
   "cell_type": "markdown",
   "metadata": {},
   "source": [
    "<font size = 7 color ='27A3D7'>Dictaminaciones General</font>\n",
    "\n",
    "---"
   ]
  },
  {
   "cell_type": "markdown",
   "metadata": {},
   "source": [
    "de las respuestas: extraigo el tag y saco el el count, lo grafico\n",
    "\n",
    "pie chart o donut?"
   ]
  },
  {
   "cell_type": "code",
   "execution_count": 607,
   "metadata": {},
   "outputs": [
    {
     "data": {
      "application/vnd.plotly.v1+json": {
       "config": {
        "plotlyServerURL": "https://plot.ly"
       },
       "data": [
        {
         "domain": {
          "x": [
           0,
           1
          ],
          "y": [
           0,
           1
          ]
         },
         "hole": 0.4,
         "hovertemplate": "label=%{label}<br>value=%{value}<extra></extra>",
         "labels": [
          "detener promociones",
          "carta convenio",
          "no define",
          "contacto humano",
          "próximo pago",
          "no reconoce",
          "intención de pago",
          "negativa de pago"
         ],
         "legendgroup": "",
         "name": "",
         "showlegend": true,
         "type": "pie",
         "values": [
          1225,
          1112,
          926,
          670,
          237,
          179,
          136,
          35
         ]
        }
       ],
       "layout": {
        "height": 400,
        "legend": {
         "tracegroupgap": 0
        },
        "template": {
         "data": {
          "bar": [
           {
            "error_x": {
             "color": "#2a3f5f"
            },
            "error_y": {
             "color": "#2a3f5f"
            },
            "marker": {
             "line": {
              "color": "#E5ECF6",
              "width": 0.5
             },
             "pattern": {
              "fillmode": "overlay",
              "size": 10,
              "solidity": 0.2
             }
            },
            "type": "bar"
           }
          ],
          "barpolar": [
           {
            "marker": {
             "line": {
              "color": "#E5ECF6",
              "width": 0.5
             },
             "pattern": {
              "fillmode": "overlay",
              "size": 10,
              "solidity": 0.2
             }
            },
            "type": "barpolar"
           }
          ],
          "carpet": [
           {
            "aaxis": {
             "endlinecolor": "#2a3f5f",
             "gridcolor": "white",
             "linecolor": "white",
             "minorgridcolor": "white",
             "startlinecolor": "#2a3f5f"
            },
            "baxis": {
             "endlinecolor": "#2a3f5f",
             "gridcolor": "white",
             "linecolor": "white",
             "minorgridcolor": "white",
             "startlinecolor": "#2a3f5f"
            },
            "type": "carpet"
           }
          ],
          "choropleth": [
           {
            "colorbar": {
             "outlinewidth": 0,
             "ticks": ""
            },
            "type": "choropleth"
           }
          ],
          "contour": [
           {
            "colorbar": {
             "outlinewidth": 0,
             "ticks": ""
            },
            "colorscale": [
             [
              0,
              "#0d0887"
             ],
             [
              0.1111111111111111,
              "#46039f"
             ],
             [
              0.2222222222222222,
              "#7201a8"
             ],
             [
              0.3333333333333333,
              "#9c179e"
             ],
             [
              0.4444444444444444,
              "#bd3786"
             ],
             [
              0.5555555555555556,
              "#d8576b"
             ],
             [
              0.6666666666666666,
              "#ed7953"
             ],
             [
              0.7777777777777778,
              "#fb9f3a"
             ],
             [
              0.8888888888888888,
              "#fdca26"
             ],
             [
              1,
              "#f0f921"
             ]
            ],
            "type": "contour"
           }
          ],
          "contourcarpet": [
           {
            "colorbar": {
             "outlinewidth": 0,
             "ticks": ""
            },
            "type": "contourcarpet"
           }
          ],
          "heatmap": [
           {
            "colorbar": {
             "outlinewidth": 0,
             "ticks": ""
            },
            "colorscale": [
             [
              0,
              "#0d0887"
             ],
             [
              0.1111111111111111,
              "#46039f"
             ],
             [
              0.2222222222222222,
              "#7201a8"
             ],
             [
              0.3333333333333333,
              "#9c179e"
             ],
             [
              0.4444444444444444,
              "#bd3786"
             ],
             [
              0.5555555555555556,
              "#d8576b"
             ],
             [
              0.6666666666666666,
              "#ed7953"
             ],
             [
              0.7777777777777778,
              "#fb9f3a"
             ],
             [
              0.8888888888888888,
              "#fdca26"
             ],
             [
              1,
              "#f0f921"
             ]
            ],
            "type": "heatmap"
           }
          ],
          "heatmapgl": [
           {
            "colorbar": {
             "outlinewidth": 0,
             "ticks": ""
            },
            "colorscale": [
             [
              0,
              "#0d0887"
             ],
             [
              0.1111111111111111,
              "#46039f"
             ],
             [
              0.2222222222222222,
              "#7201a8"
             ],
             [
              0.3333333333333333,
              "#9c179e"
             ],
             [
              0.4444444444444444,
              "#bd3786"
             ],
             [
              0.5555555555555556,
              "#d8576b"
             ],
             [
              0.6666666666666666,
              "#ed7953"
             ],
             [
              0.7777777777777778,
              "#fb9f3a"
             ],
             [
              0.8888888888888888,
              "#fdca26"
             ],
             [
              1,
              "#f0f921"
             ]
            ],
            "type": "heatmapgl"
           }
          ],
          "histogram": [
           {
            "marker": {
             "pattern": {
              "fillmode": "overlay",
              "size": 10,
              "solidity": 0.2
             }
            },
            "type": "histogram"
           }
          ],
          "histogram2d": [
           {
            "colorbar": {
             "outlinewidth": 0,
             "ticks": ""
            },
            "colorscale": [
             [
              0,
              "#0d0887"
             ],
             [
              0.1111111111111111,
              "#46039f"
             ],
             [
              0.2222222222222222,
              "#7201a8"
             ],
             [
              0.3333333333333333,
              "#9c179e"
             ],
             [
              0.4444444444444444,
              "#bd3786"
             ],
             [
              0.5555555555555556,
              "#d8576b"
             ],
             [
              0.6666666666666666,
              "#ed7953"
             ],
             [
              0.7777777777777778,
              "#fb9f3a"
             ],
             [
              0.8888888888888888,
              "#fdca26"
             ],
             [
              1,
              "#f0f921"
             ]
            ],
            "type": "histogram2d"
           }
          ],
          "histogram2dcontour": [
           {
            "colorbar": {
             "outlinewidth": 0,
             "ticks": ""
            },
            "colorscale": [
             [
              0,
              "#0d0887"
             ],
             [
              0.1111111111111111,
              "#46039f"
             ],
             [
              0.2222222222222222,
              "#7201a8"
             ],
             [
              0.3333333333333333,
              "#9c179e"
             ],
             [
              0.4444444444444444,
              "#bd3786"
             ],
             [
              0.5555555555555556,
              "#d8576b"
             ],
             [
              0.6666666666666666,
              "#ed7953"
             ],
             [
              0.7777777777777778,
              "#fb9f3a"
             ],
             [
              0.8888888888888888,
              "#fdca26"
             ],
             [
              1,
              "#f0f921"
             ]
            ],
            "type": "histogram2dcontour"
           }
          ],
          "mesh3d": [
           {
            "colorbar": {
             "outlinewidth": 0,
             "ticks": ""
            },
            "type": "mesh3d"
           }
          ],
          "parcoords": [
           {
            "line": {
             "colorbar": {
              "outlinewidth": 0,
              "ticks": ""
             }
            },
            "type": "parcoords"
           }
          ],
          "pie": [
           {
            "automargin": true,
            "type": "pie"
           }
          ],
          "scatter": [
           {
            "fillpattern": {
             "fillmode": "overlay",
             "size": 10,
             "solidity": 0.2
            },
            "type": "scatter"
           }
          ],
          "scatter3d": [
           {
            "line": {
             "colorbar": {
              "outlinewidth": 0,
              "ticks": ""
             }
            },
            "marker": {
             "colorbar": {
              "outlinewidth": 0,
              "ticks": ""
             }
            },
            "type": "scatter3d"
           }
          ],
          "scattercarpet": [
           {
            "marker": {
             "colorbar": {
              "outlinewidth": 0,
              "ticks": ""
             }
            },
            "type": "scattercarpet"
           }
          ],
          "scattergeo": [
           {
            "marker": {
             "colorbar": {
              "outlinewidth": 0,
              "ticks": ""
             }
            },
            "type": "scattergeo"
           }
          ],
          "scattergl": [
           {
            "marker": {
             "colorbar": {
              "outlinewidth": 0,
              "ticks": ""
             }
            },
            "type": "scattergl"
           }
          ],
          "scattermapbox": [
           {
            "marker": {
             "colorbar": {
              "outlinewidth": 0,
              "ticks": ""
             }
            },
            "type": "scattermapbox"
           }
          ],
          "scatterpolar": [
           {
            "marker": {
             "colorbar": {
              "outlinewidth": 0,
              "ticks": ""
             }
            },
            "type": "scatterpolar"
           }
          ],
          "scatterpolargl": [
           {
            "marker": {
             "colorbar": {
              "outlinewidth": 0,
              "ticks": ""
             }
            },
            "type": "scatterpolargl"
           }
          ],
          "scatterternary": [
           {
            "marker": {
             "colorbar": {
              "outlinewidth": 0,
              "ticks": ""
             }
            },
            "type": "scatterternary"
           }
          ],
          "surface": [
           {
            "colorbar": {
             "outlinewidth": 0,
             "ticks": ""
            },
            "colorscale": [
             [
              0,
              "#0d0887"
             ],
             [
              0.1111111111111111,
              "#46039f"
             ],
             [
              0.2222222222222222,
              "#7201a8"
             ],
             [
              0.3333333333333333,
              "#9c179e"
             ],
             [
              0.4444444444444444,
              "#bd3786"
             ],
             [
              0.5555555555555556,
              "#d8576b"
             ],
             [
              0.6666666666666666,
              "#ed7953"
             ],
             [
              0.7777777777777778,
              "#fb9f3a"
             ],
             [
              0.8888888888888888,
              "#fdca26"
             ],
             [
              1,
              "#f0f921"
             ]
            ],
            "type": "surface"
           }
          ],
          "table": [
           {
            "cells": {
             "fill": {
              "color": "#EBF0F8"
             },
             "line": {
              "color": "white"
             }
            },
            "header": {
             "fill": {
              "color": "#C8D4E3"
             },
             "line": {
              "color": "white"
             }
            },
            "type": "table"
           }
          ]
         },
         "layout": {
          "annotationdefaults": {
           "arrowcolor": "#2a3f5f",
           "arrowhead": 0,
           "arrowwidth": 1
          },
          "autotypenumbers": "strict",
          "coloraxis": {
           "colorbar": {
            "outlinewidth": 0,
            "ticks": ""
           }
          },
          "colorscale": {
           "diverging": [
            [
             0,
             "#8e0152"
            ],
            [
             0.1,
             "#c51b7d"
            ],
            [
             0.2,
             "#de77ae"
            ],
            [
             0.3,
             "#f1b6da"
            ],
            [
             0.4,
             "#fde0ef"
            ],
            [
             0.5,
             "#f7f7f7"
            ],
            [
             0.6,
             "#e6f5d0"
            ],
            [
             0.7,
             "#b8e186"
            ],
            [
             0.8,
             "#7fbc41"
            ],
            [
             0.9,
             "#4d9221"
            ],
            [
             1,
             "#276419"
            ]
           ],
           "sequential": [
            [
             0,
             "#0d0887"
            ],
            [
             0.1111111111111111,
             "#46039f"
            ],
            [
             0.2222222222222222,
             "#7201a8"
            ],
            [
             0.3333333333333333,
             "#9c179e"
            ],
            [
             0.4444444444444444,
             "#bd3786"
            ],
            [
             0.5555555555555556,
             "#d8576b"
            ],
            [
             0.6666666666666666,
             "#ed7953"
            ],
            [
             0.7777777777777778,
             "#fb9f3a"
            ],
            [
             0.8888888888888888,
             "#fdca26"
            ],
            [
             1,
             "#f0f921"
            ]
           ],
           "sequentialminus": [
            [
             0,
             "#0d0887"
            ],
            [
             0.1111111111111111,
             "#46039f"
            ],
            [
             0.2222222222222222,
             "#7201a8"
            ],
            [
             0.3333333333333333,
             "#9c179e"
            ],
            [
             0.4444444444444444,
             "#bd3786"
            ],
            [
             0.5555555555555556,
             "#d8576b"
            ],
            [
             0.6666666666666666,
             "#ed7953"
            ],
            [
             0.7777777777777778,
             "#fb9f3a"
            ],
            [
             0.8888888888888888,
             "#fdca26"
            ],
            [
             1,
             "#f0f921"
            ]
           ]
          },
          "colorway": [
           "#636efa",
           "#EF553B",
           "#00cc96",
           "#ab63fa",
           "#FFA15A",
           "#19d3f3",
           "#FF6692",
           "#B6E880",
           "#FF97FF",
           "#FECB52"
          ],
          "font": {
           "color": "#2a3f5f"
          },
          "geo": {
           "bgcolor": "white",
           "lakecolor": "white",
           "landcolor": "#E5ECF6",
           "showlakes": true,
           "showland": true,
           "subunitcolor": "white"
          },
          "hoverlabel": {
           "align": "left"
          },
          "hovermode": "closest",
          "mapbox": {
           "style": "light"
          },
          "paper_bgcolor": "white",
          "plot_bgcolor": "#E5ECF6",
          "polar": {
           "angularaxis": {
            "gridcolor": "white",
            "linecolor": "white",
            "ticks": ""
           },
           "bgcolor": "#E5ECF6",
           "radialaxis": {
            "gridcolor": "white",
            "linecolor": "white",
            "ticks": ""
           }
          },
          "scene": {
           "xaxis": {
            "backgroundcolor": "#E5ECF6",
            "gridcolor": "white",
            "gridwidth": 2,
            "linecolor": "white",
            "showbackground": true,
            "ticks": "",
            "zerolinecolor": "white"
           },
           "yaxis": {
            "backgroundcolor": "#E5ECF6",
            "gridcolor": "white",
            "gridwidth": 2,
            "linecolor": "white",
            "showbackground": true,
            "ticks": "",
            "zerolinecolor": "white"
           },
           "zaxis": {
            "backgroundcolor": "#E5ECF6",
            "gridcolor": "white",
            "gridwidth": 2,
            "linecolor": "white",
            "showbackground": true,
            "ticks": "",
            "zerolinecolor": "white"
           }
          },
          "shapedefaults": {
           "line": {
            "color": "#2a3f5f"
           }
          },
          "ternary": {
           "aaxis": {
            "gridcolor": "white",
            "linecolor": "white",
            "ticks": ""
           },
           "baxis": {
            "gridcolor": "white",
            "linecolor": "white",
            "ticks": ""
           },
           "bgcolor": "#E5ECF6",
           "caxis": {
            "gridcolor": "white",
            "linecolor": "white",
            "ticks": ""
           }
          },
          "title": {
           "x": 0.05
          },
          "xaxis": {
           "automargin": true,
           "gridcolor": "white",
           "linecolor": "white",
           "ticks": "",
           "title": {
            "standoff": 15
           },
           "zerolinecolor": "white",
           "zerolinewidth": 2
          },
          "yaxis": {
           "automargin": true,
           "gridcolor": "white",
           "linecolor": "white",
           "ticks": "",
           "title": {
            "standoff": 15
           },
           "zerolinecolor": "white",
           "zerolinewidth": 2
          }
         }
        },
        "title": {
         "text": "Distribución de Tags"
        },
        "width": 600
       }
      }
     },
     "metadata": {},
     "output_type": "display_data"
    }
   ],
   "source": [
    "tag_counts = data.query(\"content.str.contains('Template')\").tag.value_counts()\n",
    "\n",
    "fig = px.pie(\n",
    "    values=tag_counts.values,\n",
    "    names=tag_counts.index,\n",
    "    title='Distribución de Tags',\n",
    "    width=600,\n",
    "    height=400,\n",
    "    hole=0.4  \n",
    ")\n",
    "\n",
    "fig.show()"
   ]
  },
  {
   "cell_type": "code",
   "execution_count": 608,
   "metadata": {},
   "outputs": [
    {
     "data": {
      "application/vnd.plotly.v1+json": {
       "config": {
        "plotlyServerURL": "https://plot.ly"
       },
       "data": [
        {
         "domain": {
          "x": [
           0,
           1
          ],
          "y": [
           0,
           1
          ]
         },
         "hovertemplate": "label=%{label}<br>value=%{value}<extra></extra>",
         "labels": [
          "detener promociones",
          "carta convenio",
          "no define",
          "contacto humano",
          "próximo pago",
          "no reconoce",
          "intención de pago",
          "negativa de pago"
         ],
         "legendgroup": "",
         "name": "",
         "showlegend": true,
         "type": "pie",
         "values": [
          1225,
          1112,
          926,
          670,
          237,
          179,
          136,
          35
         ]
        }
       ],
       "layout": {
        "height": 400,
        "legend": {
         "tracegroupgap": 0
        },
        "template": {
         "data": {
          "bar": [
           {
            "error_x": {
             "color": "#2a3f5f"
            },
            "error_y": {
             "color": "#2a3f5f"
            },
            "marker": {
             "line": {
              "color": "#E5ECF6",
              "width": 0.5
             },
             "pattern": {
              "fillmode": "overlay",
              "size": 10,
              "solidity": 0.2
             }
            },
            "type": "bar"
           }
          ],
          "barpolar": [
           {
            "marker": {
             "line": {
              "color": "#E5ECF6",
              "width": 0.5
             },
             "pattern": {
              "fillmode": "overlay",
              "size": 10,
              "solidity": 0.2
             }
            },
            "type": "barpolar"
           }
          ],
          "carpet": [
           {
            "aaxis": {
             "endlinecolor": "#2a3f5f",
             "gridcolor": "white",
             "linecolor": "white",
             "minorgridcolor": "white",
             "startlinecolor": "#2a3f5f"
            },
            "baxis": {
             "endlinecolor": "#2a3f5f",
             "gridcolor": "white",
             "linecolor": "white",
             "minorgridcolor": "white",
             "startlinecolor": "#2a3f5f"
            },
            "type": "carpet"
           }
          ],
          "choropleth": [
           {
            "colorbar": {
             "outlinewidth": 0,
             "ticks": ""
            },
            "type": "choropleth"
           }
          ],
          "contour": [
           {
            "colorbar": {
             "outlinewidth": 0,
             "ticks": ""
            },
            "colorscale": [
             [
              0,
              "#0d0887"
             ],
             [
              0.1111111111111111,
              "#46039f"
             ],
             [
              0.2222222222222222,
              "#7201a8"
             ],
             [
              0.3333333333333333,
              "#9c179e"
             ],
             [
              0.4444444444444444,
              "#bd3786"
             ],
             [
              0.5555555555555556,
              "#d8576b"
             ],
             [
              0.6666666666666666,
              "#ed7953"
             ],
             [
              0.7777777777777778,
              "#fb9f3a"
             ],
             [
              0.8888888888888888,
              "#fdca26"
             ],
             [
              1,
              "#f0f921"
             ]
            ],
            "type": "contour"
           }
          ],
          "contourcarpet": [
           {
            "colorbar": {
             "outlinewidth": 0,
             "ticks": ""
            },
            "type": "contourcarpet"
           }
          ],
          "heatmap": [
           {
            "colorbar": {
             "outlinewidth": 0,
             "ticks": ""
            },
            "colorscale": [
             [
              0,
              "#0d0887"
             ],
             [
              0.1111111111111111,
              "#46039f"
             ],
             [
              0.2222222222222222,
              "#7201a8"
             ],
             [
              0.3333333333333333,
              "#9c179e"
             ],
             [
              0.4444444444444444,
              "#bd3786"
             ],
             [
              0.5555555555555556,
              "#d8576b"
             ],
             [
              0.6666666666666666,
              "#ed7953"
             ],
             [
              0.7777777777777778,
              "#fb9f3a"
             ],
             [
              0.8888888888888888,
              "#fdca26"
             ],
             [
              1,
              "#f0f921"
             ]
            ],
            "type": "heatmap"
           }
          ],
          "heatmapgl": [
           {
            "colorbar": {
             "outlinewidth": 0,
             "ticks": ""
            },
            "colorscale": [
             [
              0,
              "#0d0887"
             ],
             [
              0.1111111111111111,
              "#46039f"
             ],
             [
              0.2222222222222222,
              "#7201a8"
             ],
             [
              0.3333333333333333,
              "#9c179e"
             ],
             [
              0.4444444444444444,
              "#bd3786"
             ],
             [
              0.5555555555555556,
              "#d8576b"
             ],
             [
              0.6666666666666666,
              "#ed7953"
             ],
             [
              0.7777777777777778,
              "#fb9f3a"
             ],
             [
              0.8888888888888888,
              "#fdca26"
             ],
             [
              1,
              "#f0f921"
             ]
            ],
            "type": "heatmapgl"
           }
          ],
          "histogram": [
           {
            "marker": {
             "pattern": {
              "fillmode": "overlay",
              "size": 10,
              "solidity": 0.2
             }
            },
            "type": "histogram"
           }
          ],
          "histogram2d": [
           {
            "colorbar": {
             "outlinewidth": 0,
             "ticks": ""
            },
            "colorscale": [
             [
              0,
              "#0d0887"
             ],
             [
              0.1111111111111111,
              "#46039f"
             ],
             [
              0.2222222222222222,
              "#7201a8"
             ],
             [
              0.3333333333333333,
              "#9c179e"
             ],
             [
              0.4444444444444444,
              "#bd3786"
             ],
             [
              0.5555555555555556,
              "#d8576b"
             ],
             [
              0.6666666666666666,
              "#ed7953"
             ],
             [
              0.7777777777777778,
              "#fb9f3a"
             ],
             [
              0.8888888888888888,
              "#fdca26"
             ],
             [
              1,
              "#f0f921"
             ]
            ],
            "type": "histogram2d"
           }
          ],
          "histogram2dcontour": [
           {
            "colorbar": {
             "outlinewidth": 0,
             "ticks": ""
            },
            "colorscale": [
             [
              0,
              "#0d0887"
             ],
             [
              0.1111111111111111,
              "#46039f"
             ],
             [
              0.2222222222222222,
              "#7201a8"
             ],
             [
              0.3333333333333333,
              "#9c179e"
             ],
             [
              0.4444444444444444,
              "#bd3786"
             ],
             [
              0.5555555555555556,
              "#d8576b"
             ],
             [
              0.6666666666666666,
              "#ed7953"
             ],
             [
              0.7777777777777778,
              "#fb9f3a"
             ],
             [
              0.8888888888888888,
              "#fdca26"
             ],
             [
              1,
              "#f0f921"
             ]
            ],
            "type": "histogram2dcontour"
           }
          ],
          "mesh3d": [
           {
            "colorbar": {
             "outlinewidth": 0,
             "ticks": ""
            },
            "type": "mesh3d"
           }
          ],
          "parcoords": [
           {
            "line": {
             "colorbar": {
              "outlinewidth": 0,
              "ticks": ""
             }
            },
            "type": "parcoords"
           }
          ],
          "pie": [
           {
            "automargin": true,
            "type": "pie"
           }
          ],
          "scatter": [
           {
            "fillpattern": {
             "fillmode": "overlay",
             "size": 10,
             "solidity": 0.2
            },
            "type": "scatter"
           }
          ],
          "scatter3d": [
           {
            "line": {
             "colorbar": {
              "outlinewidth": 0,
              "ticks": ""
             }
            },
            "marker": {
             "colorbar": {
              "outlinewidth": 0,
              "ticks": ""
             }
            },
            "type": "scatter3d"
           }
          ],
          "scattercarpet": [
           {
            "marker": {
             "colorbar": {
              "outlinewidth": 0,
              "ticks": ""
             }
            },
            "type": "scattercarpet"
           }
          ],
          "scattergeo": [
           {
            "marker": {
             "colorbar": {
              "outlinewidth": 0,
              "ticks": ""
             }
            },
            "type": "scattergeo"
           }
          ],
          "scattergl": [
           {
            "marker": {
             "colorbar": {
              "outlinewidth": 0,
              "ticks": ""
             }
            },
            "type": "scattergl"
           }
          ],
          "scattermapbox": [
           {
            "marker": {
             "colorbar": {
              "outlinewidth": 0,
              "ticks": ""
             }
            },
            "type": "scattermapbox"
           }
          ],
          "scatterpolar": [
           {
            "marker": {
             "colorbar": {
              "outlinewidth": 0,
              "ticks": ""
             }
            },
            "type": "scatterpolar"
           }
          ],
          "scatterpolargl": [
           {
            "marker": {
             "colorbar": {
              "outlinewidth": 0,
              "ticks": ""
             }
            },
            "type": "scatterpolargl"
           }
          ],
          "scatterternary": [
           {
            "marker": {
             "colorbar": {
              "outlinewidth": 0,
              "ticks": ""
             }
            },
            "type": "scatterternary"
           }
          ],
          "surface": [
           {
            "colorbar": {
             "outlinewidth": 0,
             "ticks": ""
            },
            "colorscale": [
             [
              0,
              "#0d0887"
             ],
             [
              0.1111111111111111,
              "#46039f"
             ],
             [
              0.2222222222222222,
              "#7201a8"
             ],
             [
              0.3333333333333333,
              "#9c179e"
             ],
             [
              0.4444444444444444,
              "#bd3786"
             ],
             [
              0.5555555555555556,
              "#d8576b"
             ],
             [
              0.6666666666666666,
              "#ed7953"
             ],
             [
              0.7777777777777778,
              "#fb9f3a"
             ],
             [
              0.8888888888888888,
              "#fdca26"
             ],
             [
              1,
              "#f0f921"
             ]
            ],
            "type": "surface"
           }
          ],
          "table": [
           {
            "cells": {
             "fill": {
              "color": "#EBF0F8"
             },
             "line": {
              "color": "white"
             }
            },
            "header": {
             "fill": {
              "color": "#C8D4E3"
             },
             "line": {
              "color": "white"
             }
            },
            "type": "table"
           }
          ]
         },
         "layout": {
          "annotationdefaults": {
           "arrowcolor": "#2a3f5f",
           "arrowhead": 0,
           "arrowwidth": 1
          },
          "autotypenumbers": "strict",
          "coloraxis": {
           "colorbar": {
            "outlinewidth": 0,
            "ticks": ""
           }
          },
          "colorscale": {
           "diverging": [
            [
             0,
             "#8e0152"
            ],
            [
             0.1,
             "#c51b7d"
            ],
            [
             0.2,
             "#de77ae"
            ],
            [
             0.3,
             "#f1b6da"
            ],
            [
             0.4,
             "#fde0ef"
            ],
            [
             0.5,
             "#f7f7f7"
            ],
            [
             0.6,
             "#e6f5d0"
            ],
            [
             0.7,
             "#b8e186"
            ],
            [
             0.8,
             "#7fbc41"
            ],
            [
             0.9,
             "#4d9221"
            ],
            [
             1,
             "#276419"
            ]
           ],
           "sequential": [
            [
             0,
             "#0d0887"
            ],
            [
             0.1111111111111111,
             "#46039f"
            ],
            [
             0.2222222222222222,
             "#7201a8"
            ],
            [
             0.3333333333333333,
             "#9c179e"
            ],
            [
             0.4444444444444444,
             "#bd3786"
            ],
            [
             0.5555555555555556,
             "#d8576b"
            ],
            [
             0.6666666666666666,
             "#ed7953"
            ],
            [
             0.7777777777777778,
             "#fb9f3a"
            ],
            [
             0.8888888888888888,
             "#fdca26"
            ],
            [
             1,
             "#f0f921"
            ]
           ],
           "sequentialminus": [
            [
             0,
             "#0d0887"
            ],
            [
             0.1111111111111111,
             "#46039f"
            ],
            [
             0.2222222222222222,
             "#7201a8"
            ],
            [
             0.3333333333333333,
             "#9c179e"
            ],
            [
             0.4444444444444444,
             "#bd3786"
            ],
            [
             0.5555555555555556,
             "#d8576b"
            ],
            [
             0.6666666666666666,
             "#ed7953"
            ],
            [
             0.7777777777777778,
             "#fb9f3a"
            ],
            [
             0.8888888888888888,
             "#fdca26"
            ],
            [
             1,
             "#f0f921"
            ]
           ]
          },
          "colorway": [
           "#636efa",
           "#EF553B",
           "#00cc96",
           "#ab63fa",
           "#FFA15A",
           "#19d3f3",
           "#FF6692",
           "#B6E880",
           "#FF97FF",
           "#FECB52"
          ],
          "font": {
           "color": "#2a3f5f"
          },
          "geo": {
           "bgcolor": "white",
           "lakecolor": "white",
           "landcolor": "#E5ECF6",
           "showlakes": true,
           "showland": true,
           "subunitcolor": "white"
          },
          "hoverlabel": {
           "align": "left"
          },
          "hovermode": "closest",
          "mapbox": {
           "style": "light"
          },
          "paper_bgcolor": "white",
          "plot_bgcolor": "#E5ECF6",
          "polar": {
           "angularaxis": {
            "gridcolor": "white",
            "linecolor": "white",
            "ticks": ""
           },
           "bgcolor": "#E5ECF6",
           "radialaxis": {
            "gridcolor": "white",
            "linecolor": "white",
            "ticks": ""
           }
          },
          "scene": {
           "xaxis": {
            "backgroundcolor": "#E5ECF6",
            "gridcolor": "white",
            "gridwidth": 2,
            "linecolor": "white",
            "showbackground": true,
            "ticks": "",
            "zerolinecolor": "white"
           },
           "yaxis": {
            "backgroundcolor": "#E5ECF6",
            "gridcolor": "white",
            "gridwidth": 2,
            "linecolor": "white",
            "showbackground": true,
            "ticks": "",
            "zerolinecolor": "white"
           },
           "zaxis": {
            "backgroundcolor": "#E5ECF6",
            "gridcolor": "white",
            "gridwidth": 2,
            "linecolor": "white",
            "showbackground": true,
            "ticks": "",
            "zerolinecolor": "white"
           }
          },
          "shapedefaults": {
           "line": {
            "color": "#2a3f5f"
           }
          },
          "ternary": {
           "aaxis": {
            "gridcolor": "white",
            "linecolor": "white",
            "ticks": ""
           },
           "baxis": {
            "gridcolor": "white",
            "linecolor": "white",
            "ticks": ""
           },
           "bgcolor": "#E5ECF6",
           "caxis": {
            "gridcolor": "white",
            "linecolor": "white",
            "ticks": ""
           }
          },
          "title": {
           "x": 0.05
          },
          "xaxis": {
           "automargin": true,
           "gridcolor": "white",
           "linecolor": "white",
           "ticks": "",
           "title": {
            "standoff": 15
           },
           "zerolinecolor": "white",
           "zerolinewidth": 2
          },
          "yaxis": {
           "automargin": true,
           "gridcolor": "white",
           "linecolor": "white",
           "ticks": "",
           "title": {
            "standoff": 15
           },
           "zerolinecolor": "white",
           "zerolinewidth": 2
          }
         }
        },
        "title": {
         "text": "Distribución de Tags"
        },
        "width": 600
       }
      }
     },
     "metadata": {},
     "output_type": "display_data"
    }
   ],
   "source": [
    "tag_counts = data.query(\"content.str.contains('Template')\").tag.value_counts()\n",
    "fig = px.pie(values = tag_counts.values, names = tag_counts.index, title = 'Distribución de Tags', width = 600, height = 400)\n",
    "fig.show()"
   ]
  },
  {
   "cell_type": "markdown",
   "metadata": {},
   "source": [
    "<font size = 7 color ='27A3D7'>Funnel de Envíos</font>\n",
    "\n",
    "---"
   ]
  },
  {
   "cell_type": "code",
   "execution_count": 609,
   "metadata": {},
   "outputs": [
    {
     "data": {
      "application/vnd.plotly.v1+json": {
       "config": {
        "plotlyServerURL": "https://plot.ly"
       },
       "data": [
        {
         "domain": {
          "x": [
           0,
           1
          ],
          "y": [
           0,
           1
          ]
         },
         "hovertemplate": "label=%{label}<br>value=%{value}<extra></extra>",
         "labels": [
          "sent_status_delivered",
          "sent_status_failed",
          "sent_status_read",
          "sent_status_sent",
          "sent_status_sin_estatus"
         ],
         "legendgroup": "",
         "name": "",
         "showlegend": true,
         "type": "pie",
         "values": [
          17792,
          26116,
          28342,
          6161,
          5236
         ]
        }
       ],
       "layout": {
        "height": 400,
        "legend": {
         "tracegroupgap": 0
        },
        "template": {
         "data": {
          "bar": [
           {
            "error_x": {
             "color": "#2a3f5f"
            },
            "error_y": {
             "color": "#2a3f5f"
            },
            "marker": {
             "line": {
              "color": "#E5ECF6",
              "width": 0.5
             },
             "pattern": {
              "fillmode": "overlay",
              "size": 10,
              "solidity": 0.2
             }
            },
            "type": "bar"
           }
          ],
          "barpolar": [
           {
            "marker": {
             "line": {
              "color": "#E5ECF6",
              "width": 0.5
             },
             "pattern": {
              "fillmode": "overlay",
              "size": 10,
              "solidity": 0.2
             }
            },
            "type": "barpolar"
           }
          ],
          "carpet": [
           {
            "aaxis": {
             "endlinecolor": "#2a3f5f",
             "gridcolor": "white",
             "linecolor": "white",
             "minorgridcolor": "white",
             "startlinecolor": "#2a3f5f"
            },
            "baxis": {
             "endlinecolor": "#2a3f5f",
             "gridcolor": "white",
             "linecolor": "white",
             "minorgridcolor": "white",
             "startlinecolor": "#2a3f5f"
            },
            "type": "carpet"
           }
          ],
          "choropleth": [
           {
            "colorbar": {
             "outlinewidth": 0,
             "ticks": ""
            },
            "type": "choropleth"
           }
          ],
          "contour": [
           {
            "colorbar": {
             "outlinewidth": 0,
             "ticks": ""
            },
            "colorscale": [
             [
              0,
              "#0d0887"
             ],
             [
              0.1111111111111111,
              "#46039f"
             ],
             [
              0.2222222222222222,
              "#7201a8"
             ],
             [
              0.3333333333333333,
              "#9c179e"
             ],
             [
              0.4444444444444444,
              "#bd3786"
             ],
             [
              0.5555555555555556,
              "#d8576b"
             ],
             [
              0.6666666666666666,
              "#ed7953"
             ],
             [
              0.7777777777777778,
              "#fb9f3a"
             ],
             [
              0.8888888888888888,
              "#fdca26"
             ],
             [
              1,
              "#f0f921"
             ]
            ],
            "type": "contour"
           }
          ],
          "contourcarpet": [
           {
            "colorbar": {
             "outlinewidth": 0,
             "ticks": ""
            },
            "type": "contourcarpet"
           }
          ],
          "heatmap": [
           {
            "colorbar": {
             "outlinewidth": 0,
             "ticks": ""
            },
            "colorscale": [
             [
              0,
              "#0d0887"
             ],
             [
              0.1111111111111111,
              "#46039f"
             ],
             [
              0.2222222222222222,
              "#7201a8"
             ],
             [
              0.3333333333333333,
              "#9c179e"
             ],
             [
              0.4444444444444444,
              "#bd3786"
             ],
             [
              0.5555555555555556,
              "#d8576b"
             ],
             [
              0.6666666666666666,
              "#ed7953"
             ],
             [
              0.7777777777777778,
              "#fb9f3a"
             ],
             [
              0.8888888888888888,
              "#fdca26"
             ],
             [
              1,
              "#f0f921"
             ]
            ],
            "type": "heatmap"
           }
          ],
          "heatmapgl": [
           {
            "colorbar": {
             "outlinewidth": 0,
             "ticks": ""
            },
            "colorscale": [
             [
              0,
              "#0d0887"
             ],
             [
              0.1111111111111111,
              "#46039f"
             ],
             [
              0.2222222222222222,
              "#7201a8"
             ],
             [
              0.3333333333333333,
              "#9c179e"
             ],
             [
              0.4444444444444444,
              "#bd3786"
             ],
             [
              0.5555555555555556,
              "#d8576b"
             ],
             [
              0.6666666666666666,
              "#ed7953"
             ],
             [
              0.7777777777777778,
              "#fb9f3a"
             ],
             [
              0.8888888888888888,
              "#fdca26"
             ],
             [
              1,
              "#f0f921"
             ]
            ],
            "type": "heatmapgl"
           }
          ],
          "histogram": [
           {
            "marker": {
             "pattern": {
              "fillmode": "overlay",
              "size": 10,
              "solidity": 0.2
             }
            },
            "type": "histogram"
           }
          ],
          "histogram2d": [
           {
            "colorbar": {
             "outlinewidth": 0,
             "ticks": ""
            },
            "colorscale": [
             [
              0,
              "#0d0887"
             ],
             [
              0.1111111111111111,
              "#46039f"
             ],
             [
              0.2222222222222222,
              "#7201a8"
             ],
             [
              0.3333333333333333,
              "#9c179e"
             ],
             [
              0.4444444444444444,
              "#bd3786"
             ],
             [
              0.5555555555555556,
              "#d8576b"
             ],
             [
              0.6666666666666666,
              "#ed7953"
             ],
             [
              0.7777777777777778,
              "#fb9f3a"
             ],
             [
              0.8888888888888888,
              "#fdca26"
             ],
             [
              1,
              "#f0f921"
             ]
            ],
            "type": "histogram2d"
           }
          ],
          "histogram2dcontour": [
           {
            "colorbar": {
             "outlinewidth": 0,
             "ticks": ""
            },
            "colorscale": [
             [
              0,
              "#0d0887"
             ],
             [
              0.1111111111111111,
              "#46039f"
             ],
             [
              0.2222222222222222,
              "#7201a8"
             ],
             [
              0.3333333333333333,
              "#9c179e"
             ],
             [
              0.4444444444444444,
              "#bd3786"
             ],
             [
              0.5555555555555556,
              "#d8576b"
             ],
             [
              0.6666666666666666,
              "#ed7953"
             ],
             [
              0.7777777777777778,
              "#fb9f3a"
             ],
             [
              0.8888888888888888,
              "#fdca26"
             ],
             [
              1,
              "#f0f921"
             ]
            ],
            "type": "histogram2dcontour"
           }
          ],
          "mesh3d": [
           {
            "colorbar": {
             "outlinewidth": 0,
             "ticks": ""
            },
            "type": "mesh3d"
           }
          ],
          "parcoords": [
           {
            "line": {
             "colorbar": {
              "outlinewidth": 0,
              "ticks": ""
             }
            },
            "type": "parcoords"
           }
          ],
          "pie": [
           {
            "automargin": true,
            "type": "pie"
           }
          ],
          "scatter": [
           {
            "fillpattern": {
             "fillmode": "overlay",
             "size": 10,
             "solidity": 0.2
            },
            "type": "scatter"
           }
          ],
          "scatter3d": [
           {
            "line": {
             "colorbar": {
              "outlinewidth": 0,
              "ticks": ""
             }
            },
            "marker": {
             "colorbar": {
              "outlinewidth": 0,
              "ticks": ""
             }
            },
            "type": "scatter3d"
           }
          ],
          "scattercarpet": [
           {
            "marker": {
             "colorbar": {
              "outlinewidth": 0,
              "ticks": ""
             }
            },
            "type": "scattercarpet"
           }
          ],
          "scattergeo": [
           {
            "marker": {
             "colorbar": {
              "outlinewidth": 0,
              "ticks": ""
             }
            },
            "type": "scattergeo"
           }
          ],
          "scattergl": [
           {
            "marker": {
             "colorbar": {
              "outlinewidth": 0,
              "ticks": ""
             }
            },
            "type": "scattergl"
           }
          ],
          "scattermapbox": [
           {
            "marker": {
             "colorbar": {
              "outlinewidth": 0,
              "ticks": ""
             }
            },
            "type": "scattermapbox"
           }
          ],
          "scatterpolar": [
           {
            "marker": {
             "colorbar": {
              "outlinewidth": 0,
              "ticks": ""
             }
            },
            "type": "scatterpolar"
           }
          ],
          "scatterpolargl": [
           {
            "marker": {
             "colorbar": {
              "outlinewidth": 0,
              "ticks": ""
             }
            },
            "type": "scatterpolargl"
           }
          ],
          "scatterternary": [
           {
            "marker": {
             "colorbar": {
              "outlinewidth": 0,
              "ticks": ""
             }
            },
            "type": "scatterternary"
           }
          ],
          "surface": [
           {
            "colorbar": {
             "outlinewidth": 0,
             "ticks": ""
            },
            "colorscale": [
             [
              0,
              "#0d0887"
             ],
             [
              0.1111111111111111,
              "#46039f"
             ],
             [
              0.2222222222222222,
              "#7201a8"
             ],
             [
              0.3333333333333333,
              "#9c179e"
             ],
             [
              0.4444444444444444,
              "#bd3786"
             ],
             [
              0.5555555555555556,
              "#d8576b"
             ],
             [
              0.6666666666666666,
              "#ed7953"
             ],
             [
              0.7777777777777778,
              "#fb9f3a"
             ],
             [
              0.8888888888888888,
              "#fdca26"
             ],
             [
              1,
              "#f0f921"
             ]
            ],
            "type": "surface"
           }
          ],
          "table": [
           {
            "cells": {
             "fill": {
              "color": "#EBF0F8"
             },
             "line": {
              "color": "white"
             }
            },
            "header": {
             "fill": {
              "color": "#C8D4E3"
             },
             "line": {
              "color": "white"
             }
            },
            "type": "table"
           }
          ]
         },
         "layout": {
          "annotationdefaults": {
           "arrowcolor": "#2a3f5f",
           "arrowhead": 0,
           "arrowwidth": 1
          },
          "autotypenumbers": "strict",
          "coloraxis": {
           "colorbar": {
            "outlinewidth": 0,
            "ticks": ""
           }
          },
          "colorscale": {
           "diverging": [
            [
             0,
             "#8e0152"
            ],
            [
             0.1,
             "#c51b7d"
            ],
            [
             0.2,
             "#de77ae"
            ],
            [
             0.3,
             "#f1b6da"
            ],
            [
             0.4,
             "#fde0ef"
            ],
            [
             0.5,
             "#f7f7f7"
            ],
            [
             0.6,
             "#e6f5d0"
            ],
            [
             0.7,
             "#b8e186"
            ],
            [
             0.8,
             "#7fbc41"
            ],
            [
             0.9,
             "#4d9221"
            ],
            [
             1,
             "#276419"
            ]
           ],
           "sequential": [
            [
             0,
             "#0d0887"
            ],
            [
             0.1111111111111111,
             "#46039f"
            ],
            [
             0.2222222222222222,
             "#7201a8"
            ],
            [
             0.3333333333333333,
             "#9c179e"
            ],
            [
             0.4444444444444444,
             "#bd3786"
            ],
            [
             0.5555555555555556,
             "#d8576b"
            ],
            [
             0.6666666666666666,
             "#ed7953"
            ],
            [
             0.7777777777777778,
             "#fb9f3a"
            ],
            [
             0.8888888888888888,
             "#fdca26"
            ],
            [
             1,
             "#f0f921"
            ]
           ],
           "sequentialminus": [
            [
             0,
             "#0d0887"
            ],
            [
             0.1111111111111111,
             "#46039f"
            ],
            [
             0.2222222222222222,
             "#7201a8"
            ],
            [
             0.3333333333333333,
             "#9c179e"
            ],
            [
             0.4444444444444444,
             "#bd3786"
            ],
            [
             0.5555555555555556,
             "#d8576b"
            ],
            [
             0.6666666666666666,
             "#ed7953"
            ],
            [
             0.7777777777777778,
             "#fb9f3a"
            ],
            [
             0.8888888888888888,
             "#fdca26"
            ],
            [
             1,
             "#f0f921"
            ]
           ]
          },
          "colorway": [
           "#636efa",
           "#EF553B",
           "#00cc96",
           "#ab63fa",
           "#FFA15A",
           "#19d3f3",
           "#FF6692",
           "#B6E880",
           "#FF97FF",
           "#FECB52"
          ],
          "font": {
           "color": "#2a3f5f"
          },
          "geo": {
           "bgcolor": "white",
           "lakecolor": "white",
           "landcolor": "#E5ECF6",
           "showlakes": true,
           "showland": true,
           "subunitcolor": "white"
          },
          "hoverlabel": {
           "align": "left"
          },
          "hovermode": "closest",
          "mapbox": {
           "style": "light"
          },
          "paper_bgcolor": "white",
          "plot_bgcolor": "#E5ECF6",
          "polar": {
           "angularaxis": {
            "gridcolor": "white",
            "linecolor": "white",
            "ticks": ""
           },
           "bgcolor": "#E5ECF6",
           "radialaxis": {
            "gridcolor": "white",
            "linecolor": "white",
            "ticks": ""
           }
          },
          "scene": {
           "xaxis": {
            "backgroundcolor": "#E5ECF6",
            "gridcolor": "white",
            "gridwidth": 2,
            "linecolor": "white",
            "showbackground": true,
            "ticks": "",
            "zerolinecolor": "white"
           },
           "yaxis": {
            "backgroundcolor": "#E5ECF6",
            "gridcolor": "white",
            "gridwidth": 2,
            "linecolor": "white",
            "showbackground": true,
            "ticks": "",
            "zerolinecolor": "white"
           },
           "zaxis": {
            "backgroundcolor": "#E5ECF6",
            "gridcolor": "white",
            "gridwidth": 2,
            "linecolor": "white",
            "showbackground": true,
            "ticks": "",
            "zerolinecolor": "white"
           }
          },
          "shapedefaults": {
           "line": {
            "color": "#2a3f5f"
           }
          },
          "ternary": {
           "aaxis": {
            "gridcolor": "white",
            "linecolor": "white",
            "ticks": ""
           },
           "baxis": {
            "gridcolor": "white",
            "linecolor": "white",
            "ticks": ""
           },
           "bgcolor": "#E5ECF6",
           "caxis": {
            "gridcolor": "white",
            "linecolor": "white",
            "ticks": ""
           }
          },
          "title": {
           "x": 0.05
          },
          "xaxis": {
           "automargin": true,
           "gridcolor": "white",
           "linecolor": "white",
           "ticks": "",
           "title": {
            "standoff": 15
           },
           "zerolinecolor": "white",
           "zerolinewidth": 2
          },
          "yaxis": {
           "automargin": true,
           "gridcolor": "white",
           "linecolor": "white",
           "ticks": "",
           "title": {
            "standoff": 15
           },
           "zerolinecolor": "white",
           "zerolinewidth": 2
          }
         }
        },
        "title": {
         "text": "Distribución de \"True\""
        },
        "width": 600
       }
      }
     },
     "metadata": {},
     "output_type": "display_data"
    }
   ],
   "source": [
    "filtered_data = data.query(\"content.str.contains('Template')\")\n",
    "true_counts = filtered_data[['sent_status_delivered', 'sent_status_failed', 'sent_status_read', 'sent_status_sent', 'sent_status_sin_estatus']].apply(pd.value_counts).loc[True]\n",
    "fig = px.pie(values=true_counts, names=true_counts.index, title='Distribución de \"True\"', width = 600, height = 400)\n",
    "fig.show()\n"
   ]
  },
  {
   "cell_type": "code",
   "execution_count": 610,
   "metadata": {},
   "outputs": [
    {
     "data": {
      "text/plain": [
       "3829"
      ]
     },
     "execution_count": 610,
     "metadata": {},
     "output_type": "execute_result"
    }
   ],
   "source": [
    "respuestas"
   ]
  },
  {
   "cell_type": "code",
   "execution_count": 611,
   "metadata": {},
   "outputs": [
    {
     "data": {
      "application/vnd.plotly.v1+json": {
       "config": {
        "plotlyServerURL": "https://plot.ly"
       },
       "data": [
        {
         "textinfo": "value+percent initial",
         "type": "funnel",
         "x": [
          80637,
          46134,
          28342,
          11574
         ],
         "y": [
          "Envíados",
          "Recibidos",
          "Leídos",
          "Respondidos"
         ]
        }
       ],
       "layout": {
        "template": {
         "data": {
          "bar": [
           {
            "error_x": {
             "color": "#2a3f5f"
            },
            "error_y": {
             "color": "#2a3f5f"
            },
            "marker": {
             "line": {
              "color": "#E5ECF6",
              "width": 0.5
             },
             "pattern": {
              "fillmode": "overlay",
              "size": 10,
              "solidity": 0.2
             }
            },
            "type": "bar"
           }
          ],
          "barpolar": [
           {
            "marker": {
             "line": {
              "color": "#E5ECF6",
              "width": 0.5
             },
             "pattern": {
              "fillmode": "overlay",
              "size": 10,
              "solidity": 0.2
             }
            },
            "type": "barpolar"
           }
          ],
          "carpet": [
           {
            "aaxis": {
             "endlinecolor": "#2a3f5f",
             "gridcolor": "white",
             "linecolor": "white",
             "minorgridcolor": "white",
             "startlinecolor": "#2a3f5f"
            },
            "baxis": {
             "endlinecolor": "#2a3f5f",
             "gridcolor": "white",
             "linecolor": "white",
             "minorgridcolor": "white",
             "startlinecolor": "#2a3f5f"
            },
            "type": "carpet"
           }
          ],
          "choropleth": [
           {
            "colorbar": {
             "outlinewidth": 0,
             "ticks": ""
            },
            "type": "choropleth"
           }
          ],
          "contour": [
           {
            "colorbar": {
             "outlinewidth": 0,
             "ticks": ""
            },
            "colorscale": [
             [
              0,
              "#0d0887"
             ],
             [
              0.1111111111111111,
              "#46039f"
             ],
             [
              0.2222222222222222,
              "#7201a8"
             ],
             [
              0.3333333333333333,
              "#9c179e"
             ],
             [
              0.4444444444444444,
              "#bd3786"
             ],
             [
              0.5555555555555556,
              "#d8576b"
             ],
             [
              0.6666666666666666,
              "#ed7953"
             ],
             [
              0.7777777777777778,
              "#fb9f3a"
             ],
             [
              0.8888888888888888,
              "#fdca26"
             ],
             [
              1,
              "#f0f921"
             ]
            ],
            "type": "contour"
           }
          ],
          "contourcarpet": [
           {
            "colorbar": {
             "outlinewidth": 0,
             "ticks": ""
            },
            "type": "contourcarpet"
           }
          ],
          "heatmap": [
           {
            "colorbar": {
             "outlinewidth": 0,
             "ticks": ""
            },
            "colorscale": [
             [
              0,
              "#0d0887"
             ],
             [
              0.1111111111111111,
              "#46039f"
             ],
             [
              0.2222222222222222,
              "#7201a8"
             ],
             [
              0.3333333333333333,
              "#9c179e"
             ],
             [
              0.4444444444444444,
              "#bd3786"
             ],
             [
              0.5555555555555556,
              "#d8576b"
             ],
             [
              0.6666666666666666,
              "#ed7953"
             ],
             [
              0.7777777777777778,
              "#fb9f3a"
             ],
             [
              0.8888888888888888,
              "#fdca26"
             ],
             [
              1,
              "#f0f921"
             ]
            ],
            "type": "heatmap"
           }
          ],
          "heatmapgl": [
           {
            "colorbar": {
             "outlinewidth": 0,
             "ticks": ""
            },
            "colorscale": [
             [
              0,
              "#0d0887"
             ],
             [
              0.1111111111111111,
              "#46039f"
             ],
             [
              0.2222222222222222,
              "#7201a8"
             ],
             [
              0.3333333333333333,
              "#9c179e"
             ],
             [
              0.4444444444444444,
              "#bd3786"
             ],
             [
              0.5555555555555556,
              "#d8576b"
             ],
             [
              0.6666666666666666,
              "#ed7953"
             ],
             [
              0.7777777777777778,
              "#fb9f3a"
             ],
             [
              0.8888888888888888,
              "#fdca26"
             ],
             [
              1,
              "#f0f921"
             ]
            ],
            "type": "heatmapgl"
           }
          ],
          "histogram": [
           {
            "marker": {
             "pattern": {
              "fillmode": "overlay",
              "size": 10,
              "solidity": 0.2
             }
            },
            "type": "histogram"
           }
          ],
          "histogram2d": [
           {
            "colorbar": {
             "outlinewidth": 0,
             "ticks": ""
            },
            "colorscale": [
             [
              0,
              "#0d0887"
             ],
             [
              0.1111111111111111,
              "#46039f"
             ],
             [
              0.2222222222222222,
              "#7201a8"
             ],
             [
              0.3333333333333333,
              "#9c179e"
             ],
             [
              0.4444444444444444,
              "#bd3786"
             ],
             [
              0.5555555555555556,
              "#d8576b"
             ],
             [
              0.6666666666666666,
              "#ed7953"
             ],
             [
              0.7777777777777778,
              "#fb9f3a"
             ],
             [
              0.8888888888888888,
              "#fdca26"
             ],
             [
              1,
              "#f0f921"
             ]
            ],
            "type": "histogram2d"
           }
          ],
          "histogram2dcontour": [
           {
            "colorbar": {
             "outlinewidth": 0,
             "ticks": ""
            },
            "colorscale": [
             [
              0,
              "#0d0887"
             ],
             [
              0.1111111111111111,
              "#46039f"
             ],
             [
              0.2222222222222222,
              "#7201a8"
             ],
             [
              0.3333333333333333,
              "#9c179e"
             ],
             [
              0.4444444444444444,
              "#bd3786"
             ],
             [
              0.5555555555555556,
              "#d8576b"
             ],
             [
              0.6666666666666666,
              "#ed7953"
             ],
             [
              0.7777777777777778,
              "#fb9f3a"
             ],
             [
              0.8888888888888888,
              "#fdca26"
             ],
             [
              1,
              "#f0f921"
             ]
            ],
            "type": "histogram2dcontour"
           }
          ],
          "mesh3d": [
           {
            "colorbar": {
             "outlinewidth": 0,
             "ticks": ""
            },
            "type": "mesh3d"
           }
          ],
          "parcoords": [
           {
            "line": {
             "colorbar": {
              "outlinewidth": 0,
              "ticks": ""
             }
            },
            "type": "parcoords"
           }
          ],
          "pie": [
           {
            "automargin": true,
            "type": "pie"
           }
          ],
          "scatter": [
           {
            "fillpattern": {
             "fillmode": "overlay",
             "size": 10,
             "solidity": 0.2
            },
            "type": "scatter"
           }
          ],
          "scatter3d": [
           {
            "line": {
             "colorbar": {
              "outlinewidth": 0,
              "ticks": ""
             }
            },
            "marker": {
             "colorbar": {
              "outlinewidth": 0,
              "ticks": ""
             }
            },
            "type": "scatter3d"
           }
          ],
          "scattercarpet": [
           {
            "marker": {
             "colorbar": {
              "outlinewidth": 0,
              "ticks": ""
             }
            },
            "type": "scattercarpet"
           }
          ],
          "scattergeo": [
           {
            "marker": {
             "colorbar": {
              "outlinewidth": 0,
              "ticks": ""
             }
            },
            "type": "scattergeo"
           }
          ],
          "scattergl": [
           {
            "marker": {
             "colorbar": {
              "outlinewidth": 0,
              "ticks": ""
             }
            },
            "type": "scattergl"
           }
          ],
          "scattermapbox": [
           {
            "marker": {
             "colorbar": {
              "outlinewidth": 0,
              "ticks": ""
             }
            },
            "type": "scattermapbox"
           }
          ],
          "scatterpolar": [
           {
            "marker": {
             "colorbar": {
              "outlinewidth": 0,
              "ticks": ""
             }
            },
            "type": "scatterpolar"
           }
          ],
          "scatterpolargl": [
           {
            "marker": {
             "colorbar": {
              "outlinewidth": 0,
              "ticks": ""
             }
            },
            "type": "scatterpolargl"
           }
          ],
          "scatterternary": [
           {
            "marker": {
             "colorbar": {
              "outlinewidth": 0,
              "ticks": ""
             }
            },
            "type": "scatterternary"
           }
          ],
          "surface": [
           {
            "colorbar": {
             "outlinewidth": 0,
             "ticks": ""
            },
            "colorscale": [
             [
              0,
              "#0d0887"
             ],
             [
              0.1111111111111111,
              "#46039f"
             ],
             [
              0.2222222222222222,
              "#7201a8"
             ],
             [
              0.3333333333333333,
              "#9c179e"
             ],
             [
              0.4444444444444444,
              "#bd3786"
             ],
             [
              0.5555555555555556,
              "#d8576b"
             ],
             [
              0.6666666666666666,
              "#ed7953"
             ],
             [
              0.7777777777777778,
              "#fb9f3a"
             ],
             [
              0.8888888888888888,
              "#fdca26"
             ],
             [
              1,
              "#f0f921"
             ]
            ],
            "type": "surface"
           }
          ],
          "table": [
           {
            "cells": {
             "fill": {
              "color": "#EBF0F8"
             },
             "line": {
              "color": "white"
             }
            },
            "header": {
             "fill": {
              "color": "#C8D4E3"
             },
             "line": {
              "color": "white"
             }
            },
            "type": "table"
           }
          ]
         },
         "layout": {
          "annotationdefaults": {
           "arrowcolor": "#2a3f5f",
           "arrowhead": 0,
           "arrowwidth": 1
          },
          "autotypenumbers": "strict",
          "coloraxis": {
           "colorbar": {
            "outlinewidth": 0,
            "ticks": ""
           }
          },
          "colorscale": {
           "diverging": [
            [
             0,
             "#8e0152"
            ],
            [
             0.1,
             "#c51b7d"
            ],
            [
             0.2,
             "#de77ae"
            ],
            [
             0.3,
             "#f1b6da"
            ],
            [
             0.4,
             "#fde0ef"
            ],
            [
             0.5,
             "#f7f7f7"
            ],
            [
             0.6,
             "#e6f5d0"
            ],
            [
             0.7,
             "#b8e186"
            ],
            [
             0.8,
             "#7fbc41"
            ],
            [
             0.9,
             "#4d9221"
            ],
            [
             1,
             "#276419"
            ]
           ],
           "sequential": [
            [
             0,
             "#0d0887"
            ],
            [
             0.1111111111111111,
             "#46039f"
            ],
            [
             0.2222222222222222,
             "#7201a8"
            ],
            [
             0.3333333333333333,
             "#9c179e"
            ],
            [
             0.4444444444444444,
             "#bd3786"
            ],
            [
             0.5555555555555556,
             "#d8576b"
            ],
            [
             0.6666666666666666,
             "#ed7953"
            ],
            [
             0.7777777777777778,
             "#fb9f3a"
            ],
            [
             0.8888888888888888,
             "#fdca26"
            ],
            [
             1,
             "#f0f921"
            ]
           ],
           "sequentialminus": [
            [
             0,
             "#0d0887"
            ],
            [
             0.1111111111111111,
             "#46039f"
            ],
            [
             0.2222222222222222,
             "#7201a8"
            ],
            [
             0.3333333333333333,
             "#9c179e"
            ],
            [
             0.4444444444444444,
             "#bd3786"
            ],
            [
             0.5555555555555556,
             "#d8576b"
            ],
            [
             0.6666666666666666,
             "#ed7953"
            ],
            [
             0.7777777777777778,
             "#fb9f3a"
            ],
            [
             0.8888888888888888,
             "#fdca26"
            ],
            [
             1,
             "#f0f921"
            ]
           ]
          },
          "colorway": [
           "#636efa",
           "#EF553B",
           "#00cc96",
           "#ab63fa",
           "#FFA15A",
           "#19d3f3",
           "#FF6692",
           "#B6E880",
           "#FF97FF",
           "#FECB52"
          ],
          "font": {
           "color": "#2a3f5f"
          },
          "geo": {
           "bgcolor": "white",
           "lakecolor": "white",
           "landcolor": "#E5ECF6",
           "showlakes": true,
           "showland": true,
           "subunitcolor": "white"
          },
          "hoverlabel": {
           "align": "left"
          },
          "hovermode": "closest",
          "mapbox": {
           "style": "light"
          },
          "paper_bgcolor": "white",
          "plot_bgcolor": "#E5ECF6",
          "polar": {
           "angularaxis": {
            "gridcolor": "white",
            "linecolor": "white",
            "ticks": ""
           },
           "bgcolor": "#E5ECF6",
           "radialaxis": {
            "gridcolor": "white",
            "linecolor": "white",
            "ticks": ""
           }
          },
          "scene": {
           "xaxis": {
            "backgroundcolor": "#E5ECF6",
            "gridcolor": "white",
            "gridwidth": 2,
            "linecolor": "white",
            "showbackground": true,
            "ticks": "",
            "zerolinecolor": "white"
           },
           "yaxis": {
            "backgroundcolor": "#E5ECF6",
            "gridcolor": "white",
            "gridwidth": 2,
            "linecolor": "white",
            "showbackground": true,
            "ticks": "",
            "zerolinecolor": "white"
           },
           "zaxis": {
            "backgroundcolor": "#E5ECF6",
            "gridcolor": "white",
            "gridwidth": 2,
            "linecolor": "white",
            "showbackground": true,
            "ticks": "",
            "zerolinecolor": "white"
           }
          },
          "shapedefaults": {
           "line": {
            "color": "#2a3f5f"
           }
          },
          "ternary": {
           "aaxis": {
            "gridcolor": "white",
            "linecolor": "white",
            "ticks": ""
           },
           "baxis": {
            "gridcolor": "white",
            "linecolor": "white",
            "ticks": ""
           },
           "bgcolor": "#E5ECF6",
           "caxis": {
            "gridcolor": "white",
            "linecolor": "white",
            "ticks": ""
           }
          },
          "title": {
           "x": 0.05
          },
          "xaxis": {
           "automargin": true,
           "gridcolor": "white",
           "linecolor": "white",
           "ticks": "",
           "title": {
            "standoff": 15
           },
           "zerolinecolor": "white",
           "zerolinewidth": 2
          },
          "yaxis": {
           "automargin": true,
           "gridcolor": "white",
           "linecolor": "white",
           "ticks": "",
           "title": {
            "standoff": 15
           },
           "zerolinecolor": "white",
           "zerolinewidth": 2
          }
         }
        },
        "title": {
         "text": "Funnel de Envíos"
        }
       }
      }
     },
     "metadata": {},
     "output_type": "display_data"
    }
   ],
   "source": [
    "filtered_data = data.query(\"content.str.contains('Template')\")\n",
    "\n",
    "response_count = total_respuestas # o respuestas\n",
    "read_count = filtered_data['sent_status_read'].sum() \n",
    "delivered_count = filtered_data['sent_status_delivered'].sum() + read_count\n",
    "sent_count = filtered_data['sent_status_sent'].sum() + read_count + delivered_count\n",
    "\n",
    "values = [sent_count, delivered_count, read_count, response_count]\n",
    "stages = ['Envíados', 'Recibidos', 'Leídos', 'Respondidos']\n",
    "\n",
    "fig = go.Figure(go.Funnel(\n",
    "    y=stages,\n",
    "    x=values,\n",
    "    textinfo=\"value+percent initial\"\n",
    "))\n",
    "\n",
    "fig.update_layout(title='Funnel de Envíos')\n",
    "fig.show()\n"
   ]
  },
  {
   "cell_type": "markdown",
   "metadata": {},
   "source": [
    "<font size = 7 color ='27A3D7'>Tabla de Filtros</font>\n",
    "\n",
    "---"
   ]
  },
  {
   "cell_type": "markdown",
   "metadata": {},
   "source": [
    "Descargar cuales reintentar, persona (ID) para identificar, tag, cantidad de envios. Fecha de último envío, status del último envío. Binaria, bloquado o no.\n",
    "\n",
    "Filtros en ST: Tag, (pe. intención de pago, no definen) Fecha, (que fechas es bueno descargar), Cantidad de Envios (Menor a X envíos), Cantidad de Respuestas, Eficiencia de Respuestas (res/envios)"
   ]
  },
  {
   "cell_type": "code",
   "execution_count": 612,
   "metadata": {},
   "outputs": [
    {
     "name": "stdout",
     "output_type": "stream",
     "text": [
      "            credito  telefono_contactado  conversation_id         segmento  \\\n",
      "0      680078677837           2722365544         94133230  pendiente cruce   \n",
      "1      680078677837           2722365544         32080612  pendiente cruce   \n",
      "2      680061459128           2281243276         17118430  pendiente cruce   \n",
      "3      770007726811           7712016720         20471243  pendiente cruce   \n",
      "4      680081720814           3318855860          1838854  pendiente cruce   \n",
      "...             ...                  ...              ...              ...   \n",
      "27318  600545196195           2323263372         50814490  pendiente cruce   \n",
      "27319  600656572168           5566540506         96342246  pendiente cruce   \n",
      "27320  600345050972           8677511848          8947323  pendiente cruce   \n",
      "27321  600575541096           3121216456          9319486  pendiente cruce   \n",
      "27322  600643323600           7341315206         49362820  pendiente cruce   \n",
      "\n",
      "       ultima_respuesta_cliente  contesta_despues_ofrecer_carta  \\\n",
      "0        Dame un buen descuento                           False   \n",
      "1                 Sin respuesta                           False   \n",
      "2        Necesitaría tres pagos                           False   \n",
      "3        Cuéntame del descuento                           False   \n",
      "4                            Ok                           False   \n",
      "...                         ...                             ...   \n",
      "27318             Sin respuesta                           False   \n",
      "27319                   Gracias                           False   \n",
      "27320             Sin respuesta                           False   \n",
      "27321             Sin respuesta                           False   \n",
      "27322  Cuéntame de las opciones                           False   \n",
      "\n",
      "      respuesta_cliente_despues_ofrecer_carta ultimo_envio_estatus  \\\n",
      "0                                 No responde                 read   \n",
      "1                                 No responde          sin_estatus   \n",
      "2                                 No responde                 read   \n",
      "3                                 No responde                 read   \n",
      "4                                 No responde                 read   \n",
      "...                                       ...                  ...   \n",
      "27318                             No responde                 read   \n",
      "27319                             No responde                 read   \n",
      "27320                             No responde                 read   \n",
      "27321                             No responde                 sent   \n",
      "27322                             No responde            delivered   \n",
      "\n",
      "      ultima_respuesta_cliente_periodo  detonaciones_enviadas_periodo  ...  \\\n",
      "0                           2024-08-01                              2  ...   \n",
      "1                                  NaT                              1  ...   \n",
      "2                           2024-08-01                              2  ...   \n",
      "3                           2024-08-15                              3  ...   \n",
      "4                           2024-08-01                              3  ...   \n",
      "...                                ...                            ...  ...   \n",
      "27318                              NaT                              1  ...   \n",
      "27319                       2024-08-23                              1  ...   \n",
      "27320                              NaT                              1  ...   \n",
      "27321                              NaT                              1  ...   \n",
      "27322                       2024-08-24                              1  ...   \n",
      "\n",
      "       trim 13 a 14  trim 14 a 15  trim 15 a 16  trim 16 a 17  trim 17 a 18  \\\n",
      "0                 0             0             0             0             0   \n",
      "1                 0             0             0             0             0   \n",
      "2                 0             0             0             0             0   \n",
      "3                 0             0             0             0             0   \n",
      "4                 0             0             0             0             0   \n",
      "...             ...           ...           ...           ...           ...   \n",
      "27318             0             0             0             0             0   \n",
      "27319             0             0             0             0             0   \n",
      "27320             0             0             0             0             0   \n",
      "27321             0             0             0             0             0   \n",
      "27322             0             0             0             0             0   \n",
      "\n",
      "       trim 18 a 19  trim 19 a 20 trim 20 a 21 trim 21 a 22  \\\n",
      "0                 0             0            0            0   \n",
      "1                 0             0            0            0   \n",
      "2                 0             0            0            0   \n",
      "3                 0             0            0            0   \n",
      "4                 0             0            0            0   \n",
      "...             ...           ...          ...          ...   \n",
      "27318             0             0            0            0   \n",
      "27319             0             0            0            0   \n",
      "27320             0             0            0            0   \n",
      "27321             0             0            0            0   \n",
      "27322             0             0            0            0   \n",
      "\n",
      "      ultima_hora_respuesta_cliente_trim  \n",
      "0                                    NaN  \n",
      "1                                    NaN  \n",
      "2                                    NaN  \n",
      "3                                    NaN  \n",
      "4                                    NaN  \n",
      "...                                  ...  \n",
      "27318                                NaN  \n",
      "27319                                NaN  \n",
      "27320                                NaN  \n",
      "27321                                NaN  \n",
      "27322                                NaN  \n",
      "\n",
      "[27323 rows x 68 columns]\n"
     ]
    }
   ],
   "source": [
    "session = create_aws_session()\n",
    "s3_client = session.client('s3')\n",
    "\n",
    "bucket_name = 's3-pernexium-report'\n",
    "prefix = 'master/bancoppel/reportes/chatbot/2024_08/'\n",
    "\n",
    "response = s3_client.list_objects_v2(Bucket=bucket_name, Prefix=prefix)\n",
    "\n",
    "if 'Contents' in response:\n",
    "    xlsx_files = [\n",
    "        obj for obj in response['Contents'] if obj['Key'].endswith('.xlsx')\n",
    "    ]\n",
    "    xlsx_files = sorted(xlsx_files, key=lambda x: x['LastModified'], reverse=True)\n",
    "\n",
    "    latest_file = xlsx_files[0]['Key']\n",
    "\n",
    "    file_object = s3_client.get_object(Bucket=bucket_name, Key=latest_file)\n",
    "    file_content = file_object['Body'].read()\n",
    "\n",
    "    df_filtros = pd.read_excel(BytesIO(file_content))\n",
    "\n",
    "    print(df_filtros)\n",
    "else:\n",
    "    print(\"No se encontraron archivos en el bucket con el prefijo especificado.\")\n"
   ]
  },
  {
   "cell_type": "code",
   "execution_count": 613,
   "metadata": {},
   "outputs": [
    {
     "data": {
      "text/plain": [
       "Index(['credito', 'telefono_contactado', 'conversation_id', 'segmento',\n",
       "       'ultima_respuesta_cliente', 'contesta_despues_ofrecer_carta',\n",
       "       'respuesta_cliente_despues_ofrecer_carta', 'ultimo_envio_estatus',\n",
       "       'ultima_respuesta_cliente_periodo', 'detonaciones_enviadas_periodo',\n",
       "       'detonaciones_vistas_periodo', 'detonaciones_entregadas_periodo',\n",
       "       'detonaciones_fallidas_periodo',\n",
       "       'detonaciones_aceptadas_por_meta_periodo',\n",
       "       'detonaciones_sin_estatus_periodo', 'total_respuestas_periodo',\n",
       "       'eficiencia_respuestas_periodo', 'primera_detonacion_periodo',\n",
       "       'ultima_detonacion_periodo', 'ha_respondido_periodo', 'status_periodo',\n",
       "       'chatbot_ofrece_carta_convenio_periodo', 'periodo 7 a 8',\n",
       "       'periodo 8 a 9', 'periodo 9 a 10', 'periodo 10 a 11', 'periodo 11 a 12',\n",
       "       'periodo 12 a 13', 'periodo 13 a 14', 'periodo 14 a 15',\n",
       "       'periodo 15 a 16', 'periodo 16 a 17', 'periodo 17 a 18',\n",
       "       'periodo 18 a 19', 'periodo 19 a 20', 'periodo 20 a 21',\n",
       "       'periodo 21 a 22', 'ultima_hora_respuesta_cliente_periodo',\n",
       "       'ultima_respuesta_cliente_trim', 'detonaciones_enviadas_trim',\n",
       "       'detonaciones_vistas_trim', 'detonaciones_entregadas_trim',\n",
       "       'detonaciones_fallidas_trim', 'detonaciones_aceptadas_por_meta_trim',\n",
       "       'detonaciones_sin_estatus_trim', 'total_respuestas_trim',\n",
       "       'eficiencia_respuestas_trim', 'primera_detonacion_trim',\n",
       "       'ultima_detonacion_trim', 'ha_respondido_trim', 'status_trim',\n",
       "       'chatbot_ofrece_carta_convenio_trim', 'trim 7 a 8', 'trim 8 a 9',\n",
       "       'trim 9 a 10', 'trim 10 a 11', 'trim 11 a 12', 'trim 12 a 13',\n",
       "       'trim 13 a 14', 'trim 14 a 15', 'trim 15 a 16', 'trim 16 a 17',\n",
       "       'trim 17 a 18', 'trim 18 a 19', 'trim 19 a 20', 'trim 20 a 21',\n",
       "       'trim 21 a 22', 'ultima_hora_respuesta_cliente_trim'],\n",
       "      dtype='object')"
      ]
     },
     "execution_count": 613,
     "metadata": {},
     "output_type": "execute_result"
    }
   ],
   "source": [
    "df_filtros.columns"
   ]
  },
  {
   "cell_type": "code",
   "execution_count": 614,
   "metadata": {},
   "outputs": [],
   "source": [
    "df_filtros.drop(['segmento'], axis=1, inplace=True) # agregar que columnas no se requieren"
   ]
  },
  {
   "cell_type": "code",
   "execution_count": 615,
   "metadata": {},
   "outputs": [
    {
     "data": {
      "text/html": [
       "<div>\n",
       "<style scoped>\n",
       "    .dataframe tbody tr th:only-of-type {\n",
       "        vertical-align: middle;\n",
       "    }\n",
       "\n",
       "    .dataframe tbody tr th {\n",
       "        vertical-align: top;\n",
       "    }\n",
       "\n",
       "    .dataframe thead th {\n",
       "        text-align: right;\n",
       "    }\n",
       "</style>\n",
       "<table border=\"1\" class=\"dataframe\">\n",
       "  <thead>\n",
       "    <tr style=\"text-align: right;\">\n",
       "      <th></th>\n",
       "      <th>credito</th>\n",
       "      <th>telefono_contactado</th>\n",
       "      <th>conversation_id</th>\n",
       "      <th>ultima_respuesta_cliente</th>\n",
       "      <th>contesta_despues_ofrecer_carta</th>\n",
       "      <th>respuesta_cliente_despues_ofrecer_carta</th>\n",
       "      <th>ultimo_envio_estatus</th>\n",
       "      <th>ultima_respuesta_cliente_periodo</th>\n",
       "      <th>detonaciones_enviadas_periodo</th>\n",
       "      <th>detonaciones_vistas_periodo</th>\n",
       "      <th>...</th>\n",
       "      <th>trim 13 a 14</th>\n",
       "      <th>trim 14 a 15</th>\n",
       "      <th>trim 15 a 16</th>\n",
       "      <th>trim 16 a 17</th>\n",
       "      <th>trim 17 a 18</th>\n",
       "      <th>trim 18 a 19</th>\n",
       "      <th>trim 19 a 20</th>\n",
       "      <th>trim 20 a 21</th>\n",
       "      <th>trim 21 a 22</th>\n",
       "      <th>ultima_hora_respuesta_cliente_trim</th>\n",
       "    </tr>\n",
       "  </thead>\n",
       "  <tbody>\n",
       "    <tr>\n",
       "      <th>0</th>\n",
       "      <td>680078677837</td>\n",
       "      <td>2722365544</td>\n",
       "      <td>94133230</td>\n",
       "      <td>Dame un buen descuento</td>\n",
       "      <td>False</td>\n",
       "      <td>No responde</td>\n",
       "      <td>read</td>\n",
       "      <td>2024-08-01</td>\n",
       "      <td>2</td>\n",
       "      <td>2</td>\n",
       "      <td>...</td>\n",
       "      <td>0</td>\n",
       "      <td>0</td>\n",
       "      <td>0</td>\n",
       "      <td>0</td>\n",
       "      <td>0</td>\n",
       "      <td>0</td>\n",
       "      <td>0</td>\n",
       "      <td>0</td>\n",
       "      <td>0</td>\n",
       "      <td>NaN</td>\n",
       "    </tr>\n",
       "    <tr>\n",
       "      <th>1</th>\n",
       "      <td>680078677837</td>\n",
       "      <td>2722365544</td>\n",
       "      <td>32080612</td>\n",
       "      <td>Sin respuesta</td>\n",
       "      <td>False</td>\n",
       "      <td>No responde</td>\n",
       "      <td>sin_estatus</td>\n",
       "      <td>NaT</td>\n",
       "      <td>1</td>\n",
       "      <td>0</td>\n",
       "      <td>...</td>\n",
       "      <td>0</td>\n",
       "      <td>0</td>\n",
       "      <td>0</td>\n",
       "      <td>0</td>\n",
       "      <td>0</td>\n",
       "      <td>0</td>\n",
       "      <td>0</td>\n",
       "      <td>0</td>\n",
       "      <td>0</td>\n",
       "      <td>NaN</td>\n",
       "    </tr>\n",
       "    <tr>\n",
       "      <th>2</th>\n",
       "      <td>680061459128</td>\n",
       "      <td>2281243276</td>\n",
       "      <td>17118430</td>\n",
       "      <td>Necesitaría tres pagos</td>\n",
       "      <td>False</td>\n",
       "      <td>No responde</td>\n",
       "      <td>read</td>\n",
       "      <td>2024-08-01</td>\n",
       "      <td>2</td>\n",
       "      <td>1</td>\n",
       "      <td>...</td>\n",
       "      <td>0</td>\n",
       "      <td>0</td>\n",
       "      <td>0</td>\n",
       "      <td>0</td>\n",
       "      <td>0</td>\n",
       "      <td>0</td>\n",
       "      <td>0</td>\n",
       "      <td>0</td>\n",
       "      <td>0</td>\n",
       "      <td>NaN</td>\n",
       "    </tr>\n",
       "    <tr>\n",
       "      <th>3</th>\n",
       "      <td>770007726811</td>\n",
       "      <td>7712016720</td>\n",
       "      <td>20471243</td>\n",
       "      <td>Cuéntame del descuento</td>\n",
       "      <td>False</td>\n",
       "      <td>No responde</td>\n",
       "      <td>read</td>\n",
       "      <td>2024-08-15</td>\n",
       "      <td>3</td>\n",
       "      <td>3</td>\n",
       "      <td>...</td>\n",
       "      <td>0</td>\n",
       "      <td>0</td>\n",
       "      <td>0</td>\n",
       "      <td>0</td>\n",
       "      <td>0</td>\n",
       "      <td>0</td>\n",
       "      <td>0</td>\n",
       "      <td>0</td>\n",
       "      <td>0</td>\n",
       "      <td>NaN</td>\n",
       "    </tr>\n",
       "    <tr>\n",
       "      <th>4</th>\n",
       "      <td>680081720814</td>\n",
       "      <td>3318855860</td>\n",
       "      <td>1838854</td>\n",
       "      <td>Ok</td>\n",
       "      <td>False</td>\n",
       "      <td>No responde</td>\n",
       "      <td>read</td>\n",
       "      <td>2024-08-01</td>\n",
       "      <td>3</td>\n",
       "      <td>3</td>\n",
       "      <td>...</td>\n",
       "      <td>0</td>\n",
       "      <td>0</td>\n",
       "      <td>0</td>\n",
       "      <td>0</td>\n",
       "      <td>0</td>\n",
       "      <td>0</td>\n",
       "      <td>0</td>\n",
       "      <td>0</td>\n",
       "      <td>0</td>\n",
       "      <td>NaN</td>\n",
       "    </tr>\n",
       "    <tr>\n",
       "      <th>...</th>\n",
       "      <td>...</td>\n",
       "      <td>...</td>\n",
       "      <td>...</td>\n",
       "      <td>...</td>\n",
       "      <td>...</td>\n",
       "      <td>...</td>\n",
       "      <td>...</td>\n",
       "      <td>...</td>\n",
       "      <td>...</td>\n",
       "      <td>...</td>\n",
       "      <td>...</td>\n",
       "      <td>...</td>\n",
       "      <td>...</td>\n",
       "      <td>...</td>\n",
       "      <td>...</td>\n",
       "      <td>...</td>\n",
       "      <td>...</td>\n",
       "      <td>...</td>\n",
       "      <td>...</td>\n",
       "      <td>...</td>\n",
       "      <td>...</td>\n",
       "    </tr>\n",
       "    <tr>\n",
       "      <th>27318</th>\n",
       "      <td>600545196195</td>\n",
       "      <td>2323263372</td>\n",
       "      <td>50814490</td>\n",
       "      <td>Sin respuesta</td>\n",
       "      <td>False</td>\n",
       "      <td>No responde</td>\n",
       "      <td>read</td>\n",
       "      <td>NaT</td>\n",
       "      <td>1</td>\n",
       "      <td>1</td>\n",
       "      <td>...</td>\n",
       "      <td>0</td>\n",
       "      <td>0</td>\n",
       "      <td>0</td>\n",
       "      <td>0</td>\n",
       "      <td>0</td>\n",
       "      <td>0</td>\n",
       "      <td>0</td>\n",
       "      <td>0</td>\n",
       "      <td>0</td>\n",
       "      <td>NaN</td>\n",
       "    </tr>\n",
       "    <tr>\n",
       "      <th>27319</th>\n",
       "      <td>600656572168</td>\n",
       "      <td>5566540506</td>\n",
       "      <td>96342246</td>\n",
       "      <td>Gracias</td>\n",
       "      <td>False</td>\n",
       "      <td>No responde</td>\n",
       "      <td>read</td>\n",
       "      <td>2024-08-23</td>\n",
       "      <td>1</td>\n",
       "      <td>1</td>\n",
       "      <td>...</td>\n",
       "      <td>0</td>\n",
       "      <td>0</td>\n",
       "      <td>0</td>\n",
       "      <td>0</td>\n",
       "      <td>0</td>\n",
       "      <td>0</td>\n",
       "      <td>0</td>\n",
       "      <td>0</td>\n",
       "      <td>0</td>\n",
       "      <td>NaN</td>\n",
       "    </tr>\n",
       "    <tr>\n",
       "      <th>27320</th>\n",
       "      <td>600345050972</td>\n",
       "      <td>8677511848</td>\n",
       "      <td>8947323</td>\n",
       "      <td>Sin respuesta</td>\n",
       "      <td>False</td>\n",
       "      <td>No responde</td>\n",
       "      <td>read</td>\n",
       "      <td>NaT</td>\n",
       "      <td>1</td>\n",
       "      <td>1</td>\n",
       "      <td>...</td>\n",
       "      <td>0</td>\n",
       "      <td>0</td>\n",
       "      <td>0</td>\n",
       "      <td>0</td>\n",
       "      <td>0</td>\n",
       "      <td>0</td>\n",
       "      <td>0</td>\n",
       "      <td>0</td>\n",
       "      <td>0</td>\n",
       "      <td>NaN</td>\n",
       "    </tr>\n",
       "    <tr>\n",
       "      <th>27321</th>\n",
       "      <td>600575541096</td>\n",
       "      <td>3121216456</td>\n",
       "      <td>9319486</td>\n",
       "      <td>Sin respuesta</td>\n",
       "      <td>False</td>\n",
       "      <td>No responde</td>\n",
       "      <td>sent</td>\n",
       "      <td>NaT</td>\n",
       "      <td>1</td>\n",
       "      <td>0</td>\n",
       "      <td>...</td>\n",
       "      <td>0</td>\n",
       "      <td>0</td>\n",
       "      <td>0</td>\n",
       "      <td>0</td>\n",
       "      <td>0</td>\n",
       "      <td>0</td>\n",
       "      <td>0</td>\n",
       "      <td>0</td>\n",
       "      <td>0</td>\n",
       "      <td>NaN</td>\n",
       "    </tr>\n",
       "    <tr>\n",
       "      <th>27322</th>\n",
       "      <td>600643323600</td>\n",
       "      <td>7341315206</td>\n",
       "      <td>49362820</td>\n",
       "      <td>Cuéntame de las opciones</td>\n",
       "      <td>False</td>\n",
       "      <td>No responde</td>\n",
       "      <td>delivered</td>\n",
       "      <td>2024-08-24</td>\n",
       "      <td>1</td>\n",
       "      <td>0</td>\n",
       "      <td>...</td>\n",
       "      <td>0</td>\n",
       "      <td>0</td>\n",
       "      <td>0</td>\n",
       "      <td>0</td>\n",
       "      <td>0</td>\n",
       "      <td>0</td>\n",
       "      <td>0</td>\n",
       "      <td>0</td>\n",
       "      <td>0</td>\n",
       "      <td>NaN</td>\n",
       "    </tr>\n",
       "  </tbody>\n",
       "</table>\n",
       "<p>27323 rows × 67 columns</p>\n",
       "</div>"
      ],
      "text/plain": [
       "            credito  telefono_contactado  conversation_id  \\\n",
       "0      680078677837           2722365544         94133230   \n",
       "1      680078677837           2722365544         32080612   \n",
       "2      680061459128           2281243276         17118430   \n",
       "3      770007726811           7712016720         20471243   \n",
       "4      680081720814           3318855860          1838854   \n",
       "...             ...                  ...              ...   \n",
       "27318  600545196195           2323263372         50814490   \n",
       "27319  600656572168           5566540506         96342246   \n",
       "27320  600345050972           8677511848          8947323   \n",
       "27321  600575541096           3121216456          9319486   \n",
       "27322  600643323600           7341315206         49362820   \n",
       "\n",
       "       ultima_respuesta_cliente  contesta_despues_ofrecer_carta  \\\n",
       "0        Dame un buen descuento                           False   \n",
       "1                 Sin respuesta                           False   \n",
       "2        Necesitaría tres pagos                           False   \n",
       "3        Cuéntame del descuento                           False   \n",
       "4                            Ok                           False   \n",
       "...                         ...                             ...   \n",
       "27318             Sin respuesta                           False   \n",
       "27319                   Gracias                           False   \n",
       "27320             Sin respuesta                           False   \n",
       "27321             Sin respuesta                           False   \n",
       "27322  Cuéntame de las opciones                           False   \n",
       "\n",
       "      respuesta_cliente_despues_ofrecer_carta ultimo_envio_estatus  \\\n",
       "0                                 No responde                 read   \n",
       "1                                 No responde          sin_estatus   \n",
       "2                                 No responde                 read   \n",
       "3                                 No responde                 read   \n",
       "4                                 No responde                 read   \n",
       "...                                       ...                  ...   \n",
       "27318                             No responde                 read   \n",
       "27319                             No responde                 read   \n",
       "27320                             No responde                 read   \n",
       "27321                             No responde                 sent   \n",
       "27322                             No responde            delivered   \n",
       "\n",
       "      ultima_respuesta_cliente_periodo  detonaciones_enviadas_periodo  \\\n",
       "0                           2024-08-01                              2   \n",
       "1                                  NaT                              1   \n",
       "2                           2024-08-01                              2   \n",
       "3                           2024-08-15                              3   \n",
       "4                           2024-08-01                              3   \n",
       "...                                ...                            ...   \n",
       "27318                              NaT                              1   \n",
       "27319                       2024-08-23                              1   \n",
       "27320                              NaT                              1   \n",
       "27321                              NaT                              1   \n",
       "27322                       2024-08-24                              1   \n",
       "\n",
       "       detonaciones_vistas_periodo  ...  trim 13 a 14  trim 14 a 15  \\\n",
       "0                                2  ...             0             0   \n",
       "1                                0  ...             0             0   \n",
       "2                                1  ...             0             0   \n",
       "3                                3  ...             0             0   \n",
       "4                                3  ...             0             0   \n",
       "...                            ...  ...           ...           ...   \n",
       "27318                            1  ...             0             0   \n",
       "27319                            1  ...             0             0   \n",
       "27320                            1  ...             0             0   \n",
       "27321                            0  ...             0             0   \n",
       "27322                            0  ...             0             0   \n",
       "\n",
       "       trim 15 a 16  trim 16 a 17  trim 17 a 18  trim 18 a 19 trim 19 a 20  \\\n",
       "0                 0             0             0             0            0   \n",
       "1                 0             0             0             0            0   \n",
       "2                 0             0             0             0            0   \n",
       "3                 0             0             0             0            0   \n",
       "4                 0             0             0             0            0   \n",
       "...             ...           ...           ...           ...          ...   \n",
       "27318             0             0             0             0            0   \n",
       "27319             0             0             0             0            0   \n",
       "27320             0             0             0             0            0   \n",
       "27321             0             0             0             0            0   \n",
       "27322             0             0             0             0            0   \n",
       "\n",
       "      trim 20 a 21 trim 21 a 22 ultima_hora_respuesta_cliente_trim  \n",
       "0                0            0                                NaN  \n",
       "1                0            0                                NaN  \n",
       "2                0            0                                NaN  \n",
       "3                0            0                                NaN  \n",
       "4                0            0                                NaN  \n",
       "...            ...          ...                                ...  \n",
       "27318            0            0                                NaN  \n",
       "27319            0            0                                NaN  \n",
       "27320            0            0                                NaN  \n",
       "27321            0            0                                NaN  \n",
       "27322            0            0                                NaN  \n",
       "\n",
       "[27323 rows x 67 columns]"
      ]
     },
     "execution_count": 615,
     "metadata": {},
     "output_type": "execute_result"
    }
   ],
   "source": [
    "df_filtros"
   ]
  },
  {
   "cell_type": "markdown",
   "metadata": {},
   "source": [
    "<font size = 7 color ='27A3D7'>Cantidad de Respuestas</font>\n",
    "\n",
    "---"
   ]
  },
  {
   "cell_type": "code",
   "execution_count": 616,
   "metadata": {},
   "outputs": [
    {
     "data": {
      "application/vnd.plotly.v1+json": {
       "config": {
        "plotlyServerURL": "https://plot.ly"
       },
       "data": [
        {
         "alignmentgroup": "True",
         "hovertemplate": "Día de la semana=%{x}<br>Cantidad de respuestas=%{y}<extra></extra>",
         "legendgroup": "",
         "marker": {
          "color": "#636efa",
          "pattern": {
           "shape": ""
          }
         },
         "name": "",
         "offsetgroup": "",
         "orientation": "v",
         "showlegend": false,
         "textposition": "auto",
         "type": "bar",
         "x": [
          "Monday",
          "Tuesday",
          "Wednesday",
          "Thursday",
          "Friday",
          "Saturday",
          "Sunday"
         ],
         "xaxis": "x",
         "y": [
          1200,
          1751,
          2403,
          2937,
          1705,
          1306,
          277
         ],
         "yaxis": "y"
        }
       ],
       "layout": {
        "barmode": "relative",
        "legend": {
         "tracegroupgap": 0
        },
        "template": {
         "data": {
          "bar": [
           {
            "error_x": {
             "color": "#2a3f5f"
            },
            "error_y": {
             "color": "#2a3f5f"
            },
            "marker": {
             "line": {
              "color": "#E5ECF6",
              "width": 0.5
             },
             "pattern": {
              "fillmode": "overlay",
              "size": 10,
              "solidity": 0.2
             }
            },
            "type": "bar"
           }
          ],
          "barpolar": [
           {
            "marker": {
             "line": {
              "color": "#E5ECF6",
              "width": 0.5
             },
             "pattern": {
              "fillmode": "overlay",
              "size": 10,
              "solidity": 0.2
             }
            },
            "type": "barpolar"
           }
          ],
          "carpet": [
           {
            "aaxis": {
             "endlinecolor": "#2a3f5f",
             "gridcolor": "white",
             "linecolor": "white",
             "minorgridcolor": "white",
             "startlinecolor": "#2a3f5f"
            },
            "baxis": {
             "endlinecolor": "#2a3f5f",
             "gridcolor": "white",
             "linecolor": "white",
             "minorgridcolor": "white",
             "startlinecolor": "#2a3f5f"
            },
            "type": "carpet"
           }
          ],
          "choropleth": [
           {
            "colorbar": {
             "outlinewidth": 0,
             "ticks": ""
            },
            "type": "choropleth"
           }
          ],
          "contour": [
           {
            "colorbar": {
             "outlinewidth": 0,
             "ticks": ""
            },
            "colorscale": [
             [
              0,
              "#0d0887"
             ],
             [
              0.1111111111111111,
              "#46039f"
             ],
             [
              0.2222222222222222,
              "#7201a8"
             ],
             [
              0.3333333333333333,
              "#9c179e"
             ],
             [
              0.4444444444444444,
              "#bd3786"
             ],
             [
              0.5555555555555556,
              "#d8576b"
             ],
             [
              0.6666666666666666,
              "#ed7953"
             ],
             [
              0.7777777777777778,
              "#fb9f3a"
             ],
             [
              0.8888888888888888,
              "#fdca26"
             ],
             [
              1,
              "#f0f921"
             ]
            ],
            "type": "contour"
           }
          ],
          "contourcarpet": [
           {
            "colorbar": {
             "outlinewidth": 0,
             "ticks": ""
            },
            "type": "contourcarpet"
           }
          ],
          "heatmap": [
           {
            "colorbar": {
             "outlinewidth": 0,
             "ticks": ""
            },
            "colorscale": [
             [
              0,
              "#0d0887"
             ],
             [
              0.1111111111111111,
              "#46039f"
             ],
             [
              0.2222222222222222,
              "#7201a8"
             ],
             [
              0.3333333333333333,
              "#9c179e"
             ],
             [
              0.4444444444444444,
              "#bd3786"
             ],
             [
              0.5555555555555556,
              "#d8576b"
             ],
             [
              0.6666666666666666,
              "#ed7953"
             ],
             [
              0.7777777777777778,
              "#fb9f3a"
             ],
             [
              0.8888888888888888,
              "#fdca26"
             ],
             [
              1,
              "#f0f921"
             ]
            ],
            "type": "heatmap"
           }
          ],
          "heatmapgl": [
           {
            "colorbar": {
             "outlinewidth": 0,
             "ticks": ""
            },
            "colorscale": [
             [
              0,
              "#0d0887"
             ],
             [
              0.1111111111111111,
              "#46039f"
             ],
             [
              0.2222222222222222,
              "#7201a8"
             ],
             [
              0.3333333333333333,
              "#9c179e"
             ],
             [
              0.4444444444444444,
              "#bd3786"
             ],
             [
              0.5555555555555556,
              "#d8576b"
             ],
             [
              0.6666666666666666,
              "#ed7953"
             ],
             [
              0.7777777777777778,
              "#fb9f3a"
             ],
             [
              0.8888888888888888,
              "#fdca26"
             ],
             [
              1,
              "#f0f921"
             ]
            ],
            "type": "heatmapgl"
           }
          ],
          "histogram": [
           {
            "marker": {
             "pattern": {
              "fillmode": "overlay",
              "size": 10,
              "solidity": 0.2
             }
            },
            "type": "histogram"
           }
          ],
          "histogram2d": [
           {
            "colorbar": {
             "outlinewidth": 0,
             "ticks": ""
            },
            "colorscale": [
             [
              0,
              "#0d0887"
             ],
             [
              0.1111111111111111,
              "#46039f"
             ],
             [
              0.2222222222222222,
              "#7201a8"
             ],
             [
              0.3333333333333333,
              "#9c179e"
             ],
             [
              0.4444444444444444,
              "#bd3786"
             ],
             [
              0.5555555555555556,
              "#d8576b"
             ],
             [
              0.6666666666666666,
              "#ed7953"
             ],
             [
              0.7777777777777778,
              "#fb9f3a"
             ],
             [
              0.8888888888888888,
              "#fdca26"
             ],
             [
              1,
              "#f0f921"
             ]
            ],
            "type": "histogram2d"
           }
          ],
          "histogram2dcontour": [
           {
            "colorbar": {
             "outlinewidth": 0,
             "ticks": ""
            },
            "colorscale": [
             [
              0,
              "#0d0887"
             ],
             [
              0.1111111111111111,
              "#46039f"
             ],
             [
              0.2222222222222222,
              "#7201a8"
             ],
             [
              0.3333333333333333,
              "#9c179e"
             ],
             [
              0.4444444444444444,
              "#bd3786"
             ],
             [
              0.5555555555555556,
              "#d8576b"
             ],
             [
              0.6666666666666666,
              "#ed7953"
             ],
             [
              0.7777777777777778,
              "#fb9f3a"
             ],
             [
              0.8888888888888888,
              "#fdca26"
             ],
             [
              1,
              "#f0f921"
             ]
            ],
            "type": "histogram2dcontour"
           }
          ],
          "mesh3d": [
           {
            "colorbar": {
             "outlinewidth": 0,
             "ticks": ""
            },
            "type": "mesh3d"
           }
          ],
          "parcoords": [
           {
            "line": {
             "colorbar": {
              "outlinewidth": 0,
              "ticks": ""
             }
            },
            "type": "parcoords"
           }
          ],
          "pie": [
           {
            "automargin": true,
            "type": "pie"
           }
          ],
          "scatter": [
           {
            "fillpattern": {
             "fillmode": "overlay",
             "size": 10,
             "solidity": 0.2
            },
            "type": "scatter"
           }
          ],
          "scatter3d": [
           {
            "line": {
             "colorbar": {
              "outlinewidth": 0,
              "ticks": ""
             }
            },
            "marker": {
             "colorbar": {
              "outlinewidth": 0,
              "ticks": ""
             }
            },
            "type": "scatter3d"
           }
          ],
          "scattercarpet": [
           {
            "marker": {
             "colorbar": {
              "outlinewidth": 0,
              "ticks": ""
             }
            },
            "type": "scattercarpet"
           }
          ],
          "scattergeo": [
           {
            "marker": {
             "colorbar": {
              "outlinewidth": 0,
              "ticks": ""
             }
            },
            "type": "scattergeo"
           }
          ],
          "scattergl": [
           {
            "marker": {
             "colorbar": {
              "outlinewidth": 0,
              "ticks": ""
             }
            },
            "type": "scattergl"
           }
          ],
          "scattermapbox": [
           {
            "marker": {
             "colorbar": {
              "outlinewidth": 0,
              "ticks": ""
             }
            },
            "type": "scattermapbox"
           }
          ],
          "scatterpolar": [
           {
            "marker": {
             "colorbar": {
              "outlinewidth": 0,
              "ticks": ""
             }
            },
            "type": "scatterpolar"
           }
          ],
          "scatterpolargl": [
           {
            "marker": {
             "colorbar": {
              "outlinewidth": 0,
              "ticks": ""
             }
            },
            "type": "scatterpolargl"
           }
          ],
          "scatterternary": [
           {
            "marker": {
             "colorbar": {
              "outlinewidth": 0,
              "ticks": ""
             }
            },
            "type": "scatterternary"
           }
          ],
          "surface": [
           {
            "colorbar": {
             "outlinewidth": 0,
             "ticks": ""
            },
            "colorscale": [
             [
              0,
              "#0d0887"
             ],
             [
              0.1111111111111111,
              "#46039f"
             ],
             [
              0.2222222222222222,
              "#7201a8"
             ],
             [
              0.3333333333333333,
              "#9c179e"
             ],
             [
              0.4444444444444444,
              "#bd3786"
             ],
             [
              0.5555555555555556,
              "#d8576b"
             ],
             [
              0.6666666666666666,
              "#ed7953"
             ],
             [
              0.7777777777777778,
              "#fb9f3a"
             ],
             [
              0.8888888888888888,
              "#fdca26"
             ],
             [
              1,
              "#f0f921"
             ]
            ],
            "type": "surface"
           }
          ],
          "table": [
           {
            "cells": {
             "fill": {
              "color": "#EBF0F8"
             },
             "line": {
              "color": "white"
             }
            },
            "header": {
             "fill": {
              "color": "#C8D4E3"
             },
             "line": {
              "color": "white"
             }
            },
            "type": "table"
           }
          ]
         },
         "layout": {
          "annotationdefaults": {
           "arrowcolor": "#2a3f5f",
           "arrowhead": 0,
           "arrowwidth": 1
          },
          "autotypenumbers": "strict",
          "coloraxis": {
           "colorbar": {
            "outlinewidth": 0,
            "ticks": ""
           }
          },
          "colorscale": {
           "diverging": [
            [
             0,
             "#8e0152"
            ],
            [
             0.1,
             "#c51b7d"
            ],
            [
             0.2,
             "#de77ae"
            ],
            [
             0.3,
             "#f1b6da"
            ],
            [
             0.4,
             "#fde0ef"
            ],
            [
             0.5,
             "#f7f7f7"
            ],
            [
             0.6,
             "#e6f5d0"
            ],
            [
             0.7,
             "#b8e186"
            ],
            [
             0.8,
             "#7fbc41"
            ],
            [
             0.9,
             "#4d9221"
            ],
            [
             1,
             "#276419"
            ]
           ],
           "sequential": [
            [
             0,
             "#0d0887"
            ],
            [
             0.1111111111111111,
             "#46039f"
            ],
            [
             0.2222222222222222,
             "#7201a8"
            ],
            [
             0.3333333333333333,
             "#9c179e"
            ],
            [
             0.4444444444444444,
             "#bd3786"
            ],
            [
             0.5555555555555556,
             "#d8576b"
            ],
            [
             0.6666666666666666,
             "#ed7953"
            ],
            [
             0.7777777777777778,
             "#fb9f3a"
            ],
            [
             0.8888888888888888,
             "#fdca26"
            ],
            [
             1,
             "#f0f921"
            ]
           ],
           "sequentialminus": [
            [
             0,
             "#0d0887"
            ],
            [
             0.1111111111111111,
             "#46039f"
            ],
            [
             0.2222222222222222,
             "#7201a8"
            ],
            [
             0.3333333333333333,
             "#9c179e"
            ],
            [
             0.4444444444444444,
             "#bd3786"
            ],
            [
             0.5555555555555556,
             "#d8576b"
            ],
            [
             0.6666666666666666,
             "#ed7953"
            ],
            [
             0.7777777777777778,
             "#fb9f3a"
            ],
            [
             0.8888888888888888,
             "#fdca26"
            ],
            [
             1,
             "#f0f921"
            ]
           ]
          },
          "colorway": [
           "#636efa",
           "#EF553B",
           "#00cc96",
           "#ab63fa",
           "#FFA15A",
           "#19d3f3",
           "#FF6692",
           "#B6E880",
           "#FF97FF",
           "#FECB52"
          ],
          "font": {
           "color": "#2a3f5f"
          },
          "geo": {
           "bgcolor": "white",
           "lakecolor": "white",
           "landcolor": "#E5ECF6",
           "showlakes": true,
           "showland": true,
           "subunitcolor": "white"
          },
          "hoverlabel": {
           "align": "left"
          },
          "hovermode": "closest",
          "mapbox": {
           "style": "light"
          },
          "paper_bgcolor": "white",
          "plot_bgcolor": "#E5ECF6",
          "polar": {
           "angularaxis": {
            "gridcolor": "white",
            "linecolor": "white",
            "ticks": ""
           },
           "bgcolor": "#E5ECF6",
           "radialaxis": {
            "gridcolor": "white",
            "linecolor": "white",
            "ticks": ""
           }
          },
          "scene": {
           "xaxis": {
            "backgroundcolor": "#E5ECF6",
            "gridcolor": "white",
            "gridwidth": 2,
            "linecolor": "white",
            "showbackground": true,
            "ticks": "",
            "zerolinecolor": "white"
           },
           "yaxis": {
            "backgroundcolor": "#E5ECF6",
            "gridcolor": "white",
            "gridwidth": 2,
            "linecolor": "white",
            "showbackground": true,
            "ticks": "",
            "zerolinecolor": "white"
           },
           "zaxis": {
            "backgroundcolor": "#E5ECF6",
            "gridcolor": "white",
            "gridwidth": 2,
            "linecolor": "white",
            "showbackground": true,
            "ticks": "",
            "zerolinecolor": "white"
           }
          },
          "shapedefaults": {
           "line": {
            "color": "#2a3f5f"
           }
          },
          "ternary": {
           "aaxis": {
            "gridcolor": "white",
            "linecolor": "white",
            "ticks": ""
           },
           "baxis": {
            "gridcolor": "white",
            "linecolor": "white",
            "ticks": ""
           },
           "bgcolor": "#E5ECF6",
           "caxis": {
            "gridcolor": "white",
            "linecolor": "white",
            "ticks": ""
           }
          },
          "title": {
           "x": 0.05
          },
          "xaxis": {
           "automargin": true,
           "gridcolor": "white",
           "linecolor": "white",
           "ticks": "",
           "title": {
            "standoff": 15
           },
           "zerolinecolor": "white",
           "zerolinewidth": 2
          },
          "yaxis": {
           "automargin": true,
           "gridcolor": "white",
           "linecolor": "white",
           "ticks": "",
           "title": {
            "standoff": 15
           },
           "zerolinecolor": "white",
           "zerolinewidth": 2
          }
         }
        },
        "title": {
         "text": "Cantidad de Respuestas por Día de la Semana"
        },
        "xaxis": {
         "anchor": "y",
         "domain": [
          0,
          1
         ],
         "title": {
          "text": "Día de la semana"
         }
        },
        "yaxis": {
         "anchor": "x",
         "domain": [
          0,
          1
         ],
         "title": {
          "text": "Cantidad de respuestas"
         }
        }
       }
      }
     },
     "metadata": {},
     "output_type": "display_data"
    }
   ],
   "source": [
    "dias_respuestas = []\n",
    "\n",
    "for _, row in df_bancoppel.iterrows():\n",
    "    try:\n",
    "        if isinstance(row['messages'], str):\n",
    "            messages = json.loads(row['messages'])\n",
    "        elif isinstance(row['messages'], list):\n",
    "            messages = row['messages']\n",
    "        else:\n",
    "            continue \n",
    "        \n",
    "        for message in messages:\n",
    "            if message.get('role') != 'assistant' and message.get('direction') == 'incoming':\n",
    "                created_at = message.get('createdAt')\n",
    "                if created_at:\n",
    "                    # Convertimos a datetime y restamos 6 horas\n",
    "                    adjusted_time = pd.to_datetime(created_at) - pd.Timedelta(hours=6)\n",
    "                    day_of_week = adjusted_time.day_name()\n",
    "                    dias_respuestas.append(day_of_week)\n",
    "\n",
    "    except (json.JSONDecodeError, TypeError) as e:\n",
    "        print(f\"Error al procesar la fila: {e}\")\n",
    "\n",
    "df_dias_respuestas = pd.DataFrame(dias_respuestas, columns=['Día de la semana'])\n",
    "\n",
    "conteo_respuestas = df_dias_respuestas['Día de la semana'].value_counts().reindex(\n",
    "    [\"Monday\", \"Tuesday\", \"Wednesday\", \"Thursday\", \"Friday\", \"Saturday\", \"Sunday\"], fill_value=0)\n",
    "\n",
    "\n",
    "fig = px.bar(conteo_respuestas, x=conteo_respuestas.index, y=conteo_respuestas.values,\n",
    "             labels={'x': 'Día de la semana', 'y': 'Cantidad de respuestas'},\n",
    "             title='Cantidad de Respuestas por Día de la Semana')\n",
    "\n",
    "fig.show()\n"
   ]
  },
  {
   "cell_type": "code",
   "execution_count": 617,
   "metadata": {},
   "outputs": [
    {
     "data": {
      "application/vnd.plotly.v1+json": {
       "config": {
        "plotlyServerURL": "https://plot.ly"
       },
       "data": [
        {
         "coloraxis": "coloraxis",
         "hovertemplate": "Hora del día: %{x}<br>Día de la semana: %{y}<br>Cantidad de respuestas: %{z}<extra></extra>",
         "name": "0",
         "type": "heatmap",
         "x": [
          0,
          1,
          2,
          3,
          4,
          5,
          6,
          7,
          8,
          9,
          10,
          11,
          12,
          13,
          14,
          15,
          16,
          17,
          18,
          19,
          20,
          21,
          22,
          23
         ],
         "xaxis": "x",
         "y": [
          "lunes",
          "martes",
          "miércoles",
          "jueves",
          "viernes",
          "sábado",
          "domingo"
         ],
         "yaxis": "y",
         "z": [
          [
           3,
           7,
           4,
           4,
           7,
           3,
           10,
           4,
           49,
           71,
           70,
           90,
           97,
           134,
           137,
           109,
           118,
           136,
           69,
           33,
           20,
           12,
           9,
           4
          ],
          [
           1,
           1,
           0,
           0,
           0,
           1,
           1,
           1,
           15,
           125,
           199,
           93,
           156,
           252,
           167,
           113,
           192,
           161,
           119,
           66,
           42,
           21,
           18,
           7
          ],
          [
           5,
           0,
           1,
           0,
           5,
           1,
           0,
           9,
           33,
           112,
           71,
           98,
           391,
           345,
           270,
           183,
           185,
           187,
           211,
           136,
           79,
           34,
           35,
           12
          ],
          [
           3,
           8,
           5,
           3,
           4,
           5,
           8,
           12,
           27,
           141,
           331,
           367,
           234,
           347,
           197,
           208,
           273,
           286,
           186,
           119,
           73,
           49,
           34,
           17
          ],
          [
           5,
           5,
           3,
           0,
           0,
           0,
           2,
           15,
           54,
           84,
           136,
           214,
           190,
           202,
           246,
           181,
           117,
           88,
           71,
           32,
           25,
           18,
           10,
           7
          ],
          [
           7,
           6,
           2,
           1,
           3,
           0,
           2,
           4,
           45,
           160,
           242,
           272,
           147,
           67,
           56,
           51,
           55,
           48,
           40,
           22,
           32,
           27,
           6,
           11
          ],
          [
           8,
           10,
           8,
           4,
           4,
           9,
           2,
           9,
           9,
           25,
           20,
           16,
           12,
           11,
           27,
           10,
           24,
           9,
           11,
           11,
           14,
           7,
           7,
           10
          ]
         ]
        }
       ],
       "layout": {
        "coloraxis": {
         "colorbar": {
          "title": {
           "text": "Cantidad de respuestas"
          }
         },
         "colorscale": [
          [
           0,
           "#0d0887"
          ],
          [
           0.1111111111111111,
           "#46039f"
          ],
          [
           0.2222222222222222,
           "#7201a8"
          ],
          [
           0.3333333333333333,
           "#9c179e"
          ],
          [
           0.4444444444444444,
           "#bd3786"
          ],
          [
           0.5555555555555556,
           "#d8576b"
          ],
          [
           0.6666666666666666,
           "#ed7953"
          ],
          [
           0.7777777777777778,
           "#fb9f3a"
          ],
          [
           0.8888888888888888,
           "#fdca26"
          ],
          [
           1,
           "#f0f921"
          ]
         ]
        },
        "template": {
         "data": {
          "bar": [
           {
            "error_x": {
             "color": "#2a3f5f"
            },
            "error_y": {
             "color": "#2a3f5f"
            },
            "marker": {
             "line": {
              "color": "#E5ECF6",
              "width": 0.5
             },
             "pattern": {
              "fillmode": "overlay",
              "size": 10,
              "solidity": 0.2
             }
            },
            "type": "bar"
           }
          ],
          "barpolar": [
           {
            "marker": {
             "line": {
              "color": "#E5ECF6",
              "width": 0.5
             },
             "pattern": {
              "fillmode": "overlay",
              "size": 10,
              "solidity": 0.2
             }
            },
            "type": "barpolar"
           }
          ],
          "carpet": [
           {
            "aaxis": {
             "endlinecolor": "#2a3f5f",
             "gridcolor": "white",
             "linecolor": "white",
             "minorgridcolor": "white",
             "startlinecolor": "#2a3f5f"
            },
            "baxis": {
             "endlinecolor": "#2a3f5f",
             "gridcolor": "white",
             "linecolor": "white",
             "minorgridcolor": "white",
             "startlinecolor": "#2a3f5f"
            },
            "type": "carpet"
           }
          ],
          "choropleth": [
           {
            "colorbar": {
             "outlinewidth": 0,
             "ticks": ""
            },
            "type": "choropleth"
           }
          ],
          "contour": [
           {
            "colorbar": {
             "outlinewidth": 0,
             "ticks": ""
            },
            "colorscale": [
             [
              0,
              "#0d0887"
             ],
             [
              0.1111111111111111,
              "#46039f"
             ],
             [
              0.2222222222222222,
              "#7201a8"
             ],
             [
              0.3333333333333333,
              "#9c179e"
             ],
             [
              0.4444444444444444,
              "#bd3786"
             ],
             [
              0.5555555555555556,
              "#d8576b"
             ],
             [
              0.6666666666666666,
              "#ed7953"
             ],
             [
              0.7777777777777778,
              "#fb9f3a"
             ],
             [
              0.8888888888888888,
              "#fdca26"
             ],
             [
              1,
              "#f0f921"
             ]
            ],
            "type": "contour"
           }
          ],
          "contourcarpet": [
           {
            "colorbar": {
             "outlinewidth": 0,
             "ticks": ""
            },
            "type": "contourcarpet"
           }
          ],
          "heatmap": [
           {
            "colorbar": {
             "outlinewidth": 0,
             "ticks": ""
            },
            "colorscale": [
             [
              0,
              "#0d0887"
             ],
             [
              0.1111111111111111,
              "#46039f"
             ],
             [
              0.2222222222222222,
              "#7201a8"
             ],
             [
              0.3333333333333333,
              "#9c179e"
             ],
             [
              0.4444444444444444,
              "#bd3786"
             ],
             [
              0.5555555555555556,
              "#d8576b"
             ],
             [
              0.6666666666666666,
              "#ed7953"
             ],
             [
              0.7777777777777778,
              "#fb9f3a"
             ],
             [
              0.8888888888888888,
              "#fdca26"
             ],
             [
              1,
              "#f0f921"
             ]
            ],
            "type": "heatmap"
           }
          ],
          "heatmapgl": [
           {
            "colorbar": {
             "outlinewidth": 0,
             "ticks": ""
            },
            "colorscale": [
             [
              0,
              "#0d0887"
             ],
             [
              0.1111111111111111,
              "#46039f"
             ],
             [
              0.2222222222222222,
              "#7201a8"
             ],
             [
              0.3333333333333333,
              "#9c179e"
             ],
             [
              0.4444444444444444,
              "#bd3786"
             ],
             [
              0.5555555555555556,
              "#d8576b"
             ],
             [
              0.6666666666666666,
              "#ed7953"
             ],
             [
              0.7777777777777778,
              "#fb9f3a"
             ],
             [
              0.8888888888888888,
              "#fdca26"
             ],
             [
              1,
              "#f0f921"
             ]
            ],
            "type": "heatmapgl"
           }
          ],
          "histogram": [
           {
            "marker": {
             "pattern": {
              "fillmode": "overlay",
              "size": 10,
              "solidity": 0.2
             }
            },
            "type": "histogram"
           }
          ],
          "histogram2d": [
           {
            "colorbar": {
             "outlinewidth": 0,
             "ticks": ""
            },
            "colorscale": [
             [
              0,
              "#0d0887"
             ],
             [
              0.1111111111111111,
              "#46039f"
             ],
             [
              0.2222222222222222,
              "#7201a8"
             ],
             [
              0.3333333333333333,
              "#9c179e"
             ],
             [
              0.4444444444444444,
              "#bd3786"
             ],
             [
              0.5555555555555556,
              "#d8576b"
             ],
             [
              0.6666666666666666,
              "#ed7953"
             ],
             [
              0.7777777777777778,
              "#fb9f3a"
             ],
             [
              0.8888888888888888,
              "#fdca26"
             ],
             [
              1,
              "#f0f921"
             ]
            ],
            "type": "histogram2d"
           }
          ],
          "histogram2dcontour": [
           {
            "colorbar": {
             "outlinewidth": 0,
             "ticks": ""
            },
            "colorscale": [
             [
              0,
              "#0d0887"
             ],
             [
              0.1111111111111111,
              "#46039f"
             ],
             [
              0.2222222222222222,
              "#7201a8"
             ],
             [
              0.3333333333333333,
              "#9c179e"
             ],
             [
              0.4444444444444444,
              "#bd3786"
             ],
             [
              0.5555555555555556,
              "#d8576b"
             ],
             [
              0.6666666666666666,
              "#ed7953"
             ],
             [
              0.7777777777777778,
              "#fb9f3a"
             ],
             [
              0.8888888888888888,
              "#fdca26"
             ],
             [
              1,
              "#f0f921"
             ]
            ],
            "type": "histogram2dcontour"
           }
          ],
          "mesh3d": [
           {
            "colorbar": {
             "outlinewidth": 0,
             "ticks": ""
            },
            "type": "mesh3d"
           }
          ],
          "parcoords": [
           {
            "line": {
             "colorbar": {
              "outlinewidth": 0,
              "ticks": ""
             }
            },
            "type": "parcoords"
           }
          ],
          "pie": [
           {
            "automargin": true,
            "type": "pie"
           }
          ],
          "scatter": [
           {
            "fillpattern": {
             "fillmode": "overlay",
             "size": 10,
             "solidity": 0.2
            },
            "type": "scatter"
           }
          ],
          "scatter3d": [
           {
            "line": {
             "colorbar": {
              "outlinewidth": 0,
              "ticks": ""
             }
            },
            "marker": {
             "colorbar": {
              "outlinewidth": 0,
              "ticks": ""
             }
            },
            "type": "scatter3d"
           }
          ],
          "scattercarpet": [
           {
            "marker": {
             "colorbar": {
              "outlinewidth": 0,
              "ticks": ""
             }
            },
            "type": "scattercarpet"
           }
          ],
          "scattergeo": [
           {
            "marker": {
             "colorbar": {
              "outlinewidth": 0,
              "ticks": ""
             }
            },
            "type": "scattergeo"
           }
          ],
          "scattergl": [
           {
            "marker": {
             "colorbar": {
              "outlinewidth": 0,
              "ticks": ""
             }
            },
            "type": "scattergl"
           }
          ],
          "scattermapbox": [
           {
            "marker": {
             "colorbar": {
              "outlinewidth": 0,
              "ticks": ""
             }
            },
            "type": "scattermapbox"
           }
          ],
          "scatterpolar": [
           {
            "marker": {
             "colorbar": {
              "outlinewidth": 0,
              "ticks": ""
             }
            },
            "type": "scatterpolar"
           }
          ],
          "scatterpolargl": [
           {
            "marker": {
             "colorbar": {
              "outlinewidth": 0,
              "ticks": ""
             }
            },
            "type": "scatterpolargl"
           }
          ],
          "scatterternary": [
           {
            "marker": {
             "colorbar": {
              "outlinewidth": 0,
              "ticks": ""
             }
            },
            "type": "scatterternary"
           }
          ],
          "surface": [
           {
            "colorbar": {
             "outlinewidth": 0,
             "ticks": ""
            },
            "colorscale": [
             [
              0,
              "#0d0887"
             ],
             [
              0.1111111111111111,
              "#46039f"
             ],
             [
              0.2222222222222222,
              "#7201a8"
             ],
             [
              0.3333333333333333,
              "#9c179e"
             ],
             [
              0.4444444444444444,
              "#bd3786"
             ],
             [
              0.5555555555555556,
              "#d8576b"
             ],
             [
              0.6666666666666666,
              "#ed7953"
             ],
             [
              0.7777777777777778,
              "#fb9f3a"
             ],
             [
              0.8888888888888888,
              "#fdca26"
             ],
             [
              1,
              "#f0f921"
             ]
            ],
            "type": "surface"
           }
          ],
          "table": [
           {
            "cells": {
             "fill": {
              "color": "#EBF0F8"
             },
             "line": {
              "color": "white"
             }
            },
            "header": {
             "fill": {
              "color": "#C8D4E3"
             },
             "line": {
              "color": "white"
             }
            },
            "type": "table"
           }
          ]
         },
         "layout": {
          "annotationdefaults": {
           "arrowcolor": "#2a3f5f",
           "arrowhead": 0,
           "arrowwidth": 1
          },
          "autotypenumbers": "strict",
          "coloraxis": {
           "colorbar": {
            "outlinewidth": 0,
            "ticks": ""
           }
          },
          "colorscale": {
           "diverging": [
            [
             0,
             "#8e0152"
            ],
            [
             0.1,
             "#c51b7d"
            ],
            [
             0.2,
             "#de77ae"
            ],
            [
             0.3,
             "#f1b6da"
            ],
            [
             0.4,
             "#fde0ef"
            ],
            [
             0.5,
             "#f7f7f7"
            ],
            [
             0.6,
             "#e6f5d0"
            ],
            [
             0.7,
             "#b8e186"
            ],
            [
             0.8,
             "#7fbc41"
            ],
            [
             0.9,
             "#4d9221"
            ],
            [
             1,
             "#276419"
            ]
           ],
           "sequential": [
            [
             0,
             "#0d0887"
            ],
            [
             0.1111111111111111,
             "#46039f"
            ],
            [
             0.2222222222222222,
             "#7201a8"
            ],
            [
             0.3333333333333333,
             "#9c179e"
            ],
            [
             0.4444444444444444,
             "#bd3786"
            ],
            [
             0.5555555555555556,
             "#d8576b"
            ],
            [
             0.6666666666666666,
             "#ed7953"
            ],
            [
             0.7777777777777778,
             "#fb9f3a"
            ],
            [
             0.8888888888888888,
             "#fdca26"
            ],
            [
             1,
             "#f0f921"
            ]
           ],
           "sequentialminus": [
            [
             0,
             "#0d0887"
            ],
            [
             0.1111111111111111,
             "#46039f"
            ],
            [
             0.2222222222222222,
             "#7201a8"
            ],
            [
             0.3333333333333333,
             "#9c179e"
            ],
            [
             0.4444444444444444,
             "#bd3786"
            ],
            [
             0.5555555555555556,
             "#d8576b"
            ],
            [
             0.6666666666666666,
             "#ed7953"
            ],
            [
             0.7777777777777778,
             "#fb9f3a"
            ],
            [
             0.8888888888888888,
             "#fdca26"
            ],
            [
             1,
             "#f0f921"
            ]
           ]
          },
          "colorway": [
           "#636efa",
           "#EF553B",
           "#00cc96",
           "#ab63fa",
           "#FFA15A",
           "#19d3f3",
           "#FF6692",
           "#B6E880",
           "#FF97FF",
           "#FECB52"
          ],
          "font": {
           "color": "#2a3f5f"
          },
          "geo": {
           "bgcolor": "white",
           "lakecolor": "white",
           "landcolor": "#E5ECF6",
           "showlakes": true,
           "showland": true,
           "subunitcolor": "white"
          },
          "hoverlabel": {
           "align": "left"
          },
          "hovermode": "closest",
          "mapbox": {
           "style": "light"
          },
          "paper_bgcolor": "white",
          "plot_bgcolor": "#E5ECF6",
          "polar": {
           "angularaxis": {
            "gridcolor": "white",
            "linecolor": "white",
            "ticks": ""
           },
           "bgcolor": "#E5ECF6",
           "radialaxis": {
            "gridcolor": "white",
            "linecolor": "white",
            "ticks": ""
           }
          },
          "scene": {
           "xaxis": {
            "backgroundcolor": "#E5ECF6",
            "gridcolor": "white",
            "gridwidth": 2,
            "linecolor": "white",
            "showbackground": true,
            "ticks": "",
            "zerolinecolor": "white"
           },
           "yaxis": {
            "backgroundcolor": "#E5ECF6",
            "gridcolor": "white",
            "gridwidth": 2,
            "linecolor": "white",
            "showbackground": true,
            "ticks": "",
            "zerolinecolor": "white"
           },
           "zaxis": {
            "backgroundcolor": "#E5ECF6",
            "gridcolor": "white",
            "gridwidth": 2,
            "linecolor": "white",
            "showbackground": true,
            "ticks": "",
            "zerolinecolor": "white"
           }
          },
          "shapedefaults": {
           "line": {
            "color": "#2a3f5f"
           }
          },
          "ternary": {
           "aaxis": {
            "gridcolor": "white",
            "linecolor": "white",
            "ticks": ""
           },
           "baxis": {
            "gridcolor": "white",
            "linecolor": "white",
            "ticks": ""
           },
           "bgcolor": "#E5ECF6",
           "caxis": {
            "gridcolor": "white",
            "linecolor": "white",
            "ticks": ""
           }
          },
          "title": {
           "x": 0.05
          },
          "xaxis": {
           "automargin": true,
           "gridcolor": "white",
           "linecolor": "white",
           "ticks": "",
           "title": {
            "standoff": 15
           },
           "zerolinecolor": "white",
           "zerolinewidth": 2
          },
          "yaxis": {
           "automargin": true,
           "gridcolor": "white",
           "linecolor": "white",
           "ticks": "",
           "title": {
            "standoff": 15
           },
           "zerolinecolor": "white",
           "zerolinewidth": 2
          }
         }
        },
        "title": {
         "text": "Mapa de Calor de Respuestas por Hora del Día y Día de la Semana"
        },
        "xaxis": {
         "anchor": "y",
         "constrain": "domain",
         "domain": [
          0,
          1
         ],
         "scaleanchor": "y",
         "title": {
          "text": "Hora del día"
         }
        },
        "yaxis": {
         "anchor": "x",
         "autorange": "reversed",
         "constrain": "domain",
         "domain": [
          0,
          1
         ],
         "title": {
          "text": "Día de la semana"
         }
        }
       }
      }
     },
     "metadata": {},
     "output_type": "display_data"
    }
   ],
   "source": [
    "import pytz\n",
    "\n",
    "horas_dias_respuestas = []\n",
    "timezone_cdmx = pytz.timezone('America/Mexico_City')\n",
    "\n",
    "for _, row in df_bancoppel.iterrows():\n",
    "    try:\n",
    "        if isinstance(row['messages'], str):\n",
    "            messages = json.loads(row['messages'])\n",
    "        elif isinstance(row['messages'], list):\n",
    "            messages = row['messages']\n",
    "        else:\n",
    "            continue \n",
    "        \n",
    "        for message in messages:\n",
    "            if message.get('role') != 'assistant' and message.get('direction') == 'incoming':\n",
    "                created_at = message.get('createdAt')\n",
    "                if created_at:\n",
    "                    dt = pd.to_datetime(created_at).tz_convert('UTC')  # Convertimos a UTC\n",
    "                    dt_cdmx = dt.tz_convert(timezone_cdmx)  # Convertimos de UTC a la zona horaria de CDMX\n",
    "                    day_of_week = dt_cdmx.strftime('%A')\n",
    "                    hour_of_day = dt_cdmx.hour\n",
    "                    horas_dias_respuestas.append((day_of_week, hour_of_day))\n",
    "\n",
    "    except (json.JSONDecodeError, TypeError) as e:\n",
    "        print(f\"Error al procesar la fila: {e}\")\n",
    "\n",
    "df_horas_dias_respuestas = pd.DataFrame(horas_dias_respuestas, columns=['Día de la semana', 'Hora del día'])\n",
    "\n",
    "df_horas_dias_respuestas['Día de la semana'] = df_horas_dias_respuestas['Día de la semana'].replace({\n",
    "    'Monday': 'lunes',\n",
    "    'Tuesday': 'martes',\n",
    "    'Wednesday': 'miércoles',\n",
    "    'Thursday': 'jueves',\n",
    "    'Friday': 'viernes',\n",
    "    'Saturday': 'sábado',\n",
    "    'Sunday': 'domingo'\n",
    "})\n",
    "\n",
    "heatmap_data = df_horas_dias_respuestas.pivot_table(index='Día de la semana', columns='Hora del día', aggfunc='size', fill_value=0)\n",
    "\n",
    "heatmap_data = heatmap_data.reindex([\"lunes\", \"martes\", \"miércoles\", \"jueves\", \"viernes\", \"sábado\", \"domingo\"])\n",
    "\n",
    "fig = px.imshow(heatmap_data, labels=dict(x=\"Hora del día\", y=\"Día de la semana\", color=\"Cantidad de respuestas\"),\n",
    "                x=heatmap_data.columns, y=heatmap_data.index,\n",
    "                title=\"Mapa de Calor de Respuestas por Hora del Día y Día de la Semana\")\n",
    "\n",
    "fig.show()\n"
   ]
  },
  {
   "cell_type": "markdown",
   "metadata": {},
   "source": [
    "<font size = 7 color ='27A3D7'>Mapa</font>\n",
    "\n",
    "---"
   ]
  },
  {
   "cell_type": "code",
   "execution_count": null,
   "metadata": {},
   "outputs": [],
   "source": []
  }
 ],
 "metadata": {
  "kernelspec": {
   "display_name": "Python 3",
   "language": "python",
   "name": "python3"
  },
  "language_info": {
   "codemirror_mode": {
    "name": "ipython",
    "version": 3
   },
   "file_extension": ".py",
   "mimetype": "text/x-python",
   "name": "python",
   "nbconvert_exporter": "python",
   "pygments_lexer": "ipython3",
   "version": "3.9.7"
  }
 },
 "nbformat": 4,
 "nbformat_minor": 2
}
